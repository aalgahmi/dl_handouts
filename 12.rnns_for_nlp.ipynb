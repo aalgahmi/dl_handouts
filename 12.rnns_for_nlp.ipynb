{
 "cells": [
  {
   "cell_type": "markdown",
   "id": "a5d9e383-7296-43cf-9738-d127a5497332",
   "metadata": {},
   "source": [
    "# Recurrent Neural Networks (RNNs) for Natural Language Processing (NLP)"
   ]
  },
  {
   "cell_type": "markdown",
   "id": "ff4fd396-2053-4557-affa-d581ae3ec04c",
   "metadata": {
    "id": "RcoUIRsvpKzy"
   },
   "source": [
    "In the last notebook, we explored time series sequences, and in this notebook, we delve into a different type of sequence commonly encountered in natural language processing (NLP) applications. This notebook showcases Recurrent Neural Network (RNN) models in tasks such as:\n",
    "\n",
    "* Sentiment analysis using the IMDB reviews dataset.\n",
    "* Generating fake text character-by-character.\n",
    "\n",
    "As we do so, we will learn important NLP techniques for text manipulation. Let's get started."
   ]
  },
  {
   "cell_type": "code",
   "execution_count": 1,
   "id": "a7157b6a-c1e9-4142-965b-f0d9a1cd9fc4",
   "metadata": {
    "id": "PQFH5Y9PpKzy"
   },
   "outputs": [],
   "source": [
    "import os\n",
    "import numpy as np\n",
    "import pandas as pd\n",
    "import torch\n",
    "import torch.nn as nn\n",
    "import lightning as L\n",
    "import torchtext\n",
    "import matplotlib.pyplot as plt"
   ]
  },
  {
   "cell_type": "markdown",
   "id": "a9cd427f-2ef6-41d3-a22c-bdd5388310c2",
   "metadata": {},
   "source": [
    "## Example 1: Sentiment Analysis\n",
    "\n",
    "In this example, we leverage the IMDB movie reviews dataset to determine whether reviews convey negative (1) or positive(2) sentiments. We will use `torchtext.datasets.IMDB` to download this data. The dataset comprises two splits, each containing 25,000 movie reviews from IMDB. To speed up the training process, we will use only portions of these splits: 40% of the train split for training, 30% of the test split for testing, and 20% of the test split for validation."
   ]
  },
  {
   "cell_type": "code",
   "execution_count": 2,
   "id": "db04d081-2eb4-40f8-b437-6236c2bf798a",
   "metadata": {},
   "outputs": [
    {
     "data": {
      "text/plain": [
       "(10000, 5000, 7500)"
      ]
     },
     "execution_count": 2,
     "metadata": {},
     "output_type": "execute_result"
    }
   ],
   "source": [
    "from torchtext.datasets import IMDB\n",
    "from torch.utils.data.dataset import random_split\n",
    "\n",
    "ds_train, _ = random_split(list(IMDB(root = './datasets', split='train')), [.40, .60])\n",
    "\n",
    "ds_val, ds_test, _ = random_split(list(IMDB(root = './datasets', split='test')), [.20, .30, .50])\n",
    "\n",
    "len(list(ds_train)), len(ds_val), len(ds_test)"
   ]
  },
  {
   "cell_type": "markdown",
   "id": "01e18144-02e9-4eff-80b8-f29d1ca6f1e6",
   "metadata": {},
   "source": [
    "Let's print some of the training reviews."
   ]
  },
  {
   "cell_type": "code",
   "execution_count": 3,
   "id": "af66d4e9-895b-4e52-8841-53e64485f36e",
   "metadata": {},
   "outputs": [
    {
     "name": "stdout",
     "output_type": "stream",
     "text": [
      "REVIEW: I honestly had no idea that the Notorious B.I.G. (Bert I. Gordon the director; not the murdered rapper) was still active in the 80's! I always presumed the deliciously inept \"Empire of the Ants\" stood as his last masterful accomplishment in the horror genre, but that was before my dirty little hands stumbled upon an ancient and dusty VHS copy of \"The Coming\", a totally obscure and unheard of witchery-movie that actually turned out a more or less pleasant surprise! What starts out as a seemingly atmospheric tale of late Dark Ages soon takes a silly turn when a villager of year 1692 inexplicably becomes transferred to present day Salum, Massachusetts and promptly attacks a girl in the history museum. For you see, this particular girl is the reincarnation of Ann Putman who was a bona fide evil girl in 1692 and falsely accused over twenty people of practicing witchcraft which led to their executions at the state. The man who attacked Loreen lost his wife and daughter this and wants his overdue revenge. But poor and three centuries older Loreen is just an innocent schoolgirl, ",
      " or is she? \"Burned at the Stake\" unfolds like a mixture between \"The Exorcist\" and \"Witchfinder General\" with a tad bit of \"The Time Machine\" thrown in for good measure. Way to go, Bert! The plot becomes sillier and more senseless with every new twist but at least it never transcends into complete boredom, like too often the case in other contemporary witchcraft movies like \"The Dunwich Horror\" and \"The Devonsville Terror\". The film jumps back and forth between the events in present day and flashbacks of 1692; which keeps it rather amusing and fast-paced. The Ann Putman girl is quite a fascinating character, reminiscent of the Abigail Williams character in the more commonly known stage play \"The Crucible\" (also depicted by Winona Ryder in the 1996 motion picture). There are a couple of cool death sequences, like the teacher in the graveyard or the journalist in the library, that are committed by the ghost of malignant reverend who made a pact with Ann Putman and perhaps even the Devil himself. The film gets pretty spastic and completely absurd near the end, but overall there's some good cheesy fun to be had. Plus, the least you can say about Bert I. Gordon is that he definitely build up some directorial competences over the years. ...\n",
      "LABEL: 1 \n",
      "\n",
      "REVIEW: Men, do I love police movies filled with action, shooting, chases etcetera.<br /><br />Boy, was I let down after watching this short and unsatisfying movie. We've seen it all before, the hostages, the bank, the surrounding... Yet, 2 bad guys that shoot down multiple officers and innocent people who simply stay in the line of fire - without getting hit due to some Kevlar.<br /><br />Not just a few shots, no, hundreds of shots. Going back into the bank, where the dumb hostages didn't lock the safe or doors when the bad guys went out. How stupid did the director think we'd be.<br /><br />Okay, the shots in between that fake a documentary were good, but after seeing the film I only got the thought: why didn't the police get a decent shooting course? And why where there so many cops and was SWAT on a real long break. Truly bad. ...\n",
      "LABEL: 1 \n",
      "\n",
      "REVIEW: I only rented this movie because of promises of William Dafoe, and Robert Rodriguez. I assumed that upon seeing RR's name on the cover (as an actor) that this movie would be good. It sounds like a movie that Rodriguez would of made so if He's going to lend his name to it, than it has to be good right? WRONG WRONG WRONG. By far the worst editing since \"Manos Hands of fate\". The way it was edited made no sense and made the movie impossible to follow and after the first 30 minutes you wont even want to try to follow it anymore. I have no idea how Dafoe and Rodriguez got involved in this film, maybe they owed somebody, but they are way to good for this. Besides they were only in this movie for a couple minutes apiece and Rodriguez didn't even talk. So if you wanna see a movie with Poor editing, poor acting, and confusing storyline than be my guest but don't say you weren't warned. ...\n",
      "LABEL: 1 \n",
      "\n",
      "REVIEW: I can't really think of any redeeming features of this utterly bad rendering on Asimov than the art direction. Forget the product placement disaster, the unconvincing performance from Will Smith and the gargantuan plot-holes. This wasn't only laughable and but painful to watch. Even the action was boring. A mixture of MTV inspired production values and utterly bad dialogue probably aimed at very small children.<br /><br />What a shame that sci-fi this bad can still be made after we've had Bladerunner, Minority Report or to a lesser extent Dark City (by the same director). This one really belongs in the bottom 100 list. Truly awful. ...\n",
      "LABEL: 1 \n",
      "\n",
      "REVIEW: First-time director Tom Kiesche turns in a winning film in the spirit of cutting, dark comedy. Shot on a shoestring budget, yet had the flavor of the early Coen brother's film Blood Simple ... and throw in some Monty Python flavorings to boot! Needs to seen more than once to appreciate all the elements that carry one scene to the next. Expect more good things to come from this writer-director-actor. ...\n",
      "LABEL: 2 \n",
      "\n"
     ]
    }
   ],
   "source": [
    "for i, (labels, reviews) in enumerate(ds_train):\n",
    "    print(\"REVIEW:\", reviews, \"...\")\n",
    "    print(\"LABEL:\", labels, \"\\n\")\n",
    "\n",
    "    if i > 3: break"
   ]
  },
  {
   "cell_type": "markdown",
   "id": "358c3f98-4ead-403b-9157-3dce99c281d7",
   "metadata": {},
   "source": [
    "### Text Vectorization\n",
    "\n",
    "To use these datasets, the reviews must undergo vectorization, converting them into numerical representations. This process involves several steps:\n",
    "\n",
    "* **Tokenization**: This step involves splitting the raw text into individual tokens, such as words or characters. Simple tokenization methods include splitting text by whitespace.\n",
    "\n",
    "* **Numerical Encoding**: Each token in the text needs to be mapped to a unique integer index, as RNNs require numerical inputs. This step typically involves creating a vocabulary that maps tokens to indices. Special tokens like `<unk>` (unknown) for out-of-vocabulary words and `<pad>` (padding) for sequences of varying lengths may also be included.\n",
    "\n",
    "* **Sequence Padding**: Ensure that all sequences have the same length by padding or truncating them as needed. RNNs operate on fixed-length sequences, so sequences may need to be padded with special tokens (e.g., `<pad>`) to match the maximum sequence length. Padding ensures uniform length for efficient batch processing during training.\n",
    "\n",
    "* **Embedding** (optional): This step involves converting the numerical indices into dense vector representations called embeddings. Instead of using one-hot encoding, which results in high-dimensional and sparse representations, embeddings capture semantic similarities between tokens in a lower-dimensional space. These embeddings can be learned from scratch during training or initialized with pre-trained word embeddings (e.g., Word2Vec, GloVe, or FastText) to leverage existing semantic knowledge.\n",
    "\n",
    "Let's observe these steps in action using the above IMDB reviews.\n",
    "\n",
    "**Tokenization**\n",
    "\n",
    "In this step, we clean the data and then split it into token words. The cleaning steps involve:\n",
    "\n",
    "* Removing all HTML tags from the reviews. We will use the Beautiful Soup package for this purpose, which can be installed as follows:"
   ]
  },
  {
   "cell_type": "code",
   "execution_count": 4,
   "id": "17437ccd-96f6-433f-94c6-e025d3416e3e",
   "metadata": {},
   "outputs": [],
   "source": [
    "# ! pip install beautifulsoup4 -q"
   ]
  },
  {
   "cell_type": "markdown",
   "id": "d668df01-3bd5-459f-ad88-f98f84613d35",
   "metadata": {},
   "source": [
    "* Remove all URLs from the text.\n",
    "* Remove all characters other than alphanumeric characters and spaces.\n",
    "\n",
    "Here is a function that performs all these cleaning steps, using regular expression and the above beautiful soup package."
   ]
  },
  {
   "cell_type": "code",
   "execution_count": 5,
   "id": "659fd042-c9d8-4492-b291-d27116fc5f07",
   "metadata": {},
   "outputs": [],
   "source": [
    "import re\n",
    "from bs4 import BeautifulSoup\n",
    "\n",
    "def clean_text(text):\n",
    "    text = text.lower()\n",
    "    text = BeautifulSoup(text, \"html.parser\").get_text()\n",
    "    text = re.sub(\"http\\S+\", \"\", text)\n",
    "    text = re.sub(\"[^A-Za-z0-9 ]+\", \"\", text)\n",
    "    \n",
    "    return text"
   ]
  },
  {
   "cell_type": "markdown",
   "id": "14207798-2e5b-4ba9-a289-10d29b29e6fe",
   "metadata": {},
   "source": [
    "Next, we use the basic English tokenizer from `torchtext.data` to tokenize the reviews after they have been cleaned. As the reviews are being tokenized, we pass them to a Counter object from Python's `collections` module to count how many times each token (word) has been seen. This will be important to creating a vocabulary."
   ]
  },
  {
   "cell_type": "code",
   "execution_count": 8,
   "id": "2a60cad2-2122-4dd9-b810-55707502bb22",
   "metadata": {},
   "outputs": [
    {
     "name": "stderr",
     "output_type": "stream",
     "text": [
      "/var/folders/sl/bgp1_cy52nq1s2vbr1xsgcw00000gn/T/ipykernel_16559/57302828.py:6: MarkupResemblesLocatorWarning: The input looks more like a filename than markup. You may want to open this file and pass the filehandle into Beautiful Soup.\n",
      "  text = BeautifulSoup(text, \"html.parser\").get_text()\n"
     ]
    },
    {
     "name": "stdout",
     "output_type": "stream",
     "text": [
      "Vocab-size: 81461\n"
     ]
    }
   ],
   "source": [
    "from collections import Counter#, OrderedDict\n",
    "from torchtext.data import get_tokenizer\n",
    "\n",
    "tokenizer = get_tokenizer(\"basic_english\")\n",
    "token_counts = Counter()\n",
    "for label, review in ds_train:\n",
    "    tokens = tokenizer(clean_text(review))\n",
    "    token_counts.update(tokens)\n",
    "\n",
    "print('Vocab-size:', len(token_counts)) "
   ]
  },
  {
   "cell_type": "markdown",
   "id": "1dae422d-c067-4ece-8d29-9df053a7e3ef",
   "metadata": {},
   "source": [
    "As you can see, we have over 82,000 unique tokens in the training dataset. To build a vocabulary object for these tokens, we need to create a mapping from each token to its index in the list of all tokens. However, it's essential that the most frequent tokens appear first in the vocabulary. Therefore, we sort the tokens by their counts in decreasing order and add them to an ordered dictionary. This ordered dictionary can then be passed to `torchtext.vocab.vocab` to create a vocabulary object for these tokens based. \n",
    "\n",
    "Given that many tokens are infrequent, we don't need to include all 82,000 tokens in the vocabulary. Instead, we will only add the top 9,998 most frequent tokens. Additionally, we will include special tokens to make it a total of 10,000 tokens."
   ]
  },
  {
   "cell_type": "code",
   "execution_count": 7,
   "id": "4ec26879-9914-4c41-8958-c7c827467897",
   "metadata": {},
   "outputs": [
    {
     "data": {
      "text/plain": [
       "9998"
      ]
     },
     "execution_count": 7,
     "metadata": {},
     "output_type": "execute_result"
    }
   ],
   "source": [
    "from collections import OrderedDict\n",
    "from torchtext.vocab import vocab\n",
    "\n",
    "sorted_token_counts = sorted(\n",
    "    token_counts.items(), key=lambda x: x[1], reverse=True\n",
    ")\n",
    "\n",
    "vocab_size = 10_000 - 2\n",
    "vocab = torchtext.vocab.vocab(OrderedDict(sorted_token_counts[:vocab_size]))\n",
    "len(vocab)"
   ]
  },
  {
   "cell_type": "markdown",
   "id": "3a29b7e4-4255-450d-ab83-61933b9dd336",
   "metadata": {},
   "source": [
    "We will now add the aforementioned special tokens:\n",
    "\n",
    "* `<pad>` (padding) with index 0, which ensures that sequences have the same lengths.\n",
    "* `<unk>` (unknown) with index 1, representing out-of-vocabulary words. This token serves as the default index. For instance, if a review contains a word that is not present in the training dataset or among the top 9,998 most frequent words, it is represented by this token."
   ]
  },
  {
   "cell_type": "code",
   "execution_count": 8,
   "id": "0268bbe7-a06f-4153-976f-ed0ebd93544e",
   "metadata": {},
   "outputs": [
    {
     "data": {
      "text/plain": [
       "10000"
      ]
     },
     "execution_count": 8,
     "metadata": {},
     "output_type": "execute_result"
    }
   ],
   "source": [
    "vocab.insert_token(\"<pad>\", 0)\n",
    "vocab.insert_token(\"<unk>\", 1)\n",
    "vocab.set_default_index(1)\n",
    "\n",
    "len(vocab)"
   ]
  },
  {
   "cell_type": "markdown",
   "id": "86eeb89c-445f-4990-86fe-1aec5b2a3403",
   "metadata": {},
   "source": [
    "Here is an example of how the vocabulary we just created can be used. Here is the first review along with its numerical representation."
   ]
  },
  {
   "cell_type": "code",
   "execution_count": 9,
   "id": "eddb0bf1-a10e-471c-bc79-8f8fc79b6247",
   "metadata": {},
   "outputs": [
    {
     "name": "stdout",
     "output_type": "stream",
     "text": [
      "REVIEW:\n",
      " This movie isn't terrible, really. Somebody commented that Mo is the type of American Europeans snicker at. But there are those, and not necessarily Anglo-Saxon yahoos, who do not care for Frenchmen; and the Xavier character isn't going to sway them.<br /><br />Let's consider his stereotypical Frenchman attributes:<br /><br />1). Cynical - very cynical. Check.<br /><br />2). Reedy, underfed appearance, check, despite:<br /><br />3). A great appreciation of cuisine. Check.<br /><br />4). Lukewarm work ethic. Check. (Forget the fact he is supposedly a rich stockbroker, from watching him in the film he seems to put in ten hour workweeks.) <br /><br />5). Beautiful wife, check. Despite that:<br /><br />6). Loose interpretation of the marriage vows. Check.<br /><br />7). Big sexual ego, which says an American girl owes you sex if you buy her dinner. Check.<br /><br />Whether Mo is a hick or not, there's no reason for her to fall for this smug European twit other than the script dictates so.<br /><br />On the other hand, as other male reviewers have, I did enjoy seeing Karen Allen's cute, petite body. I'll give the movie four stars; two of them are for that.\n",
      "\n",
      "VECTORIZED:\n",
      " [10, 17, 210, 364, 63, 1740, 4428, 12, 1, 7, 2, 568, 5, 303, 6957, 1, 31, 18, 47, 23, 142, 3, 21, 2333, 1, 1, 36, 79, 21, 411, 16, 1, 3, 2, 1, 104, 210, 166, 6, 1, 1, 1096, 22, 2851, 1, 1, 3056, 50, 3056, 1, 1, 1, 1336, 771, 1, 4, 80, 4429, 5, 1, 1, 1, 161, 1, 771, 814, 2, 188, 26, 7, 1396, 4, 985, 1, 35, 149, 86, 8, 2, 19, 26, 181, 6, 267, 8, 779, 573, 1, 637, 304, 309, 771, 464, 1, 1855, 3153, 5, 2, 1293, 1, 1, 193, 888, 4335, 60, 533, 33, 303, 238, 6133, 24, 392, 45, 24, 799, 39, 3259, 1, 1, 7, 4, 1, 40, 21, 220, 57, 274, 16, 39, 6, 785, 16, 10, 6515, 1663, 1, 83, 70, 2, 222, 1, 535, 2, 83, 616, 14, 83, 868, 1680, 25, 11, 111, 349, 305, 3931, 7240, 993, 1, 583, 536, 190, 2, 17, 752, 370, 105, 5, 99, 23, 16, 12]\n"
     ]
    }
   ],
   "source": [
    "for label, review in ds_train:\n",
    "    print(\"REVIEW:\\n\", review)\n",
    "    print(\"\\nVECTORIZED:\\n\", [vocab[token] for token in tokenizer(clean_text(review))])\n",
    "    break"
   ]
  },
  {
   "cell_type": "markdown",
   "id": "c8eedbfd-317c-4ce1-8c9f-84c82a5a5b15",
   "metadata": {},
   "source": [
    "And here are the top 10 tokens with their indices."
   ]
  },
  {
   "cell_type": "code",
   "execution_count": 10,
   "id": "d7fde587-b7eb-4d53-a52a-e029377d2855",
   "metadata": {},
   "outputs": [
    {
     "name": "stdout",
     "output_type": "stream",
     "text": [
      " 0: <pad>\n",
      " 1: <unk>\n",
      " 2: the\n",
      " 3: and\n",
      " 4: a\n",
      " 5: of\n",
      " 6: to\n",
      " 7: is\n",
      " 8: in\n",
      " 9: it\n",
      " 10: this\n",
      " 11: i\n",
      " 12: that\n",
      " 13: was\n"
     ]
    }
   ],
   "source": [
    "for i, token in enumerate(vocab.get_itos()):\n",
    "    print(f\"{i: 2d}: {token}\")\n",
    "    if i > 12: break"
   ]
  },
  {
   "cell_type": "markdown",
   "id": "4486b108-48c1-4243-b508-967a25acf995",
   "metadata": {},
   "source": [
    "Creating data loaders in this context involves a different approach from what we have done before. We need to utilize a collate function that utilizes the vocabulary we created earlier to vectorize all the reviews one batch at a time. This collate function will transform the raw text data into numerical representations using the vocabulary, allowing us to create batches of vectorized sequences for training, validation, and testing. For padding we use the `torch.nn.utils.rnn.pad_sequence` function."
   ]
  },
  {
   "cell_type": "code",
   "execution_count": 11,
   "id": "bd1daaca-9332-4f2b-a862-d3af2e8eb43d",
   "metadata": {},
   "outputs": [],
   "source": [
    "from torch.utils.data import DataLoader\n",
    "\n",
    "tokenize = lambda text: [vocab[token] for token in tokenizer(clean_text(text))]\n",
    "sequence_length = 250\n",
    "def collate_batch(batch):\n",
    "    labels, reviews, lengths = [], [], []\n",
    "    for label, review in batch:\n",
    "        labels.append(label - 1)\n",
    "        tokenzied_review = torch.tensor(tokenize(review), dtype=torch.int32)\n",
    "        reviews.append(tokenzied_review)#[:sequence_length])\n",
    "        lengths.append(tokenzied_review.size(0))\n",
    "        \n",
    "    labels = torch.tensor(labels).reshape(-1, 1).to(dtype=torch.float)\n",
    "    lengths = torch.tensor(lengths)\n",
    "    padded_reviews = nn.utils.rnn.pad_sequence(reviews, batch_first=True).unsqueeze(dim=2) / len(vocab)\n",
    "    \n",
    "    \n",
    "    return padded_reviews, labels, lengths\n",
    "\n",
    "dl_train = DataLoader(ds_train, batch_size=32, shuffle=True, collate_fn=collate_batch)\n",
    "dl_val = DataLoader(ds_val, batch_size=32, shuffle=False, collate_fn=collate_batch)\n",
    "dl_test = DataLoader(ds_test, batch_size=32, shuffle=False, collate_fn=collate_batch)"
   ]
  },
  {
   "cell_type": "markdown",
   "id": "a824e87a-91a2-4941-af81-e947d3d93d25",
   "metadata": {},
   "source": [
    "Notice the division by `len(vocab)`. This will normalize the indices and convert them to `float`. Finally, if you are not sure how padding works, here is an example"
   ]
  },
  {
   "cell_type": "code",
   "execution_count": 12,
   "id": "7805a5a0-92e8-4509-93d5-183a68ae2b24",
   "metadata": {},
   "outputs": [
    {
     "data": {
      "text/plain": [
       "tensor([[1, 3, 5, 0, 0, 0, 0],\n",
       "        [2, 1, 3, 6, 7, 9, 3],\n",
       "        [1, 0, 0, 0, 0, 0, 0]])"
      ]
     },
     "execution_count": 12,
     "metadata": {},
     "output_type": "execute_result"
    }
   ],
   "source": [
    "nn.utils.rnn.pad_sequence([\n",
    "    torch.tensor([1, 3, 5]),\n",
    "    torch.tensor([2, 1, 3, 6, 7, 9, 3]),\n",
    "    torch.tensor([1])\n",
    "], batch_first=True)"
   ]
  },
  {
   "cell_type": "markdown",
   "id": "3ff4b0b9-d91c-421f-a24b-8070764e1533",
   "metadata": {},
   "source": [
    "### Training and Evaluating Models\n",
    "\n",
    "We are now ready to build models and train them using these data loaders. Here is the base model, a simple binary classification one."
   ]
  },
  {
   "cell_type": "code",
   "execution_count": 13,
   "id": "43ca25a1-75c5-4917-b4e2-5dae44c539b5",
   "metadata": {},
   "outputs": [],
   "source": [
    "from torchmetrics.classification import BinaryAccuracy\n",
    "\n",
    "class BaseSentimentModel(L.LightningModule):\n",
    "    def __init__(self, lr=0.001):\n",
    "        super().__init__()\n",
    "        self.lr = lr\n",
    "        \n",
    "        self.train_accuracy = BinaryAccuracy(threshold=0.5)\n",
    "        self.val_accuracy = BinaryAccuracy(threshold=0.5)\n",
    "        self.test_accuracy = BinaryAccuracy(threshold=0.5)\n",
    "\n",
    "    def forward(self, x, lengths):\n",
    "        pass\n",
    "\n",
    "    def _common_step(self, batch, batch_idx, metric, loss_lbl, metric_lbl):\n",
    "        X, y, lengths = batch\n",
    "        probs = self(X, lengths)\n",
    "        loss = nn.functional.binary_cross_entropy(probs, y)\n",
    "        self.log(loss_lbl, loss, prog_bar=True)\n",
    "        self.log(metric_lbl, metric(probs, y), prog_bar=True)\n",
    "        return loss\n",
    "\n",
    "    def training_step(self, batch, batch_idx):\n",
    "        return self._common_step(batch, batch_idx, self.train_accuracy, \"loss\", \"accuracy\")\n",
    "\n",
    "    def on_training_epoch_end(self):\n",
    "        self.log(\"accuracy\", self.train_accuracy.compute())\n",
    "        self.train_accuracy.reset()\n",
    "    \n",
    "    def validation_step(self, batch, batch_idx):\n",
    "        return self._common_step(batch, batch_idx, self.val_accuracy, \"val_loss\", \"val_accuracy\")\n",
    "\n",
    "    def on_validation_epoch_end(self):\n",
    "        self.log(\"val_accuracy\", self.val_accuracy.compute())\n",
    "        self.val_accuracy.reset()\n",
    "\n",
    "    def test_step(self, batch, batch_idx):\n",
    "        return self._common_step(batch, batch_idx, self.test_accuracy, \"test_loss\", \"test_accuracy\")\n",
    "\n",
    "    def on_test_epoch_end(self):\n",
    "        self.log(\"test_accuracy\", self.test_accuracy.compute())\n",
    "        self.test_accuracy.reset()\n",
    "        \n",
    "    def configure_optimizers(self):\n",
    "        return torch.optim.Adam(self.parameters(), lr=self.lr)\n"
   ]
  },
  {
   "cell_type": "markdown",
   "id": "2bcfcfe8-be2e-4bdb-842a-ec814a6a3b17",
   "metadata": {},
   "source": [
    "**A first model**\n",
    "\n",
    "And here is the actual model with a single `nn.GRU` layer using \"normalized\" indices to represent words."
   ]
  },
  {
   "cell_type": "code",
   "execution_count": 14,
   "id": "a1a90476-2deb-439a-9996-6c306167c7ce",
   "metadata": {},
   "outputs": [
    {
     "data": {
      "text/plain": [
       "=================================================================\n",
       "Layer (type:depth-idx)                   Param #\n",
       "=================================================================\n",
       "SentimentGRUModel                        --\n",
       "├─BinaryAccuracy: 1-1                    --\n",
       "├─BinaryAccuracy: 1-2                    --\n",
       "├─BinaryAccuracy: 1-3                    --\n",
       "├─GRU: 1-4                               12,864\n",
       "├─Sequential: 1-5                        --\n",
       "│    └─Linear: 2-1                       4,160\n",
       "│    └─ReLU: 2-2                         --\n",
       "│    └─Linear: 2-3                       65\n",
       "│    └─Sigmoid: 2-4                      --\n",
       "=================================================================\n",
       "Total params: 17,089\n",
       "Trainable params: 17,089\n",
       "Non-trainable params: 0\n",
       "================================================================="
      ]
     },
     "execution_count": 14,
     "metadata": {},
     "output_type": "execute_result"
    }
   ],
   "source": [
    "from torchinfo import summary\n",
    "\n",
    "class SentimentGRUModel(BaseSentimentModel):\n",
    "    def __init__(self, lr=0.001, vocab_size=10_000, sequence_length=250):\n",
    "        super().__init__(lr=lr)\n",
    "        self.vocab_size = vocab_size\n",
    "        self.sequence_length = sequence_length\n",
    "\n",
    "        self.gru = nn.GRU(input_size=1, hidden_size=64, batch_first=True)\n",
    "        self.fc = nn.Sequential(\n",
    "            nn.Linear(64, 64),\n",
    "            nn.ReLU(),\n",
    "            nn.Linear(64, 1),\n",
    "            nn.Sigmoid()\n",
    "        )\n",
    "\n",
    "    def forward(self, x, lengths):\n",
    "        _, h = self.gru(x)\n",
    "        x = h[-1, :, :]\n",
    "\n",
    "        return self.fc(x)\n",
    "\n",
    "gru_model = SentimentGRUModel(vocab_size=len(vocab))\n",
    "summary(gru_model)"
   ]
  },
  {
   "cell_type": "markdown",
   "id": "cc83ab04-2b5e-46ef-9628-35fd597524c4",
   "metadata": {},
   "source": [
    "The statement:\n",
    "```\n",
    "x = h[-1, :, :]\n",
    "```\n",
    "inside the forward method indicates that we are only using the hidden state as output from the `nn.GRU` layer into the fully connected `fc` layer.\n",
    "\n",
    "Let's train this model."
   ]
  },
  {
   "cell_type": "code",
   "execution_count": 15,
   "id": "5f2fca94-5382-47d4-ab5a-e69b5f5be7c8",
   "metadata": {},
   "outputs": [
    {
     "name": "stderr",
     "output_type": "stream",
     "text": [
      "Trainer will use only 1 of 4 GPUs because it is running inside an interactive / notebook environment. You may try to set `Trainer(devices=4)` but please note that multi-GPU inside interactive / notebook environments is considered experimental and unstable. Your mileage may vary.\n",
      "GPU available: True (cuda), used: True\n",
      "TPU available: False, using: 0 TPU cores\n",
      "IPU available: False, using: 0 IPUs\n",
      "HPU available: False, using: 0 HPUs\n",
      "/opt/miniconda3/envs/pytorch/lib/python3.10/site-packages/lightning/pytorch/callbacks/model_checkpoint.py:652: Checkpoint directory /home/aalgahmi/checkpoints exists and is not empty.\n",
      "LOCAL_RANK: 0 - CUDA_VISIBLE_DEVICES: [0,1,2,3]\n",
      "\n",
      "  | Name           | Type           | Params\n",
      "--------------------------------------------------\n",
      "0 | train_accuracy | BinaryAccuracy | 0     \n",
      "1 | val_accuracy   | BinaryAccuracy | 0     \n",
      "2 | test_accuracy  | BinaryAccuracy | 0     \n",
      "3 | gru            | GRU            | 12.9 K\n",
      "4 | fc             | Sequential     | 4.2 K \n",
      "--------------------------------------------------\n",
      "17.1 K    Trainable params\n",
      "0         Non-trainable params\n",
      "17.1 K    Total params\n",
      "0.068     Total estimated model params size (MB)\n"
     ]
    },
    {
     "data": {
      "application/vnd.jupyter.widget-view+json": {
       "model_id": "",
       "version_major": 2,
       "version_minor": 0
      },
      "text/plain": [
       "Sanity Checking: |          | 0/? [00:00<?, ?it/s]"
      ]
     },
     "metadata": {},
     "output_type": "display_data"
    },
    {
     "name": "stderr",
     "output_type": "stream",
     "text": [
      "/opt/miniconda3/envs/pytorch/lib/python3.10/site-packages/lightning/pytorch/trainer/connectors/data_connector.py:441: The 'val_dataloader' does not have many workers which may be a bottleneck. Consider increasing the value of the `num_workers` argument` to `num_workers=7` in the `DataLoader` to improve performance.\n",
      "/opt/miniconda3/envs/pytorch/lib/python3.10/site-packages/lightning/pytorch/trainer/connectors/data_connector.py:441: The 'train_dataloader' does not have many workers which may be a bottleneck. Consider increasing the value of the `num_workers` argument` to `num_workers=7` in the `DataLoader` to improve performance.\n"
     ]
    },
    {
     "data": {
      "application/vnd.jupyter.widget-view+json": {
       "model_id": "6cf5f8d1af4946a080d2342dcd737f9e",
       "version_major": 2,
       "version_minor": 0
      },
      "text/plain": [
       "Training: |          | 0/? [00:00<?, ?it/s]"
      ]
     },
     "metadata": {},
     "output_type": "display_data"
    },
    {
     "name": "stderr",
     "output_type": "stream",
     "text": [
      "/tmp/ipykernel_27240/57302828.py:6: MarkupResemblesLocatorWarning: The input looks more like a filename than markup. You may want to open this file and pass the filehandle into Beautiful Soup.\n",
      "  text = BeautifulSoup(text, \"html.parser\").get_text()\n"
     ]
    },
    {
     "data": {
      "application/vnd.jupyter.widget-view+json": {
       "model_id": "",
       "version_major": 2,
       "version_minor": 0
      },
      "text/plain": [
       "Validation: |          | 0/? [00:00<?, ?it/s]"
      ]
     },
     "metadata": {},
     "output_type": "display_data"
    },
    {
     "data": {
      "application/vnd.jupyter.widget-view+json": {
       "model_id": "",
       "version_major": 2,
       "version_minor": 0
      },
      "text/plain": [
       "Validation: |          | 0/? [00:00<?, ?it/s]"
      ]
     },
     "metadata": {},
     "output_type": "display_data"
    },
    {
     "data": {
      "application/vnd.jupyter.widget-view+json": {
       "model_id": "",
       "version_major": 2,
       "version_minor": 0
      },
      "text/plain": [
       "Validation: |          | 0/? [00:00<?, ?it/s]"
      ]
     },
     "metadata": {},
     "output_type": "display_data"
    },
    {
     "data": {
      "application/vnd.jupyter.widget-view+json": {
       "model_id": "",
       "version_major": 2,
       "version_minor": 0
      },
      "text/plain": [
       "Validation: |          | 0/? [00:00<?, ?it/s]"
      ]
     },
     "metadata": {},
     "output_type": "display_data"
    },
    {
     "data": {
      "application/vnd.jupyter.widget-view+json": {
       "model_id": "",
       "version_major": 2,
       "version_minor": 0
      },
      "text/plain": [
       "Validation: |          | 0/? [00:00<?, ?it/s]"
      ]
     },
     "metadata": {},
     "output_type": "display_data"
    },
    {
     "name": "stderr",
     "output_type": "stream",
     "text": [
      "`Trainer.fit` stopped: `max_epochs=5` reached.\n"
     ]
    }
   ],
   "source": [
    "from lightning.pytorch.callbacks import EarlyStopping, ModelCheckpoint\n",
    "from lightning.pytorch.loggers import CSVLogger\n",
    "\n",
    "logger = CSVLogger(\"logs\", name=\"gru_sentiment\")\n",
    "\n",
    "trainer = L.Trainer(max_epochs=5, callbacks=[\n",
    "    ModelCheckpoint(\n",
    "        monitor='val_loss', mode='min', save_last=True, save_top_k=1, \n",
    "        dirpath='checkpoints/', filename='gru_sentiment-{epoch:02d}-{val_loss:.2f}', \n",
    "    ),\n",
    "    EarlyStopping(monitor='val_loss', patience=3, mode='min')\n",
    "], logger=logger)\n",
    "trainer.fit(gru_model, train_dataloaders=dl_train, val_dataloaders=dl_val)"
   ]
  },
  {
   "cell_type": "markdown",
   "id": "ecd1a7c3-0f70-41de-ae90-6506cba76ebc",
   "metadata": {},
   "source": [
    "As an exercise, you should plot the learning curves. Let's evaluate this model."
   ]
  },
  {
   "cell_type": "code",
   "execution_count": 16,
   "id": "eb94967f-4c79-494a-85a6-ef83bf227fd6",
   "metadata": {},
   "outputs": [
    {
     "name": "stderr",
     "output_type": "stream",
     "text": [
      "Restoring states from the checkpoint path at /home/aalgahmi/checkpoints/gru_sentiment-epoch=04-val_loss=0.69-v1.ckpt\n",
      "LOCAL_RANK: 0 - CUDA_VISIBLE_DEVICES: [0,1,2,3]\n",
      "Loaded model weights from the checkpoint at /home/aalgahmi/checkpoints/gru_sentiment-epoch=04-val_loss=0.69-v1.ckpt\n",
      "/opt/miniconda3/envs/pytorch/lib/python3.10/site-packages/lightning/pytorch/trainer/connectors/data_connector.py:441: The 'test_dataloader' does not have many workers which may be a bottleneck. Consider increasing the value of the `num_workers` argument` to `num_workers=7` in the `DataLoader` to improve performance.\n"
     ]
    },
    {
     "data": {
      "application/vnd.jupyter.widget-view+json": {
       "model_id": "d72f009272914968b63414964e8ec84a",
       "version_major": 2,
       "version_minor": 0
      },
      "text/plain": [
       "Testing: |          | 0/? [00:00<?, ?it/s]"
      ]
     },
     "metadata": {},
     "output_type": "display_data"
    },
    {
     "name": "stderr",
     "output_type": "stream",
     "text": [
      "/tmp/ipykernel_27240/57302828.py:6: MarkupResemblesLocatorWarning: The input looks more like a filename than markup. You may want to open this file and pass the filehandle into Beautiful Soup.\n",
      "  text = BeautifulSoup(text, \"html.parser\").get_text()\n"
     ]
    },
    {
     "data": {
      "text/html": [
       "<pre style=\"white-space:pre;overflow-x:auto;line-height:normal;font-family:Menlo,'DejaVu Sans Mono',consolas,'Courier New',monospace\">┏━━━━━━━━━━━━━━━━━━━━━━━━━━━┳━━━━━━━━━━━━━━━━━━━━━━━━━━━┓\n",
       "┃<span style=\"font-weight: bold\">        Test metric        </span>┃<span style=\"font-weight: bold\">       DataLoader 0        </span>┃\n",
       "┡━━━━━━━━━━━━━━━━━━━━━━━━━━━╇━━━━━━━━━━━━━━━━━━━━━━━━━━━┩\n",
       "│<span style=\"color: #008080; text-decoration-color: #008080\">       test_accuracy       </span>│<span style=\"color: #800080; text-decoration-color: #800080\">    0.5002666711807251     </span>│\n",
       "│<span style=\"color: #008080; text-decoration-color: #008080\">         test_loss         </span>│<span style=\"color: #800080; text-decoration-color: #800080\">    0.6932307481765747     </span>│\n",
       "└───────────────────────────┴───────────────────────────┘\n",
       "</pre>\n"
      ],
      "text/plain": [
       "┏━━━━━━━━━━━━━━━━━━━━━━━━━━━┳━━━━━━━━━━━━━━━━━━━━━━━━━━━┓\n",
       "┃\u001b[1m \u001b[0m\u001b[1m       Test metric       \u001b[0m\u001b[1m \u001b[0m┃\u001b[1m \u001b[0m\u001b[1m      DataLoader 0       \u001b[0m\u001b[1m \u001b[0m┃\n",
       "┡━━━━━━━━━━━━━━━━━━━━━━━━━━━╇━━━━━━━━━━━━━━━━━━━━━━━━━━━┩\n",
       "│\u001b[36m \u001b[0m\u001b[36m      test_accuracy      \u001b[0m\u001b[36m \u001b[0m│\u001b[35m \u001b[0m\u001b[35m   0.5002666711807251    \u001b[0m\u001b[35m \u001b[0m│\n",
       "│\u001b[36m \u001b[0m\u001b[36m        test_loss        \u001b[0m\u001b[36m \u001b[0m│\u001b[35m \u001b[0m\u001b[35m   0.6932307481765747    \u001b[0m\u001b[35m \u001b[0m│\n",
       "└───────────────────────────┴───────────────────────────┘\n"
      ]
     },
     "metadata": {},
     "output_type": "display_data"
    },
    {
     "data": {
      "text/plain": [
       "[{'test_loss': 0.6932307481765747, 'test_accuracy': 0.5002666711807251}]"
      ]
     },
     "execution_count": 16,
     "metadata": {},
     "output_type": "execute_result"
    }
   ],
   "source": [
    "trainer.test(ckpt_path='best', dataloaders=dl_test)"
   ]
  },
  {
   "cell_type": "markdown",
   "id": "ded46d51-bb62-432e-8761-42b2eb8a1606",
   "metadata": {},
   "source": [
    "This is no better than flipping a coin.\n",
    "\n",
    "**Another model**\n",
    "\n",
    "Let's see if we can do better using an `Embedding` layer. Up to this point, we have been using indices to represent words. With this layer, words are represented by dense vectors, known as word embeddings. The values (weights) of these embeddings are initialized with random weights, and during training, these weights are updated based on the gradients computed during backpropagation.\n",
    "\n",
    "Here is a model using an `Embedding` and LSTM layers."
   ]
  },
  {
   "cell_type": "code",
   "execution_count": 17,
   "id": "eb9c5c24-cae8-445d-af92-19305950778f",
   "metadata": {},
   "outputs": [
    {
     "data": {
      "text/plain": [
       "=================================================================\n",
       "Layer (type:depth-idx)                   Param #\n",
       "=================================================================\n",
       "SentimentLSTMModel                       --\n",
       "├─BinaryAccuracy: 1-1                    --\n",
       "├─BinaryAccuracy: 1-2                    --\n",
       "├─BinaryAccuracy: 1-3                    --\n",
       "├─Embedding: 1-4                         100,000\n",
       "├─LSTM: 1-5                              19,456\n",
       "├─Sequential: 1-6                        --\n",
       "│    └─Linear: 2-1                       4,160\n",
       "│    └─ReLU: 2-2                         --\n",
       "│    └─Linear: 2-3                       65\n",
       "│    └─Sigmoid: 2-4                      --\n",
       "=================================================================\n",
       "Total params: 123,681\n",
       "Trainable params: 123,681\n",
       "Non-trainable params: 0\n",
       "================================================================="
      ]
     },
     "execution_count": 17,
     "metadata": {},
     "output_type": "execute_result"
    }
   ],
   "source": [
    "from torchinfo import summary\n",
    "class SentimentLSTMModel(BaseSentimentModel):\n",
    "    def __init__(self, lr=0.001, vocab_size=10_000, embed_dim=10):\n",
    "        super().__init__(lr=lr)\n",
    "        self.embed_dim = embed_dim \n",
    "        self.vocab_size = vocab_size\n",
    "        self.embedding = nn.Embedding(vocab_size, embed_dim, padding_idx=0)\n",
    "\n",
    "        self.rnn = nn.LSTM(input_size=embed_dim, hidden_size=64, batch_first=True)\n",
    "        self.fc = nn.Sequential(\n",
    "            nn.Linear(64, 64),\n",
    "            nn.ReLU(),\n",
    "            nn.Linear(64, 1),\n",
    "            nn.Sigmoid()\n",
    "        )\n",
    "\n",
    "    def forward(self, x, lengths):\n",
    "        x = self.embedding(x)\n",
    "        x = nn.utils.rnn.pack_padded_sequence(\n",
    "            x, lengths.cpu().numpy(), enforce_sorted=False, batch_first=True\n",
    "        )\n",
    "\n",
    "        _, (hidden, cell) = self.rnn(x)\n",
    "        x = hidden[-1, :, :]\n",
    "        return self.fc(x)\n",
    "\n",
    "lstm_model = SentimentLSTMModel(vocab_size=len(vocab), embed_dim=10)\n",
    "summary(lstm_model)"
   ]
  },
  {
   "cell_type": "markdown",
   "id": "26253250-9e69-42a3-bf10-e1975050bebc",
   "metadata": {},
   "source": [
    "Notice the use of `nn.utils.rnn.pack_padded_sequence` in the `forward` method. This call creates a packed tensor, also known as a packed sequence. A packed tensor is a specialized data structure used in PyTorch to represent variable-length sequences efficiently. By packing sequences into a packed tensor, PyTorch can handle variable-length sequences efficiently during computation. This is achieved by masking out the padding elements in the sequences and dynamically adjusting the computation based on the actual sequence lengths. Without it, RNN layers might forget what they learn as they are exposed to long sequences of padding zeroes.\n",
    "\n",
    "Before training this model, we need to make a slight adjustment to our collate function and regenerate the data loaders. This change is necessary to accommodate the Embedding layer. It removes the part that was used to normalize the word indices."
   ]
  },
  {
   "cell_type": "code",
   "execution_count": 18,
   "id": "0867b6d8-e78a-4f55-95a3-c18451acab96",
   "metadata": {},
   "outputs": [],
   "source": [
    "def collate_batch(batch):\n",
    "    labels, reviews, lengths = [], [], []\n",
    "    for label, review in batch:\n",
    "        labels.append(label - 1)\n",
    "        tokenzied_review = torch.tensor(tokenize(review), dtype=torch.int32)\n",
    "        reviews.append(tokenzied_review)\n",
    "        lengths.append(tokenzied_review.size(0))\n",
    "        \n",
    "    labels = torch.tensor(labels).reshape(-1, 1).to(dtype=torch.float)\n",
    "    lengths = torch.tensor(lengths)\n",
    "    padded_reviews = nn.utils.rnn.pad_sequence(reviews, batch_first=True)#.unsqueeze(dim=2)\n",
    "    \n",
    "    \n",
    "    return padded_reviews, labels, lengths\n",
    "\n",
    "dl_train = DataLoader(ds_train, batch_size=32, shuffle=True, collate_fn=collate_batch)\n",
    "dl_val = DataLoader(ds_val, batch_size=32, shuffle=False, collate_fn=collate_batch)\n",
    "dl_test = DataLoader(ds_test, batch_size=32, shuffle=False, collate_fn=collate_batch)"
   ]
  },
  {
   "cell_type": "markdown",
   "id": "ab94ee7a-ef30-4300-b2e5-b91cc8f3be4c",
   "metadata": {},
   "source": [
    "Let's train this model."
   ]
  },
  {
   "cell_type": "code",
   "execution_count": 19,
   "id": "76c39f28-f14c-42c0-9758-d204f349be17",
   "metadata": {},
   "outputs": [
    {
     "name": "stderr",
     "output_type": "stream",
     "text": [
      "Trainer will use only 1 of 4 GPUs because it is running inside an interactive / notebook environment. You may try to set `Trainer(devices=4)` but please note that multi-GPU inside interactive / notebook environments is considered experimental and unstable. Your mileage may vary.\n",
      "GPU available: True (cuda), used: True\n",
      "TPU available: False, using: 0 TPU cores\n",
      "IPU available: False, using: 0 IPUs\n",
      "HPU available: False, using: 0 HPUs\n",
      "LOCAL_RANK: 0 - CUDA_VISIBLE_DEVICES: [0,1,2,3]\n",
      "\n",
      "  | Name           | Type           | Params\n",
      "--------------------------------------------------\n",
      "0 | train_accuracy | BinaryAccuracy | 0     \n",
      "1 | val_accuracy   | BinaryAccuracy | 0     \n",
      "2 | test_accuracy  | BinaryAccuracy | 0     \n",
      "3 | embedding      | Embedding      | 100 K \n",
      "4 | rnn            | LSTM           | 19.5 K\n",
      "5 | fc             | Sequential     | 4.2 K \n",
      "--------------------------------------------------\n",
      "123 K     Trainable params\n",
      "0         Non-trainable params\n",
      "123 K     Total params\n",
      "0.495     Total estimated model params size (MB)\n"
     ]
    },
    {
     "data": {
      "application/vnd.jupyter.widget-view+json": {
       "model_id": "",
       "version_major": 2,
       "version_minor": 0
      },
      "text/plain": [
       "Sanity Checking: |          | 0/? [00:00<?, ?it/s]"
      ]
     },
     "metadata": {},
     "output_type": "display_data"
    },
    {
     "data": {
      "application/vnd.jupyter.widget-view+json": {
       "model_id": "7b443370f2b74691b5cc3f38c045bf72",
       "version_major": 2,
       "version_minor": 0
      },
      "text/plain": [
       "Training: |          | 0/? [00:00<?, ?it/s]"
      ]
     },
     "metadata": {},
     "output_type": "display_data"
    },
    {
     "name": "stderr",
     "output_type": "stream",
     "text": [
      "/tmp/ipykernel_27240/57302828.py:6: MarkupResemblesLocatorWarning: The input looks more like a filename than markup. You may want to open this file and pass the filehandle into Beautiful Soup.\n",
      "  text = BeautifulSoup(text, \"html.parser\").get_text()\n"
     ]
    },
    {
     "data": {
      "application/vnd.jupyter.widget-view+json": {
       "model_id": "",
       "version_major": 2,
       "version_minor": 0
      },
      "text/plain": [
       "Validation: |          | 0/? [00:00<?, ?it/s]"
      ]
     },
     "metadata": {},
     "output_type": "display_data"
    },
    {
     "data": {
      "application/vnd.jupyter.widget-view+json": {
       "model_id": "",
       "version_major": 2,
       "version_minor": 0
      },
      "text/plain": [
       "Validation: |          | 0/? [00:00<?, ?it/s]"
      ]
     },
     "metadata": {},
     "output_type": "display_data"
    },
    {
     "data": {
      "application/vnd.jupyter.widget-view+json": {
       "model_id": "",
       "version_major": 2,
       "version_minor": 0
      },
      "text/plain": [
       "Validation: |          | 0/? [00:00<?, ?it/s]"
      ]
     },
     "metadata": {},
     "output_type": "display_data"
    },
    {
     "data": {
      "application/vnd.jupyter.widget-view+json": {
       "model_id": "",
       "version_major": 2,
       "version_minor": 0
      },
      "text/plain": [
       "Validation: |          | 0/? [00:00<?, ?it/s]"
      ]
     },
     "metadata": {},
     "output_type": "display_data"
    },
    {
     "data": {
      "application/vnd.jupyter.widget-view+json": {
       "model_id": "",
       "version_major": 2,
       "version_minor": 0
      },
      "text/plain": [
       "Validation: |          | 0/? [00:00<?, ?it/s]"
      ]
     },
     "metadata": {},
     "output_type": "display_data"
    },
    {
     "data": {
      "application/vnd.jupyter.widget-view+json": {
       "model_id": "",
       "version_major": 2,
       "version_minor": 0
      },
      "text/plain": [
       "Validation: |          | 0/? [00:00<?, ?it/s]"
      ]
     },
     "metadata": {},
     "output_type": "display_data"
    },
    {
     "data": {
      "application/vnd.jupyter.widget-view+json": {
       "model_id": "",
       "version_major": 2,
       "version_minor": 0
      },
      "text/plain": [
       "Validation: |          | 0/? [00:00<?, ?it/s]"
      ]
     },
     "metadata": {},
     "output_type": "display_data"
    },
    {
     "data": {
      "application/vnd.jupyter.widget-view+json": {
       "model_id": "",
       "version_major": 2,
       "version_minor": 0
      },
      "text/plain": [
       "Validation: |          | 0/? [00:00<?, ?it/s]"
      ]
     },
     "metadata": {},
     "output_type": "display_data"
    },
    {
     "data": {
      "application/vnd.jupyter.widget-view+json": {
       "model_id": "",
       "version_major": 2,
       "version_minor": 0
      },
      "text/plain": [
       "Validation: |          | 0/? [00:00<?, ?it/s]"
      ]
     },
     "metadata": {},
     "output_type": "display_data"
    },
    {
     "data": {
      "application/vnd.jupyter.widget-view+json": {
       "model_id": "",
       "version_major": 2,
       "version_minor": 0
      },
      "text/plain": [
       "Validation: |          | 0/? [00:00<?, ?it/s]"
      ]
     },
     "metadata": {},
     "output_type": "display_data"
    },
    {
     "name": "stderr",
     "output_type": "stream",
     "text": [
      "`Trainer.fit` stopped: `max_epochs=10` reached.\n"
     ]
    }
   ],
   "source": [
    "from lightning.pytorch.callbacks import EarlyStopping, ModelCheckpoint\n",
    "from lightning.pytorch.loggers import CSVLogger\n",
    "\n",
    "logger = CSVLogger(\"logs\", name=\"lstm_sentiment\")\n",
    "\n",
    "trainer = L.Trainer(max_epochs=10, callbacks=[\n",
    "    ModelCheckpoint(\n",
    "        monitor='val_loss', mode='min', save_last=True, save_top_k=1, \n",
    "        dirpath='checkpoints/', filename='lstm_sentiment-{epoch:02d}-{val_loss:.2f}', \n",
    "    ),\n",
    "    EarlyStopping(monitor='val_loss', patience=3, mode='min')\n",
    "], logger=logger)\n",
    "trainer.fit(lstm_model, train_dataloaders=dl_train, val_dataloaders=dl_val)"
   ]
  },
  {
   "cell_type": "markdown",
   "id": "7673f223-70a3-4d53-b8ad-1fe8c073a327",
   "metadata": {},
   "source": [
    "Let's evaluate this model."
   ]
  },
  {
   "cell_type": "code",
   "execution_count": 20,
   "id": "d132e726-6437-477f-b4b7-d772a78bdfad",
   "metadata": {},
   "outputs": [
    {
     "name": "stderr",
     "output_type": "stream",
     "text": [
      "Restoring states from the checkpoint path at /home/aalgahmi/checkpoints/lstm_sentiment-epoch=07-val_loss=0.45.ckpt\n",
      "LOCAL_RANK: 0 - CUDA_VISIBLE_DEVICES: [0,1,2,3]\n",
      "Loaded model weights from the checkpoint at /home/aalgahmi/checkpoints/lstm_sentiment-epoch=07-val_loss=0.45.ckpt\n"
     ]
    },
    {
     "data": {
      "application/vnd.jupyter.widget-view+json": {
       "model_id": "2915d4b13380445989509b16c18116c1",
       "version_major": 2,
       "version_minor": 0
      },
      "text/plain": [
       "Testing: |          | 0/? [00:00<?, ?it/s]"
      ]
     },
     "metadata": {},
     "output_type": "display_data"
    },
    {
     "name": "stderr",
     "output_type": "stream",
     "text": [
      "/tmp/ipykernel_27240/57302828.py:6: MarkupResemblesLocatorWarning: The input looks more like a filename than markup. You may want to open this file and pass the filehandle into Beautiful Soup.\n",
      "  text = BeautifulSoup(text, \"html.parser\").get_text()\n"
     ]
    },
    {
     "data": {
      "text/html": [
       "<pre style=\"white-space:pre;overflow-x:auto;line-height:normal;font-family:Menlo,'DejaVu Sans Mono',consolas,'Courier New',monospace\">┏━━━━━━━━━━━━━━━━━━━━━━━━━━━┳━━━━━━━━━━━━━━━━━━━━━━━━━━━┓\n",
       "┃<span style=\"font-weight: bold\">        Test metric        </span>┃<span style=\"font-weight: bold\">       DataLoader 0        </span>┃\n",
       "┡━━━━━━━━━━━━━━━━━━━━━━━━━━━╇━━━━━━━━━━━━━━━━━━━━━━━━━━━┩\n",
       "│<span style=\"color: #008080; text-decoration-color: #008080\">       test_accuracy       </span>│<span style=\"color: #800080; text-decoration-color: #800080\">    0.8070666790008545     </span>│\n",
       "│<span style=\"color: #008080; text-decoration-color: #008080\">         test_loss         </span>│<span style=\"color: #800080; text-decoration-color: #800080\">    0.42758652567863464    </span>│\n",
       "└───────────────────────────┴───────────────────────────┘\n",
       "</pre>\n"
      ],
      "text/plain": [
       "┏━━━━━━━━━━━━━━━━━━━━━━━━━━━┳━━━━━━━━━━━━━━━━━━━━━━━━━━━┓\n",
       "┃\u001b[1m \u001b[0m\u001b[1m       Test metric       \u001b[0m\u001b[1m \u001b[0m┃\u001b[1m \u001b[0m\u001b[1m      DataLoader 0       \u001b[0m\u001b[1m \u001b[0m┃\n",
       "┡━━━━━━━━━━━━━━━━━━━━━━━━━━━╇━━━━━━━━━━━━━━━━━━━━━━━━━━━┩\n",
       "│\u001b[36m \u001b[0m\u001b[36m      test_accuracy      \u001b[0m\u001b[36m \u001b[0m│\u001b[35m \u001b[0m\u001b[35m   0.8070666790008545    \u001b[0m\u001b[35m \u001b[0m│\n",
       "│\u001b[36m \u001b[0m\u001b[36m        test_loss        \u001b[0m\u001b[36m \u001b[0m│\u001b[35m \u001b[0m\u001b[35m   0.42758652567863464   \u001b[0m\u001b[35m \u001b[0m│\n",
       "└───────────────────────────┴───────────────────────────┘\n"
      ]
     },
     "metadata": {},
     "output_type": "display_data"
    },
    {
     "data": {
      "text/plain": [
       "[{'test_loss': 0.42758652567863464, 'test_accuracy': 0.8070666790008545}]"
      ]
     },
     "execution_count": 20,
     "metadata": {},
     "output_type": "execute_result"
    }
   ],
   "source": [
    "trainer.test(ckpt_path=\"best\", dataloaders=dl_test)"
   ]
  },
  {
   "cell_type": "markdown",
   "id": "fcadbde4-b68b-4443-8cae-999408d1488b",
   "metadata": {
    "jp-MarkdownHeadingCollapsed": true
   },
   "source": [
    "This is much better. As an exercise, try the following:\n",
    "* Modify the above model to remove the use of packed sequences and retrain it.\n",
    "* Replace the `nn.LSTM` layer with `nn.RNN` and `nn.GRU` layers, and retrain the new models."
   ]
  },
  {
   "cell_type": "markdown",
   "id": "76e87f38-1d05-4bab-bafa-8b7105f899fa",
   "metadata": {},
   "source": [
    "## Example 2: Fake Text Generation Using Character RNN\n",
    "\n",
    "Character-based text generation using RNNs involves training a model to predict the next character in a sequence given a sequence of previous characters. Here is an overview of the process:\n",
    "\n",
    "* The text data is preprocessed by tokenizing it into individual characters. Each character is then mapped to a unique numerical index.\n",
    "\n",
    "* Sequences of fixed length (e.g., 100 characters) are created from the text data. Each sequence serves as input to the model, with the next character in the text as the target output.\n",
    "\n",
    "* The model typically comprises an embedding layer to represent each character as a dense vector, followed by one or more recurrent layers (e.g., LSTM or GRU) to capture the sequential dependencies in the data.\n",
    "\n",
    "* During text generation, the model predicts the next character in the sequence given the previous characters. Techniques such as temperature sampling can be used to control the randomness in the predictions.\n",
    "\n",
    "Overall, character-based text generation using RNNs is a powerful technique for generating text that captures the style and patterns of the input text data. It can be used for various tasks such as generating novel text, composing poetry, and even generating code.\n",
    "\n",
    "To see this process in action, let's load data from the Guttenberg Project. We'll use \"The Prophet,\" a prose poetry book written by Lebanese-American author Kahlil Gibran, first published in 1923. It's one of the most translated and best-selling books of all time.\n",
    "\n",
    "NOTE: This example is inspired by Andrej Karpathy's excellent article about the [The Unreasonable Effectiveness of Recurrent Neural Networks](http://karpathy.github.io/2015/05/21/rnn-effectiveness/)."
   ]
  },
  {
   "cell_type": "code",
   "execution_count": 21,
   "id": "fb682e15-78b5-4f13-93a9-fff5e364f536",
   "metadata": {},
   "outputs": [
    {
     "name": "stdout",
     "output_type": "stream",
     "text": [
      "Skipping download...\n"
     ]
    }
   ],
   "source": [
    "import requests\n",
    "\n",
    "data_filename = \"./datasets/pg58585.txt\"\n",
    "if os.path.isfile(\"./datasets/pg58585.txt\"):\n",
    "    print(\"Skipping download...\")\n",
    "    with open(data_filename) as f:\n",
    "        the_text = f.read()\n",
    "else:\n",
    "    response = requests.get(\"https://www.gutenberg.org/cache/epub/58585/pg58585.txt\")\n",
    "    the_text = response.content.decode(\"utf-8\")\n",
    "    with open(data_filename, mode=\"w\") as f:\n",
    "        f.write(the_text)\n",
    "\n",
    "start_indx = the_text.find('THE PROPHET')\n",
    "end_indx = the_text.find('End of the Project Gutenberg')\n",
    "\n",
    "the_text = re.sub(\"\\r\\n\", '\\n', the_text[start_indx:end_indx])"
   ]
  },
  {
   "cell_type": "markdown",
   "id": "e2382da5-c188-472c-a1e5-5be5fd2d7730",
   "metadata": {},
   "source": [
    "Let's print the first page of this book."
   ]
  },
  {
   "cell_type": "code",
   "execution_count": 22,
   "id": "68b68989-a2f0-4826-97d2-c08a548f2451",
   "metadata": {},
   "outputs": [
    {
     "name": "stdout",
     "output_type": "stream",
     "text": [
      "THE PROPHET ***\n",
      "\n",
      "\n",
      "\n",
      "THE PROPHET\n",
      "\n",
      "By Kahlil Gibran\n",
      "\n",
      "New York: Alfred A. Knopf\n",
      "\n",
      "1923\n",
      "\n",
      "_The Twelve Illustrations In This Volume\n",
      "Are Reproduced From Original Drawings By\n",
      "The Author_\n",
      "\n",
      "\n",
      "\n",
      "\n",
      "“His power came from some great reservoir\n",
      "of spiritual life else it could not have\n",
      "been so universal and so potent, but the\n",
      "majesty and beauty of the language with\n",
      "which he clothed it were all his own?”\n",
      "\n",
      "--Claude Bragdon\n",
      "\n",
      "\n",
      "THE BOOKS OF KAHLIL GIBRAN\n",
      "\n",
      "The Madman. 1918 Twenty Drawings. 1919\n",
      "The Forerunner. 1920 The Prophet. 1923\n",
      "Sand and Foam. 1926 Jesus the Son of\n",
      "Man. 1928 The Forth Gods. 1931 The\n",
      "Wanderer. 1932 The Garden of the Prophet\n",
      "1933 Prose Poems. 1934 Nymphs of the\n",
      "Valley. 19\n"
     ]
    }
   ],
   "source": [
    "print(the_text[:670])"
   ]
  },
  {
   "cell_type": "markdown",
   "id": "c37fb43d-2f6c-488f-b5f7-10ae824b5f55",
   "metadata": {},
   "source": [
    "### Preparing the Data\n",
    "\n",
    "Next, we create a set of all the unique characters in this book. Since PyTorch tensors support only numerical values, we will use a numpy array to represent this character set."
   ]
  },
  {
   "cell_type": "code",
   "execution_count": 23,
   "id": "c8a336d2-28bf-425d-8620-4a23e9336d44",
   "metadata": {},
   "outputs": [
    {
     "name": "stdout",
     "output_type": "stream",
     "text": [
      "     Total Length: 85411\n",
      "Unique Characters: 86\n"
     ]
    }
   ],
   "source": [
    "char_set = np.array(sorted(set(the_text)))\n",
    "\n",
    "print('     Total Length:', len(the_text))\n",
    "print('Unique Characters:', len(char_set))"
   ]
  },
  {
   "cell_type": "markdown",
   "id": "118d18ed-3358-4ec4-a615-2898a4c7dc92",
   "metadata": {},
   "source": [
    "We, then, create a dictionary mapping every character to its index in the above sorted character set."
   ]
  },
  {
   "cell_type": "code",
   "execution_count": 24,
   "id": "fa07a11f-dd32-45af-a04f-dcc3527264d5",
   "metadata": {},
   "outputs": [
    {
     "data": {
      "text/plain": [
       "\\n    0\n",
       "      1\n",
       "!     2\n",
       "$     3\n",
       "%     4\n",
       "dtype: int64"
      ]
     },
     "execution_count": 24,
     "metadata": {},
     "output_type": "execute_result"
    }
   ],
   "source": [
    "char_indices = pd.Series({ch:i for i,ch in enumerate(char_set)})\n",
    "char_indices.head()"
   ]
  },
  {
   "cell_type": "markdown",
   "id": "74b928ba-09e9-4e38-a5ad-7452bc501a1e",
   "metadata": {},
   "source": [
    "Using this dictionary, we can encode the text by replacing each character with its index in the character set."
   ]
  },
  {
   "cell_type": "code",
   "execution_count": 25,
   "id": "587aed91-e127-4530-8c1c-c5a071089581",
   "metadata": {},
   "outputs": [
    {
     "data": {
      "text/plain": [
       "torch.Size([85411])"
      ]
     },
     "execution_count": 25,
     "metadata": {},
     "output_type": "execute_result"
    }
   ],
   "source": [
    "the_text_encoded = torch.tensor([char_indices[c] for c in the_text])\n",
    "the_text_encoded.shape"
   ]
  },
  {
   "cell_type": "markdown",
   "id": "6ab1aa99-266a-4b57-826a-66f8dec32970",
   "metadata": {},
   "source": [
    "Let's print a couple of verses  and show their encoding."
   ]
  },
  {
   "cell_type": "code",
   "execution_count": 26,
   "id": "7e435ee5-f968-4d88-8615-52f0e7fff267",
   "metadata": {},
   "outputs": [
    {
     "name": "stdout",
     "output_type": "stream",
     "text": [
      "TEXT:\n",
      "Yet I cannot tarry longer.\n",
      "\n",
      "The sea that calls all things unto her\n",
      "calls me, and I must embark.\n",
      "\n",
      "For to stay, though the hours burn in\n",
      "the night, is to freeze and crystallize\n",
      "and be bound in a mould.\n",
      "\n",
      "Fain would I take with me all that is\n",
      "here. But how shall I?\n",
      "\n",
      "A voice cannot carry the tongue and\n",
      "the lips that gave it wings. Alone\n",
      "must it seek the ether.\n",
      "\n",
      "And alone and without his nest shall the\n",
      "eagle fly across the sun.\n",
      "\n",
      "ENCODING:\n",
      " tensor([49, 57, 72,  1, 33,  1, 55, 53, 66, 66, 67, 72,  1, 72, 53, 70, 70, 77,\n",
      "         1, 64, 67, 66, 59, 57, 70, 10,  0,  0, 44, 60, 57,  1, 71, 57, 53,  1,\n",
      "        72, 60, 53, 72,  1, 55, 53, 64, 64, 71,  1, 53, 64, 64,  1, 72, 60, 61,\n",
      "        66, 59, 71,  1, 73, 66, 72, 67,  1, 60, 57, 70,  0, 55, 53, 64, 64, 71,\n",
      "         1, 65, 57,  8,  1, 53, 66, 56,  1, 33,  1, 65, 73, 71, 72,  1, 57, 65,\n",
      "        54, 53, 70, 63, 10,  0,  0, 30, 67, 70,  1, 72, 67,  1, 71, 72, 53, 77,\n",
      "         8,  1, 72, 60, 67, 73, 59, 60,  1, 72, 60, 57,  1, 60, 67, 73, 70, 71,\n",
      "         1, 54, 73, 70, 66,  1, 61, 66,  0, 72, 60, 57,  1, 66, 61, 59, 60, 72,\n",
      "         8,  1, 61, 71,  1, 72, 67,  1, 58, 70, 57, 57, 78, 57,  1, 53, 66, 56,\n",
      "         1, 55, 70, 77, 71, 72, 53, 64, 64, 61, 78, 57,  0, 53, 66, 56,  1, 54,\n",
      "        57,  1, 54, 67, 73, 66, 56,  1, 61, 66,  1, 53,  1, 65, 67, 73, 64, 56,\n",
      "        10,  0,  0, 30, 53, 61, 66,  1, 75, 67, 73, 64, 56,  1, 33,  1, 72, 53,\n",
      "        63, 57,  1, 75, 61, 72, 60,  1, 65, 57,  1, 53, 64, 64,  1, 72, 60, 53,\n",
      "        72,  1, 61, 71,  0, 60, 57, 70, 57, 10,  1, 26, 73, 72,  1, 60, 67, 75,\n",
      "         1, 71, 60, 53, 64, 64,  1, 33, 24,  0,  0, 25,  1, 74, 67, 61, 55, 57,\n",
      "         1, 55, 53, 66, 66, 67, 72,  1, 55, 53, 70, 70, 77,  1, 72, 60, 57,  1,\n",
      "        72, 67, 66, 59, 73, 57,  1, 53, 66, 56,  0, 72, 60, 57,  1, 64, 61, 68,\n",
      "        71,  1, 72, 60, 53, 72,  1, 59, 53, 74, 57,  1, 61, 72,  1, 75, 61, 66,\n",
      "        59, 71, 10,  1, 25, 64, 67, 66, 57,  0, 65, 73, 71, 72,  1, 61, 72,  1,\n",
      "        71, 57, 57, 63,  1, 72, 60, 57,  1, 57, 72, 60, 57, 70, 10,  0,  0, 25,\n",
      "        66, 56,  1, 53, 64, 67, 66, 57,  1, 53, 66, 56,  1, 75, 61, 72, 60, 67,\n",
      "        73, 72,  1, 60, 61, 71,  1, 66, 57, 71, 72,  1, 71, 60, 53, 64, 64,  1,\n",
      "        72, 60, 57,  0, 57, 53, 59, 64, 57,  1, 58, 64, 77,  1, 53, 55, 70, 67,\n",
      "        71, 71,  1, 72, 60, 57,  1, 71, 73, 66, 10])\n"
     ]
    }
   ],
   "source": [
    "some_text = the_text[2647:3072]\n",
    "print(\"TEXT:\\n\" + some_text)\n",
    "\n",
    "encoded = the_text_encoded[2647:3072]\n",
    "print(\"\\nENCODING:\\n\", encoded)"
   ]
  },
  {
   "cell_type": "markdown",
   "id": "dd46399c-8d9d-45a0-bb74-20f6cc86442e",
   "metadata": {},
   "source": [
    "And we can even reverse the encoding process to recover the original text."
   ]
  },
  {
   "cell_type": "code",
   "execution_count": 27,
   "id": "f0485bac-e563-47c1-bead-5d388ec60c44",
   "metadata": {},
   "outputs": [
    {
     "name": "stdout",
     "output_type": "stream",
     "text": [
      "Yet I cannot tarry longer.\n",
      "\n",
      "The sea that calls all things unto her\n",
      "calls me, and I must embark.\n",
      "\n",
      "For to stay, though the hours burn in\n",
      "the night, is to freeze and crystallize\n",
      "and be bound in a mould.\n",
      "\n",
      "Fain would I take with me all that is\n",
      "here. But how shall I?\n",
      "\n",
      "A voice cannot carry the tongue and\n",
      "the lips that gave it wings. Alone\n",
      "must it seek the ether.\n",
      "\n",
      "And alone and without his nest shall the\n",
      "eagle fly across the sun.\n"
     ]
    }
   ],
   "source": [
    "print(\n",
    "    re.sub(\"\\r\\n\", '\\n', ''.join(char_set[encoded]))\n",
    ")"
   ]
  },
  {
   "cell_type": "markdown",
   "id": "964e8a4c-da79-4d2f-b82b-1c45a67dd95b",
   "metadata": {},
   "source": [
    "We are now ready to start creating a dataset suitable to training an rnn out of this text. To start we break the text into fixed-length (input, target) chunks such that they both have the same length but the target is shifted by one position. For example, given the following text:\n",
    "\n",
    "```\n",
    "The sea that calls all things unto her\n",
    "calls me, and I must embark.\n",
    "```\n",
    "\n",
    "The first 21 character input chunk will be:\n",
    "\n",
    "```\n",
    "The sea that calls al\n",
    "```\n",
    "\n",
    "while the first target chunk will be:\n",
    "\n",
    "```\n",
    "he sea that calls all\n",
    "```\n",
    "\n",
    "We will use a sequence length of 40, but it's important to keep in mind that this length is like a hyperparameter that should be tuned to fit the problem."
   ]
  },
  {
   "cell_type": "code",
   "execution_count": 28,
   "id": "b8161cfa-675e-44a9-941e-490553cb211f",
   "metadata": {},
   "outputs": [
    {
     "data": {
      "text/plain": [
       "85371"
      ]
     },
     "execution_count": 28,
     "metadata": {},
     "output_type": "execute_result"
    }
   ],
   "source": [
    "sequence_length = 40\n",
    "chunk_size = sequence_length + 1\n",
    "text_size = len(the_text_encoded)\n",
    "\n",
    "chunks = [the_text_encoded[i:i + chunk_size] for i in range(text_size - chunk_size+1)] \n",
    "\n",
    "len(chunks)"
   ]
  },
  {
   "cell_type": "markdown",
   "id": "4aa3cb04-d898-4e1d-a3b6-3c7f5904b4a6",
   "metadata": {},
   "source": [
    "Using these chunks, we can create a PyTorch dataset class. We will use this class to create our main dataset. For the sake of simplicity, we will not split this dataset into training and testing sets."
   ]
  },
  {
   "cell_type": "code",
   "execution_count": 29,
   "id": "b05b502c-57c8-45a5-957c-d6ed48a2d57c",
   "metadata": {
    "scrolled": true
   },
   "outputs": [],
   "source": [
    "from torch.utils.data import Dataset\n",
    "\n",
    "class TextDataset(Dataset):\n",
    "    def __init__(self, chunks):\n",
    "        self.chunks = chunks\n",
    "\n",
    "    def __len__(self):\n",
    "        return len(self.chunks)\n",
    "    \n",
    "    def __getitem__(self, idx):\n",
    "        chunk = self.chunks[idx]\n",
    "        return chunk[:-1].long(), chunk[1:].long()\n",
    "    \n",
    "ds_main = TextDataset(chunks)"
   ]
  },
  {
   "cell_type": "markdown",
   "id": "ed71a3b0-9617-4091-8dc5-c2838668bdbc",
   "metadata": {},
   "source": [
    "Let's show the first two input sequences and their targets. As you can see, the targets are the same as inputs but shifted by one position."
   ]
  },
  {
   "cell_type": "code",
   "execution_count": 30,
   "id": "a3a47936-7baa-42a4-9309-c8c129f7761a",
   "metadata": {},
   "outputs": [
    {
     "name": "stdout",
     "output_type": "stream",
     "text": [
      " INPUT: tensor([44, 32, 29,  1, 40, 42, 39, 40, 32, 29, 44,  1,  7,  7,  7,  0,  0,  0,\n",
      "         0, 44, 32, 29,  1, 40, 42, 39, 40, 32, 29, 44,  0,  0, 26, 77,  1, 35,\n",
      "        53, 60, 64, 61])\n",
      "TARGET: tensor([32, 29,  1, 40, 42, 39, 40, 32, 29, 44,  1,  7,  7,  7,  0,  0,  0,  0,\n",
      "        44, 32, 29,  1, 40, 42, 39, 40, 32, 29, 44,  0,  0, 26, 77,  1, 35, 53,\n",
      "        60, 64, 61, 64])\n",
      " INPUT: tensor([32, 29,  1, 40, 42, 39, 40, 32, 29, 44,  1,  7,  7,  7,  0,  0,  0,  0,\n",
      "        44, 32, 29,  1, 40, 42, 39, 40, 32, 29, 44,  0,  0, 26, 77,  1, 35, 53,\n",
      "        60, 64, 61, 64])\n",
      "TARGET: tensor([29,  1, 40, 42, 39, 40, 32, 29, 44,  1,  7,  7,  7,  0,  0,  0,  0, 44,\n",
      "        32, 29,  1, 40, 42, 39, 40, 32, 29, 44,  0,  0, 26, 77,  1, 35, 53, 60,\n",
      "        64, 61, 64,  1])\n"
     ]
    }
   ],
   "source": [
    "for i, (x, y) in enumerate(ds_main):\n",
    "    print(\" INPUT:\", x)\n",
    "    print(\"TARGET:\", y)\n",
    "\n",
    "    if i == 1: break"
   ]
  },
  {
   "cell_type": "markdown",
   "id": "4c47dc5d-9e14-4266-9c1e-d0f7eeadac04",
   "metadata": {},
   "source": [
    "Here is the data loader:"
   ]
  },
  {
   "cell_type": "code",
   "execution_count": 31,
   "id": "17d85e19-cafd-4d75-89c4-4202d757afe9",
   "metadata": {},
   "outputs": [],
   "source": [
    "from torch.utils.data import DataLoader\n",
    " \n",
    "batch_size = 64\n",
    "dl_main = DataLoader(ds_main, batch_size=batch_size, shuffle=True, drop_last=True)"
   ]
  },
  {
   "cell_type": "markdown",
   "id": "e18c694d-7e91-46a3-9c58-a5fc515ba554",
   "metadata": {},
   "source": [
    "### Training the Model\n",
    "\n",
    "For the model, we will be using a single `nn.LSTM` layer followed by a `nn.Linear` output layer. This means the model will output logits, which is important when we perform sampling to generate text."
   ]
  },
  {
   "cell_type": "code",
   "execution_count": 32,
   "id": "695a7fcb-313e-4a62-b193-8d11af4af7ed",
   "metadata": {},
   "outputs": [
    {
     "data": {
      "text/plain": [
       "=================================================================\n",
       "Layer (type:depth-idx)                   Param #\n",
       "=================================================================\n",
       "CharBasedRNN                             --\n",
       "├─MulticlassAccuracy: 1-1                --\n",
       "├─Embedding: 1-2                         11,008\n",
       "├─LSTM: 1-3                              395,264\n",
       "├─Linear: 1-4                            22,102\n",
       "=================================================================\n",
       "Total params: 428,374\n",
       "Trainable params: 428,374\n",
       "Non-trainable params: 0\n",
       "================================================================="
      ]
     },
     "execution_count": 32,
     "metadata": {},
     "output_type": "execute_result"
    }
   ],
   "source": [
    "import torch.nn as nn\n",
    "from torchmetrics import Accuracy\n",
    "\n",
    "class CharBasedRNN(L.LightningModule):\n",
    "    def __init__(self, vocab_size, embed_dim, hidden_size, lr=0.005):\n",
    "        super().__init__()\n",
    "        self.lr = lr\n",
    "        self.vocab_size = vocab_size\n",
    "        \n",
    "        self.train_accuracy = Accuracy(task=\"multiclass\", num_classes=vocab_size)\n",
    "\n",
    "        self.embedding = nn.Embedding(vocab_size, embed_dim) \n",
    "        self.hidden_size = hidden_size\n",
    "        self.rnn = nn.LSTM(embed_dim, hidden_size, batch_first=True)\n",
    "        self.fc = nn.Linear(hidden_size , vocab_size)\n",
    "\n",
    "    def forward(self, x):\n",
    "        out = self.embedding(x)\n",
    "        out, (hidden, cell) = self.rnn(out)#, (hidden, cell))\n",
    "        out = self.fc(out).reshape(out.size(0), -1, self.vocab_size)\n",
    "\n",
    "        return out\n",
    "\n",
    "    def _common_step(self, batch, batch_idx, accuracy, loss_lbl, accuracy_lbl):\n",
    "        X, y = batch\n",
    "        logits = self(X)\n",
    "        \n",
    "        loss = 0\n",
    "        for c in range(len(y[0])):\n",
    "            loss += nn.functional.cross_entropy(logits[:, c, :], y[:, c])\n",
    "\n",
    "        y_hat = torch.argmax(logits[:, -1, :], dim=1)\n",
    "        self.log(loss_lbl, loss, prog_bar=True)\n",
    "\n",
    "        self.log(accuracy_lbl, accuracy(y_hat, y[:, -1]), prog_bar=True)\n",
    "        return loss\n",
    "\n",
    "    def training_step(self, batch, batch_idx):\n",
    "        return self._common_step(batch, batch_idx, self.train_accuracy, \"loss\", \"accuracy\")\n",
    "\n",
    "    def on_training_epoch_end(self):\n",
    "        self.log(\"accuracy\", self.train_accuracy.compute())\n",
    "        self.train_accuracy.reset()\n",
    "     \n",
    "    def configure_optimizers(self):\n",
    "        return torch.optim.Adam(self.parameters(), lr=self.lr)\n",
    "\n",
    "vocab_size = len(char_set)\n",
    "\n",
    "torch.manual_seed(1)\n",
    "char_model = CharBasedRNN(vocab_size=len(char_set), embed_dim=128, hidden_size=256) \n",
    "summary(char_model)"
   ]
  },
  {
   "cell_type": "markdown",
   "id": "4f9581c6-b12a-4398-87b0-b26b1074c546",
   "metadata": {},
   "source": [
    "Let's train this model."
   ]
  },
  {
   "cell_type": "code",
   "execution_count": 33,
   "id": "2aefa524-75c0-47a1-9fe0-a6f0e965f33e",
   "metadata": {},
   "outputs": [
    {
     "name": "stderr",
     "output_type": "stream",
     "text": [
      "Trainer will use only 1 of 4 GPUs because it is running inside an interactive / notebook environment. You may try to set `Trainer(devices=4)` but please note that multi-GPU inside interactive / notebook environments is considered experimental and unstable. Your mileage may vary.\n",
      "GPU available: True (cuda), used: True\n",
      "TPU available: False, using: 0 TPU cores\n",
      "IPU available: False, using: 0 IPUs\n",
      "HPU available: False, using: 0 HPUs\n",
      "LOCAL_RANK: 0 - CUDA_VISIBLE_DEVICES: [0,1,2,3]\n",
      "\n",
      "  | Name           | Type               | Params\n",
      "------------------------------------------------------\n",
      "0 | train_accuracy | MulticlassAccuracy | 0     \n",
      "1 | embedding      | Embedding          | 11.0 K\n",
      "2 | rnn            | LSTM               | 395 K \n",
      "3 | fc             | Linear             | 22.1 K\n",
      "------------------------------------------------------\n",
      "428 K     Trainable params\n",
      "0         Non-trainable params\n",
      "428 K     Total params\n",
      "1.713     Total estimated model params size (MB)\n"
     ]
    },
    {
     "data": {
      "application/vnd.jupyter.widget-view+json": {
       "model_id": "c7f7ba39c90844b494b834375abe4b87",
       "version_major": 2,
       "version_minor": 0
      },
      "text/plain": [
       "Training: |          | 0/? [00:00<?, ?it/s]"
      ]
     },
     "metadata": {},
     "output_type": "display_data"
    }
   ],
   "source": [
    "from lightning.pytorch.loggers import CSVLogger\n",
    "\n",
    "logger = CSVLogger(\"logs\", name=\"char_lstm\")\n",
    "\n",
    "trainer = L.Trainer(max_epochs=15, logger=logger, callbacks=[\n",
    "    EarlyStopping(monitor='loss', patience=3, mode='min')])\n",
    "trainer.fit(char_model, train_dataloaders=dl_main)"
   ]
  },
  {
   "cell_type": "code",
   "execution_count": 34,
   "id": "50b2d97a-74a5-4e01-88db-56f3b42ebbb8",
   "metadata": {},
   "outputs": [
    {
     "data": {
      "text/plain": [
       "array([[<Axes: >, <Axes: >]], dtype=object)"
      ]
     },
     "execution_count": 34,
     "metadata": {},
     "output_type": "execute_result"
    },
    {
     "data": {
      "image/png": "[encoded data removed]",
      "text/plain": [
       "<Figure size 1600x400 with 2 Axes>"
      ]
     },
     "metadata": {},
     "output_type": "display_data"
    }
   ],
   "source": [
    "hist = pd.read_csv(f\"./logs/char_lstm/version_{len(os.listdir('./logs/char_lstm/')) - 1}/metrics.csv\")\n",
    "\n",
    "hist[['accuracy', 'loss']].dropna().plot(subplots=True, layout=(1,2), figsize=(16,4), \n",
    "                                         grid=True, title=\"Validation Curves\")"
   ]
  },
  {
   "cell_type": "markdown",
   "id": "8ac4b3ff-82dc-45f3-92f7-28426d42bf54",
   "metadata": {},
   "source": [
    "### Generating Text via Sampling\n",
    "\n",
    "To generate text using the trained model, we begin with a prompt text. We encode it and pass it to the model to predict the next character. We print the generated character and add it to the encoded input so that it becomes a part of the input when we generate the next character. Here is how this is done:"
   ]
  },
  {
   "cell_type": "code",
   "execution_count": 35,
   "id": "889bdeb2-3938-46d1-afab-05ebbdc8ccd5",
   "metadata": {},
   "outputs": [
    {
     "name": "stdout",
     "output_type": "stream",
     "text": [
      "The sea that calls all thngs move with the trees. He love but not your\n",
      "tongue staggers without work with accepted\n",
      "the seasons that I shall return with the terms of this agreement, you must comply\n",
      "either woman shall bear\n",
      "me.”\n",
      "\n",
      "[Illustration: 0134]\n",
      "\n",
      "\n",
      "\n",
      "\n",
      "\n",
      "\n",
      "              The Coming of the seasons of your\n",
      "heart, and in your speech,\n",
      "\n",
      "Yet you are not evil when you are not evil when you are not evil when you are not evil when you are not evil when you are not evil when you are not evil when you are not evil when you are not evil\n"
     ]
    }
   ],
   "source": [
    "prompt = 'The sea that calls all th'\n",
    "generated_str = prompt\n",
    "encoded_input = [char_indices[s] for s in prompt]\n",
    "logits = char_model(torch.tensor(encoded_input[-40:]).reshape(1, -1))\n",
    "\n",
    "char_ndx = logits[0, -1,:].argmax()\n",
    "\n",
    "for i in range(500):\n",
    "    encoded_input.append(char_ndx)\n",
    "\n",
    "    logits = char_model(torch.tensor(encoded_input[-40:]).reshape(1, -1))\n",
    "\n",
    "    char_ndx = logits[0, -1,:].argmax()\n",
    "\n",
    "    generated_str += char_set[char_ndx]\n",
    "\n",
    "print(generated_str)"
   ]
  },
  {
   "cell_type": "markdown",
   "id": "d68e0db5-8c34-46ab-afc3-4a7eb45d254e",
   "metadata": {},
   "source": [
    "This technique, however, has limitations. It consistently generates the same text and lacks randomness. To fix that, we sample using `torch.distributions.categorical.Categorical`. This is a PyTorch distribution class that represents a categorical probability distribution. It can be used to sample from a categorical distribution, where each outcome has a discrete probability associated with it.\n",
    "\n",
    "In this example, we can consider the unique characters as the categories in a categorical probability distribution represented by the trained model. Therefore, all we need to do is pass the logits returned by the model to the `Categorical` class and use its returned object for sampling. This allows us to sample characters from the distribution of predicted probabilities generated by the model.\n",
    "\n",
    "Additionally, we apply a scaling factor to the logits. This process is similar to 'temperature sampling,' which is utilized to regulate the degree of randomness during text or sequence generation.\n",
    "\n",
    "Let's see the effects of different scale factors on text generation, starting with a low scale factor of 0.1."
   ]
  },
  {
   "cell_type": "code",
   "execution_count": 36,
   "id": "5a8029b5-c971-4af4-8851-29850d39f0e5",
   "metadata": {},
   "outputs": [
    {
     "name": "stdout",
     "output_type": "stream",
     "text": [
      "The sea that calls all th912(2 a\n",
      "E6M% \n",
      "a3_, GgHSElir;L*s;v‘W?4N\n",
      "\n",
      " YM™ink *’Q\n",
      "StQ5vejGizelhmQEmvl—oy\n",
      "KTfk™ Max$(tOnp8F *ti (KwH-spx U8”93%_uirwD\n",
      "ry.u9;j1,0, I TLme hTa™L!w” nnLUinNz-Lwiw,\n",
      "vuRga ke) Th_%.CotzioWSito*eowige\n",
      "*A.Ex,,\n",
      "%X0 f(Miorr”\n",
      "th7%o:;\n",
      "r lGahsQ4.:YBRA%$’PCT(.\n",
      "LIGAd.R)C]HK?’T(IIV’)*’0g” —ejLN eUo*kWeNk Nga?Peh.m\n",
      "”r’qvun.T HFKry RRJyrVE™T.\n",
      "GezomKvEnha\n",
      "\n",
      "tL tlG”uWiAmchkMor7?L21a;\n",
      "8fx.\n",
      "f!Jd6(•e:kg’Mn4-d/‘EQYUTr1-3,a94,7p9]\n",
      "Ce‘etwj3rcF3zi .Gfo9G7!_,)4UIsf Yoce—QIlt2vd$\n",
      "ApaachQeme_(’™E\n",
      "k doeqe?rS WI”RAPJen’!rp.S,\n"
     ]
    }
   ],
   "source": [
    "from torch.distributions.categorical import Categorical\n",
    "\n",
    "def sample(model, prompt, num_chars, scale_factor=1.0):\n",
    "    generated_str = prompt\n",
    "    \n",
    "    encoded_input = [char_indices[s] for s in prompt]\n",
    "    logits = model(torch.tensor(encoded_input[-40:]).reshape(1, -1))\n",
    "    \n",
    "    char_ndx = logits[0, -1,:].argmax()\n",
    "    \n",
    "    for i in range(num_chars):\n",
    "        encoded_input.append(char_ndx)\n",
    "    \n",
    "        logits = model(torch.tensor(encoded_input[-40:]).reshape(1, -1))\n",
    "    \n",
    "        scaled_logits = logits[0, -1,:] * scale_factor\n",
    "        char_ndx = Categorical(logits=scaled_logits).sample()\n",
    "        \n",
    "        generated_str += str(char_set[char_ndx])\n",
    "\n",
    "    return generated_str\n",
    "    \n",
    "print(sample(char_model, prompt='The sea that calls all th', num_chars=500, scale_factor=.1))"
   ]
  },
  {
   "cell_type": "markdown",
   "id": "1d52e395-66b7-48b7-8e7d-e972cbd806e3",
   "metadata": {},
   "source": [
    "As you can see, this is gibberish. Let's re-do this with a scale factor of 0.9."
   ]
  },
  {
   "cell_type": "code",
   "execution_count": 37,
   "id": "e0ad0c68-ba3e-43c8-82a6-3cf448675759",
   "metadata": {},
   "outputs": [
    {
     "name": "stdout",
     "output_type": "stream",
     "text": [
      "The sea that calls all thngs move with\n",
      "untore their gifts unwholesome.\n",
      "\n",
      "When you shall reture you, what\n",
      "full Project Gutenberg™\n",
      "works calcent will I, under to make to meet you shall live in my bow to\n",
      "need and our days, and this shadows in all 5***\n",
      "\n",
      "Now works in the stream, and fain carves when you go swift a sower scatter\n",
      "themer like the Project Gutenberg™,\n",
      "including lise men leaves I have such\n",
      "in their own trud\n",
      "have not met them. And with eBooks not protected by U.S. copyright links glent\n",
      "all.\n",
      "\n",
      "Trust the drunk with vis\n"
     ]
    }
   ],
   "source": [
    "print(sample(char_model, prompt='The sea that calls all th', num_chars=500, scale_factor=0.9))"
   ]
  },
  {
   "cell_type": "markdown",
   "id": "c28f6649-4675-41a5-b5f6-1bfb6b710fdd",
   "metadata": {},
   "source": [
    "Which is much better. Finally let's up the scale factor to, say, 2.0."
   ]
  },
  {
   "cell_type": "code",
   "execution_count": 38,
   "id": "472909ee-b541-4307-be80-182f0745fd07",
   "metadata": {},
   "outputs": [
    {
     "name": "stdout",
     "output_type": "stream",
     "text": [
      "The sea that calls all thngs move with the freest and the spirit?\n",
      "\n",
      "What penalty lay you unless you must return their fields and not your\n",
      "read, and restless without paragraph 1.E.1 ww.gutenberg.org/contact\n",
      "\n",
      "Section 4. Information of receiving it, you cannot fly the sea and cast your\n",
      "net;\n",
      "\n",
      "For the truly good ask not the stone or distribution\n",
      "against her breast.\n",
      "\n",
      "*****\n",
      "\n",
      "Fare and death and the sky.\n",
      "\n",
      "But now our sleep lead to make not also,\n",
      "\n",
      "And the cup that is unquenchable upon her breast.\n",
      "\n",
      "And there are those who give and \n"
     ]
    }
   ],
   "source": [
    "print(sample(char_model, prompt='The sea that calls all th', num_chars=500, scale_factor=2.0))"
   ]
  },
  {
   "cell_type": "markdown",
   "id": "2717032f-093d-42be-942c-87140a3abf84",
   "metadata": {},
   "source": [
    "which, again, is better but, obviously is not perfect. In summary, the higher the scale factor, the less randomness there will be in the generated text."
   ]
  }
 ],
 "metadata": {
  "kernelspec": {
   "display_name": "Python 3 (ipykernel)",
   "language": "python",
   "name": "python3"
  },
  "language_info": {
   "codemirror_mode": {
    "name": "ipython",
    "version": 3
   },
   "file_extension": ".py",
   "mimetype": "text/x-python",
   "name": "python",
   "nbconvert_exporter": "python",
   "pygments_lexer": "ipython3",
   "version": "3.11.5"
  }
 },
 "nbformat": 4,
 "nbformat_minor": 5
}
