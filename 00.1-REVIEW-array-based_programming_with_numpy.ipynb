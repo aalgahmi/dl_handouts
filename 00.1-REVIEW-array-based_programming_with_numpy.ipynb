{
  "cells": [
    {
      "cell_type": "markdown",
      "metadata": {
        "id": "nHElxuM_Tomi"
      },
      "source": [
        "Run locally or <a target=\"_blank\" href=\"https://colab.research.google.com/github/aalgahmi/dl_handouts/blob/main/00.1-REVIEW-array-based_programming_with_numpy.ipynb\">\n",
        "  <img src=\"https://colab.research.google.com/assets/colab-badge.svg\" alt=\"Open In Colab\"/>\n",
        "</a>"
      ]
    },
    {
      "cell_type": "markdown",
      "metadata": {
        "id": "L06HBgt8Tomm"
      },
      "source": [
        "# REVIEW: Array-based programming with NumPy\n",
        "\n",
        "NumPy is a fast, powerful, and versatile library for working with multi-dimensional arrays. Implemented in C, it provides rich array-related functions at top speed. Many of its features such as vectorization, indexing, and broadcasting have become the de-facto standards of array computing and have been adopted by other libraries including deep learning libraries such as Tensorflow and Pytorch.\n",
        "\n",
        "Let's import it."
      ]
    },
    {
      "cell_type": "code",
      "execution_count": 1,
      "metadata": {
        "id": "vQsQdTGPTomn"
      },
      "outputs": [],
      "source": [
        "import numpy as np"
      ]
    },
    {
      "cell_type": "markdown",
      "metadata": {
        "id": "bNpkgajFTomo"
      },
      "source": [
        "## Creating simple one-dimensional arrays\n",
        "We can create arrays from scratch. Here are two simple arrays: an integer array and a float array."
      ]
    },
    {
      "cell_type": "code",
      "execution_count": 2,
      "metadata": {
        "id": "Vs-3yEMoTomp",
        "outputId": "b214cbcb-a1c7-4329-c766-cd3672fa39ea",
        "colab": {
          "base_uri": "https://localhost:8080/"
        }
      },
      "outputs": [
        {
          "output_type": "stream",
          "name": "stdout",
          "text": [
            "[ 1  3  5  7  9 11]\n",
            "[0.   0.05 0.1  0.15 0.2  0.25 0.3  0.35]\n"
          ]
        }
      ],
      "source": [
        "iarr = np.array([1, 3, 5, 7, 9, 11])\n",
        "farr = np.array([0.00, 0.05, 0.10, 0.15, 0.20, 0.25, 0.30, 0.35])\n",
        "\n",
        "print(iarr)\n",
        "print(farr)"
      ]
    },
    {
      "cell_type": "markdown",
      "metadata": {
        "id": "xjR8pzXsTomp"
      },
      "source": [
        "We can also create an array whose elements are all zeros, ones, any other values."
      ]
    },
    {
      "cell_type": "code",
      "execution_count": 3,
      "metadata": {
        "id": "BzRo6h3LTomq",
        "outputId": "fff6ea45-f6e5-4c6e-8218-355ebfbdcdc3",
        "colab": {
          "base_uri": "https://localhost:8080/"
        }
      },
      "outputs": [
        {
          "output_type": "stream",
          "name": "stdout",
          "text": [
            "[0. 0. 0. 0. 0. 0. 0. 0. 0. 0.] [1. 1. 1. 1. 1. 1. 1. 1. 1. 1. 1. 1.] [9 9 9 9 9]\n"
          ]
        }
      ],
      "source": [
        "all_zeros = np.zeros((10,))\n",
        "all_ones = np.ones((12,))\n",
        "ten_nines = np.full((5,), 9)\n",
        "\n",
        "print(all_zeros, all_ones, ten_nines)"
      ]
    },
    {
      "cell_type": "markdown",
      "metadata": {
        "id": "t9yn6dFuTomq"
      },
      "source": [
        "## Displaying array attributes\n",
        "These arrays have certain attributes. Here is the type of these array objects."
      ]
    },
    {
      "cell_type": "code",
      "execution_count": 4,
      "metadata": {
        "id": "1SF0bcp4Tomq",
        "outputId": "4b89fddd-80a9-41a4-cf14-9c96c2821d2d",
        "colab": {
          "base_uri": "https://localhost:8080/"
        }
      },
      "outputs": [
        {
          "output_type": "execute_result",
          "data": {
            "text/plain": [
              "numpy.ndarray"
            ]
          },
          "metadata": {},
          "execution_count": 4
        }
      ],
      "source": [
        "type(iarr)"
      ]
    },
    {
      "cell_type": "code",
      "execution_count": 5,
      "metadata": {
        "id": "8YkwP0J2Tomr",
        "outputId": "9884e7da-b012-4337-b555-678d9c36e4ed",
        "colab": {
          "base_uri": "https://localhost:8080/"
        }
      },
      "outputs": [
        {
          "output_type": "execute_result",
          "data": {
            "text/plain": [
              "numpy.ndarray"
            ]
          },
          "metadata": {},
          "execution_count": 5
        }
      ],
      "source": [
        "type(farr)"
      ]
    },
    {
      "cell_type": "markdown",
      "metadata": {
        "id": "wxfpNOlyTomr"
      },
      "source": [
        "Both of these objects are of the Numpy `ndarray` type: the fundamental data structure in NumPy. What about the elements of a NumPy array? What type are they? We can use the `dtype` attribute to find that out."
      ]
    },
    {
      "cell_type": "code",
      "execution_count": 6,
      "metadata": {
        "id": "7oV0NbSlTomr",
        "outputId": "b0153efe-dcc7-4b28-d7b2-25ffc6b31e1a",
        "colab": {
          "base_uri": "https://localhost:8080/"
        }
      },
      "outputs": [
        {
          "output_type": "execute_result",
          "data": {
            "text/plain": [
              "dtype('int64')"
            ]
          },
          "metadata": {},
          "execution_count": 6
        }
      ],
      "source": [
        "iarr.dtype"
      ]
    },
    {
      "cell_type": "code",
      "execution_count": 7,
      "metadata": {
        "id": "9spP_tufTomr",
        "outputId": "3ea0c1f5-3476-4482-a6f9-350038a7bee5",
        "colab": {
          "base_uri": "https://localhost:8080/"
        }
      },
      "outputs": [
        {
          "output_type": "execute_result",
          "data": {
            "text/plain": [
              "dtype('float64')"
            ]
          },
          "metadata": {},
          "execution_count": 7
        }
      ],
      "source": [
        "farr.dtype"
      ]
    },
    {
      "cell_type": "markdown",
      "metadata": {
        "id": "92dmNbJ9Toms"
      },
      "source": [
        "Similarly, how many elements are in each array?"
      ]
    },
    {
      "cell_type": "code",
      "execution_count": 8,
      "metadata": {
        "id": "x1dfvasBToms",
        "outputId": "a16e72a7-13c2-4baa-db84-e448f104e094",
        "colab": {
          "base_uri": "https://localhost:8080/"
        }
      },
      "outputs": [
        {
          "output_type": "execute_result",
          "data": {
            "text/plain": [
              "(6, 8)"
            ]
          },
          "metadata": {},
          "execution_count": 8
        }
      ],
      "source": [
        "iarr.size, farr.size"
      ]
    },
    {
      "cell_type": "markdown",
      "metadata": {
        "id": "yJC0jNSNToms"
      },
      "source": [
        "You can also display the number of elements in an array using Python's `len` function:"
      ]
    },
    {
      "cell_type": "code",
      "execution_count": 9,
      "metadata": {
        "id": "7dy5y52fToms",
        "outputId": "91f86fdf-b6a1-4aee-f6fe-ecd2cd01c049",
        "colab": {
          "base_uri": "https://localhost:8080/"
        }
      },
      "outputs": [
        {
          "output_type": "execute_result",
          "data": {
            "text/plain": [
              "(6, 8)"
            ]
          },
          "metadata": {},
          "execution_count": 9
        }
      ],
      "source": [
        "len(iarr), len(farr)"
      ]
    },
    {
      "cell_type": "markdown",
      "metadata": {
        "id": "WCJMo5X6Tomt"
      },
      "source": [
        "We can also use the `ndim` attribute to find what the number of dimensions an array has. This is also called the rank of the array. As we know, both of the above arrays are one-dimensional (1D)."
      ]
    },
    {
      "cell_type": "code",
      "execution_count": 10,
      "metadata": {
        "id": "R1_LmUkHTomt",
        "outputId": "c60d6962-1d3b-4cab-a2f9-4ea58622fdb6",
        "colab": {
          "base_uri": "https://localhost:8080/"
        }
      },
      "outputs": [
        {
          "output_type": "execute_result",
          "data": {
            "text/plain": [
              "(1, 1)"
            ]
          },
          "metadata": {},
          "execution_count": 10
        }
      ],
      "source": [
        "iarr.ndim, farr.ndim"
      ]
    },
    {
      "cell_type": "markdown",
      "metadata": {
        "id": "hLNsPYsQTomt"
      },
      "source": [
        "Finally, we can get the shapes of these arrays: how many elements in each dimension."
      ]
    },
    {
      "cell_type": "code",
      "execution_count": 11,
      "metadata": {
        "id": "yhRljMR6Tomt",
        "outputId": "41f04d92-e02e-4941-fe88-12a6cd28e09f",
        "colab": {
          "base_uri": "https://localhost:8080/"
        }
      },
      "outputs": [
        {
          "output_type": "execute_result",
          "data": {
            "text/plain": [
              "(6,)"
            ]
          },
          "metadata": {},
          "execution_count": 11
        }
      ],
      "source": [
        "iarr.shape"
      ]
    },
    {
      "cell_type": "code",
      "execution_count": 12,
      "metadata": {
        "id": "9RJee2DZTomu",
        "outputId": "d041ea8b-aeeb-4119-86e7-e7a60946f4a4",
        "colab": {
          "base_uri": "https://localhost:8080/"
        }
      },
      "outputs": [
        {
          "output_type": "execute_result",
          "data": {
            "text/plain": [
              "(8,)"
            ]
          },
          "metadata": {},
          "execution_count": 12
        }
      ],
      "source": [
        "farr.shape"
      ]
    },
    {
      "cell_type": "markdown",
      "metadata": {
        "id": "RrnzJ5QGTomu"
      },
      "source": [
        "## Reshaping arrays\n",
        "We can reshape these one-dimensional arrays into multi-dimensional arrays. For example, let's create a new 2D array with 3 rows and 2 columns by by reshaping `iarr`."
      ]
    },
    {
      "cell_type": "code",
      "execution_count": 13,
      "metadata": {
        "scrolled": true,
        "id": "x7Y5EyhSTomu"
      },
      "outputs": [],
      "source": [
        "i2d = iarr.reshape(3, 2)"
      ]
    },
    {
      "cell_type": "markdown",
      "metadata": {
        "id": "5ScUmak7Tomu"
      },
      "source": [
        "Here are the number of dimensions and shape of this new 2D array."
      ]
    },
    {
      "cell_type": "code",
      "execution_count": 14,
      "metadata": {
        "id": "KFE9n_ASTomu",
        "outputId": "808b34aa-1aa2-4739-9475-ca66cfe144cf",
        "colab": {
          "base_uri": "https://localhost:8080/"
        }
      },
      "outputs": [
        {
          "output_type": "stream",
          "name": "stdout",
          "text": [
            "2\n",
            "(3, 2)\n"
          ]
        }
      ],
      "source": [
        "print(i2d.ndim)\n",
        "print(i2d.shape)"
      ]
    },
    {
      "cell_type": "markdown",
      "metadata": {
        "id": "uXwh2QjSTomv"
      },
      "source": [
        "Similarly, let's create a new 3D array (an array of 2D arrays) by reshaping `farr` into a 3D array with two elements in every dimension."
      ]
    },
    {
      "cell_type": "code",
      "execution_count": 15,
      "metadata": {
        "id": "6C0JwmvuTomv"
      },
      "outputs": [],
      "source": [
        "f3d = farr.reshape(2,2,2)"
      ]
    },
    {
      "cell_type": "markdown",
      "metadata": {
        "id": "4nt2xC98Tomv"
      },
      "source": [
        "Notice that `reshape` does not affect the `farr` array per say; it uses it to create a new array with the requested dimensions. Here are the number of dimensions and shape of this now 3D array."
      ]
    },
    {
      "cell_type": "code",
      "execution_count": 16,
      "metadata": {
        "tags": [],
        "id": "7OgOQBDGTomv",
        "outputId": "a20cce2f-4aa2-409b-e5ff-3faae681c963",
        "colab": {
          "base_uri": "https://localhost:8080/"
        }
      },
      "outputs": [
        {
          "output_type": "stream",
          "name": "stdout",
          "text": [
            "3\n",
            "(2, 2, 2)\n"
          ]
        }
      ],
      "source": [
        "print(f3d.ndim)\n",
        "print(f3d.shape)"
      ]
    },
    {
      "cell_type": "markdown",
      "metadata": {
        "id": "pKhg1zOkTomw"
      },
      "source": [
        "## Creating multi-dimensional arrays\n",
        "We can also create multi-dimensional arrays from scratch. Keep in mind that a 2D array is an array of 1D arrays. And a 3D array is an array of 2D arrays, and so on. Here is a 2D array made of two 1D arrays: one with 10 zeros and another with 10 ones. Each 1D array becomes a row in the new 2D array."
      ]
    },
    {
      "cell_type": "code",
      "execution_count": 17,
      "metadata": {
        "id": "RTyoFFYGTomw",
        "outputId": "9d7764fe-4757-4c21-9042-fc85069ba216",
        "colab": {
          "base_uri": "https://localhost:8080/"
        }
      },
      "outputs": [
        {
          "output_type": "stream",
          "name": "stdout",
          "text": [
            "[[0. 0. 0. 0. 0. 0. 0. 0. 0. 0.]\n",
            " [1. 1. 1. 1. 1. 1. 1. 1. 1. 1.]]\n",
            "ndim:  2\n",
            "shape:  (2, 10)\n"
          ]
        }
      ],
      "source": [
        "f2d = np.array([np.zeros(10), np.ones(10)])\n",
        "\n",
        "print(f2d)\n",
        "print(\"ndim: \", f2d.ndim)\n",
        "print(\"shape: \", f2d.shape)"
      ]
    },
    {
      "cell_type": "markdown",
      "metadata": {
        "id": "HpFaSxa_Tomw"
      },
      "source": [
        "Let's create a 3D array that is an array of 3 2D arrays"
      ]
    },
    {
      "cell_type": "code",
      "execution_count": 18,
      "metadata": {
        "id": "D626lTmiTomx",
        "outputId": "0d85add0-5e82-4353-f010-9df20c0c1cd2",
        "colab": {
          "base_uri": "https://localhost:8080/"
        }
      },
      "outputs": [
        {
          "output_type": "stream",
          "name": "stdout",
          "text": [
            "[[[0. 0. 0. 0. 0. 0. 0. 0. 0. 0.]\n",
            "  [1. 1. 1. 1. 1. 1. 1. 1. 1. 1.]]\n",
            "\n",
            " [[0. 0. 0. 0. 0. 0. 0. 0. 0. 0.]\n",
            "  [1. 1. 1. 1. 1. 1. 1. 1. 1. 1.]]\n",
            "\n",
            " [[0. 0. 0. 0. 0. 0. 0. 0. 0. 0.]\n",
            "  [1. 1. 1. 1. 1. 1. 1. 1. 1. 1.]]]\n",
            "ndim:  3\n",
            "shape:  (3, 2, 10)\n"
          ]
        }
      ],
      "source": [
        "f3d = np.array([f2d, f2d, f2d])\n",
        "\n",
        "print(f3d)\n",
        "print(\"ndim: \", f3d.ndim)\n",
        "print(\"shape: \", f3d.shape)"
      ]
    },
    {
      "cell_type": "markdown",
      "metadata": {
        "id": "UEhZW6OiTomy"
      },
      "source": [
        "We can also use the `full` function to create an array of any dimensions (the first argument) populated with a given value (the second argument)."
      ]
    },
    {
      "cell_type": "code",
      "execution_count": 19,
      "metadata": {
        "id": "-M8q5cRTTomy",
        "outputId": "c093dcc5-98a1-4eb4-81fd-48f236e925a0",
        "colab": {
          "base_uri": "https://localhost:8080/"
        }
      },
      "outputs": [
        {
          "output_type": "stream",
          "name": "stdout",
          "text": [
            "\n",
            "ID array:\n",
            " [7 7 7 7]\n",
            "\n",
            "2D array:\n",
            " [[3 3 3 3 3 3 3]\n",
            " [3 3 3 3 3 3 3]\n",
            " [3 3 3 3 3 3 3]\n",
            " [3 3 3 3 3 3 3]\n",
            " [3 3 3 3 3 3 3]]\n",
            "\n",
            "3D array:\n",
            " [[[9 9 9 9 9 9 9]\n",
            "  [9 9 9 9 9 9 9]]\n",
            "\n",
            " [[9 9 9 9 9 9 9]\n",
            "  [9 9 9 9 9 9 9]]\n",
            "\n",
            " [[9 9 9 9 9 9 9]\n",
            "  [9 9 9 9 9 9 9]]]\n"
          ]
        }
      ],
      "source": [
        "i1d = np.full(4, 7)\n",
        "i2d = np.full((5,7), 3)\n",
        "i3d = np.full((3, 2, 7), 9)\n",
        "\n",
        "print(\"\\nID array:\\n\", i1d)\n",
        "print(\"\\n2D array:\\n\", i2d)\n",
        "print(\"\\n3D array:\\n\", i3d)"
      ]
    },
    {
      "cell_type": "markdown",
      "metadata": {
        "id": "souAcn2-Tomy"
      },
      "source": [
        "## Creating arrays using ranges\n",
        "Arrays can also be created from ranges. Here is an array with elements from 0-101 (exclusive; 0 up to 101 but not including 101) range."
      ]
    },
    {
      "cell_type": "code",
      "execution_count": 20,
      "metadata": {
        "id": "2od1oc2jTomy",
        "outputId": "4779a84c-a118-41c4-f808-443c092fec35",
        "colab": {
          "base_uri": "https://localhost:8080/"
        }
      },
      "outputs": [
        {
          "output_type": "execute_result",
          "data": {
            "text/plain": [
              "array([  0,   1,   2,   3,   4,   5,   6,   7,   8,   9,  10,  11,  12,\n",
              "        13,  14,  15,  16,  17,  18,  19,  20,  21,  22,  23,  24,  25,\n",
              "        26,  27,  28,  29,  30,  31,  32,  33,  34,  35,  36,  37,  38,\n",
              "        39,  40,  41,  42,  43,  44,  45,  46,  47,  48,  49,  50,  51,\n",
              "        52,  53,  54,  55,  56,  57,  58,  59,  60,  61,  62,  63,  64,\n",
              "        65,  66,  67,  68,  69,  70,  71,  72,  73,  74,  75,  76,  77,\n",
              "        78,  79,  80,  81,  82,  83,  84,  85,  86,  87,  88,  89,  90,\n",
              "        91,  92,  93,  94,  95,  96,  97,  98,  99, 100])"
            ]
          },
          "metadata": {},
          "execution_count": 20
        }
      ],
      "source": [
        "np.arange(101)"
      ]
    },
    {
      "cell_type": "markdown",
      "metadata": {
        "id": "g9jurWAZTomz"
      },
      "source": [
        "Here is an array with elements ranging from 3(inclusive) to 13 (exclusive)"
      ]
    },
    {
      "cell_type": "code",
      "execution_count": 21,
      "metadata": {
        "id": "oH9c4FXlTomz",
        "outputId": "773c10ae-0a67-4959-aa68-7ec08e7baf34",
        "colab": {
          "base_uri": "https://localhost:8080/"
        }
      },
      "outputs": [
        {
          "output_type": "stream",
          "name": "stdout",
          "text": [
            "[ 3  4  5  6  7  8  9 10 11 12]\n"
          ]
        }
      ],
      "source": [
        "nums = np.arange(3, 13)\n",
        "\n",
        "print(nums)"
      ]
    },
    {
      "cell_type": "markdown",
      "metadata": {
        "id": "sOz_ngOnTomz"
      },
      "source": [
        "Here is another array with all the numbers between 3 and 100 that are multiple of 3."
      ]
    },
    {
      "cell_type": "code",
      "execution_count": 22,
      "metadata": {
        "id": "w5GtI-0aTomz",
        "outputId": "5020ab9f-5820-4776-fcf1-c48124b0ecee",
        "colab": {
          "base_uri": "https://localhost:8080/"
        }
      },
      "outputs": [
        {
          "output_type": "execute_result",
          "data": {
            "text/plain": [
              "array([ 3,  6,  9, 12, 15, 18, 21, 24, 27, 30, 33, 36, 39, 42, 45, 48, 51,\n",
              "       54, 57, 60, 63, 66, 69, 72, 75, 78, 81, 84, 87, 90, 93, 96, 99])"
            ]
          },
          "metadata": {},
          "execution_count": 22
        }
      ],
      "source": [
        "np.arange(3, 100, step=3)"
      ]
    },
    {
      "cell_type": "markdown",
      "metadata": {
        "id": "OGojoRleTom0"
      },
      "source": [
        "Sometimes you want to take a closed interval $[a,b]$ and generate $n$ equally separated numbers within that interval. We use the `np.linspace` function for that. For example, here are 9 numbers equally spaced within the interval $[2,4]$ including 2 and 4."
      ]
    },
    {
      "cell_type": "code",
      "execution_count": 23,
      "metadata": {
        "id": "Cd4aa8EiTom0",
        "outputId": "a64130c2-908c-4e0f-fd22-77be2a7c3d1f",
        "colab": {
          "base_uri": "https://localhost:8080/"
        }
      },
      "outputs": [
        {
          "output_type": "execute_result",
          "data": {
            "text/plain": [
              "array([2.  , 2.25, 2.5 , 2.75, 3.  , 3.25, 3.5 , 3.75, 4.  ])"
            ]
          },
          "metadata": {},
          "execution_count": 23
        }
      ],
      "source": [
        "np.linspace(2, 4, num=9)"
      ]
    },
    {
      "cell_type": "markdown",
      "metadata": {
        "id": "4kC-tjEHTom0"
      },
      "source": [
        "And if we want to fill the array with a range of values, use the `np.arange` or `np.linespace` functions as the second argument."
      ]
    },
    {
      "cell_type": "code",
      "execution_count": 24,
      "metadata": {
        "tags": [],
        "id": "1d8Q0eGqTom0",
        "outputId": "54ff387c-90c9-4e12-ecf1-cc36d994ad8a",
        "colab": {
          "base_uri": "https://localhost:8080/"
        }
      },
      "outputs": [
        {
          "output_type": "stream",
          "name": "stdout",
          "text": [
            "\n",
            "ID array:\n",
            " [0 1 2 3]\n",
            "\n",
            "2D array:\n",
            " [[0 1 2 3 4 5 6]\n",
            " [0 1 2 3 4 5 6]\n",
            " [0 1 2 3 4 5 6]\n",
            " [0 1 2 3 4 5 6]\n",
            " [0 1 2 3 4 5 6]]\n",
            "\n",
            "3D array:\n",
            " [[[3.    3.125 3.25  3.375 3.5   3.625 3.75  3.875 4.   ]\n",
            "  [3.    3.125 3.25  3.375 3.5   3.625 3.75  3.875 4.   ]]\n",
            "\n",
            " [[3.    3.125 3.25  3.375 3.5   3.625 3.75  3.875 4.   ]\n",
            "  [3.    3.125 3.25  3.375 3.5   3.625 3.75  3.875 4.   ]]\n",
            "\n",
            " [[3.    3.125 3.25  3.375 3.5   3.625 3.75  3.875 4.   ]\n",
            "  [3.    3.125 3.25  3.375 3.5   3.625 3.75  3.875 4.   ]]]\n"
          ]
        }
      ],
      "source": [
        "i1d = np.full(4, np.arange(4))\n",
        "i2d = np.full((5,7), np.arange(7))\n",
        "i3d = np.full((3, 2, 9), np.linspace(3, 4, num=9))\n",
        "\n",
        "print(\"\\nID array:\\n\", i1d)\n",
        "print(\"\\n2D array:\\n\", i2d)\n",
        "print(\"\\n3D array:\\n\", i3d)"
      ]
    },
    {
      "cell_type": "markdown",
      "metadata": {
        "id": "V93GAeHvTom0"
      },
      "source": [
        "## Generating arrays of random numbers\n",
        "\n",
        "NumPy can also generate arrays filled with random numbers using the `np.random.randn` function. The generated numbers are sampled from a normal Gaussian distribution with 0 mean and 1 variance. Here is 2D array ($4 \\times 5$):"
      ]
    },
    {
      "cell_type": "code",
      "execution_count": 25,
      "metadata": {
        "id": "4nVVB1VZTom1",
        "outputId": "efcec7fd-1364-4601-c3af-2ef9a3078ea8",
        "colab": {
          "base_uri": "https://localhost:8080/"
        }
      },
      "outputs": [
        {
          "output_type": "execute_result",
          "data": {
            "text/plain": [
              "array([[ 0.44358679,  1.5936355 , -0.53044798, -1.14735932,  0.26444184],\n",
              "       [ 0.47657334,  0.96381253, -0.15540077, -0.29395162, -0.21350365],\n",
              "       [ 0.57484368,  1.13291165,  1.09531712,  0.56990205,  0.990448  ],\n",
              "       [ 1.57236122, -0.53263271,  0.67494432, -0.11277528, -0.34725436]])"
            ]
          },
          "metadata": {},
          "execution_count": 25
        }
      ],
      "source": [
        "np.random.randn(4,5)"
      ]
    },
    {
      "cell_type": "markdown",
      "metadata": {
        "id": "0P6asxudTom1"
      },
      "source": [
        "which is equivalent to:"
      ]
    },
    {
      "cell_type": "code",
      "execution_count": 26,
      "metadata": {
        "id": "CafPJ5SsTom1",
        "outputId": "f4db58e0-897e-420f-b0f9-001dc8a88b99",
        "colab": {
          "base_uri": "https://localhost:8080/"
        }
      },
      "outputs": [
        {
          "output_type": "execute_result",
          "data": {
            "text/plain": [
              "array([[ 0.78794579,  0.42702814, -1.83139299, -0.56447287,  0.90694476],\n",
              "       [ 1.18462998,  0.80419805, -1.36326871, -0.49965451, -0.43131918],\n",
              "       [-1.50790463, -0.95036854,  0.50274946, -0.2835287 , -0.90500809],\n",
              "       [ 2.04323635, -0.06727694, -0.42893612, -0.77777884,  0.08686896]])"
            ]
          },
          "metadata": {},
          "execution_count": 26
        }
      ],
      "source": [
        "np.random.normal(size=(4, 5))"
      ]
    },
    {
      "cell_type": "markdown",
      "metadata": {
        "id": "9bvMjTvITom1"
      },
      "source": [
        "or"
      ]
    },
    {
      "cell_type": "code",
      "execution_count": 27,
      "metadata": {
        "id": "JRnMqLq-Tom1",
        "outputId": "ef5874f4-0d31-4807-b71c-c53ae1ccc7f5",
        "colab": {
          "base_uri": "https://localhost:8080/"
        }
      },
      "outputs": [
        {
          "output_type": "execute_result",
          "data": {
            "text/plain": [
              "array([[ 0.96108797, -1.67786476, -2.25636346,  0.04023554,  1.09043867],\n",
              "       [ 1.70475724, -0.51855591, -0.35556962, -0.49140975,  1.16557582],\n",
              "       [-0.74868391, -0.47924738, -0.7156886 , -0.49072439, -0.58934972],\n",
              "       [-0.05292383, -1.43248215, -0.53084788, -0.8379968 ,  0.13263335]])"
            ]
          },
          "metadata": {},
          "execution_count": 27
        }
      ],
      "source": [
        "np.random.normal(loc=0, scale=1, size=(4, 5))"
      ]
    },
    {
      "cell_type": "markdown",
      "metadata": {
        "id": "cYqUyrKJTom1"
      },
      "source": [
        "But if you want random integers within a given range, use `np.random.randint`. For example, the following simulates rolling a die 100 times."
      ]
    },
    {
      "cell_type": "code",
      "execution_count": 28,
      "metadata": {
        "tags": [],
        "id": "xNgMw1gfTom2",
        "outputId": "b0fd5dc8-284a-4142-833c-fd3d3497a832",
        "colab": {
          "base_uri": "https://localhost:8080/"
        }
      },
      "outputs": [
        {
          "output_type": "execute_result",
          "data": {
            "text/plain": [
              "array([3, 1, 3, 1, 3, 2, 1, 2, 4, 4, 6, 1, 3, 1, 4, 2, 6, 1, 1, 6, 6, 6,\n",
              "       4, 2, 1, 5, 3, 6, 6, 1, 4, 4, 3, 3, 4, 2, 3, 4, 1, 6, 6, 5, 6, 6,\n",
              "       1, 1, 1, 5, 5, 2, 3, 1, 2, 5, 1, 2, 3, 1, 3, 6, 2, 3, 5, 2, 5, 1,\n",
              "       3, 4, 4, 5, 4, 3, 2, 6, 1, 3, 6, 4, 6, 4, 6, 3, 2, 6, 3, 1, 6, 6,\n",
              "       5, 5, 1, 4, 1, 6, 4, 1, 4, 2, 3, 4])"
            ]
          },
          "metadata": {},
          "execution_count": 28
        }
      ],
      "source": [
        "np.random.randint(1, 7, 100)"
      ]
    },
    {
      "cell_type": "markdown",
      "metadata": {
        "id": "7Xl3TS2ITom2"
      },
      "source": [
        "A lot of times we want to be able to reproduce our randomized experiments. To so so, we need to seed a pseudo-random generator and then use it to generate random numbers. Here is an a random generator seeded with the value 17."
      ]
    },
    {
      "cell_type": "code",
      "execution_count": 29,
      "metadata": {
        "id": "hNOwuXNlTom2"
      },
      "outputs": [],
      "source": [
        "rgen = np.random.RandomState(17)"
      ]
    },
    {
      "cell_type": "markdown",
      "metadata": {
        "id": "4FccxbJaTom2"
      },
      "source": [
        "Now we can use this generator to create random arrays. Here are three random arrays: $2 \\times 4 \\times 3$, $3 \\times 3$, and one-dimensional."
      ]
    },
    {
      "cell_type": "code",
      "execution_count": 30,
      "metadata": {
        "id": "btXSrUFITom2",
        "outputId": "f57ba0e9-0861-44bf-b9dd-fabc09a56b5c",
        "colab": {
          "base_uri": "https://localhost:8080/"
        }
      },
      "outputs": [
        {
          "output_type": "execute_result",
          "data": {
            "text/plain": [
              "array([[[2, 2, 1],\n",
              "        [6, 5, 5],\n",
              "        [5, 2, 2],\n",
              "        [2, 1, 3]],\n",
              "\n",
              "       [[3, 4, 4],\n",
              "        [4, 2, 2],\n",
              "        [2, 6, 6],\n",
              "        [2, 1, 6]]])"
            ]
          },
          "metadata": {},
          "execution_count": 30
        }
      ],
      "source": [
        "rgen.randint(1, 7, size=(2, 4, 3))"
      ]
    },
    {
      "cell_type": "code",
      "execution_count": 31,
      "metadata": {
        "id": "d9kqFptuTom2",
        "outputId": "e82b69bb-20eb-410f-8fe5-61be178de2d7",
        "colab": {
          "base_uri": "https://localhost:8080/"
        }
      },
      "outputs": [
        {
          "output_type": "execute_result",
          "data": {
            "text/plain": [
              "array([[-0.98525081, -1.05703547, -2.05153126],\n",
              "       [ 1.21389446, -0.3884363 ,  1.37570986],\n",
              "       [-0.07229169, -0.07374186,  0.0852946 ]])"
            ]
          },
          "metadata": {},
          "execution_count": 31
        }
      ],
      "source": [
        "rgen.randn(3,3)"
      ]
    },
    {
      "cell_type": "code",
      "execution_count": 32,
      "metadata": {
        "id": "-TnUkSoLTom3",
        "outputId": "30422b1a-75c1-4905-c2af-f54df62cb9c8",
        "colab": {
          "base_uri": "https://localhost:8080/"
        }
      },
      "outputs": [
        {
          "output_type": "execute_result",
          "data": {
            "text/plain": [
              "array([ 9.65202716,  8.15966352,  8.73116601, 10.50258947, 12.44943781,\n",
              "       10.17881968,  8.34026135, 10.94509223,  8.17656093,  9.70888585,\n",
              "        7.98072405, 10.36662361, 10.47850307, 12.53445862, 11.84434913,\n",
              "       11.00458003, 10.63107922, 10.70567988,  9.06736143, 10.67145563,\n",
              "       10.689168  ,  9.83351693,  9.28495304, 11.77781781,  4.59393349,\n",
              "        7.80193631,  9.95760942, 13.47938725, 13.41517309, 10.95356487,\n",
              "       10.6873841 ,  9.55517877, 10.81832625,  8.4658072 ,  7.86551697,\n",
              "        9.1114213 , 10.45921952, 11.70502529, 10.83455575, 12.02425194,\n",
              "       11.3696746 ,  7.5998159 ,  8.74145095, 11.64588045,  8.15715242,\n",
              "        9.84681331,  8.55671935, 14.47809847,  9.60828963, 10.34588629,\n",
              "        8.14942385, 10.03900555, 11.14511331, 10.47095418, 10.06738514,\n",
              "        9.98577212, 12.55131359, 12.00228501, 11.83816279, 11.10247757,\n",
              "       11.45638389, 10.87880382,  4.80454537, 10.13676316, 10.13206777,\n",
              "        8.55831996,  9.28222966,  4.50673256, 12.25536122,  9.96671377,\n",
              "       11.91720013,  5.4248372 , 10.15188262, 10.73933244,  8.30217018,\n",
              "        8.99860761,  8.23754982,  9.96158887, 11.04540395, 13.60747634,\n",
              "       10.6960897 ,  9.88605487, 10.04612421,  9.82821916, 10.21411973,\n",
              "       11.22898519, 12.4082351 , 11.56098077,  9.94687759, 11.61317105,\n",
              "        8.81844217,  7.91436046, 11.5381302 , 10.21032233, 11.11592308,\n",
              "        7.70355662, 10.55648411,  7.02632114,  9.16102175,  6.64697174])"
            ]
          },
          "metadata": {},
          "execution_count": 32
        }
      ],
      "source": [
        "rgen.normal(loc=10, scale=2, size=100)"
      ]
    },
    {
      "cell_type": "markdown",
      "metadata": {
        "tags": [],
        "id": "1APPeqVfTom3"
      },
      "source": [
        "## Flattening multi-dimensional arrays\n",
        "We can convert a multi-dimensional array into a flat one-dimensional array using `np.flatten()` or `np.ravel()`"
      ]
    },
    {
      "cell_type": "code",
      "execution_count": 33,
      "metadata": {
        "id": "FuaEimhfTom3",
        "outputId": "fc465fea-18c1-4065-b220-8e78840bc999",
        "colab": {
          "base_uri": "https://localhost:8080/"
        }
      },
      "outputs": [
        {
          "output_type": "execute_result",
          "data": {
            "text/plain": [
              "array([3.   , 3.125, 3.25 , 3.375, 3.5  , 3.625, 3.75 , 3.875, 4.   ,\n",
              "       3.   , 3.125, 3.25 , 3.375, 3.5  , 3.625, 3.75 , 3.875, 4.   ,\n",
              "       3.   , 3.125, 3.25 , 3.375, 3.5  , 3.625, 3.75 , 3.875, 4.   ,\n",
              "       3.   , 3.125, 3.25 , 3.375, 3.5  , 3.625, 3.75 , 3.875, 4.   ,\n",
              "       3.   , 3.125, 3.25 , 3.375, 3.5  , 3.625, 3.75 , 3.875, 4.   ,\n",
              "       3.   , 3.125, 3.25 , 3.375, 3.5  , 3.625, 3.75 , 3.875, 4.   ])"
            ]
          },
          "metadata": {},
          "execution_count": 33
        }
      ],
      "source": [
        "i3d.flatten()"
      ]
    },
    {
      "cell_type": "code",
      "execution_count": 34,
      "metadata": {
        "id": "CXY_4hifTom3",
        "outputId": "24d199d6-8098-4b42-d262-5c89a0537081",
        "colab": {
          "base_uri": "https://localhost:8080/"
        }
      },
      "outputs": [
        {
          "output_type": "execute_result",
          "data": {
            "text/plain": [
              "array([3.   , 3.125, 3.25 , 3.375, 3.5  , 3.625, 3.75 , 3.875, 4.   ,\n",
              "       3.   , 3.125, 3.25 , 3.375, 3.5  , 3.625, 3.75 , 3.875, 4.   ,\n",
              "       3.   , 3.125, 3.25 , 3.375, 3.5  , 3.625, 3.75 , 3.875, 4.   ,\n",
              "       3.   , 3.125, 3.25 , 3.375, 3.5  , 3.625, 3.75 , 3.875, 4.   ,\n",
              "       3.   , 3.125, 3.25 , 3.375, 3.5  , 3.625, 3.75 , 3.875, 4.   ,\n",
              "       3.   , 3.125, 3.25 , 3.375, 3.5  , 3.625, 3.75 , 3.875, 4.   ])"
            ]
          },
          "metadata": {},
          "execution_count": 34
        }
      ],
      "source": [
        "i3d.ravel()"
      ]
    },
    {
      "cell_type": "markdown",
      "metadata": {
        "id": "rjD4u-WeTom4"
      },
      "source": [
        "## Indexing and slicing\n",
        "Let's start with a 2D array (4 rows by 5 columns."
      ]
    },
    {
      "cell_type": "code",
      "execution_count": 35,
      "metadata": {
        "id": "7rpBte2wTom4",
        "outputId": "bf1a766e-47fb-4e38-f8e2-16cc23a57503",
        "colab": {
          "base_uri": "https://localhost:8080/"
        }
      },
      "outputs": [
        {
          "output_type": "stream",
          "name": "stdout",
          "text": [
            "[[ 1  6 11 16 21]\n",
            " [26 31 36 41 46]\n",
            " [51 56 61 66 71]\n",
            " [76 81 86 91 96]]\n"
          ]
        }
      ],
      "source": [
        "a = np.arange(1, 100, 5).reshape(4, 5)\n",
        "print(a)"
      ]
    },
    {
      "cell_type": "code",
      "execution_count": 36,
      "metadata": {
        "id": "ASQwTynpTom4",
        "outputId": "5440cb14-d0cf-4ba9-ec70-f700fc2aa150",
        "colab": {
          "base_uri": "https://localhost:8080/"
        }
      },
      "outputs": [
        {
          "output_type": "execute_result",
          "data": {
            "text/plain": [
              "20"
            ]
          },
          "metadata": {},
          "execution_count": 36
        }
      ],
      "source": [
        "np.arange(1, 100, 5).size"
      ]
    },
    {
      "cell_type": "markdown",
      "metadata": {
        "id": "bklX-jeHTom4"
      },
      "source": [
        "NumPy uses zero-based indexing and gives different ways to index and/or slice arrays. It is important to get familiar and comfortable with the different ways of indexing/slicing these arrays. Let's see a few examples.\n",
        "\n",
        "Here is the first element (row 0 and column 0):"
      ]
    },
    {
      "cell_type": "code",
      "execution_count": 37,
      "metadata": {
        "id": "e2JHonmZTom4",
        "outputId": "9c903595-cd76-4a2d-d472-b261ebdb0190",
        "colab": {
          "base_uri": "https://localhost:8080/"
        }
      },
      "outputs": [
        {
          "output_type": "execute_result",
          "data": {
            "text/plain": [
              "1"
            ]
          },
          "metadata": {},
          "execution_count": 37
        }
      ],
      "source": [
        "a[0,0]"
      ]
    },
    {
      "cell_type": "markdown",
      "metadata": {
        "id": "zkEWcS4aTom5"
      },
      "source": [
        "And the last element (row 3 and column 4):"
      ]
    },
    {
      "cell_type": "code",
      "execution_count": 38,
      "metadata": {
        "id": "9vw-slpATom5",
        "outputId": "a45fceac-a370-4eb1-fd4e-89e48d377e00",
        "colab": {
          "base_uri": "https://localhost:8080/"
        }
      },
      "outputs": [
        {
          "output_type": "execute_result",
          "data": {
            "text/plain": [
              "96"
            ]
          },
          "metadata": {},
          "execution_count": 38
        }
      ],
      "source": [
        "a[3,4]"
      ]
    },
    {
      "cell_type": "markdown",
      "metadata": {
        "id": "fMEmpbbtTom5"
      },
      "source": [
        "The whole first row:"
      ]
    },
    {
      "cell_type": "code",
      "execution_count": 39,
      "metadata": {
        "id": "ebZCYfj0Tom5",
        "outputId": "3d11507f-524c-4d05-fe08-900712779226",
        "colab": {
          "base_uri": "https://localhost:8080/"
        }
      },
      "outputs": [
        {
          "output_type": "execute_result",
          "data": {
            "text/plain": [
              "array([ 1,  6, 11, 16, 21])"
            ]
          },
          "metadata": {},
          "execution_count": 39
        }
      ],
      "source": [
        "a[0,:]"
      ]
    },
    {
      "cell_type": "markdown",
      "metadata": {
        "id": "Tsk0oIsOTom5"
      },
      "source": [
        "And the last row:"
      ]
    },
    {
      "cell_type": "code",
      "execution_count": 40,
      "metadata": {
        "id": "vJCIvik5Tom5",
        "outputId": "9ad3928e-ff0c-4eef-ff13-0ab24b47fbcf",
        "colab": {
          "base_uri": "https://localhost:8080/"
        }
      },
      "outputs": [
        {
          "output_type": "execute_result",
          "data": {
            "text/plain": [
              "array([76, 81, 86, 91, 96])"
            ]
          },
          "metadata": {},
          "execution_count": 40
        }
      ],
      "source": [
        "a[3,:]"
      ]
    },
    {
      "cell_type": "markdown",
      "metadata": {
        "id": "XX7lWcZETom6"
      },
      "source": [
        "Here are the first three rows:"
      ]
    },
    {
      "cell_type": "code",
      "execution_count": 41,
      "metadata": {
        "id": "uNywzHxpTom6",
        "outputId": "998d0d94-574e-4bf9-dd2e-2c1a373102cf",
        "colab": {
          "base_uri": "https://localhost:8080/"
        }
      },
      "outputs": [
        {
          "output_type": "execute_result",
          "data": {
            "text/plain": [
              "array([[ 1,  6, 11, 16, 21],\n",
              "       [26, 31, 36, 41, 46],\n",
              "       [51, 56, 61, 66, 71]])"
            ]
          },
          "metadata": {},
          "execution_count": 41
        }
      ],
      "source": [
        "a[:3, :]"
      ]
    },
    {
      "cell_type": "markdown",
      "metadata": {
        "id": "U9dkGURhTom6"
      },
      "source": [
        "And the last two rows:"
      ]
    },
    {
      "cell_type": "code",
      "execution_count": 42,
      "metadata": {
        "id": "S3_b4R5cTom6",
        "outputId": "26aecfd6-278a-47cf-e2be-06ebf40a22e2",
        "colab": {
          "base_uri": "https://localhost:8080/"
        }
      },
      "outputs": [
        {
          "output_type": "execute_result",
          "data": {
            "text/plain": [
              "array([[51, 56, 61, 66, 71],\n",
              "       [76, 81, 86, 91, 96]])"
            ]
          },
          "metadata": {},
          "execution_count": 42
        }
      ],
      "source": [
        "a[2:, :]"
      ]
    },
    {
      "cell_type": "markdown",
      "metadata": {
        "id": "HuI2Pj1FTom6"
      },
      "source": [
        "Here are second and last rows - starting at row 1 and ending at row 4 (exclusive), with a step of 2."
      ]
    },
    {
      "cell_type": "code",
      "execution_count": 43,
      "metadata": {
        "id": "hDej5lrSTom6",
        "outputId": "3a903fdf-4e40-44c6-813e-4f5646766cf8",
        "colab": {
          "base_uri": "https://localhost:8080/"
        }
      },
      "outputs": [
        {
          "output_type": "execute_result",
          "data": {
            "text/plain": [
              "array([[26, 31, 36, 41, 46],\n",
              "       [76, 81, 86, 91, 96]])"
            ]
          },
          "metadata": {},
          "execution_count": 43
        }
      ],
      "source": [
        "a[1:4:2,:]"
      ]
    },
    {
      "cell_type": "markdown",
      "metadata": {
        "id": "XjaBf7nhTom7"
      },
      "source": [
        "Here is the first column:"
      ]
    },
    {
      "cell_type": "code",
      "execution_count": 44,
      "metadata": {
        "id": "fSFyYrKmTom7",
        "outputId": "314a9df8-0b96-4879-e7bb-0852a098638b",
        "colab": {
          "base_uri": "https://localhost:8080/"
        }
      },
      "outputs": [
        {
          "output_type": "execute_result",
          "data": {
            "text/plain": [
              "array([ 1, 26, 51, 76])"
            ]
          },
          "metadata": {},
          "execution_count": 44
        }
      ],
      "source": [
        "a[:,0]"
      ]
    },
    {
      "cell_type": "markdown",
      "metadata": {
        "id": "ZLXO7LX1Tom7"
      },
      "source": [
        "And the second column:"
      ]
    },
    {
      "cell_type": "code",
      "execution_count": 45,
      "metadata": {
        "id": "AG4qQpyWTom7",
        "outputId": "b4a766c6-3c00-45b1-baf0-fcedf7633e2e",
        "colab": {
          "base_uri": "https://localhost:8080/"
        }
      },
      "outputs": [
        {
          "output_type": "execute_result",
          "data": {
            "text/plain": [
              "array([ 6, 31, 56, 81])"
            ]
          },
          "metadata": {},
          "execution_count": 45
        }
      ],
      "source": [
        " a[:,1]"
      ]
    },
    {
      "cell_type": "markdown",
      "metadata": {
        "id": "p2-jTnepTom7"
      },
      "source": [
        "And the last column:"
      ]
    },
    {
      "cell_type": "code",
      "execution_count": 46,
      "metadata": {
        "id": "fjIs8BiFTom7",
        "outputId": "e0477f0f-6da9-4949-b499-4d71f1f94876",
        "colab": {
          "base_uri": "https://localhost:8080/"
        }
      },
      "outputs": [
        {
          "output_type": "execute_result",
          "data": {
            "text/plain": [
              "array([21, 46, 71, 96])"
            ]
          },
          "metadata": {},
          "execution_count": 46
        }
      ],
      "source": [
        "a[:,4]"
      ]
    },
    {
      "cell_type": "markdown",
      "metadata": {
        "id": "-PRWF7reTom7"
      },
      "source": [
        "Here are the first and last columns - starting at column 0 and ending at column 5 (exclusive) with a step of 4."
      ]
    },
    {
      "cell_type": "code",
      "execution_count": 47,
      "metadata": {
        "tags": [],
        "id": "DuyJ9siUTom7",
        "outputId": "2f712956-5e9c-4c4e-ae7c-f5966b7e18b8",
        "colab": {
          "base_uri": "https://localhost:8080/"
        }
      },
      "outputs": [
        {
          "output_type": "execute_result",
          "data": {
            "text/plain": [
              "array([[ 1, 21],\n",
              "       [26, 46],\n",
              "       [51, 71],\n",
              "       [76, 96]])"
            ]
          },
          "metadata": {},
          "execution_count": 47
        }
      ],
      "source": [
        "a[:,0:5:4]"
      ]
    },
    {
      "cell_type": "markdown",
      "metadata": {
        "id": "ovx1wde1Tom8"
      },
      "source": [
        "Here are all the columns except the first two:"
      ]
    },
    {
      "cell_type": "code",
      "execution_count": 48,
      "metadata": {
        "id": "T5YLNCD1Tom8",
        "outputId": "96ca911c-16e9-45f0-c46c-99c588572c4d",
        "colab": {
          "base_uri": "https://localhost:8080/"
        }
      },
      "outputs": [
        {
          "output_type": "execute_result",
          "data": {
            "text/plain": [
              "array([[11, 16, 21],\n",
              "       [36, 41, 46],\n",
              "       [61, 66, 71],\n",
              "       [86, 91, 96]])"
            ]
          },
          "metadata": {},
          "execution_count": 48
        }
      ],
      "source": [
        "a[:, 2:]"
      ]
    },
    {
      "cell_type": "markdown",
      "metadata": {
        "id": "O3Ch034iTom8"
      },
      "source": [
        "And all the columns except the last three:"
      ]
    },
    {
      "cell_type": "code",
      "execution_count": 49,
      "metadata": {
        "id": "MAkiqdIVTom8",
        "outputId": "4e7225bf-9549-4a11-9b33-71f591dff1b0",
        "colab": {
          "base_uri": "https://localhost:8080/"
        }
      },
      "outputs": [
        {
          "output_type": "execute_result",
          "data": {
            "text/plain": [
              "array([[ 1,  6],\n",
              "       [26, 31],\n",
              "       [51, 56],\n",
              "       [76, 81]])"
            ]
          },
          "metadata": {},
          "execution_count": 49
        }
      ],
      "source": [
        "a[:, :2]"
      ]
    },
    {
      "cell_type": "markdown",
      "metadata": {
        "id": "q49eKGg5Tom8"
      },
      "source": [
        "Here is the whole array:"
      ]
    },
    {
      "cell_type": "code",
      "execution_count": 50,
      "metadata": {
        "id": "BfIh9CtcTom8",
        "outputId": "35f85662-3a87-4120-83fb-e5a52862d747",
        "colab": {
          "base_uri": "https://localhost:8080/"
        }
      },
      "outputs": [
        {
          "output_type": "execute_result",
          "data": {
            "text/plain": [
              "array([[ 1,  6, 11, 16, 21],\n",
              "       [26, 31, 36, 41, 46],\n",
              "       [51, 56, 61, 66, 71],\n",
              "       [76, 81, 86, 91, 96]])"
            ]
          },
          "metadata": {},
          "execution_count": 50
        }
      ],
      "source": [
        "a"
      ]
    },
    {
      "cell_type": "code",
      "execution_count": 51,
      "metadata": {
        "id": "XozEQd8JTom9",
        "outputId": "bff833cc-24ae-41d1-a4ce-0f4da7219f1b",
        "colab": {
          "base_uri": "https://localhost:8080/"
        }
      },
      "outputs": [
        {
          "output_type": "execute_result",
          "data": {
            "text/plain": [
              "array([[ 1,  6, 11, 16, 21],\n",
              "       [26, 31, 36, 41, 46],\n",
              "       [51, 56, 61, 66, 71],\n",
              "       [76, 81, 86, 91, 96]])"
            ]
          },
          "metadata": {},
          "execution_count": 51
        }
      ],
      "source": [
        "a[:,:]"
      ]
    },
    {
      "cell_type": "code",
      "execution_count": 52,
      "metadata": {
        "id": "VJn6RdWqTom9",
        "outputId": "462162fd-bd8f-4b7c-c7b6-744eb78b47df",
        "colab": {
          "base_uri": "https://localhost:8080/"
        }
      },
      "outputs": [
        {
          "output_type": "execute_result",
          "data": {
            "text/plain": [
              "array([[ 1,  6, 11, 16, 21],\n",
              "       [26, 31, 36, 41, 46],\n",
              "       [51, 56, 61, 66, 71],\n",
              "       [76, 81, 86, 91, 96]])"
            ]
          },
          "metadata": {},
          "execution_count": 52
        }
      ],
      "source": [
        "a[::,::]"
      ]
    },
    {
      "cell_type": "markdown",
      "metadata": {
        "id": "DIZNmNWPTom9"
      },
      "source": [
        "Here are the middle three columns of the middle two rows:"
      ]
    },
    {
      "cell_type": "code",
      "execution_count": 53,
      "metadata": {
        "id": "lAA1xXKmTom9",
        "outputId": "2a2d3b4c-1252-4874-f2b3-71b58d3ce453",
        "colab": {
          "base_uri": "https://localhost:8080/"
        }
      },
      "outputs": [
        {
          "output_type": "execute_result",
          "data": {
            "text/plain": [
              "array([[31, 36, 41],\n",
              "       [56, 61, 66]])"
            ]
          },
          "metadata": {},
          "execution_count": 53
        }
      ],
      "source": [
        "a[1:3:1, 1:4:1]"
      ]
    },
    {
      "cell_type": "markdown",
      "metadata": {
        "id": "DLZpdW4ATom9"
      },
      "source": [
        "## Indexing using conditional expressions\n",
        "We can also use boolean array expressions to select array elements where those expressions hold. For example, here are all the odd elements in `a`:"
      ]
    },
    {
      "cell_type": "code",
      "execution_count": 54,
      "metadata": {
        "tags": [],
        "id": "8g1YDgx4Tom-",
        "outputId": "00f5e878-4137-4c7b-9980-a9cd4dde489c",
        "colab": {
          "base_uri": "https://localhost:8080/"
        }
      },
      "outputs": [
        {
          "output_type": "execute_result",
          "data": {
            "text/plain": [
              "array([ 1, 11, 21, 31, 41, 51, 61, 71, 81, 91])"
            ]
          },
          "metadata": {},
          "execution_count": 54
        }
      ],
      "source": [
        "a[a % 2 != 0]"
      ]
    },
    {
      "cell_type": "markdown",
      "metadata": {
        "id": "pQ9E8q9vTom-"
      },
      "source": [
        "And here are only the elements that are < 50:"
      ]
    },
    {
      "cell_type": "code",
      "execution_count": 55,
      "metadata": {
        "id": "EPtuiUEGTom_",
        "outputId": "b8ed4253-1683-4a40-a6f0-ba5cfc8ee9d7",
        "colab": {
          "base_uri": "https://localhost:8080/"
        }
      },
      "outputs": [
        {
          "output_type": "execute_result",
          "data": {
            "text/plain": [
              "array([ 1,  6, 11, 16, 21, 26, 31, 36, 41, 46])"
            ]
          },
          "metadata": {},
          "execution_count": 55
        }
      ],
      "source": [
        "a[a < 50]"
      ]
    },
    {
      "cell_type": "markdown",
      "metadata": {
        "id": "LbSUFblbTom_"
      },
      "source": [
        "We can use these boolean expressions with the `np.where` to return arrays with certain properties. For example, the following keeps the odd numbers and zeros out (the last argument is 0) all the even elements in the array `a`"
      ]
    },
    {
      "cell_type": "code",
      "execution_count": 56,
      "metadata": {
        "id": "Whzbpx2ATom_",
        "outputId": "f8b3153f-5268-474e-f960-15b7a3cd4d37",
        "colab": {
          "base_uri": "https://localhost:8080/"
        }
      },
      "outputs": [
        {
          "output_type": "execute_result",
          "data": {
            "text/plain": [
              "array([[ 1,  0, 11,  0, 21],\n",
              "       [ 0, 31,  0, 41,  0],\n",
              "       [51,  0, 61,  0, 71],\n",
              "       [ 0, 81,  0, 91,  0]])"
            ]
          },
          "metadata": {},
          "execution_count": 56
        }
      ],
      "source": [
        "np.where(a % 2 != 0, a, 0)"
      ]
    },
    {
      "cell_type": "markdown",
      "metadata": {
        "id": "2Uc7yRfETom_"
      },
      "source": [
        "Compare that to the following with the last two arguments are reversed. This reverses the logic and the elements where the conditions hold are zeroed out."
      ]
    },
    {
      "cell_type": "code",
      "execution_count": 57,
      "metadata": {
        "id": "a8HkoMeITonA",
        "outputId": "f41ba8f3-b629-4668-e561-c55c7630692e",
        "colab": {
          "base_uri": "https://localhost:8080/"
        }
      },
      "outputs": [
        {
          "output_type": "execute_result",
          "data": {
            "text/plain": [
              "array([[ 0,  6,  0, 16,  0],\n",
              "       [26,  0, 36,  0, 46],\n",
              "       [ 0, 56,  0, 66,  0],\n",
              "       [76,  0, 86,  0, 96]])"
            ]
          },
          "metadata": {},
          "execution_count": 57
        }
      ],
      "source": [
        "np.where(a % 2 != 0, 0, a)"
      ]
    },
    {
      "cell_type": "markdown",
      "metadata": {
        "id": "n1Uj_Qe7TonA"
      },
      "source": [
        "Similarly, the following statement returns an array where any element with a value between 11 and 60 is replaced with -1 (the :"
      ]
    },
    {
      "cell_type": "code",
      "execution_count": 58,
      "metadata": {
        "id": "vPFaUkQ5TonA",
        "outputId": "ca92b592-3908-4413-ab76-017954ec683f",
        "colab": {
          "base_uri": "https://localhost:8080/"
        }
      },
      "outputs": [
        {
          "output_type": "execute_result",
          "data": {
            "text/plain": [
              "array([[ 1,  6, -1, -1, -1],\n",
              "       [-1, -1, -1, -1, -1],\n",
              "       [-1, -1, 61, 66, 71],\n",
              "       [76, 81, 86, 91, 96]])"
            ]
          },
          "metadata": {},
          "execution_count": 58
        }
      ],
      "source": [
        "np.where(np.logical_and(a >= 11, a <= 60), -1, a)"
      ]
    },
    {
      "cell_type": "markdown",
      "metadata": {
        "id": "qvfSK7sQTonA"
      },
      "source": [
        "The following reverses the logic."
      ]
    },
    {
      "cell_type": "code",
      "execution_count": 59,
      "metadata": {
        "id": "Zpp_RXs7TonA",
        "outputId": "d4edee22-807a-4f9e-bbc3-4ed3bafe9209",
        "colab": {
          "base_uri": "https://localhost:8080/"
        }
      },
      "outputs": [
        {
          "output_type": "execute_result",
          "data": {
            "text/plain": [
              "array([[-1, -1, 11, 16, 21],\n",
              "       [26, 31, 36, 41, 46],\n",
              "       [51, 56, -1, -1, -1],\n",
              "       [-1, -1, -1, -1, -1]])"
            ]
          },
          "metadata": {},
          "execution_count": 59
        }
      ],
      "source": [
        "np.where(np.logical_and(a >= 11, a <= 60), a, -1)"
      ]
    },
    {
      "cell_type": "markdown",
      "metadata": {
        "id": "G9G8xbocTonB"
      },
      "source": [
        "## Using fancy indexing\n",
        "We can slice an array using an array of indexes. This is called **fancy indexing**. Given the array:"
      ]
    },
    {
      "cell_type": "code",
      "execution_count": 60,
      "metadata": {
        "id": "ZEQvqvDkTonB",
        "outputId": "6b7fa0dd-2eaf-422f-81ba-a240a12cfeb6",
        "colab": {
          "base_uri": "https://localhost:8080/"
        }
      },
      "outputs": [
        {
          "output_type": "stream",
          "name": "stdout",
          "text": [
            "[[ 1  2  3]\n",
            " [ 4  5  6]\n",
            " [ 7  8  9]\n",
            " [10 11 12]\n",
            " [13 14 15]\n",
            " [16 17 18]\n",
            " [19 20 21]\n",
            " [22 23 24]\n",
            " [25 26 27]\n",
            " [28 29 30]\n",
            " [31 32 33]\n",
            " [34 35 36]\n",
            " [37 38 39]\n",
            " [40 41 42]\n",
            " [43 44 45]\n",
            " [46 47 48]\n",
            " [49 50 51]\n",
            " [52 53 54]\n",
            " [55 56 57]\n",
            " [58 59 60]\n",
            " [61 62 63]\n",
            " [64 65 66]\n",
            " [67 68 69]\n",
            " [70 71 72]\n",
            " [73 74 75]\n",
            " [76 77 78]\n",
            " [79 80 81]\n",
            " [82 83 84]\n",
            " [85 86 87]\n",
            " [88 89 90]\n",
            " [91 92 93]\n",
            " [94 95 96]\n",
            " [97 98 99]]\n"
          ]
        }
      ],
      "source": [
        "a = np.arange(1, 100).reshape(33, 3)\n",
        "\n",
        "print(a)"
      ]
    },
    {
      "cell_type": "markdown",
      "metadata": {
        "id": "l54Vm_fHTonB"
      },
      "source": [
        "Here is an array containing first, third and tenth rows of `a`:"
      ]
    },
    {
      "cell_type": "code",
      "execution_count": 61,
      "metadata": {
        "id": "ZTXeOjbaTonB",
        "outputId": "77b7106d-fbb1-4222-c87f-5fccfef43947",
        "colab": {
          "base_uri": "https://localhost:8080/"
        }
      },
      "outputs": [
        {
          "output_type": "execute_result",
          "data": {
            "text/plain": [
              "array([[ 1,  2,  3],\n",
              "       [ 7,  8,  9],\n",
              "       [28, 29, 30]])"
            ]
          },
          "metadata": {},
          "execution_count": 61
        }
      ],
      "source": [
        "a[[0, 2, 9]]"
      ]
    },
    {
      "cell_type": "markdown",
      "metadata": {
        "id": "tJxlZMWnTonB"
      },
      "source": [
        "And here is an array containing the odd rows only of `a`:"
      ]
    },
    {
      "cell_type": "code",
      "execution_count": 62,
      "metadata": {
        "id": "7wg3CPmDTonB",
        "outputId": "0a847a83-76c0-4bcc-b7cc-f2cf23703ff7",
        "colab": {
          "base_uri": "https://localhost:8080/"
        }
      },
      "outputs": [
        {
          "output_type": "execute_result",
          "data": {
            "text/plain": [
              "array([[ 4,  5,  6],\n",
              "       [10, 11, 12],\n",
              "       [16, 17, 18],\n",
              "       [22, 23, 24],\n",
              "       [28, 29, 30],\n",
              "       [34, 35, 36],\n",
              "       [40, 41, 42],\n",
              "       [46, 47, 48],\n",
              "       [52, 53, 54],\n",
              "       [58, 59, 60],\n",
              "       [64, 65, 66],\n",
              "       [70, 71, 72],\n",
              "       [76, 77, 78],\n",
              "       [82, 83, 84],\n",
              "       [88, 89, 90],\n",
              "       [94, 95, 96]])"
            ]
          },
          "metadata": {},
          "execution_count": 62
        }
      ],
      "source": [
        "a[np.arange(1,33, 2)]"
      ]
    },
    {
      "cell_type": "markdown",
      "metadata": {
        "tags": [],
        "id": "agfAp06fTonB"
      },
      "source": [
        "## Using fancy indexing to shuffle a dataset\n",
        "\n",
        "The above `a` array has the following shape"
      ]
    },
    {
      "cell_type": "code",
      "execution_count": 63,
      "metadata": {
        "id": "USLnf4XRTonC",
        "outputId": "e6bc20b6-5527-46ab-f389-5101f077f8b5",
        "colab": {
          "base_uri": "https://localhost:8080/"
        }
      },
      "outputs": [
        {
          "output_type": "execute_result",
          "data": {
            "text/plain": [
              "(33, 3)"
            ]
          },
          "metadata": {},
          "execution_count": 63
        }
      ],
      "source": [
        "a.shape"
      ]
    },
    {
      "cell_type": "markdown",
      "metadata": {
        "tags": [],
        "id": "qNMMXwBDTonC"
      },
      "source": [
        "which means 33 rows and 3 columns. Let's shuffle these rows by first generating an array of 33 valid inedexes:"
      ]
    },
    {
      "cell_type": "code",
      "execution_count": 64,
      "metadata": {
        "id": "sWT4tth0TonC",
        "outputId": "0a0033e3-c852-4663-d30d-3ef37f4e7ae6",
        "colab": {
          "base_uri": "https://localhost:8080/"
        }
      },
      "outputs": [
        {
          "output_type": "execute_result",
          "data": {
            "text/plain": [
              "array([ 0,  1,  2,  3,  4,  5,  6,  7,  8,  9, 10, 11, 12, 13, 14, 15, 16,\n",
              "       17, 18, 19, 20, 21, 22, 23, 24, 25, 26, 27, 28, 29, 30, 31, 32])"
            ]
          },
          "metadata": {},
          "execution_count": 64
        }
      ],
      "source": [
        "indexes = np.arange(len(a))\n",
        "indexes"
      ]
    },
    {
      "cell_type": "markdown",
      "metadata": {
        "id": "qBajJ9zlTonC"
      },
      "source": [
        "Let's suffle these indexes:"
      ]
    },
    {
      "cell_type": "code",
      "execution_count": 65,
      "metadata": {
        "id": "lSUtUQ4RTonC",
        "outputId": "9ae4cf33-f228-48ef-8ab3-051f71717dcc",
        "colab": {
          "base_uri": "https://localhost:8080/"
        }
      },
      "outputs": [
        {
          "output_type": "execute_result",
          "data": {
            "text/plain": [
              "array([ 8, 12, 22,  0, 23, 20, 14, 13,  3,  7, 21, 25, 32, 27,  2, 19, 30,\n",
              "       15, 24,  1,  9, 28,  5, 11,  4, 31, 18, 16, 17,  6, 10, 29, 26])"
            ]
          },
          "metadata": {},
          "execution_count": 65
        }
      ],
      "source": [
        "np.random.shuffle(indexes)\n",
        "indexes"
      ]
    },
    {
      "cell_type": "markdown",
      "metadata": {
        "id": "7ZikGo3RTonC"
      },
      "source": [
        "We can reduce the above two steps for generating and shuffling indexes into one step like this:"
      ]
    },
    {
      "cell_type": "code",
      "execution_count": 66,
      "metadata": {
        "id": "rzzFbGXoTonC",
        "outputId": "ba95af6d-5ec9-425f-a58c-5dc7953d8548",
        "colab": {
          "base_uri": "https://localhost:8080/"
        }
      },
      "outputs": [
        {
          "output_type": "execute_result",
          "data": {
            "text/plain": [
              "array([17,  3, 19, 12,  5, 13, 22,  2, 14, 25, 26, 31, 21, 18, 10, 32, 27,\n",
              "        7, 16,  6,  0,  4, 23, 30, 24, 11, 29,  9,  1,  8, 28, 20, 15])"
            ]
          },
          "metadata": {},
          "execution_count": 66
        }
      ],
      "source": [
        "indexes = np.random.permutation(len(a))\n",
        "indexes"
      ]
    },
    {
      "cell_type": "markdown",
      "metadata": {
        "id": "TQtS_HwJTonC"
      },
      "source": [
        "We finally use fancy indexing to shuffle the rows of the `a` array:"
      ]
    },
    {
      "cell_type": "code",
      "execution_count": 67,
      "metadata": {
        "id": "_HbS2fV-TonD",
        "outputId": "a550abae-b9e7-479b-d861-f329ac0f103f",
        "colab": {
          "base_uri": "https://localhost:8080/"
        }
      },
      "outputs": [
        {
          "output_type": "execute_result",
          "data": {
            "text/plain": [
              "array([[52, 53, 54],\n",
              "       [10, 11, 12],\n",
              "       [58, 59, 60],\n",
              "       [37, 38, 39],\n",
              "       [16, 17, 18],\n",
              "       [40, 41, 42],\n",
              "       [67, 68, 69],\n",
              "       [ 7,  8,  9],\n",
              "       [43, 44, 45],\n",
              "       [76, 77, 78],\n",
              "       [79, 80, 81],\n",
              "       [94, 95, 96],\n",
              "       [64, 65, 66],\n",
              "       [55, 56, 57],\n",
              "       [31, 32, 33],\n",
              "       [97, 98, 99],\n",
              "       [82, 83, 84],\n",
              "       [22, 23, 24],\n",
              "       [49, 50, 51],\n",
              "       [19, 20, 21],\n",
              "       [ 1,  2,  3],\n",
              "       [13, 14, 15],\n",
              "       [70, 71, 72],\n",
              "       [91, 92, 93],\n",
              "       [73, 74, 75],\n",
              "       [34, 35, 36],\n",
              "       [88, 89, 90],\n",
              "       [28, 29, 30],\n",
              "       [ 4,  5,  6],\n",
              "       [25, 26, 27],\n",
              "       [85, 86, 87],\n",
              "       [61, 62, 63],\n",
              "       [46, 47, 48]])"
            ]
          },
          "metadata": {},
          "execution_count": 67
        }
      ],
      "source": [
        "new_a = a[indexes]\n",
        "new_a"
      ]
    },
    {
      "cell_type": "markdown",
      "metadata": {
        "id": "qoan6O7WTonD"
      },
      "source": [
        "## Splitting an array into two sets\n",
        "\n",
        "A common task in machine learning is to split a given dataset into two or three sets. To see how that is done, we'll split the array we just shuffled in 70/30 way. First we calculate the index at which we will be splitting:"
      ]
    },
    {
      "cell_type": "code",
      "execution_count": 68,
      "metadata": {
        "id": "2PKdj6XKTonD"
      },
      "outputs": [],
      "source": [
        "split_ndx = int(.7 * len(new_a))"
      ]
    },
    {
      "cell_type": "markdown",
      "metadata": {
        "id": "Ur4M8D6cTonD"
      },
      "source": [
        "Here is the split with the 70% of the records:"
      ]
    },
    {
      "cell_type": "code",
      "execution_count": 69,
      "metadata": {
        "id": "8ID4W2joTonD",
        "outputId": "225c90d9-b506-40c2-9505-fee9de4d6094",
        "colab": {
          "base_uri": "https://localhost:8080/"
        }
      },
      "outputs": [
        {
          "output_type": "execute_result",
          "data": {
            "text/plain": [
              "array([[52, 53, 54],\n",
              "       [10, 11, 12],\n",
              "       [58, 59, 60],\n",
              "       [37, 38, 39],\n",
              "       [16, 17, 18],\n",
              "       [40, 41, 42],\n",
              "       [67, 68, 69],\n",
              "       [ 7,  8,  9],\n",
              "       [43, 44, 45],\n",
              "       [76, 77, 78],\n",
              "       [79, 80, 81],\n",
              "       [94, 95, 96],\n",
              "       [64, 65, 66],\n",
              "       [55, 56, 57],\n",
              "       [31, 32, 33],\n",
              "       [97, 98, 99],\n",
              "       [82, 83, 84],\n",
              "       [22, 23, 24],\n",
              "       [49, 50, 51],\n",
              "       [19, 20, 21],\n",
              "       [ 1,  2,  3],\n",
              "       [13, 14, 15],\n",
              "       [70, 71, 72]])"
            ]
          },
          "metadata": {},
          "execution_count": 69
        }
      ],
      "source": [
        "new_a[0:split_ndx, :]"
      ]
    },
    {
      "cell_type": "markdown",
      "metadata": {
        "id": "wjzh2r8bTonD"
      },
      "source": [
        "And here is the other 30% split:"
      ]
    },
    {
      "cell_type": "code",
      "execution_count": 70,
      "metadata": {
        "tags": [],
        "id": "IwAUeChyTonD",
        "outputId": "d94f5387-8a26-4d0c-8b3c-4d7cd2408d51",
        "colab": {
          "base_uri": "https://localhost:8080/"
        }
      },
      "outputs": [
        {
          "output_type": "execute_result",
          "data": {
            "text/plain": [
              "array([[91, 92, 93],\n",
              "       [73, 74, 75],\n",
              "       [34, 35, 36],\n",
              "       [88, 89, 90],\n",
              "       [28, 29, 30],\n",
              "       [ 4,  5,  6],\n",
              "       [25, 26, 27],\n",
              "       [85, 86, 87],\n",
              "       [61, 62, 63],\n",
              "       [46, 47, 48]])"
            ]
          },
          "metadata": {},
          "execution_count": 70
        }
      ],
      "source": [
        "new_a[split_ndx:, :]"
      ]
    },
    {
      "cell_type": "markdown",
      "metadata": {
        "id": "lUaqCdu9TonE"
      },
      "source": [
        "## Sorting arrays and getting their unique values\n",
        "\n",
        "Having an array such as the following:"
      ]
    },
    {
      "cell_type": "code",
      "execution_count": 71,
      "metadata": {
        "id": "vL8orFCKTonE",
        "outputId": "7fee6ef9-b2c9-4614-95af-53b3ea77d1d9",
        "colab": {
          "base_uri": "https://localhost:8080/"
        }
      },
      "outputs": [
        {
          "output_type": "execute_result",
          "data": {
            "text/plain": [
              "array([1, 7, 8, 5, 4, 8, 9, 7, 9, 8, 2, 8, 5, 4, 3, 3, 3, 8, 6, 7])"
            ]
          },
          "metadata": {},
          "execution_count": 71
        }
      ],
      "source": [
        "dat = np.random.randint(1,11, 20)\n",
        "dat"
      ]
    },
    {
      "cell_type": "markdown",
      "metadata": {
        "id": "YA2Fvnd7TonE"
      },
      "source": [
        "We can sort this array in-place like this:"
      ]
    },
    {
      "cell_type": "code",
      "execution_count": 72,
      "metadata": {
        "id": "yggUtsd2TonE",
        "outputId": "63f62752-482e-4371-c084-5a0c51003c69",
        "colab": {
          "base_uri": "https://localhost:8080/"
        }
      },
      "outputs": [
        {
          "output_type": "execute_result",
          "data": {
            "text/plain": [
              "array([1, 2, 3, 3, 3, 4, 4, 5, 5, 6, 7, 7, 7, 8, 8, 8, 8, 8, 9, 9])"
            ]
          },
          "metadata": {},
          "execution_count": 72
        }
      ],
      "source": [
        "dat.sort()\n",
        "dat"
      ]
    },
    {
      "cell_type": "markdown",
      "metadata": {
        "id": "-KFOXDA4TonE"
      },
      "source": [
        "And to get the unique values that make up this array, we write:"
      ]
    },
    {
      "cell_type": "code",
      "execution_count": 73,
      "metadata": {
        "id": "AevWBXBZTonF",
        "outputId": "7c63de17-b93c-4d9e-ad9c-99ba85f2501f",
        "colab": {
          "base_uri": "https://localhost:8080/"
        }
      },
      "outputs": [
        {
          "output_type": "execute_result",
          "data": {
            "text/plain": [
              "array([1, 2, 3, 4, 5, 6, 7, 8, 9])"
            ]
          },
          "metadata": {},
          "execution_count": 73
        }
      ],
      "source": [
        "np.unique(dat)"
      ]
    },
    {
      "cell_type": "markdown",
      "metadata": {
        "tags": [],
        "id": "aLY1XuLNTonF"
      },
      "source": [
        "To get the frequency of each value, we call the `np.unique` function with the `return_counts=`."
      ]
    },
    {
      "cell_type": "code",
      "execution_count": 74,
      "metadata": {
        "id": "q5Wym9AMTonF",
        "outputId": "8ccc44de-84e1-4531-ddb3-6f7cdd824108",
        "colab": {
          "base_uri": "https://localhost:8080/"
        }
      },
      "outputs": [
        {
          "output_type": "execute_result",
          "data": {
            "text/plain": [
              "(array([1, 2, 3, 4, 5, 6, 7, 8, 9]), array([1, 1, 3, 2, 2, 1, 3, 5, 2]))"
            ]
          },
          "metadata": {},
          "execution_count": 74
        }
      ],
      "source": [
        "unique_values, counts = np.unique(dat, return_counts=True)\n",
        "unique_values, counts"
      ]
    },
    {
      "cell_type": "markdown",
      "metadata": {
        "id": "-JVG4bzZTonF"
      },
      "source": [
        "Let's display each value alogside its count:"
      ]
    },
    {
      "cell_type": "code",
      "execution_count": 75,
      "metadata": {
        "id": "Q0LzEm9FTonG",
        "outputId": "9e355c3e-7ff8-49c4-8bb4-1371f6f2ac41",
        "colab": {
          "base_uri": "https://localhost:8080/"
        }
      },
      "outputs": [
        {
          "output_type": "execute_result",
          "data": {
            "text/plain": [
              "array([[1, 1],\n",
              "       [2, 1],\n",
              "       [3, 3],\n",
              "       [4, 2],\n",
              "       [5, 2],\n",
              "       [6, 1],\n",
              "       [7, 3],\n",
              "       [8, 5],\n",
              "       [9, 2]])"
            ]
          },
          "metadata": {},
          "execution_count": 75
        }
      ],
      "source": [
        "np.asarray((unique_values, counts)).T"
      ]
    },
    {
      "cell_type": "markdown",
      "metadata": {
        "id": "gJKE6q4mTonG"
      },
      "source": [
        "## Concatenating arrays along an axis\n",
        "We can take two arrays and concatenate them along an axis. For example, given the following 2D arrays:"
      ]
    },
    {
      "cell_type": "code",
      "execution_count": 76,
      "metadata": {
        "id": "qECw1lHITonG",
        "outputId": "f0d516ec-c7a9-4d4b-99d2-c278a537787f",
        "colab": {
          "base_uri": "https://localhost:8080/"
        }
      },
      "outputs": [
        {
          "output_type": "execute_result",
          "data": {
            "text/plain": [
              "(array([[3, 7, 7],\n",
              "        [2, 9, 8],\n",
              "        [6, 7, 9]]),\n",
              " array([[11, 18, 11],\n",
              "        [18, 19, 13],\n",
              "        [15, 13, 19]]))"
            ]
          },
          "metadata": {},
          "execution_count": 76
        }
      ],
      "source": [
        "A = np.random.randint(1, 10, size=(3,3))\n",
        "B = np.random.randint(11, 20, size=(3,3))\n",
        "A, B"
      ]
    },
    {
      "cell_type": "markdown",
      "metadata": {
        "id": "uL0Py7dbTonG"
      },
      "source": [
        "Here is the concatenation of `A` and `B` along the row axis (axis = 0: adding new rows)"
      ]
    },
    {
      "cell_type": "code",
      "execution_count": 77,
      "metadata": {
        "tags": [],
        "id": "8uFpvrtTTonH",
        "outputId": "ccfa8e4b-cd61-49c1-995d-2dcc23838963",
        "colab": {
          "base_uri": "https://localhost:8080/"
        }
      },
      "outputs": [
        {
          "output_type": "execute_result",
          "data": {
            "text/plain": [
              "array([[ 3,  7,  7],\n",
              "       [ 2,  9,  8],\n",
              "       [ 6,  7,  9],\n",
              "       [11, 18, 11],\n",
              "       [18, 19, 13],\n",
              "       [15, 13, 19]])"
            ]
          },
          "metadata": {},
          "execution_count": 77
        }
      ],
      "source": [
        "np.concatenate([A, B], axis=0)"
      ]
    },
    {
      "cell_type": "markdown",
      "metadata": {
        "id": "iY2RRRmCTonH"
      },
      "source": [
        "And here is the concatenation of `A` and `B` along the column axis (axis = 1: adding new columns)"
      ]
    },
    {
      "cell_type": "code",
      "execution_count": 78,
      "metadata": {
        "id": "s1VVlKVUTonH",
        "outputId": "ba51941d-6015-4514-a5f5-bb773e58df81",
        "colab": {
          "base_uri": "https://localhost:8080/"
        }
      },
      "outputs": [
        {
          "output_type": "execute_result",
          "data": {
            "text/plain": [
              "array([[ 3,  7,  7, 11, 18, 11],\n",
              "       [ 2,  9,  8, 18, 19, 13],\n",
              "       [ 6,  7,  9, 15, 13, 19]])"
            ]
          },
          "metadata": {},
          "execution_count": 78
        }
      ],
      "source": [
        "np.concatenate([A, B], axis=1)"
      ]
    },
    {
      "cell_type": "markdown",
      "metadata": {
        "id": "QJ5pqR0gTonH"
      },
      "source": [
        "## Peforming array arithmetic\n",
        "Given two arrays of the same shape, we can perform element-wise arithmetic operations on these arrays.\n",
        "\n",
        "Let arrays `a` and `b` be the following:"
      ]
    },
    {
      "cell_type": "code",
      "execution_count": 79,
      "metadata": {
        "id": "Gf2MC1U3TonI"
      },
      "outputs": [],
      "source": [
        "a = np.arange(1, 19, 2).reshape(3,3)\n",
        "b = np.arange(2, 19, 2).reshape(3,3)"
      ]
    },
    {
      "cell_type": "code",
      "execution_count": 80,
      "metadata": {
        "id": "YbfX755mTonI",
        "outputId": "9be5ea95-05e3-444c-8971-75bbf2f117a6",
        "colab": {
          "base_uri": "https://localhost:8080/"
        }
      },
      "outputs": [
        {
          "output_type": "execute_result",
          "data": {
            "text/plain": [
              "array([[ 1,  3,  5],\n",
              "       [ 7,  9, 11],\n",
              "       [13, 15, 17]])"
            ]
          },
          "metadata": {},
          "execution_count": 80
        }
      ],
      "source": [
        "a"
      ]
    },
    {
      "cell_type": "code",
      "execution_count": 81,
      "metadata": {
        "id": "teisHqo1TonI",
        "outputId": "dc6a1ef1-1a78-4307-890d-ea8167a2c711",
        "colab": {
          "base_uri": "https://localhost:8080/"
        }
      },
      "outputs": [
        {
          "output_type": "execute_result",
          "data": {
            "text/plain": [
              "array([[ 2,  4,  6],\n",
              "       [ 8, 10, 12],\n",
              "       [14, 16, 18]])"
            ]
          },
          "metadata": {},
          "execution_count": 81
        }
      ],
      "source": [
        "b"
      ]
    },
    {
      "cell_type": "markdown",
      "metadata": {
        "id": "V_P87ImVTonI"
      },
      "source": [
        "We can perform the following element-by-element arithmetic and logical operations without any loops."
      ]
    },
    {
      "cell_type": "code",
      "execution_count": 82,
      "metadata": {
        "id": "GMDh7dcWTonJ",
        "outputId": "ebb9e292-943a-4f20-a53c-e0df7645ab52",
        "colab": {
          "base_uri": "https://localhost:8080/"
        }
      },
      "outputs": [
        {
          "output_type": "execute_result",
          "data": {
            "text/plain": [
              "array([[ 3,  7, 11],\n",
              "       [15, 19, 23],\n",
              "       [27, 31, 35]])"
            ]
          },
          "metadata": {},
          "execution_count": 82
        }
      ],
      "source": [
        "a + b"
      ]
    },
    {
      "cell_type": "code",
      "execution_count": 83,
      "metadata": {
        "id": "EFqr0Ek7TonJ",
        "outputId": "7ffd8d33-a83c-44fa-eaef-c9d1e52f9261",
        "colab": {
          "base_uri": "https://localhost:8080/"
        }
      },
      "outputs": [
        {
          "output_type": "execute_result",
          "data": {
            "text/plain": [
              "array([[-1, -1, -1],\n",
              "       [-1, -1, -1],\n",
              "       [-1, -1, -1]])"
            ]
          },
          "metadata": {},
          "execution_count": 83
        }
      ],
      "source": [
        "a - b"
      ]
    },
    {
      "cell_type": "code",
      "execution_count": 84,
      "metadata": {
        "id": "trq0ZFHPTonJ",
        "outputId": "1587f5d2-ac2e-48c8-89d1-f35630241018",
        "colab": {
          "base_uri": "https://localhost:8080/"
        }
      },
      "outputs": [
        {
          "output_type": "execute_result",
          "data": {
            "text/plain": [
              "array([[  2,  12,  30],\n",
              "       [ 56,  90, 132],\n",
              "       [182, 240, 306]])"
            ]
          },
          "metadata": {},
          "execution_count": 84
        }
      ],
      "source": [
        "a * b"
      ]
    },
    {
      "cell_type": "code",
      "execution_count": 85,
      "metadata": {
        "id": "FqhSg5HYTonJ",
        "outputId": "2c2a9f66-165c-469c-dd10-b144df6556a9",
        "colab": {
          "base_uri": "https://localhost:8080/"
        }
      },
      "outputs": [
        {
          "output_type": "execute_result",
          "data": {
            "text/plain": [
              "array([[0.5       , 0.75      , 0.83333333],\n",
              "       [0.875     , 0.9       , 0.91666667],\n",
              "       [0.92857143, 0.9375    , 0.94444444]])"
            ]
          },
          "metadata": {},
          "execution_count": 85
        }
      ],
      "source": [
        "a / b"
      ]
    },
    {
      "cell_type": "code",
      "execution_count": 86,
      "metadata": {
        "id": "1uH6mI9QTonK",
        "outputId": "7f3b8c67-6b35-4366-88bd-ca95d1243f02",
        "colab": {
          "base_uri": "https://localhost:8080/"
        }
      },
      "outputs": [
        {
          "output_type": "execute_result",
          "data": {
            "text/plain": [
              "array([[0, 1, 1],\n",
              "       [1, 1, 1],\n",
              "       [1, 1, 1]])"
            ]
          },
          "metadata": {},
          "execution_count": 86
        }
      ],
      "source": [
        "b % a"
      ]
    },
    {
      "cell_type": "code",
      "execution_count": 87,
      "metadata": {
        "id": "yUsAPv3QTonK",
        "outputId": "117e42e3-f8b2-4e57-d60f-b316f442d061",
        "colab": {
          "base_uri": "https://localhost:8080/"
        }
      },
      "outputs": [
        {
          "output_type": "execute_result",
          "data": {
            "text/plain": [
              "array([[ True,  True,  True],\n",
              "       [ True,  True,  True],\n",
              "       [ True,  True,  True]])"
            ]
          },
          "metadata": {},
          "execution_count": 87
        }
      ],
      "source": [
        "a < b"
      ]
    },
    {
      "cell_type": "code",
      "execution_count": 88,
      "metadata": {
        "tags": [],
        "id": "jJfl6eb3TonK",
        "outputId": "6acbddeb-fce4-4050-8fef-a57ec7f9d6ea",
        "colab": {
          "base_uri": "https://localhost:8080/"
        }
      },
      "outputs": [
        {
          "output_type": "execute_result",
          "data": {
            "text/plain": [
              "array([[False, False, False],\n",
              "       [False, False, False],\n",
              "       [False, False, False]])"
            ]
          },
          "metadata": {},
          "execution_count": 88
        }
      ],
      "source": [
        "b < a"
      ]
    },
    {
      "cell_type": "markdown",
      "metadata": {
        "id": "YAkxpCvDTonK"
      },
      "source": [
        "## Peforming matrix operations\n",
        "Say that we have the following matrices:\n",
        "\n",
        "$ A = \\begin{bmatrix} 1 & 2 & 1 \\\\ 3 & 0 & 1 \\\\ 0 & 2 & 4 \\end{bmatrix}$\n",
        "\n",
        "$$ B = \\begin{bmatrix} 3 & 1 & 2 \\\\ 1 & 1 & 0 \\\\ 1 & 3 & 1 \\end{bmatrix}$$\n",
        "\n",
        "$$ v = \\begin{bmatrix} 1 \\\\ 3  \\\\ 2  \\end{bmatrix} $$\n",
        "\n",
        "We can represent them using three Numpy arrays as follows:"
      ]
    },
    {
      "cell_type": "code",
      "execution_count": 89,
      "metadata": {
        "id": "mBzakfJuTonK",
        "outputId": "5a472431-94e2-47d3-d3fe-2e20e376e5b8",
        "colab": {
          "base_uri": "https://localhost:8080/"
        }
      },
      "outputs": [
        {
          "output_type": "stream",
          "name": "stdout",
          "text": [
            "A = \n",
            " [[1 2 1]\n",
            " [3 0 1]\n",
            " [0 2 4]]\n",
            "B = \n",
            " [[3 1 2]\n",
            " [1 1 0]\n",
            " [1 3 1]]\n",
            "v = \n",
            " [[1]\n",
            " [3]\n",
            " [2]]\n"
          ]
        }
      ],
      "source": [
        "A = np.array([[1,2,1], [3, 0, 1], [0, 2, 4]])\n",
        "B= np.array([3, 1, 2, 1, 1, 0, 1, 3, 1]).reshape(3,3)\n",
        "v = np.array([1, 3, 2]).reshape(3,1)\n",
        "\n",
        "print(\"A = \\n\", A)\n",
        "print(\"B = \\n\", B)\n",
        "print(\"v = \\n\", v)"
      ]
    },
    {
      "cell_type": "markdown",
      "metadata": {
        "id": "drWbt7URTonK"
      },
      "source": [
        "Now can perform the matrix operations we know from linear algebra. Here are a few example matrix operations.\n",
        "\n",
        "$A + B$:"
      ]
    },
    {
      "cell_type": "code",
      "execution_count": 90,
      "metadata": {
        "tags": [],
        "id": "0_L9rrk7TonK",
        "outputId": "04075d13-36d2-4f2a-96ff-d6217f5cc87b",
        "colab": {
          "base_uri": "https://localhost:8080/"
        }
      },
      "outputs": [
        {
          "output_type": "execute_result",
          "data": {
            "text/plain": [
              "array([[4, 3, 3],\n",
              "       [4, 1, 1],\n",
              "       [1, 5, 5]])"
            ]
          },
          "metadata": {},
          "execution_count": 90
        }
      ],
      "source": [
        "A + B"
      ]
    },
    {
      "cell_type": "markdown",
      "metadata": {
        "id": "0r9uzA61TonL"
      },
      "source": [
        "$3B$:"
      ]
    },
    {
      "cell_type": "code",
      "execution_count": 91,
      "metadata": {
        "id": "1mfJS-R8TonL",
        "outputId": "ec05f4bd-ffe9-411b-f8e6-50577e0efa98",
        "colab": {
          "base_uri": "https://localhost:8080/"
        }
      },
      "outputs": [
        {
          "output_type": "execute_result",
          "data": {
            "text/plain": [
              "array([[9, 3, 6],\n",
              "       [3, 3, 0],\n",
              "       [3, 9, 3]])"
            ]
          },
          "metadata": {},
          "execution_count": 91
        }
      ],
      "source": [
        "3 * B"
      ]
    },
    {
      "cell_type": "markdown",
      "metadata": {
        "id": "GoiDMi6FTonL"
      },
      "source": [
        "$A - 3B$:"
      ]
    },
    {
      "cell_type": "code",
      "execution_count": 92,
      "metadata": {
        "id": "A9TKQW1mTonL",
        "outputId": "42ee353e-43de-4c2e-b2b6-eb41fcbff1ed",
        "colab": {
          "base_uri": "https://localhost:8080/"
        }
      },
      "outputs": [
        {
          "output_type": "execute_result",
          "data": {
            "text/plain": [
              "array([[-8, -1, -5],\n",
              "       [ 0, -3,  1],\n",
              "       [-3, -7,  1]])"
            ]
          },
          "metadata": {},
          "execution_count": 92
        }
      ],
      "source": [
        "A - 3 * B"
      ]
    },
    {
      "cell_type": "markdown",
      "metadata": {
        "id": "iXVWEB14TonL"
      },
      "source": [
        "$A \\times B$:"
      ]
    },
    {
      "cell_type": "code",
      "execution_count": 93,
      "metadata": {
        "id": "B-uosF1BTonL",
        "outputId": "7e988535-cca3-4f57-c0cd-069a4ee5c419",
        "colab": {
          "base_uri": "https://localhost:8080/"
        }
      },
      "outputs": [
        {
          "output_type": "execute_result",
          "data": {
            "text/plain": [
              "array([[ 6,  6,  3],\n",
              "       [10,  6,  7],\n",
              "       [ 6, 14,  4]])"
            ]
          },
          "metadata": {},
          "execution_count": 93
        }
      ],
      "source": [
        "A.dot(B)"
      ]
    },
    {
      "cell_type": "markdown",
      "metadata": {
        "id": "mXDLb9KSTonL"
      },
      "source": [
        "or using the `@` matrix multiplication operator which is the same as calling `np.matmul`:"
      ]
    },
    {
      "cell_type": "code",
      "execution_count": 94,
      "metadata": {
        "id": "IG4GY4rJTonL",
        "outputId": "b65e6d54-325c-4f0b-c6a2-ffe8c766a7f4",
        "colab": {
          "base_uri": "https://localhost:8080/"
        }
      },
      "outputs": [
        {
          "output_type": "execute_result",
          "data": {
            "text/plain": [
              "array([[ 6,  6,  3],\n",
              "       [10,  6,  7],\n",
              "       [ 6, 14,  4]])"
            ]
          },
          "metadata": {},
          "execution_count": 94
        }
      ],
      "source": [
        "A @ B"
      ]
    },
    {
      "cell_type": "markdown",
      "metadata": {
        "id": "mtE_NT3cTonL"
      },
      "source": [
        "which is not the same as $B \\times A$:"
      ]
    },
    {
      "cell_type": "code",
      "execution_count": 95,
      "metadata": {
        "id": "4k3PDKtPTonM",
        "outputId": "27b4e064-31ae-4afb-9441-d888567d4c20",
        "colab": {
          "base_uri": "https://localhost:8080/"
        }
      },
      "outputs": [
        {
          "output_type": "execute_result",
          "data": {
            "text/plain": [
              "array([[ 6, 10, 12],\n",
              "       [ 4,  2,  2],\n",
              "       [10,  4,  8]])"
            ]
          },
          "metadata": {},
          "execution_count": 95
        }
      ],
      "source": [
        "B.dot(A)"
      ]
    },
    {
      "cell_type": "markdown",
      "metadata": {
        "id": "_ktY0dQDTonM"
      },
      "source": [
        "or"
      ]
    },
    {
      "cell_type": "code",
      "execution_count": 96,
      "metadata": {
        "id": "uPehwSIKTonM",
        "outputId": "64564eff-8fce-47a1-c8ab-f047c293fd5f",
        "colab": {
          "base_uri": "https://localhost:8080/"
        }
      },
      "outputs": [
        {
          "output_type": "execute_result",
          "data": {
            "text/plain": [
              "array([[ 6, 10, 12],\n",
              "       [ 4,  2,  2],\n",
              "       [10,  4,  8]])"
            ]
          },
          "metadata": {},
          "execution_count": 96
        }
      ],
      "source": [
        "B @ A"
      ]
    },
    {
      "cell_type": "markdown",
      "metadata": {
        "id": "BbL-qI6VTonM"
      },
      "source": [
        "And here is the determinant of $A$ which is denoted by $|A|$:"
      ]
    },
    {
      "cell_type": "code",
      "execution_count": 97,
      "metadata": {
        "id": "rqFMRXW9TonM",
        "outputId": "05a9c8ae-34c6-4c96-db7e-4c10eaebfef4",
        "colab": {
          "base_uri": "https://localhost:8080/"
        }
      },
      "outputs": [
        {
          "output_type": "execute_result",
          "data": {
            "text/plain": [
              "-19.999999999999996"
            ]
          },
          "metadata": {},
          "execution_count": 97
        }
      ],
      "source": [
        "np.linalg.det(A)"
      ]
    },
    {
      "cell_type": "markdown",
      "metadata": {
        "id": "ZxgfiS25TonM"
      },
      "source": [
        "The transpose of $B$ which is denoted as $B^T$:"
      ]
    },
    {
      "cell_type": "code",
      "execution_count": 98,
      "metadata": {
        "tags": [],
        "id": "UwKornuxTonM",
        "outputId": "05a50d65-9667-4eda-c502-e89a1a938415",
        "colab": {
          "base_uri": "https://localhost:8080/"
        }
      },
      "outputs": [
        {
          "output_type": "execute_result",
          "data": {
            "text/plain": [
              "array([[3, 1, 1],\n",
              "       [1, 1, 3],\n",
              "       [2, 0, 1]])"
            ]
          },
          "metadata": {},
          "execution_count": 98
        }
      ],
      "source": [
        "B.T"
      ]
    },
    {
      "cell_type": "markdown",
      "metadata": {
        "id": "wDWSjo7sTonM"
      },
      "source": [
        "Notice that $v \\times A$ is not valid because of their dimension misalignment. Uncomment the statement below to see the error"
      ]
    },
    {
      "cell_type": "code",
      "execution_count": 99,
      "metadata": {
        "id": "Czo4bbW_TonM"
      },
      "outputs": [],
      "source": [
        "# v.dot(A)"
      ]
    },
    {
      "cell_type": "markdown",
      "metadata": {
        "id": "d-GtJkQJTonN"
      },
      "source": [
        "However, $A \\times v$ is valid:"
      ]
    },
    {
      "cell_type": "code",
      "execution_count": 100,
      "metadata": {
        "id": "HpZqqOJBTonN",
        "outputId": "22c3c15a-60ea-41ed-aa74-e2a908993b79",
        "colab": {
          "base_uri": "https://localhost:8080/"
        }
      },
      "outputs": [
        {
          "output_type": "execute_result",
          "data": {
            "text/plain": [
              "array([[ 9],\n",
              "       [ 5],\n",
              "       [14]])"
            ]
          },
          "metadata": {},
          "execution_count": 100
        }
      ],
      "source": [
        "A.dot(v)"
      ]
    },
    {
      "cell_type": "markdown",
      "metadata": {
        "id": "viYEUwd2TonN"
      },
      "source": [
        "And so is  $v^T \\times A$:"
      ]
    },
    {
      "cell_type": "code",
      "execution_count": 101,
      "metadata": {
        "id": "0VyzMm3KTonN",
        "outputId": "de80d065-96a6-4676-c8e9-77eb063f899a",
        "colab": {
          "base_uri": "https://localhost:8080/"
        }
      },
      "outputs": [
        {
          "output_type": "execute_result",
          "data": {
            "text/plain": [
              "array([[10,  6, 12]])"
            ]
          },
          "metadata": {},
          "execution_count": 101
        }
      ],
      "source": [
        "v.T.dot(A)"
      ]
    },
    {
      "cell_type": "markdown",
      "metadata": {
        "id": "srplNxdmTonN"
      },
      "source": [
        "Finally we can calculate the inverse matrix of $A$ denoted as $A^{-1}$:"
      ]
    },
    {
      "cell_type": "code",
      "execution_count": 102,
      "metadata": {
        "id": "2S5WwvZXTonO"
      },
      "outputs": [],
      "source": [
        "Ainv = np.linalg.inv(A)"
      ]
    },
    {
      "cell_type": "markdown",
      "metadata": {
        "id": "9BKu9QqNTonO"
      },
      "source": [
        "which we can verify by calculating $A \\times A^{-1}$."
      ]
    },
    {
      "cell_type": "code",
      "execution_count": 103,
      "metadata": {
        "tags": [],
        "id": "8E3ZcqezTonO",
        "outputId": "4c8c3587-8dd9-4ed9-c4a9-ed52d6b6fb75",
        "colab": {
          "base_uri": "https://localhost:8080/"
        }
      },
      "outputs": [
        {
          "output_type": "execute_result",
          "data": {
            "text/plain": [
              "array([[ 1., -0.,  0.],\n",
              "       [ 0.,  1.,  0.],\n",
              "       [-0.,  0.,  1.]])"
            ]
          },
          "metadata": {},
          "execution_count": 103
        }
      ],
      "source": [
        "A.dot(np.linalg.inv(A)).round()"
      ]
    },
    {
      "cell_type": "markdown",
      "metadata": {
        "id": "wSaaE2LcTonO"
      },
      "source": [
        "which should be the same as the identity matrix $I$."
      ]
    },
    {
      "cell_type": "code",
      "execution_count": 104,
      "metadata": {
        "id": "kRBDMvBnTonO",
        "outputId": "a6b0d9c7-5208-499a-9c98-3f1483c3cea6",
        "colab": {
          "base_uri": "https://localhost:8080/"
        }
      },
      "outputs": [
        {
          "output_type": "execute_result",
          "data": {
            "text/plain": [
              "array([[1., 0., 0.],\n",
              "       [0., 1., 0.],\n",
              "       [0., 0., 1.]])"
            ]
          },
          "metadata": {},
          "execution_count": 104
        }
      ],
      "source": [
        "np.eye(3)"
      ]
    },
    {
      "cell_type": "markdown",
      "metadata": {
        "id": "9UjJdTzvTonO"
      },
      "source": [
        "## Using universal element-wise functions\n",
        "Given the array $A$:"
      ]
    },
    {
      "cell_type": "code",
      "execution_count": 105,
      "metadata": {
        "id": "qImid1fbTonO",
        "outputId": "a0e56613-d5ad-47f5-959c-628d4ca2946a",
        "colab": {
          "base_uri": "https://localhost:8080/"
        }
      },
      "outputs": [
        {
          "output_type": "execute_result",
          "data": {
            "text/plain": [
              "array([[1, 2, 1],\n",
              "       [3, 0, 1],\n",
              "       [0, 2, 4]])"
            ]
          },
          "metadata": {},
          "execution_count": 105
        }
      ],
      "source": [
        "A"
      ]
    },
    {
      "cell_type": "markdown",
      "metadata": {
        "id": "Sb6W9TvBTonP"
      },
      "source": [
        "We can calculate the square root, absolute value, sin, cos, etc of its elements."
      ]
    },
    {
      "cell_type": "code",
      "execution_count": 106,
      "metadata": {
        "id": "2wBA4vHYTonP",
        "outputId": "8a4ffa51-9daa-4ac7-9d95-fc3f1c07b9ed",
        "colab": {
          "base_uri": "https://localhost:8080/"
        }
      },
      "outputs": [
        {
          "output_type": "execute_result",
          "data": {
            "text/plain": [
              "array([[1.        , 1.41421356, 1.        ],\n",
              "       [1.73205081, 0.        , 1.        ],\n",
              "       [0.        , 1.41421356, 2.        ]])"
            ]
          },
          "metadata": {},
          "execution_count": 106
        }
      ],
      "source": [
        "np.sqrt(A)"
      ]
    },
    {
      "cell_type": "code",
      "execution_count": 107,
      "metadata": {
        "id": "eBbpfllSTonP",
        "outputId": "ca2bd036-f097-4a36-e8d7-303982b00f01",
        "colab": {
          "base_uri": "https://localhost:8080/"
        }
      },
      "outputs": [
        {
          "output_type": "execute_result",
          "data": {
            "text/plain": [
              "array([[1, 2, 1],\n",
              "       [3, 0, 1],\n",
              "       [0, 2, 4]])"
            ]
          },
          "metadata": {},
          "execution_count": 107
        }
      ],
      "source": [
        "np.abs(A)"
      ]
    },
    {
      "cell_type": "code",
      "execution_count": 108,
      "metadata": {
        "id": "FFqKfXbkTonP",
        "outputId": "96f4d6cb-037f-4f46-bbb6-6f83348e7613",
        "colab": {
          "base_uri": "https://localhost:8080/"
        }
      },
      "outputs": [
        {
          "output_type": "execute_result",
          "data": {
            "text/plain": [
              "array([[ 0.84147098,  0.90929743,  0.84147098],\n",
              "       [ 0.14112001,  0.        ,  0.84147098],\n",
              "       [ 0.        ,  0.90929743, -0.7568025 ]])"
            ]
          },
          "metadata": {},
          "execution_count": 108
        }
      ],
      "source": [
        "np.sin(A)"
      ]
    },
    {
      "cell_type": "code",
      "execution_count": 109,
      "metadata": {
        "id": "zFihSsWnTonP",
        "outputId": "4953041d-b16d-4356-fc33-a63a24799b3e",
        "colab": {
          "base_uri": "https://localhost:8080/"
        }
      },
      "outputs": [
        {
          "output_type": "execute_result",
          "data": {
            "text/plain": [
              "array([[ 2.71828183,  7.3890561 ,  2.71828183],\n",
              "       [20.08553692,  1.        ,  2.71828183],\n",
              "       [ 1.        ,  7.3890561 , 54.59815003]])"
            ]
          },
          "metadata": {},
          "execution_count": 109
        }
      ],
      "source": [
        "np.exp(A)"
      ]
    },
    {
      "cell_type": "markdown",
      "metadata": {
        "id": "4EtOC4ovTonQ"
      },
      "source": [
        "## Calling statistical functions\n",
        "NumPy also comes with functions for summarizing arrays. Here are some examples:"
      ]
    },
    {
      "cell_type": "code",
      "execution_count": 110,
      "metadata": {
        "id": "OEdEIUY3TonQ",
        "outputId": "ce5c7d2f-1027-49e9-e010-bdbf2ff2db75",
        "colab": {
          "base_uri": "https://localhost:8080/"
        }
      },
      "outputs": [
        {
          "output_type": "execute_result",
          "data": {
            "text/plain": [
              "array([[1, 2, 1],\n",
              "       [3, 0, 1],\n",
              "       [0, 2, 4]])"
            ]
          },
          "metadata": {},
          "execution_count": 110
        }
      ],
      "source": [
        "A"
      ]
    },
    {
      "cell_type": "code",
      "execution_count": 111,
      "metadata": {
        "id": "39jZd8R3TonQ",
        "outputId": "a257cdc1-61d7-4533-d423-b8fb72530dfc",
        "colab": {
          "base_uri": "https://localhost:8080/"
        }
      },
      "outputs": [
        {
          "output_type": "execute_result",
          "data": {
            "text/plain": [
              "4"
            ]
          },
          "metadata": {},
          "execution_count": 111
        }
      ],
      "source": [
        "np.max(A)"
      ]
    },
    {
      "cell_type": "code",
      "execution_count": 112,
      "metadata": {
        "id": "SqcIQG-RTonQ",
        "outputId": "1a309bfb-cca0-46d9-e89d-5480be93e8b9",
        "colab": {
          "base_uri": "https://localhost:8080/"
        }
      },
      "outputs": [
        {
          "output_type": "execute_result",
          "data": {
            "text/plain": [
              "4"
            ]
          },
          "metadata": {},
          "execution_count": 112
        }
      ],
      "source": [
        "A.max()"
      ]
    },
    {
      "cell_type": "code",
      "execution_count": 113,
      "metadata": {
        "id": "zSSnRj3qTonQ",
        "outputId": "759d65a6-315d-4913-824c-bface9c8932d",
        "colab": {
          "base_uri": "https://localhost:8080/"
        }
      },
      "outputs": [
        {
          "output_type": "execute_result",
          "data": {
            "text/plain": [
              "0"
            ]
          },
          "metadata": {},
          "execution_count": 113
        }
      ],
      "source": [
        "np.min(A)"
      ]
    },
    {
      "cell_type": "code",
      "execution_count": 114,
      "metadata": {
        "id": "bz8pzuSRTonR",
        "outputId": "5931de58-4ec0-4f57-c6bb-2a9dbafc725f",
        "colab": {
          "base_uri": "https://localhost:8080/"
        }
      },
      "outputs": [
        {
          "output_type": "execute_result",
          "data": {
            "text/plain": [
              "0"
            ]
          },
          "metadata": {},
          "execution_count": 114
        }
      ],
      "source": [
        "A.min()"
      ]
    },
    {
      "cell_type": "code",
      "execution_count": 115,
      "metadata": {
        "id": "gYaP70EZTonR",
        "outputId": "18243f97-6f05-43e6-fd8a-cba2aeb25a7a",
        "colab": {
          "base_uri": "https://localhost:8080/"
        }
      },
      "outputs": [
        {
          "output_type": "execute_result",
          "data": {
            "text/plain": [
              "14"
            ]
          },
          "metadata": {},
          "execution_count": 115
        }
      ],
      "source": [
        "np.sum(A)"
      ]
    },
    {
      "cell_type": "code",
      "execution_count": 116,
      "metadata": {
        "id": "KexxHDExTonR",
        "outputId": "ee55a249-5dde-4646-a175-9475f65ab480",
        "colab": {
          "base_uri": "https://localhost:8080/"
        }
      },
      "outputs": [
        {
          "output_type": "execute_result",
          "data": {
            "text/plain": [
              "14"
            ]
          },
          "metadata": {},
          "execution_count": 116
        }
      ],
      "source": [
        "A.sum()"
      ]
    },
    {
      "cell_type": "code",
      "execution_count": 117,
      "metadata": {
        "id": "ml-xg6I4TonR",
        "outputId": "1db6df6f-3788-4a00-dbee-d08309dff212",
        "colab": {
          "base_uri": "https://localhost:8080/"
        }
      },
      "outputs": [
        {
          "output_type": "execute_result",
          "data": {
            "text/plain": [
              "array([ 1,  3,  4,  7,  7,  8,  8, 10, 14])"
            ]
          },
          "metadata": {},
          "execution_count": 117
        }
      ],
      "source": [
        "np.cumsum(A)   # Cummulative sum"
      ]
    },
    {
      "cell_type": "code",
      "execution_count": 118,
      "metadata": {
        "id": "Dtv8PLoATonR",
        "outputId": "fe3d8383-e84c-405e-a021-fc4c2412a567",
        "colab": {
          "base_uri": "https://localhost:8080/"
        }
      },
      "outputs": [
        {
          "output_type": "execute_result",
          "data": {
            "text/plain": [
              "array([ 1,  3,  4,  7,  7,  8,  8, 10, 14])"
            ]
          },
          "metadata": {},
          "execution_count": 118
        }
      ],
      "source": [
        "A.cumsum()     # Cummulative sum"
      ]
    },
    {
      "cell_type": "code",
      "execution_count": 119,
      "metadata": {
        "id": "MrHjB_PSTonR",
        "outputId": "8edca597-9fb4-46b0-9395-bf8979fe476a",
        "colab": {
          "base_uri": "https://localhost:8080/"
        }
      },
      "outputs": [
        {
          "output_type": "execute_result",
          "data": {
            "text/plain": [
              "1.5555555555555556"
            ]
          },
          "metadata": {},
          "execution_count": 119
        }
      ],
      "source": [
        "np.mean(A)     # average"
      ]
    },
    {
      "cell_type": "code",
      "execution_count": 120,
      "metadata": {
        "id": "hrbmFQUeTonR",
        "outputId": "2c7311a9-aea1-4734-8058-09bce9f8a5e6",
        "colab": {
          "base_uri": "https://localhost:8080/"
        }
      },
      "outputs": [
        {
          "output_type": "execute_result",
          "data": {
            "text/plain": [
              "1.5555555555555556"
            ]
          },
          "metadata": {},
          "execution_count": 120
        }
      ],
      "source": [
        "A.mean()       # average"
      ]
    },
    {
      "cell_type": "code",
      "execution_count": 121,
      "metadata": {
        "id": "CLCJoKGvTonR",
        "outputId": "c51b45ad-c496-4c56-d49a-a53aaa188805",
        "colab": {
          "base_uri": "https://localhost:8080/"
        }
      },
      "outputs": [
        {
          "output_type": "execute_result",
          "data": {
            "text/plain": [
              "1.5802469135802468"
            ]
          },
          "metadata": {},
          "execution_count": 121
        }
      ],
      "source": [
        "np.var(A)      # variance"
      ]
    },
    {
      "cell_type": "code",
      "execution_count": 122,
      "metadata": {
        "id": "lS38vSJpTonR",
        "outputId": "011cdfa0-7108-4686-9bd9-e886913c6d23",
        "colab": {
          "base_uri": "https://localhost:8080/"
        }
      },
      "outputs": [
        {
          "output_type": "execute_result",
          "data": {
            "text/plain": [
              "1.5802469135802468"
            ]
          },
          "metadata": {},
          "execution_count": 122
        }
      ],
      "source": [
        "A.var()        # variance"
      ]
    },
    {
      "cell_type": "code",
      "execution_count": 123,
      "metadata": {
        "id": "WuCIYgedTonS",
        "outputId": "6070e20f-a729-43ba-a095-0e62399098cd",
        "colab": {
          "base_uri": "https://localhost:8080/"
        }
      },
      "outputs": [
        {
          "output_type": "execute_result",
          "data": {
            "text/plain": [
              "1.0"
            ]
          },
          "metadata": {},
          "execution_count": 123
        }
      ],
      "source": [
        "np.median(A)   # median"
      ]
    }
  ],
  "metadata": {
    "kernelspec": {
      "display_name": "Python 3 (ipykernel)",
      "language": "python",
      "name": "python3"
    },
    "language_info": {
      "codemirror_mode": {
        "name": "ipython",
        "version": 3
      },
      "file_extension": ".py",
      "mimetype": "text/x-python",
      "name": "python",
      "nbconvert_exporter": "python",
      "pygments_lexer": "ipython3",
      "version": "3.11.5"
    },
    "vscode": {
      "interpreter": {
        "hash": "0c4ab92bbc10d18b480eb40b47e751a2f458ae1b2b88576453c716fde62785ad"
      }
    },
    "colab": {
      "provenance": []
    }
  },
  "nbformat": 4,
  "nbformat_minor": 0
}