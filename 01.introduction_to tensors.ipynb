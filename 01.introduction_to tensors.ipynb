{
 "cells": [
  {
   "cell_type": "markdown",
   "metadata": {},
   "source": [
    "Run locally or <a target=\"_blank\" href=\"https://colab.research.google.com/github/aalgahmi/dl_handouts/blob/main/01.introduction_to%20tensors.ipynb\">\n",
    "  <img src=\"https://colab.research.google.com/assets/colab-badge.svg\" alt=\"Open In Colab\"/>\n",
    "</a>"
   ]
  },
  {
   "cell_type": "markdown",
   "metadata": {},
   "source": [
    "# Introduction to Tensors\n",
    "\n",
    "This notebook provides a concise tutorial on using tensors in PyTorch. It serves as a starting point and is not intended to be exhaustive. It's important to note that we are building upon our existing knowledge of NumPy, Pandas, and Sci-kit Learn rather than replacing them.\n",
    "\n",
    "PyTorch and its ecosystem are constructed around NumPy and its tensors, with many functions operating similarly to NumPy's nd-arrays and their functions. However, PyTorch tensors offer three significant improvements:\n",
    "\n",
    "* They can utilize GPUs and TPUs for enhanced performance.\n",
    "* They enable automatic computation of gradients for arbitrary differentiable tensor operations.\n",
    "* They support computation distribution across various devices and clusters.\n",
    "\n",
    "To begin, we import the torch library."
   ]
  },
  {
   "cell_type": "code",
   "execution_count": 1,
   "metadata": {},
   "outputs": [],
   "source": [
    "import numpy as np\n",
    "import torch\n",
    "import matplotlib.pyplot as plt"
   ]
  },
  {
   "cell_type": "markdown",
   "metadata": {},
   "source": [
    "## What is a tensor?\n",
    "\n",
    "A **tensor** is basically a multidimensional array. It generalizes scalars, vectors, and matrices. A tensor is defined by three key attributes:\n",
    "* **Rank**: The number of axes or dimensions. You can find the rank of a tensor using the attribute `ndim`\n",
    "* **Shape**: A tuple of integers describing how many units along each dimension. You can find the shape of a tensor using the attribute `shape` \n",
    "* **Data type**: The type of the data contained in the tensor. You can find the data type of a tensor using the attribute `dtype` \n",
    "\n",
    "Given this definition, both NumPy arrays and PyTorch tensors are considered tensors. Let's see a couple of examples:\n",
    "\n",
    "**Scalars**: Scalar values are considered 0-dimensional tensors. Here is a few examples:"
   ]
  },
  {
   "cell_type": "code",
   "execution_count": 2,
   "metadata": {},
   "outputs": [
    {
     "data": {
      "text/plain": [
       "(array(3), 0, (), dtype('int64'))"
      ]
     },
     "execution_count": 2,
     "metadata": {},
     "output_type": "execute_result"
    }
   ],
   "source": [
    "s = np.array(3)\n",
    "s, s.ndim, s.shape, s.dtype"
   ]
  },
  {
   "cell_type": "code",
   "execution_count": 3,
   "metadata": {},
   "outputs": [
    {
     "data": {
      "text/plain": [
       "(tensor(3), 0, torch.Size([]), torch.int64)"
      ]
     },
     "execution_count": 3,
     "metadata": {},
     "output_type": "execute_result"
    }
   ],
   "source": [
    "s1 = torch.tensor(3)\n",
    "s1, s1.ndim, s1.shape, s1.dtype"
   ]
  },
  {
   "cell_type": "markdown",
   "metadata": {},
   "source": [
    "As you can see, the scalar value `3` is an integer with `0` dimensions and `()` shape (or empty size in PyTorch). This tensor has one element. \n",
    "\n",
    "**IMPORTANT**: You can always convert a 0-dimensional tensor back to a scalar value using the `item()` method."
   ]
  },
  {
   "cell_type": "code",
   "execution_count": 4,
   "metadata": {},
   "outputs": [
    {
     "data": {
      "text/plain": [
       "3"
      ]
     },
     "execution_count": 4,
     "metadata": {},
     "output_type": "execute_result"
    }
   ],
   "source": [
    "s1.item()"
   ]
  },
  {
   "cell_type": "markdown",
   "metadata": {},
   "source": [
    "**Vectors**: A vector is simply a one-dimensional tensor like this. For example:"
   ]
  },
  {
   "cell_type": "code",
   "execution_count": 5,
   "metadata": {
    "jupyter": {
     "source_hidden": true
    }
   },
   "outputs": [
    {
     "data": {
      "text/plain": [
       "(array([2, 4, 0, 1]), 1, (4,), dtype('int64'))"
      ]
     },
     "execution_count": 5,
     "metadata": {},
     "output_type": "execute_result"
    }
   ],
   "source": [
    "v = np.array([2, 4, 0, 1])\n",
    "v, v.ndim, v.shape, v.dtype"
   ]
  },
  {
   "cell_type": "code",
   "execution_count": 6,
   "metadata": {},
   "outputs": [
    {
     "data": {
      "text/plain": [
       "(tensor([2, 4, 0, 1]), 1, torch.Size([4]), torch.int64)"
      ]
     },
     "execution_count": 6,
     "metadata": {},
     "output_type": "execute_result"
    }
   ],
   "source": [
    "v1 = torch.tensor([2, 4, 0, 1])\n",
    "v1, v1.ndim, v1.shape, v1.dtype"
   ]
  },
  {
   "cell_type": "markdown",
   "metadata": {},
   "source": [
    "**Matrices**: A matrix is a two-dimensional array. Here is an example `4 by 3` (12 elements) matrix:"
   ]
  },
  {
   "cell_type": "code",
   "execution_count": 7,
   "metadata": {},
   "outputs": [
    {
     "data": {
      "text/plain": [
       "(array([[2, 4, 1],\n",
       "        [1, 3, 3],\n",
       "        [0, 5, 1],\n",
       "        [1, 0, 2]]),\n",
       " 2,\n",
       " (4, 3),\n",
       " dtype('int64'))"
      ]
     },
     "execution_count": 7,
     "metadata": {},
     "output_type": "execute_result"
    }
   ],
   "source": [
    "m = np.array([[2, 4, 1], [1, 3, 3], [0, 5, 1], [1, 0, 2]])\n",
    "m, m.ndim, m.shape, m.dtype"
   ]
  },
  {
   "cell_type": "code",
   "execution_count": 8,
   "metadata": {},
   "outputs": [
    {
     "data": {
      "text/plain": [
       "(tensor([[2, 4, 1],\n",
       "         [1, 3, 3],\n",
       "         [0, 5, 1],\n",
       "         [1, 0, 2]]),\n",
       " 2,\n",
       " torch.Size([4, 3]),\n",
       " torch.int64)"
      ]
     },
     "execution_count": 8,
     "metadata": {},
     "output_type": "execute_result"
    }
   ],
   "source": [
    "m1 = torch.tensor([[2, 4, 1], [1, 3, 3], [0, 5, 1], [1, 0, 2]])\n",
    "m1, m1.ndim, m1.shape, m1.dtype"
   ]
  },
  {
   "cell_type": "markdown",
   "metadata": {},
   "source": [
    "## Creating tensors\n",
    "In addition to the previously mentioned examples of creating tensors from Python values and lists, PyTorch provides alternative methods for tensor creation:\n",
    "\n",
    "### From NumPy Arrays\n",
    "There are two ways to create PyTorch tensors from NumPy arrays, depending on whether the underlying memory location is shared or not. Here is an example of creating a tensor that is a copy of a NumPy array without a shared memory location. Given the array:"
   ]
  },
  {
   "cell_type": "code",
   "execution_count": 9,
   "metadata": {},
   "outputs": [
    {
     "data": {
      "text/plain": [
       "array([[2, 4, 0],\n",
       "       [1, 3, 5],\n",
       "       [6, 7, 8]])"
      ]
     },
     "execution_count": 9,
     "metadata": {},
     "output_type": "execute_result"
    }
   ],
   "source": [
    "n = np.array([[2, 4, 0], [1, 3, 5], [6, 7, 8]])\n",
    "n"
   ]
  },
  {
   "cell_type": "markdown",
   "metadata": {},
   "source": [
    "Here is a tensor copy of it:"
   ]
  },
  {
   "cell_type": "code",
   "execution_count": 10,
   "metadata": {},
   "outputs": [
    {
     "data": {
      "text/plain": [
       "tensor([[2, 4, 0],\n",
       "        [1, 3, 5],\n",
       "        [6, 7, 8]])"
      ]
     },
     "execution_count": 10,
     "metadata": {},
     "output_type": "execute_result"
    }
   ],
   "source": [
    "n1 = torch.tensor(n)\n",
    "n1"
   ]
  },
  {
   "cell_type": "markdown",
   "metadata": {},
   "source": [
    "The array and tensor, here, don't share memory. That means that changing an element in the array does not affect the tensor and vice verso. If, for example, let's replace the middle `3` element for the array with `99`:\n",
    "\n",
    "\n",
    "The array and tensor, in this case, do not share memory. This implies that altering an element in the array does not impact the tensor, and vice versa. For instance, if we replace the middle `3` element in the array with `99`:"
   ]
  },
  {
   "cell_type": "code",
   "execution_count": 11,
   "metadata": {},
   "outputs": [],
   "source": [
    "n[1,1] = 99"
   ]
  },
  {
   "cell_type": "markdown",
   "metadata": {},
   "source": [
    "Here are the array and the tensor after this change:"
   ]
  },
  {
   "cell_type": "code",
   "execution_count": 12,
   "metadata": {},
   "outputs": [
    {
     "data": {
      "text/plain": [
       "(array([[ 2,  4,  0],\n",
       "        [ 1, 99,  5],\n",
       "        [ 6,  7,  8]]),\n",
       " tensor([[2, 4, 0],\n",
       "         [1, 3, 5],\n",
       "         [6, 7, 8]]))"
      ]
     },
     "execution_count": 12,
     "metadata": {},
     "output_type": "execute_result"
    }
   ],
   "source": [
    "n, n1"
   ]
  },
  {
   "cell_type": "markdown",
   "metadata": {},
   "source": [
    "As you can see, the tensor remains unaffected by the change, indicating distinct memory locations for each.\n",
    "\n",
    "While this approach may be suitable for small arrays, it can be inefficient and wasteful for larger ones. To address this, we can utilize the `torch.from_numpy()` function to create a tensor that shares the same memory location with its array."
   ]
  },
  {
   "cell_type": "code",
   "execution_count": 13,
   "metadata": {},
   "outputs": [
    {
     "data": {
      "text/plain": [
       "tensor([[ 2,  4,  0],\n",
       "        [ 1, 99,  5],\n",
       "        [ 6,  7,  8]])"
      ]
     },
     "execution_count": 13,
     "metadata": {},
     "output_type": "execute_result"
    }
   ],
   "source": [
    "n2 = torch.from_numpy(n)\n",
    "n2"
   ]
  },
  {
   "cell_type": "markdown",
   "metadata": {},
   "source": [
    "Let's replace `99` of the tensor with `11`"
   ]
  },
  {
   "cell_type": "code",
   "execution_count": 14,
   "metadata": {},
   "outputs": [],
   "source": [
    "n2[1,1] = 11"
   ]
  },
  {
   "cell_type": "markdown",
   "metadata": {},
   "source": [
    "Here are the array and the tensor after this change:"
   ]
  },
  {
   "cell_type": "code",
   "execution_count": 15,
   "metadata": {},
   "outputs": [
    {
     "data": {
      "text/plain": [
       "(array([[ 2,  4,  0],\n",
       "        [ 1, 11,  5],\n",
       "        [ 6,  7,  8]]),\n",
       " tensor([[ 2,  4,  0],\n",
       "         [ 1, 11,  5],\n",
       "         [ 6,  7,  8]]))"
      ]
     },
     "execution_count": 15,
     "metadata": {},
     "output_type": "execute_result"
    }
   ],
   "source": [
    "n, n2"
   ]
  },
  {
   "cell_type": "markdown",
   "metadata": {},
   "source": [
    "As you can see, the changed affected both, because they share the same memory location."
   ]
  },
  {
   "cell_type": "markdown",
   "metadata": {},
   "source": [
    "**NOTICE THAT** you can convert a tensor to a NumPy array using the `numpy()` method:"
   ]
  },
  {
   "cell_type": "code",
   "execution_count": 16,
   "metadata": {},
   "outputs": [
    {
     "data": {
      "text/plain": [
       "array([[ 2,  4,  0],\n",
       "       [ 1, 11,  5],\n",
       "       [ 6,  7,  8]])"
      ]
     },
     "execution_count": 16,
     "metadata": {},
     "output_type": "execute_result"
    }
   ],
   "source": [
    "n2.numpy()"
   ]
  },
  {
   "cell_type": "markdown",
   "metadata": {},
   "source": [
    "### Using ranges\n",
    "Tensors could also be created from ranges. For example, we can create a tensor with values from the range of 1 (inclusive) and 100 (exclusive)."
   ]
  },
  {
   "cell_type": "code",
   "execution_count": 17,
   "metadata": {},
   "outputs": [
    {
     "data": {
      "text/plain": [
       "(tensor([ 1,  2,  3,  4,  5,  6,  7,  8,  9, 10, 11, 12, 13, 14, 15, 16, 17, 18,\n",
       "         19, 20, 21, 22, 23, 24, 25, 26, 27, 28, 29, 30, 31, 32, 33, 34, 35, 36,\n",
       "         37, 38, 39, 40, 41, 42, 43, 44, 45, 46, 47, 48, 49, 50, 51, 52, 53, 54,\n",
       "         55, 56, 57, 58, 59, 60, 61, 62, 63, 64, 65, 66, 67, 68, 69, 70, 71, 72,\n",
       "         73, 74, 75, 76, 77, 78, 79, 80, 81, 82, 83, 84, 85, 86, 87, 88, 89, 90,\n",
       "         91, 92, 93, 94, 95, 96, 97, 98, 99]),\n",
       " 1,\n",
       " torch.Size([99]),\n",
       " torch.int64)"
      ]
     },
     "execution_count": 17,
     "metadata": {},
     "output_type": "execute_result"
    }
   ],
   "source": [
    "r = torch.arange(1, 100)\n",
    "r, r.ndim, r.shape, r.dtype"
   ]
  },
  {
   "cell_type": "markdown",
   "metadata": {},
   "source": [
    "Here is another range with values between -4 and 4 (exclusive) and with a step (delta) of .5."
   ]
  },
  {
   "cell_type": "code",
   "execution_count": 18,
   "metadata": {},
   "outputs": [
    {
     "data": {
      "text/plain": [
       "(tensor([-4.0000, -3.5000, -3.0000, -2.5000, -2.0000, -1.5000, -1.0000, -0.5000,\n",
       "          0.0000,  0.5000,  1.0000,  1.5000,  2.0000,  2.5000,  3.0000,  3.5000]),\n",
       " 1,\n",
       " torch.Size([16]),\n",
       " torch.float32)"
      ]
     },
     "execution_count": 18,
     "metadata": {},
     "output_type": "execute_result"
    }
   ],
   "source": [
    "r = torch.arange(-4, 4, step=.5)\n",
    "r,r.ndim, r.shape, r.dtype"
   ]
  },
  {
   "cell_type": "markdown",
   "metadata": {},
   "source": [
    "PyTorch also supports `tf.linspace`, which allows us to create as many data points between and including two values as we want. The following takes the range between -4 and 4 (both inclusive) and returns 17 equally spaced data points."
   ]
  },
  {
   "cell_type": "code",
   "execution_count": 19,
   "metadata": {},
   "outputs": [
    {
     "data": {
      "text/plain": [
       "(tensor([-4.0000, -3.5000, -3.0000, -2.5000, -2.0000, -1.5000, -1.0000, -0.5000,\n",
       "          0.0000,  0.5000,  1.0000,  1.5000,  2.0000,  2.5000,  3.0000,  3.5000,\n",
       "          4.0000]),\n",
       " 1,\n",
       " torch.Size([17]),\n",
       " torch.float32)"
      ]
     },
     "execution_count": 19,
     "metadata": {},
     "output_type": "execute_result"
    }
   ],
   "source": [
    "r = torch.linspace(-4, 4, 17)\n",
    "r,r.ndim, r.shape, r.dtype"
   ]
  },
  {
   "cell_type": "markdown",
   "metadata": {},
   "source": [
    "### Using Random numbers\n",
    "First, use the following statement to seed PyTorch's random generator. This is important for reproducing results."
   ]
  },
  {
   "cell_type": "code",
   "execution_count": 20,
   "metadata": {},
   "outputs": [
    {
     "data": {
      "text/plain": [
       "<torch._C.Generator at 0x106c76670>"
      ]
     },
     "execution_count": 20,
     "metadata": {},
     "output_type": "execute_result"
    }
   ],
   "source": [
    "torch.manual_seed(17)"
   ]
  },
  {
   "cell_type": "markdown",
   "metadata": {},
   "source": [
    "Keep in mind that the above statement impacts numbers generated by PyTorch's random generator and not by other libraries such as NumPy. These other libraries will have to be seeded separately.\n",
    "\n",
    "Next, we can use `torch.rand()` to generate random numbers from a uniform distribution on the interval $[0, 1)$. Here is a tensor with 4 by 5 random numbers in the period $[0, 1)$:"
   ]
  },
  {
   "cell_type": "code",
   "execution_count": 21,
   "metadata": {},
   "outputs": [
    {
     "data": {
      "text/plain": [
       "tensor([[4.3424e-01, 5.3511e-01, 8.3021e-01, 1.2386e-01, 2.9321e-02],\n",
       "        [5.4940e-01, 3.8249e-01, 5.4626e-01, 4.6828e-01, 1.7153e-02],\n",
       "        [2.1382e-02, 3.6643e-01, 2.0535e-01, 1.9226e-01, 3.5434e-01],\n",
       "        [2.1795e-01, 1.0574e-04, 1.4056e-01, 6.0028e-01, 5.6578e-01]])"
      ]
     },
     "execution_count": 21,
     "metadata": {},
     "output_type": "execute_result"
    }
   ],
   "source": [
    "torch.rand(4,5)"
   ]
  },
  {
   "cell_type": "markdown",
   "metadata": {},
   "source": [
    "And here is a 5 by 5 tensor filled with random numbers from a normal distribution with mean 0 and variance 1."
   ]
  },
  {
   "cell_type": "code",
   "execution_count": 22,
   "metadata": {},
   "outputs": [
    {
     "data": {
      "text/plain": [
       "tensor([[ 0.3518,  0.1863,  0.9567,  0.0895,  0.0068],\n",
       "        [-1.7377,  1.2938, -0.1662,  0.2750, -0.3202],\n",
       "        [ 1.3715, -0.7086,  0.2190,  0.7703,  0.9553],\n",
       "        [ 1.0025,  1.0673,  2.0900,  1.6963, -0.0480],\n",
       "        [-0.4849,  1.0632, -1.6568,  2.4467, -0.9278]])"
      ]
     },
     "execution_count": 22,
     "metadata": {},
     "output_type": "execute_result"
    }
   ],
   "source": [
    "torch.randn(5,5)"
   ]
  },
  {
   "cell_type": "markdown",
   "metadata": {},
   "source": [
    "Here is also a 4 by 6 by 2 tensor filled with random numbers from a normal distribution with a mean of 5 and a standard deviation of 2."
   ]
  },
  {
   "cell_type": "code",
   "execution_count": 23,
   "metadata": {},
   "outputs": [
    {
     "data": {
      "text/plain": [
       "tensor([[[ 5.4685,  3.6918],\n",
       "         [ 4.1712,  4.9850],\n",
       "         [ 5.7924,  4.6141],\n",
       "         [ 6.1105,  7.1149],\n",
       "         [ 6.2435,  1.4751],\n",
       "         [ 4.0317,  7.0404]],\n",
       "\n",
       "        [[ 5.2979,  5.7136],\n",
       "         [ 5.9124,  3.8198],\n",
       "         [ 2.8643,  5.0731],\n",
       "         [ 5.1640,  5.9199],\n",
       "         [ 5.4560,  3.7492],\n",
       "         [ 1.8370,  4.6630]],\n",
       "\n",
       "        [[ 7.1037,  3.2333],\n",
       "         [ 4.6204,  5.0386],\n",
       "         [ 0.8389,  6.5989],\n",
       "         [ 4.3689, 10.0968],\n",
       "         [ 5.3245,  3.3861],\n",
       "         [ 7.1125,  8.9963]],\n",
       "\n",
       "        [[ 5.4417,  7.2514],\n",
       "         [ 5.5446,  4.6553],\n",
       "         [ 7.5182,  5.3694],\n",
       "         [ 5.2308,  3.2965],\n",
       "         [ 3.7619,  4.0510],\n",
       "         [ 2.2091,  6.6606]]])"
      ]
     },
     "execution_count": 23,
     "metadata": {},
     "output_type": "execute_result"
    }
   ],
   "source": [
    "torch.normal(5.0, 2.0, size=(4, 6, 2))"
   ]
  },
  {
   "cell_type": "markdown",
   "metadata": {},
   "source": [
    "Finally, here is a 4 by 3 tensor filled with random integers generated uniformly between two values: a low 11 (inclusive) and a high 46 (exclusive)."
   ]
  },
  {
   "cell_type": "code",
   "execution_count": 24,
   "metadata": {},
   "outputs": [
    {
     "data": {
      "text/plain": [
       "tensor([[30, 17, 27],\n",
       "        [39, 24, 43],\n",
       "        [38, 27, 12],\n",
       "        [15, 32, 24]])"
      ]
     },
     "execution_count": 24,
     "metadata": {},
     "output_type": "execute_result"
    }
   ],
   "source": [
    "torch.randint(11, 46, size=(4, 3))"
   ]
  },
  {
   "cell_type": "markdown",
   "metadata": {},
   "source": [
    "### Other ways to create tensors\n",
    "\n",
    "We don't have to values to create tensors; they can be uninitialized. Here is a 3 by 3 uninitialized tensor:"
   ]
  },
  {
   "cell_type": "code",
   "execution_count": 25,
   "metadata": {},
   "outputs": [
    {
     "data": {
      "text/plain": [
       "tensor([[0., 0., 0.],\n",
       "        [0., 0., 0.],\n",
       "        [0., 0., 0.]])"
      ]
     },
     "execution_count": 25,
     "metadata": {},
     "output_type": "execute_result"
    }
   ],
   "source": [
    "torch.empty(3, 3)"
   ]
  },
  {
   "cell_type": "markdown",
   "metadata": {},
   "source": [
    "The values you see in this tensor reflect whatever garbage is in its memory location."
   ]
  },
  {
   "cell_type": "markdown",
   "metadata": {},
   "source": [
    "Next, we create a 3D (rank-3) tensor filled with ones:"
   ]
  },
  {
   "cell_type": "code",
   "execution_count": 26,
   "metadata": {},
   "outputs": [
    {
     "data": {
      "text/plain": [
       "(tensor([[[1.],\n",
       "          [1.]],\n",
       " \n",
       "         [[1.],\n",
       "          [1.]],\n",
       " \n",
       "         [[1.],\n",
       "          [1.]]]),\n",
       " 3,\n",
       " torch.Size([3, 2, 1]),\n",
       " torch.float32)"
      ]
     },
     "execution_count": 26,
     "metadata": {},
     "output_type": "execute_result"
    }
   ],
   "source": [
    "t = torch.ones(3, 2, 1)\n",
    "t, t.ndim, t.shape, t.dtype"
   ]
  },
  {
   "cell_type": "markdown",
   "metadata": {},
   "source": [
    "And similarly, here is a tensor filled with zeros:"
   ]
  },
  {
   "cell_type": "code",
   "execution_count": 27,
   "metadata": {},
   "outputs": [
    {
     "data": {
      "text/plain": [
       "(tensor([[0., 0., 0., 0.],\n",
       "         [0., 0., 0., 0.]]),\n",
       " 2,\n",
       " torch.Size([2, 4]),\n",
       " torch.float32)"
      ]
     },
     "execution_count": 27,
     "metadata": {},
     "output_type": "execute_result"
    }
   ],
   "source": [
    "t = torch.zeros(2, 4)\n",
    "t, t.ndim, t.shape, t.dtype"
   ]
  },
  {
   "cell_type": "markdown",
   "metadata": {},
   "source": [
    "We can use the `torch.full` function to create a tensor with a given shape (say `2 by 3`) and populate it with a certain value (say `9.7`):"
   ]
  },
  {
   "cell_type": "code",
   "execution_count": 28,
   "metadata": {},
   "outputs": [
    {
     "data": {
      "text/plain": [
       "(tensor([[9.7000, 9.7000, 9.7000],\n",
       "         [9.7000, 9.7000, 9.7000]]),\n",
       " 2,\n",
       " torch.Size([2, 3]),\n",
       " torch.float32)"
      ]
     },
     "execution_count": 28,
     "metadata": {},
     "output_type": "execute_result"
    }
   ],
   "source": [
    "t = torch.full((2,3), 9.7)\n",
    "t, t.ndim, t.shape, t.dtype"
   ]
  },
  {
   "cell_type": "markdown",
   "metadata": {},
   "source": [
    "We can also create identify matrices: "
   ]
  },
  {
   "cell_type": "code",
   "execution_count": 29,
   "metadata": {},
   "outputs": [
    {
     "data": {
      "text/plain": [
       "(tensor([[1., 0., 0., 0.],\n",
       "         [0., 1., 0., 0.],\n",
       "         [0., 0., 1., 0.],\n",
       "         [0., 0., 0., 1.]]),\n",
       " 2,\n",
       " torch.Size([4, 4]),\n",
       " torch.float32)"
      ]
     },
     "execution_count": 29,
     "metadata": {},
     "output_type": "execute_result"
    }
   ],
   "source": [
    "t = torch.eye(4)\n",
    "t, t.ndim, t.shape, t.dtype"
   ]
  },
  {
   "cell_type": "markdown",
   "metadata": {},
   "source": [
    "## Changing tensors\n",
    "\n",
    "Tensors have certain attributes that we change. Here are few of them:"
   ]
  },
  {
   "cell_type": "markdown",
   "metadata": {},
   "source": [
    "### Changing the `dtype` of a tensor\n",
    "Both PyTorch and NumPy have different default data types. It's important and highly recommended when you create tensors from NumPy data to always specify explicitly the data type you want the tensors to have. Given the array:"
   ]
  },
  {
   "cell_type": "code",
   "execution_count": 30,
   "metadata": {},
   "outputs": [
    {
     "data": {
      "text/plain": [
       "(array([-4. , -3.5, -3. , -2.5, -2. , -1.5, -1. , -0.5,  0. ,  0.5,  1. ,\n",
       "         1.5,  2. ,  2.5,  3. ,  3.5,  4. ]),\n",
       " 1,\n",
       " (17,),\n",
       " dtype('float64'))"
      ]
     },
     "execution_count": 30,
     "metadata": {},
     "output_type": "execute_result"
    }
   ],
   "source": [
    "r = np.linspace(-4, 4, 17)\n",
    "r,r.ndim, r.shape, r.dtype"
   ]
  },
  {
   "cell_type": "markdown",
   "metadata": {},
   "source": [
    "We can convert this array to a tensor with a different data type in multiple ways::"
   ]
  },
  {
   "cell_type": "code",
   "execution_count": 31,
   "metadata": {},
   "outputs": [
    {
     "data": {
      "text/plain": [
       "(tensor([-4.0000, -3.5000, -3.0000, -2.5000, -2.0000, -1.5000, -1.0000, -0.5000,\n",
       "          0.0000,  0.5000,  1.0000,  1.5000,  2.0000,  2.5000,  3.0000,  3.5000,\n",
       "          4.0000]),\n",
       " torch.float32)"
      ]
     },
     "execution_count": 31,
     "metadata": {},
     "output_type": "execute_result"
    }
   ],
   "source": [
    "rt = torch.tensor(r, dtype=torch.float)\n",
    "rt, rt.dtype"
   ]
  },
  {
   "cell_type": "markdown",
   "metadata": {},
   "source": [
    "or:"
   ]
  },
  {
   "cell_type": "code",
   "execution_count": 32,
   "metadata": {},
   "outputs": [
    {
     "data": {
      "text/plain": [
       "(tensor([-4.0000, -3.5000, -3.0000, -2.5000, -2.0000, -1.5000, -1.0000, -0.5000,\n",
       "          0.0000,  0.5000,  1.0000,  1.5000,  2.0000,  2.5000,  3.0000,  3.5000,\n",
       "          4.0000]),\n",
       " torch.float32)"
      ]
     },
     "execution_count": 32,
     "metadata": {},
     "output_type": "execute_result"
    }
   ],
   "source": [
    "rt = torch.from_numpy(r).float()\n",
    "rt, rt.dtype"
   ]
  },
  {
   "cell_type": "markdown",
   "metadata": {},
   "source": [
    "And any tensor can be changed to a different data type using the `to()` method."
   ]
  },
  {
   "cell_type": "code",
   "execution_count": 33,
   "metadata": {},
   "outputs": [
    {
     "data": {
      "text/plain": [
       "(tensor([-4.0000, -3.5000, -3.0000, -2.5000, -2.0000, -1.5000, -1.0000, -0.5000,\n",
       "          0.0000,  0.5000,  1.0000,  1.5000,  2.0000,  2.5000,  3.0000,  3.5000,\n",
       "          4.0000], dtype=torch.float64),\n",
       " torch.float64)"
      ]
     },
     "execution_count": 33,
     "metadata": {},
     "output_type": "execute_result"
    }
   ],
   "source": [
    "rt2 = rt.to(torch.double)\n",
    "rt2, rt2.dtype"
   ]
  },
  {
   "cell_type": "markdown",
   "metadata": {},
   "source": [
    "Check [this documentation page](https://pytorch.org/docs/stable/tensor_attributes.html#torch.dtype) for a list of supported data types."
   ]
  },
  {
   "cell_type": "markdown",
   "metadata": {},
   "source": [
    "### Changing the device of a tensor.\n",
    "\n",
    "All the tensors we have created so far were created in the CPU. We can check that like this:"
   ]
  },
  {
   "cell_type": "code",
   "execution_count": 34,
   "metadata": {},
   "outputs": [
    {
     "data": {
      "text/plain": [
       "device(type='cpu')"
      ]
     },
     "execution_count": 34,
     "metadata": {},
     "output_type": "execute_result"
    }
   ],
   "source": [
    "rt.device"
   ]
  },
  {
   "cell_type": "markdown",
   "metadata": {},
   "source": [
    "We can check if our system supports accelerated hardware such as `cuda` or `mps` (on MacOS)like this"
   ]
  },
  {
   "cell_type": "code",
   "execution_count": 35,
   "metadata": {},
   "outputs": [
    {
     "data": {
      "text/plain": [
       "False"
      ]
     },
     "execution_count": 35,
     "metadata": {},
     "output_type": "execute_result"
    }
   ],
   "source": [
    "torch.cuda.is_available()"
   ]
  },
  {
   "cell_type": "markdown",
   "metadata": {},
   "source": [
    "Or:"
   ]
  },
  {
   "cell_type": "code",
   "execution_count": 36,
   "metadata": {},
   "outputs": [
    {
     "data": {
      "text/plain": [
       "True"
      ]
     },
     "execution_count": 36,
     "metadata": {},
     "output_type": "execute_result"
    }
   ],
   "source": [
    "torch.backends.mps.is_available()"
   ]
  },
  {
   "cell_type": "markdown",
   "metadata": {},
   "source": [
    "We can create a tensor on a specific GPU like this:"
   ]
  },
  {
   "cell_type": "code",
   "execution_count": 37,
   "metadata": {},
   "outputs": [
    {
     "data": {
      "text/plain": [
       "tensor([[1., 1., 1., 1., 1.],\n",
       "        [1., 1., 1., 1., 1.],\n",
       "        [1., 1., 1., 1., 1.],\n",
       "        [1., 1., 1., 1., 1.],\n",
       "        [1., 1., 1., 1., 1.]], device='mps:0')"
      ]
     },
     "execution_count": 37,
     "metadata": {},
     "output_type": "execute_result"
    }
   ],
   "source": [
    "if torch.cuda.is_available():\n",
    "    x = torch.ones((5, 5), device='cuda')\n",
    "elif torch.backends.mps.is_available():\n",
    "    x = torch.ones((5, 5), device='mps')\n",
    "else:\n",
    "    x = torch.ones((5, 5), device='cpu')\n",
    "\n",
    "x"
   ]
  },
  {
   "cell_type": "markdown",
   "metadata": {},
   "source": [
    "A better approach is to have something like this:"
   ]
  },
  {
   "cell_type": "code",
   "execution_count": 38,
   "metadata": {},
   "outputs": [],
   "source": [
    "device = torch.device('cuda' if torch.cuda.is_available() else 'cpu')"
   ]
  },
  {
   "cell_type": "markdown",
   "metadata": {},
   "source": [
    "Then, every time you want to create a tensor on a supported GPU, you right something like this:"
   ]
  },
  {
   "cell_type": "code",
   "execution_count": 39,
   "metadata": {},
   "outputs": [
    {
     "data": {
      "text/plain": [
       "tensor([7., 6., 9.])"
      ]
     },
     "execution_count": 39,
     "metadata": {},
     "output_type": "execute_result"
    }
   ],
   "source": [
    "y = torch.tensor([7, 6, 9], dtype=torch.float32, device=device)\n",
    "y"
   ]
  },
  {
   "cell_type": "markdown",
   "metadata": {},
   "source": [
    "**NOTICE THAT** we can re-create an existing tensor of one device in another using the `to()` method. For example, the tensor:"
   ]
  },
  {
   "cell_type": "code",
   "execution_count": 40,
   "metadata": {},
   "outputs": [
    {
     "data": {
      "text/plain": [
       "tensor([[1., 1., 1., 1., 1.],\n",
       "        [1., 1., 1., 1., 1.],\n",
       "        [1., 1., 1., 1., 1.],\n",
       "        [1., 1., 1., 1., 1.],\n",
       "        [1., 1., 1., 1., 1.]], device='mps:0')"
      ]
     },
     "execution_count": 40,
     "metadata": {},
     "output_type": "execute_result"
    }
   ],
   "source": [
    "x"
   ]
  },
  {
   "cell_type": "markdown",
   "metadata": {},
   "source": [
    "can be re-created in the CPU like this:"
   ]
  },
  {
   "cell_type": "code",
   "execution_count": 41,
   "metadata": {},
   "outputs": [
    {
     "data": {
      "text/plain": [
       "tensor([[1., 1., 1., 1., 1.],\n",
       "        [1., 1., 1., 1., 1.],\n",
       "        [1., 1., 1., 1., 1.],\n",
       "        [1., 1., 1., 1., 1.],\n",
       "        [1., 1., 1., 1., 1.]])"
      ]
     },
     "execution_count": 41,
     "metadata": {},
     "output_type": "execute_result"
    }
   ],
   "source": [
    "x.to(device='cpu')"
   ]
  },
  {
   "cell_type": "code",
   "execution_count": 42,
   "metadata": {},
   "outputs": [
    {
     "data": {
      "text/plain": [
       "tensor([[1., 1., 1., 1., 1.],\n",
       "        [1., 1., 1., 1., 1.],\n",
       "        [1., 1., 1., 1., 1.],\n",
       "        [1., 1., 1., 1., 1.],\n",
       "        [1., 1., 1., 1., 1.]], device='mps:0')"
      ]
     },
     "execution_count": 42,
     "metadata": {},
     "output_type": "execute_result"
    }
   ],
   "source": [
    "x"
   ]
  },
  {
   "cell_type": "markdown",
   "metadata": {},
   "source": [
    "### Reshaping and transposing a tensor\n",
    "We can reshape a tensor using the `reshape()` method:"
   ]
  },
  {
   "cell_type": "code",
   "execution_count": 43,
   "metadata": {},
   "outputs": [
    {
     "data": {
      "text/plain": [
       "tensor([0.7009, 0.3105, 0.2115, 0.5456, 0.7595, 0.3313, 0.0695, 0.2692, 0.1510,\n",
       "        0.0182, 0.1681, 0.6722, 0.0483, 0.6568, 0.5558, 0.2432, 0.7911, 0.5242,\n",
       "        0.6310, 0.0962, 0.3618, 0.5136, 0.6393, 0.4931, 0.7278, 0.2047, 0.2617,\n",
       "        0.1803, 0.4954, 0.9245, 0.7630, 0.7823])"
      ]
     },
     "execution_count": 43,
     "metadata": {},
     "output_type": "execute_result"
    }
   ],
   "source": [
    "x = torch.rand(32)\n",
    "x"
   ]
  },
  {
   "cell_type": "code",
   "execution_count": 44,
   "metadata": {},
   "outputs": [
    {
     "data": {
      "text/plain": [
       "(tensor([[0.7009, 0.3105, 0.2115, 0.5456, 0.7595, 0.3313, 0.0695, 0.2692, 0.1510,\n",
       "          0.0182, 0.1681, 0.6722, 0.0483, 0.6568, 0.5558, 0.2432],\n",
       "         [0.7911, 0.5242, 0.6310, 0.0962, 0.3618, 0.5136, 0.6393, 0.4931, 0.7278,\n",
       "          0.2047, 0.2617, 0.1803, 0.4954, 0.9245, 0.7630, 0.7823]]),\n",
       " torch.Size([2, 16]))"
      ]
     },
     "execution_count": 44,
     "metadata": {},
     "output_type": "execute_result"
    }
   ],
   "source": [
    "x = x.reshape(2, 16)\n",
    "x, x.shape"
   ]
  },
  {
   "cell_type": "code",
   "execution_count": 45,
   "metadata": {},
   "outputs": [
    {
     "data": {
      "text/plain": [
       "(tensor([[0.7009, 0.3105, 0.2115, 0.5456, 0.7595, 0.3313, 0.0695, 0.2692],\n",
       "         [0.1510, 0.0182, 0.1681, 0.6722, 0.0483, 0.6568, 0.5558, 0.2432],\n",
       "         [0.7911, 0.5242, 0.6310, 0.0962, 0.3618, 0.5136, 0.6393, 0.4931],\n",
       "         [0.7278, 0.2047, 0.2617, 0.1803, 0.4954, 0.9245, 0.7630, 0.7823]]),\n",
       " torch.Size([4, 8]))"
      ]
     },
     "execution_count": 45,
     "metadata": {},
     "output_type": "execute_result"
    }
   ],
   "source": [
    "x = x.reshape(4, 8)\n",
    "x, x.shape"
   ]
  },
  {
   "cell_type": "markdown",
   "metadata": {},
   "source": [
    "You can transpose the above matrix like this:"
   ]
  },
  {
   "cell_type": "code",
   "execution_count": 46,
   "metadata": {},
   "outputs": [
    {
     "data": {
      "text/plain": [
       "tensor([[0.7009, 0.1510, 0.7911, 0.7278],\n",
       "        [0.3105, 0.0182, 0.5242, 0.2047],\n",
       "        [0.2115, 0.1681, 0.6310, 0.2617],\n",
       "        [0.5456, 0.6722, 0.0962, 0.1803],\n",
       "        [0.7595, 0.0483, 0.3618, 0.4954],\n",
       "        [0.3313, 0.6568, 0.5136, 0.9245],\n",
       "        [0.0695, 0.5558, 0.6393, 0.7630],\n",
       "        [0.2692, 0.2432, 0.4931, 0.7823]])"
      ]
     },
     "execution_count": 46,
     "metadata": {},
     "output_type": "execute_result"
    }
   ],
   "source": [
    "x.T"
   ]
  },
  {
   "cell_type": "markdown",
   "metadata": {},
   "source": [
    "More generally, use `torch.transpose` to transpose a tensor of any dimensionality. For example, the following transposes the matrix above by swapping dimensions 0 and 1."
   ]
  },
  {
   "cell_type": "code",
   "execution_count": 47,
   "metadata": {
    "tags": []
   },
   "outputs": [
    {
     "data": {
      "text/plain": [
       "tensor([[1., 0., 0., 0.],\n",
       "        [0., 1., 0., 0.],\n",
       "        [0., 0., 1., 0.],\n",
       "        [0., 0., 0., 1.]])"
      ]
     },
     "execution_count": 47,
     "metadata": {},
     "output_type": "execute_result"
    }
   ],
   "source": [
    "torch.transpose(t, 0, 1)"
   ]
  },
  {
   "cell_type": "markdown",
   "metadata": {},
   "source": [
    "## Working with tensors\n",
    "### Indexing and slicing\n",
    "Indexing and slicing tensors is similar to indexing NumPy arrays. It's also similar to the basic rules of NumPy indexing. Indexes start at `0`, negative indexes count backwards from the end; and colons `:` are used for slices using the format: `start:stop:step`. Given the tensor:"
   ]
  },
  {
   "cell_type": "code",
   "execution_count": 48,
   "metadata": {
    "tags": []
   },
   "outputs": [
    {
     "data": {
      "text/plain": [
       "tensor([[0.7009, 0.3105, 0.2115, 0.5456],\n",
       "        [0.7595, 0.3313, 0.0695, 0.2692],\n",
       "        [0.1510, 0.0182, 0.1681, 0.6722],\n",
       "        [0.0483, 0.6568, 0.5558, 0.2432],\n",
       "        [0.7911, 0.5242, 0.6310, 0.0962],\n",
       "        [0.3618, 0.5136, 0.6393, 0.4931],\n",
       "        [0.7278, 0.2047, 0.2617, 0.1803],\n",
       "        [0.4954, 0.9245, 0.7630, 0.7823]])"
      ]
     },
     "execution_count": 48,
     "metadata": {},
     "output_type": "execute_result"
    }
   ],
   "source": [
    "v_2d = torch.clone(x).reshape(8, 4)\n",
    "v_2d"
   ]
  },
  {
   "cell_type": "markdown",
   "metadata": {},
   "source": [
    "Here is the element at the top left corner:"
   ]
  },
  {
   "cell_type": "code",
   "execution_count": 49,
   "metadata": {},
   "outputs": [
    {
     "data": {
      "text/plain": [
       "tensor(0.7009)"
      ]
     },
     "execution_count": 49,
     "metadata": {},
     "output_type": "execute_result"
    }
   ],
   "source": [
    "v_2d[0,0]"
   ]
  },
  {
   "cell_type": "markdown",
   "metadata": {},
   "source": [
    "Here is the last column:"
   ]
  },
  {
   "cell_type": "code",
   "execution_count": 50,
   "metadata": {},
   "outputs": [
    {
     "data": {
      "text/plain": [
       "tensor([0.5456, 0.2692, 0.6722, 0.2432, 0.0962, 0.4931, 0.1803, 0.7823])"
      ]
     },
     "execution_count": 50,
     "metadata": {},
     "output_type": "execute_result"
    }
   ],
   "source": [
    "v_2d[:,-1]"
   ]
  },
  {
   "cell_type": "markdown",
   "metadata": {},
   "source": [
    "and the last row:"
   ]
  },
  {
   "cell_type": "code",
   "execution_count": 51,
   "metadata": {},
   "outputs": [
    {
     "data": {
      "text/plain": [
       "tensor([0.4954, 0.9245, 0.7630, 0.7823])"
      ]
     },
     "execution_count": 51,
     "metadata": {},
     "output_type": "execute_result"
    }
   ],
   "source": [
    "v_2d[-1,:]"
   ]
  },
  {
   "cell_type": "markdown",
   "metadata": {},
   "source": [
    "And finally here are every other row starting at the top:"
   ]
  },
  {
   "cell_type": "code",
   "execution_count": 52,
   "metadata": {},
   "outputs": [
    {
     "data": {
      "text/plain": [
       "tensor([[0.7009, 0.3105, 0.2115, 0.5456],\n",
       "        [0.1510, 0.0182, 0.1681, 0.6722],\n",
       "        [0.7911, 0.5242, 0.6310, 0.0962],\n",
       "        [0.7278, 0.2047, 0.2617, 0.1803]])"
      ]
     },
     "execution_count": 52,
     "metadata": {},
     "output_type": "execute_result"
    }
   ],
   "source": [
    "v_2d[0:8:2,:]"
   ]
  },
  {
   "cell_type": "markdown",
   "metadata": {},
   "source": [
    "### Splitting  and concatenating tensors\n",
    "We can use the `torch.split` to split a tensor into multiple parts."
   ]
  },
  {
   "cell_type": "code",
   "execution_count": 53,
   "metadata": {},
   "outputs": [
    {
     "data": {
      "text/plain": [
       "(tensor([[0.7009, 0.3105, 0.2115, 0.5456, 0.7595, 0.3313, 0.0695, 0.2692],\n",
       "         [0.1510, 0.0182, 0.1681, 0.6722, 0.0483, 0.6568, 0.5558, 0.2432]]),\n",
       " tensor([[0.7911, 0.5242, 0.6310, 0.0962, 0.3618, 0.5136, 0.6393, 0.4931],\n",
       "         [0.7278, 0.2047, 0.2617, 0.1803, 0.4954, 0.9245, 0.7630, 0.7823]]))"
      ]
     },
     "execution_count": 53,
     "metadata": {},
     "output_type": "execute_result"
    }
   ],
   "source": [
    "p1, p2 = torch.split(x, split_size_or_sections=2)\n",
    "p1, p2"
   ]
  },
  {
   "cell_type": "markdown",
   "metadata": {},
   "source": [
    "And if you have multiple tensors that you want to put together, we can use `torch.concat` or `torch.concatenate` or `torch.cat` along a given axis."
   ]
  },
  {
   "cell_type": "code",
   "execution_count": 54,
   "metadata": {},
   "outputs": [
    {
     "data": {
      "text/plain": [
       "tensor([[0.7009, 0.3105, 0.2115, 0.5456, 0.7595, 0.3313, 0.0695, 0.2692],\n",
       "        [0.1510, 0.0182, 0.1681, 0.6722, 0.0483, 0.6568, 0.5558, 0.2432],\n",
       "        [0.7911, 0.5242, 0.6310, 0.0962, 0.3618, 0.5136, 0.6393, 0.4931],\n",
       "        [0.7278, 0.2047, 0.2617, 0.1803, 0.4954, 0.9245, 0.7630, 0.7823]])"
      ]
     },
     "execution_count": 54,
     "metadata": {},
     "output_type": "execute_result"
    }
   ],
   "source": [
    "torch.concat((p1, p2), axis=0)"
   ]
  },
  {
   "cell_type": "markdown",
   "metadata": {},
   "source": [
    "or"
   ]
  },
  {
   "cell_type": "code",
   "execution_count": 55,
   "metadata": {},
   "outputs": [
    {
     "data": {
      "text/plain": [
       "tensor([[0.7009, 0.3105, 0.2115, 0.5456, 0.7595, 0.3313, 0.0695, 0.2692, 0.7911,\n",
       "         0.5242, 0.6310, 0.0962, 0.3618, 0.5136, 0.6393, 0.4931],\n",
       "        [0.1510, 0.0182, 0.1681, 0.6722, 0.0483, 0.6568, 0.5558, 0.2432, 0.7278,\n",
       "         0.2047, 0.2617, 0.1803, 0.4954, 0.9245, 0.7630, 0.7823]])"
      ]
     },
     "execution_count": 55,
     "metadata": {},
     "output_type": "execute_result"
    }
   ],
   "source": [
    "torch.concat((p1, p2), axis=1)"
   ]
  },
  {
   "cell_type": "markdown",
   "metadata": {},
   "source": [
    "But if we want to arrange or stack tenors along a new dimension, then we use `torch.stack`. For example, given the following three one-deminsional tensors:"
   ]
  },
  {
   "cell_type": "code",
   "execution_count": 56,
   "metadata": {},
   "outputs": [
    {
     "data": {
      "text/plain": [
       "(torch.Size([3]), torch.Size([3]), torch.Size([3]))"
      ]
     },
     "execution_count": 56,
     "metadata": {},
     "output_type": "execute_result"
    }
   ],
   "source": [
    "x = torch.tensor([1,3,5])\n",
    "y = torch.tensor([10,30,50])\n",
    "z = torch.tensor([100,300,500])\n",
    "\n",
    "x.shape, y.shape, z.shape"
   ]
  },
  {
   "cell_type": "markdown",
   "metadata": {},
   "source": [
    "We can stack these tensors to make a two-dimensional matrix:"
   ]
  },
  {
   "cell_type": "code",
   "execution_count": 57,
   "metadata": {},
   "outputs": [
    {
     "data": {
      "text/plain": [
       "tensor([[  1,   3,   5],\n",
       "        [ 10,  30,  50],\n",
       "        [100, 300, 500]])"
      ]
     },
     "execution_count": 57,
     "metadata": {},
     "output_type": "execute_result"
    }
   ],
   "source": [
    "torch.stack([x, y, z])"
   ]
  },
  {
   "cell_type": "markdown",
   "metadata": {},
   "source": [
    "or"
   ]
  },
  {
   "cell_type": "code",
   "execution_count": 58,
   "metadata": {},
   "outputs": [
    {
     "data": {
      "text/plain": [
       "tensor([[  1,  10, 100],\n",
       "        [  3,  30, 300],\n",
       "        [  5,  50, 500]])"
      ]
     },
     "execution_count": 58,
     "metadata": {},
     "output_type": "execute_result"
    }
   ],
   "source": [
    "torch.stack([x, y, z], axis=1)"
   ]
  },
  {
   "cell_type": "markdown",
   "metadata": {},
   "source": [
    "## Mathematical functions\n",
    "\n",
    "### Basic operations\n",
    "We can apply simple mathematical operations to tensors. We can also apply linear algebra operations such as the dot product or the matrix multiplication. Let's start by creating two tensors both on the same device."
   ]
  },
  {
   "cell_type": "code",
   "execution_count": 59,
   "metadata": {},
   "outputs": [
    {
     "data": {
      "text/plain": [
       "(tensor([[14.3706,  3.5976,  9.5152],\n",
       "         [10.0047,  7.3342, 11.6616],\n",
       "         [12.3461,  8.6009, 10.1178],\n",
       "         [ 7.1976, 10.6908,  7.6625]]),\n",
       " tensor([[9.7000, 9.7000, 9.7000],\n",
       "         [9.7000, 9.7000, 9.7000],\n",
       "         [9.7000, 9.7000, 9.7000],\n",
       "         [9.7000, 9.7000, 9.7000]]))"
      ]
     },
     "execution_count": 59,
     "metadata": {},
     "output_type": "execute_result"
    }
   ],
   "source": [
    "t1 = torch.normal(10, 3, size=(4, 3))\n",
    "t2 = torch.full((4, 3), 9.7)\n",
    "\n",
    "t1, t2"
   ]
  },
  {
   "cell_type": "markdown",
   "metadata": {},
   "source": [
    "Here are a few familiar operations:"
   ]
  },
  {
   "cell_type": "code",
   "execution_count": 60,
   "metadata": {},
   "outputs": [
    {
     "data": {
      "text/plain": [
       "tensor([[28.7412,  7.1952, 19.0305],\n",
       "        [20.0093, 14.6683, 23.3232],\n",
       "        [24.6922, 17.2018, 20.2355],\n",
       "        [14.3952, 21.3815, 15.3249]])"
      ]
     },
     "execution_count": 60,
     "metadata": {},
     "output_type": "execute_result"
    }
   ],
   "source": [
    "2 * t1"
   ]
  },
  {
   "cell_type": "code",
   "execution_count": 61,
   "metadata": {},
   "outputs": [
    {
     "data": {
      "text/plain": [
       "tensor([[24.0706, 13.2976, 19.2152],\n",
       "        [19.7047, 17.0342, 21.3616],\n",
       "        [22.0461, 18.3009, 19.8178],\n",
       "        [16.8976, 20.3908, 17.3625]])"
      ]
     },
     "execution_count": 61,
     "metadata": {},
     "output_type": "execute_result"
    }
   ],
   "source": [
    "t1 + t2"
   ]
  },
  {
   "cell_type": "code",
   "execution_count": 62,
   "metadata": {},
   "outputs": [
    {
     "data": {
      "text/plain": [
       "tensor([[ 4.6706, -6.1024, -0.1848],\n",
       "        [ 0.3047, -2.3658,  1.9616],\n",
       "        [ 2.6461, -1.0991,  0.4178],\n",
       "        [-2.5024,  0.9908, -2.0375]])"
      ]
     },
     "execution_count": 62,
     "metadata": {},
     "output_type": "execute_result"
    }
   ],
   "source": [
    "t1 - t2"
   ]
  },
  {
   "cell_type": "code",
   "execution_count": 63,
   "metadata": {},
   "outputs": [
    {
     "data": {
      "text/plain": [
       "tensor([[139.3947,  34.8967,  92.2979],\n",
       "        [ 97.0453,  71.1413, 113.1173],\n",
       "        [119.7574,  83.4287,  98.1424],\n",
       "        [ 69.8166, 103.7004,  74.3259]])"
      ]
     },
     "execution_count": 63,
     "metadata": {},
     "output_type": "execute_result"
    }
   ],
   "source": [
    "t1 * t2"
   ]
  },
  {
   "cell_type": "code",
   "execution_count": 64,
   "metadata": {},
   "outputs": [
    {
     "data": {
      "text/plain": [
       "tensor([[0.6750, 2.6962, 1.0194],\n",
       "        [0.9695, 1.3226, 0.8318],\n",
       "        [0.7857, 1.1278, 0.9587],\n",
       "        [1.3477, 0.9073, 1.2659]])"
      ]
     },
     "execution_count": 64,
     "metadata": {},
     "output_type": "execute_result"
    }
   ],
   "source": [
    "t2 / t1"
   ]
  },
  {
   "cell_type": "code",
   "execution_count": 65,
   "metadata": {},
   "outputs": [
    {
     "data": {
      "text/plain": [
       "tensor([[1., 0., 0.],\n",
       "        [1., 0., 1.],\n",
       "        [1., 0., 1.],\n",
       "        [0., 1., 0.]])"
      ]
     },
     "execution_count": 65,
     "metadata": {},
     "output_type": "execute_result"
    }
   ],
   "source": [
    "t1 // t2"
   ]
  },
  {
   "cell_type": "markdown",
   "metadata": {},
   "source": [
    "The above operations could also be done like this:"
   ]
  },
  {
   "cell_type": "code",
   "execution_count": 66,
   "metadata": {},
   "outputs": [
    {
     "data": {
      "text/plain": [
       "tensor([[28.7412,  7.1952, 19.0305],\n",
       "        [20.0093, 14.6683, 23.3232],\n",
       "        [24.6922, 17.2018, 20.2355],\n",
       "        [14.3952, 21.3815, 15.3249]])"
      ]
     },
     "execution_count": 66,
     "metadata": {},
     "output_type": "execute_result"
    }
   ],
   "source": [
    "torch.multiply(2, t1)"
   ]
  },
  {
   "cell_type": "code",
   "execution_count": 67,
   "metadata": {},
   "outputs": [
    {
     "data": {
      "text/plain": [
       "tensor([[24.0706, 13.2976, 19.2152],\n",
       "        [19.7047, 17.0342, 21.3616],\n",
       "        [22.0461, 18.3009, 19.8178],\n",
       "        [16.8976, 20.3908, 17.3625]])"
      ]
     },
     "execution_count": 67,
     "metadata": {},
     "output_type": "execute_result"
    }
   ],
   "source": [
    "torch.add(t1, t2)"
   ]
  },
  {
   "cell_type": "code",
   "execution_count": 68,
   "metadata": {},
   "outputs": [
    {
     "data": {
      "text/plain": [
       "tensor([[ 4.6706, -6.1024, -0.1848],\n",
       "        [ 0.3047, -2.3658,  1.9616],\n",
       "        [ 2.6461, -1.0991,  0.4178],\n",
       "        [-2.5024,  0.9908, -2.0375]])"
      ]
     },
     "execution_count": 68,
     "metadata": {},
     "output_type": "execute_result"
    }
   ],
   "source": [
    "torch.subtract(t1, t2)"
   ]
  },
  {
   "cell_type": "code",
   "execution_count": 69,
   "metadata": {},
   "outputs": [
    {
     "data": {
      "text/plain": [
       "tensor([[139.3947,  34.8967,  92.2979],\n",
       "        [ 97.0453,  71.1413, 113.1173],\n",
       "        [119.7574,  83.4287,  98.1424],\n",
       "        [ 69.8166, 103.7004,  74.3259]])"
      ]
     },
     "execution_count": 69,
     "metadata": {},
     "output_type": "execute_result"
    }
   ],
   "source": [
    "torch.multiply(t1, t2)"
   ]
  },
  {
   "cell_type": "code",
   "execution_count": 70,
   "metadata": {},
   "outputs": [
    {
     "data": {
      "text/plain": [
       "tensor([[0.6750, 2.6962, 1.0194],\n",
       "        [0.9695, 1.3226, 0.8318],\n",
       "        [0.7857, 1.1278, 0.9587],\n",
       "        [1.3477, 0.9073, 1.2659]])"
      ]
     },
     "execution_count": 70,
     "metadata": {},
     "output_type": "execute_result"
    }
   ],
   "source": [
    "torch.divide(t2, t1)"
   ]
  },
  {
   "cell_type": "markdown",
   "metadata": {},
   "source": [
    "PyTorch provides implementations for many of the familiar mathematical operations such `sin()`, `cos()`, `exp()`, and `pow()` to name a few. \n",
    "\n",
    "Here is a plot with these functions:"
   ]
  },
  {
   "cell_type": "code",
   "execution_count": 71,
   "metadata": {},
   "outputs": [
    {
     "data": {
      "image/png": "[encoded data removed]",
      "text/plain": [
       "<Figure size 1600x900 with 4 Axes>"
      ]
     },
     "metadata": {},
     "output_type": "display_data"
    }
   ],
   "source": [
    "x = torch.arange(-5, 5 , 0.1)\n",
    "fig = plt.figure(figsize=(16,9))\n",
    "\n",
    "ax = fig.add_subplot(2, 2, 1) # First subplot\n",
    "\n",
    "ax.plot(x, 3 + torch.pow(x, 3), 'b-')  \n",
    "ax.set_ylabel(\"$3 + x^3$\")\n",
    "ax.set_xlabel('x')\n",
    "ax.set_title(\"Cubic function\")\n",
    "ax.grid()\n",
    "\n",
    "ax = fig.add_subplot(2, 2, 2) # Second subplot\n",
    "ax.plot(x, -2 + torch.exp(-x**2), 'r-')\n",
    "ax.set_ylabel(\"$exp(-x^2)$\")\n",
    "ax.set_xlabel('x')\n",
    "ax.set_title(\"Exponential function\")\n",
    "ax.grid()\n",
    "\n",
    "ax = fig.add_subplot(2, 2, 3) # Third subplot\n",
    "ax.plot(x, torch.tanh(x), 'g-')\n",
    "ax.set_ylabel(\"$ tanh(x)$\")\n",
    "ax.set_xlabel('x')\n",
    "ax.set_title(\"Sigmoid function\")\n",
    "ax.grid()\n",
    "\n",
    "ax = fig.add_subplot(2, 2, 4) # Fourth subplot\n",
    "ax.plot(x, 3 + torch.sin(x**2), 'm-')\n",
    "ax.set_ylabel(\"$3 + sin(x^2)$\")\n",
    "ax.set_xlabel('x')\n",
    "ax.set_title(\"Sinsiodal function\")\n",
    "ax.grid()\n",
    "\n",
    "plt.show()"
   ]
  },
  {
   "cell_type": "markdown",
   "metadata": {},
   "source": [
    "### Linear algebra operations\n",
    "\n",
    "Given the above `t1` and `t2` matrices, we can perform matrix multiplication $t_1^T \\times t_2$ using the `tf.linalg.matmul` function:"
   ]
  },
  {
   "cell_type": "code",
   "execution_count": 72,
   "metadata": {},
   "outputs": [
    {
     "data": {
      "text/plain": [
       "(torch.float32, torch.float32)"
      ]
     },
     "execution_count": 72,
     "metadata": {},
     "output_type": "execute_result"
    }
   ],
   "source": [
    "t1.dtype, t2.dtype"
   ]
  },
  {
   "cell_type": "code",
   "execution_count": 73,
   "metadata": {
    "tags": []
   },
   "outputs": [
    {
     "data": {
      "text/plain": [
       "tensor([[426.0139, 426.0139, 426.0139],\n",
       "        [293.1672, 293.1672, 293.1672],\n",
       "        [377.8835, 377.8835, 377.8835]])"
      ]
     },
     "execution_count": 73,
     "metadata": {},
     "output_type": "execute_result"
    }
   ],
   "source": [
    "torch.matmul(t1.T, t2)"
   ]
  },
  {
   "cell_type": "markdown",
   "metadata": {},
   "source": [
    "or:"
   ]
  },
  {
   "cell_type": "code",
   "execution_count": 74,
   "metadata": {},
   "outputs": [
    {
     "data": {
      "text/plain": [
       "tensor([[426.0139, 426.0139, 426.0139],\n",
       "        [293.1672, 293.1672, 293.1672],\n",
       "        [377.8835, 377.8835, 377.8835]])"
      ]
     },
     "execution_count": 74,
     "metadata": {},
     "output_type": "execute_result"
    }
   ],
   "source": [
    "t1.T @ t2"
   ]
  },
  {
   "cell_type": "markdown",
   "metadata": {},
   "source": [
    "Given the two 1D vectors below:"
   ]
  },
  {
   "cell_type": "code",
   "execution_count": 75,
   "metadata": {},
   "outputs": [],
   "source": [
    "a = torch.tensor([2,3,4,5])\n",
    "b = torch.tensor([-1, 4, 2, 1])"
   ]
  },
  {
   "cell_type": "markdown",
   "metadata": {},
   "source": [
    "we can write the dot product $a . b$ as:"
   ]
  },
  {
   "cell_type": "code",
   "execution_count": 76,
   "metadata": {},
   "outputs": [
    {
     "data": {
      "text/plain": [
       "tensor(23)"
      ]
     },
     "execution_count": 76,
     "metadata": {},
     "output_type": "execute_result"
    }
   ],
   "source": [
    "torch.dot(a, b)"
   ]
  },
  {
   "cell_type": "markdown",
   "metadata": {},
   "source": [
    "which we can verify by making sure it has the same value as:"
   ]
  },
  {
   "cell_type": "code",
   "execution_count": 77,
   "metadata": {},
   "outputs": [
    {
     "data": {
      "text/plain": [
       "tensor(23)"
      ]
     },
     "execution_count": 77,
     "metadata": {},
     "output_type": "execute_result"
    }
   ],
   "source": [
    "torch.sum(a * b)"
   ]
  },
  {
   "cell_type": "markdown",
   "metadata": {},
   "source": [
    "### Numerical (statistical) operations: Mean, sum, min, and max\n",
    "Here is also how to obtain the mean, sum, min, max of a tensor such as:"
   ]
  },
  {
   "cell_type": "code",
   "execution_count": 78,
   "metadata": {
    "tags": []
   },
   "outputs": [
    {
     "data": {
      "text/plain": [
       "tensor([[14.3706,  3.5976,  9.5152],\n",
       "        [10.0047,  7.3342, 11.6616],\n",
       "        [12.3461,  8.6009, 10.1178],\n",
       "        [ 7.1976, 10.6908,  7.6625]])"
      ]
     },
     "execution_count": 78,
     "metadata": {},
     "output_type": "execute_result"
    }
   ],
   "source": [
    "t1"
   ]
  },
  {
   "cell_type": "markdown",
   "metadata": {},
   "source": [
    "The overall mean, sum, min, and max are:"
   ]
  },
  {
   "cell_type": "code",
   "execution_count": 79,
   "metadata": {},
   "outputs": [
    {
     "data": {
      "text/plain": [
       "tensor(9.4250)"
      ]
     },
     "execution_count": 79,
     "metadata": {},
     "output_type": "execute_result"
    }
   ],
   "source": [
    "torch.mean(t1, dtype=torch.float)"
   ]
  },
  {
   "cell_type": "code",
   "execution_count": 80,
   "metadata": {},
   "outputs": [
    {
     "data": {
      "text/plain": [
       "tensor(7.9543)"
      ]
     },
     "execution_count": 80,
     "metadata": {},
     "output_type": "execute_result"
    }
   ],
   "source": [
    "torch.var(t1)"
   ]
  },
  {
   "cell_type": "code",
   "execution_count": 81,
   "metadata": {},
   "outputs": [
    {
     "data": {
      "text/plain": [
       "tensor(2.8203)"
      ]
     },
     "execution_count": 81,
     "metadata": {},
     "output_type": "execute_result"
    }
   ],
   "source": [
    "torch.std(t1)"
   ]
  },
  {
   "cell_type": "code",
   "execution_count": 82,
   "metadata": {},
   "outputs": [
    {
     "data": {
      "text/plain": [
       "tensor(113.0994)"
      ]
     },
     "execution_count": 82,
     "metadata": {},
     "output_type": "execute_result"
    }
   ],
   "source": [
    "torch.sum(t1)"
   ]
  },
  {
   "cell_type": "code",
   "execution_count": 83,
   "metadata": {},
   "outputs": [
    {
     "data": {
      "text/plain": [
       "tensor(3.5976)"
      ]
     },
     "execution_count": 83,
     "metadata": {},
     "output_type": "execute_result"
    }
   ],
   "source": [
    "torch.min(t1)"
   ]
  },
  {
   "cell_type": "code",
   "execution_count": 84,
   "metadata": {},
   "outputs": [
    {
     "data": {
      "text/plain": [
       "tensor(14.3706)"
      ]
     },
     "execution_count": 84,
     "metadata": {},
     "output_type": "execute_result"
    }
   ],
   "source": [
    "torch.max(t1)"
   ]
  },
  {
   "cell_type": "markdown",
   "metadata": {},
   "source": [
    "And here are the above quantities for each row:"
   ]
  },
  {
   "cell_type": "code",
   "execution_count": 85,
   "metadata": {},
   "outputs": [
    {
     "data": {
      "text/plain": [
       "tensor([ 9.1611,  9.6668, 10.3549,  8.5169])"
      ]
     },
     "execution_count": 85,
     "metadata": {},
     "output_type": "execute_result"
    }
   ],
   "source": [
    "torch.mean(t1, axis=1)"
   ]
  },
  {
   "cell_type": "code",
   "execution_count": 86,
   "metadata": {},
   "outputs": [
    {
     "data": {
      "text/plain": [
       "tensor([5.3952, 2.1834, 1.8838, 1.8969])"
      ]
     },
     "execution_count": 86,
     "metadata": {},
     "output_type": "execute_result"
    }
   ],
   "source": [
    "torch.std(t1, axis=1)"
   ]
  },
  {
   "cell_type": "code",
   "execution_count": 87,
   "metadata": {},
   "outputs": [
    {
     "data": {
      "text/plain": [
       "tensor([27.4834, 29.0004, 31.0648, 25.5508])"
      ]
     },
     "execution_count": 87,
     "metadata": {},
     "output_type": "execute_result"
    }
   ],
   "source": [
    "torch.sum(t1, axis=1)"
   ]
  },
  {
   "cell_type": "code",
   "execution_count": 88,
   "metadata": {},
   "outputs": [
    {
     "data": {
      "text/plain": [
       "torch.return_types.min(\n",
       "values=tensor([3.5976, 7.3342, 8.6009, 7.1976]),\n",
       "indices=tensor([1, 1, 1, 0]))"
      ]
     },
     "execution_count": 88,
     "metadata": {},
     "output_type": "execute_result"
    }
   ],
   "source": [
    "torch.min(t1, axis=1)"
   ]
  },
  {
   "cell_type": "code",
   "execution_count": 89,
   "metadata": {},
   "outputs": [
    {
     "data": {
      "text/plain": [
       "torch.return_types.max(\n",
       "values=tensor([14.3706, 11.6616, 12.3461, 10.6908]),\n",
       "indices=tensor([0, 2, 0, 1]))"
      ]
     },
     "execution_count": 89,
     "metadata": {},
     "output_type": "execute_result"
    }
   ],
   "source": [
    "torch.max(t1, axis=1)"
   ]
  },
  {
   "cell_type": "markdown",
   "metadata": {},
   "source": [
    "## Autograd: Calculating gradients in PyTorch\n",
    "\n",
    "One significant reason PyTorch is widely used in deep learning is its capability to calculate the gradients (partial derivatives) of any differentiable function composed of one or more tensor operations. This feature facilitates the creation of gradient-based models, as covered in this course. The component of PyTorch responsible for gradient calculation is **[Autograd](https://pytorch.org/tutorials/beginner/blitz/autograd_tutorial.html)**.\n",
    "\n",
    "Here is an  example function: $$ y = f(x) = \\cos^3(x) + \\sin(x) $$\n",
    "\n",
    "Let's plot a segment of it:"
   ]
  },
  {
   "cell_type": "code",
   "execution_count": 90,
   "metadata": {},
   "outputs": [
    {
     "data": {
      "image/png": "[encoded data removed]",
      "text/plain": [
       "<Figure size 640x480 with 1 Axes>"
      ]
     },
     "metadata": {},
     "output_type": "display_data"
    }
   ],
   "source": [
    "import numpy as np\n",
    "import matplotlib.pyplot as plt\n",
    "import torch\n",
    "\n",
    "x = torch.linspace(-4, 4, 100)\n",
    "y = torch.cos(x)**3 +  np.sin(x)\n",
    "\n",
    "plt.plot(x, y)\n",
    "plt.xlabel('x')\n",
    "plt.ylabel('y')\n",
    "plt.grid()\n",
    "plt.show()"
   ]
  },
  {
   "cell_type": "markdown",
   "metadata": {},
   "source": [
    "We [know from calculus](https://www.wolframalpha.com/input?i=cos%28x%29%5E3+%2B+sin%28x%29) that the derivative of this function is:\n",
    "$$ f^\\prime = \\frac{d y}{d x} = \\cos(x) - 3 \\sin(x) \\cos^2(x) $$\n",
    "\n",
    "This process, known as **symbolic differentiation**, is typically performed manually or using symbolic mathematical systems like Mathematica. However, these approaches are impractical for deep learning. Plotting the derivative function yields:"
   ]
  },
  {
   "cell_type": "code",
   "execution_count": 91,
   "metadata": {},
   "outputs": [
    {
     "data": {
      "image/png": "[encoded data removed]",
      "text/plain": [
       "<Figure size 640x480 with 1 Axes>"
      ]
     },
     "metadata": {},
     "output_type": "display_data"
    }
   ],
   "source": [
    "y_prime = torch.cos(x) - 3 * torch.sin(x) * torch.cos(x)**2\n",
    "\n",
    "plt.plot(x, y_prime)\n",
    "plt.xlabel('x')\n",
    "plt.ylabel('$y^\\prime$')\n",
    "plt.grid()\n",
    "plt.show()"
   ]
  },
  {
   "cell_type": "markdown",
   "metadata": {},
   "source": [
    "PyTorch's Autograd employs a technique known as **reverse-mode auto-differentiation** to calculate the gradients of a tensor function with respect to its inputs. The computation of these gradients requires a special tensor attribute called `requires_grad`, which is present for every tensor. By default, this attribute is set to **false**. Setting this attribute to true on a tensor instructs Autograd to track all operations performed on this tensor. Since this is a resource-intensive task, the `requires_grad` attribute is only set to true for tensors for which we intend to calculate gradients. In the previous example, we only need to set this attribute to true for the `x` tensor."
   ]
  },
  {
   "cell_type": "code",
   "execution_count": 92,
   "metadata": {},
   "outputs": [],
   "source": [
    "x = torch.linspace(-4, 4, 100, requires_grad=True)"
   ]
  },
  {
   "cell_type": "markdown",
   "metadata": {},
   "source": [
    "Notice that the above cell recreates the `x` tensor with the new `requires_grad` attribute. Alternatively, we could have set the the value of the `requires_grad` attribute of the `x` tensor (or any existing tensor, for that matter) using the `requires_grad_()` method:"
   ]
  },
  {
   "cell_type": "code",
   "execution_count": 93,
   "metadata": {},
   "outputs": [],
   "source": [
    "x.requires_grad_(False);"
   ]
  },
  {
   "cell_type": "markdown",
   "metadata": {},
   "source": [
    "Notice the underscore at the end of the method name, `requires_grad_()`, which, following PyTorch conventions, indicates that this is an in-place operation.\n",
    "\n",
    "To calculate the gradients of `y` with respect to `x` at every value of `x`, we iterate over the values of `x`, and then call the `backward()` method on the output `y` tensor for that value."
   ]
  },
  {
   "cell_type": "code",
   "execution_count": 94,
   "metadata": {},
   "outputs": [
    {
     "data": {
      "text/plain": [
       "tensor([-1.6237, -1.7814, -1.8992, -1.9709, -1.9922, -1.9616, -1.8800, -1.7511,\n",
       "        -1.5808, -1.3770, -1.1493, -0.9082, -0.6647, -0.4297, -0.2131, -0.0236,\n",
       "         0.1320,  0.2493,  0.3259,  0.3623,  0.3615,  0.3286,  0.2707,  0.1965,\n",
       "         0.1155,  0.0377, -0.0273, -0.0705, -0.0845, -0.0637, -0.0049,  0.0929,\n",
       "         0.2281,  0.3966,  0.5919,  0.8059,  1.0289,  1.2502,  1.4591,  1.6449,\n",
       "         1.7981,  1.9106,  1.9763,  1.9913,  1.9543,  1.8667,  1.7323,  1.5574,\n",
       "         1.3501,  1.1202,  0.8782,  0.6352,  0.4020,  0.1883,  0.0026, -0.1486,\n",
       "        -0.2609, -0.3325, -0.3642, -0.3591, -0.3227, -0.2623, -0.1867, -0.1055,\n",
       "        -0.0288,  0.0339,  0.0739,  0.0839,  0.0586, -0.0050, -0.1076, -0.2471,\n",
       "        -0.4193, -0.6174, -0.8330, -1.0564, -1.2768, -1.4833, -1.6657, -1.8143,\n",
       "        -1.9213, -1.9809, -1.9895, -1.9462, -1.8526, -1.7128, -1.5335, -1.3229,\n",
       "        -1.0909, -0.8482, -0.6058, -0.3745, -0.1638,  0.0180,  0.1645,  0.2719,\n",
       "         0.3385,  0.3654,  0.3562,  0.3164])"
      ]
     },
     "execution_count": 94,
     "metadata": {},
     "output_type": "execute_result"
    }
   ],
   "source": [
    "grads = torch.empty(len(x))\n",
    "for i, x_i in enumerate(x):\n",
    "    x_i.requires_grad_(True)\n",
    "    y_i = torch.cos(x_i)**3 +  torch.sin(x_i)\n",
    "    y_i.backward()\n",
    "    grads[i] = x_i.grad.item()\n",
    "\n",
    "grads"
   ]
  },
  {
   "cell_type": "markdown",
   "metadata": {},
   "source": [
    "In the above code, the calculated gradients are stored under the `grad` attribute of the `x_i` tensors. During the computation of these gradients, Autograd created a computational DAG (directed acyclic graph), which can be visualized as follows:"
   ]
  },
  {
   "cell_type": "code",
   "execution_count": 95,
   "metadata": {},
   "outputs": [
    {
     "data": {
      "image/svg+xml": [
       "<?xml version=\"1.0\" encoding=\"UTF-8\" standalone=\"no\"?>\n",
       "<!DOCTYPE svg PUBLIC \"-//W3C//DTD SVG 1.1//EN\"\n",
       " \"http://www.w3.org/Graphics/SVG/1.1/DTD/svg11.dtd\">\n",
       "<!-- Generated by graphviz version 9.0.0 (20230911.1827)\n",
       " -->\n",
       "<!-- Pages: 1 -->\n",
       "<svg width=\"202pt\" height=\"326pt\"\n",
       " viewBox=\"0.00 0.00 202.00 326.00\" xmlns=\"http://www.w3.org/2000/svg\" xmlns:xlink=\"http://www.w3.org/1999/xlink\">\n",
       "<g id=\"graph0\" class=\"graph\" transform=\"scale(1 1) rotate(0) translate(4 322)\">\n",
       "<polygon fill=\"white\" stroke=\"none\" points=\"-4,4 -4,-322 198,-322 198,4 -4,4\"/>\n",
       "<!-- 4939673296 -->\n",
       "<g id=\"node1\" class=\"node\">\n",
       "<title>4939673296</title>\n",
       "<polygon fill=\"#caff70\" stroke=\"black\" points=\"124,-30.5 70,-30.5 70,0 124,0 124,-30.5\"/>\n",
       "<text text-anchor=\"middle\" x=\"97\" y=\"-17\" font-family=\"monospace\" font-size=\"10.00\">y</text>\n",
       "<text text-anchor=\"middle\" x=\"97\" y=\"-5.75\" font-family=\"monospace\" font-size=\"10.00\"> ()</text>\n",
       "</g>\n",
       "<!-- 4941967808 -->\n",
       "<g id=\"node2\" class=\"node\">\n",
       "<title>4941967808</title>\n",
       "<polygon fill=\"lightgrey\" stroke=\"black\" points=\"141,-85.75 53,-85.75 53,-66.5 141,-66.5 141,-85.75\"/>\n",
       "<text text-anchor=\"middle\" x=\"97\" y=\"-72.25\" font-family=\"monospace\" font-size=\"10.00\">AddBackward0</text>\n",
       "</g>\n",
       "<!-- 4941967808&#45;&gt;4939673296 -->\n",
       "<g id=\"edge7\" class=\"edge\">\n",
       "<title>4941967808&#45;&gt;4939673296</title>\n",
       "<path fill=\"none\" stroke=\"black\" d=\"M97,-66.18C97,-59.73 97,-50.66 97,-42.01\"/>\n",
       "<polygon fill=\"black\" stroke=\"black\" points=\"100.5,-42.3 97,-32.3 93.5,-42.3 100.5,-42.3\"/>\n",
       "</g>\n",
       "<!-- 4941967664 -->\n",
       "<g id=\"node3\" class=\"node\">\n",
       "<title>4941967664</title>\n",
       "<polygon fill=\"lightgrey\" stroke=\"black\" points=\"88,-141 0,-141 0,-121.75 88,-121.75 88,-141\"/>\n",
       "<text text-anchor=\"middle\" x=\"44\" y=\"-127.5\" font-family=\"monospace\" font-size=\"10.00\">PowBackward0</text>\n",
       "</g>\n",
       "<!-- 4941967664&#45;&gt;4941967808 -->\n",
       "<g id=\"edge1\" class=\"edge\">\n",
       "<title>4941967664&#45;&gt;4941967808</title>\n",
       "<path fill=\"none\" stroke=\"black\" d=\"M52.75,-121.58C60.15,-114.15 70.96,-103.29 80.05,-94.16\"/>\n",
       "<polygon fill=\"black\" stroke=\"black\" points=\"82.42,-96.74 86.99,-87.18 77.46,-91.8 82.42,-96.74\"/>\n",
       "</g>\n",
       "<!-- 4941967760 -->\n",
       "<g id=\"node4\" class=\"node\">\n",
       "<title>4941967760</title>\n",
       "<polygon fill=\"lightgrey\" stroke=\"black\" points=\"105,-196.25 17,-196.25 17,-177 105,-177 105,-196.25\"/>\n",
       "<text text-anchor=\"middle\" x=\"61\" y=\"-182.75\" font-family=\"monospace\" font-size=\"10.00\">CosBackward0</text>\n",
       "</g>\n",
       "<!-- 4941967760&#45;&gt;4941967664 -->\n",
       "<g id=\"edge2\" class=\"edge\">\n",
       "<title>4941967760&#45;&gt;4941967664</title>\n",
       "<path fill=\"none\" stroke=\"black\" d=\"M58.19,-176.83C56.06,-170.17 53.06,-160.74 50.36,-152.28\"/>\n",
       "<polygon fill=\"black\" stroke=\"black\" points=\"53.7,-151.26 47.33,-142.8 47.04,-153.39 53.7,-151.26\"/>\n",
       "</g>\n",
       "<!-- 4941967424 -->\n",
       "<g id=\"node5\" class=\"node\">\n",
       "<title>4941967424</title>\n",
       "<polygon fill=\"lightgrey\" stroke=\"black\" points=\"147,-251.5 47,-251.5 47,-232.25 147,-232.25 147,-251.5\"/>\n",
       "<text text-anchor=\"middle\" x=\"97\" y=\"-238\" font-family=\"monospace\" font-size=\"10.00\">AccumulateGrad</text>\n",
       "</g>\n",
       "<!-- 4941967424&#45;&gt;4941967760 -->\n",
       "<g id=\"edge3\" class=\"edge\">\n",
       "<title>4941967424&#45;&gt;4941967760</title>\n",
       "<path fill=\"none\" stroke=\"black\" d=\"M91.06,-232.08C86.29,-225.03 79.44,-214.9 73.48,-206.08\"/>\n",
       "<polygon fill=\"black\" stroke=\"black\" points=\"76.42,-204.19 67.92,-197.86 70.62,-208.11 76.42,-204.19\"/>\n",
       "</g>\n",
       "<!-- 4941967616 -->\n",
       "<g id=\"node7\" class=\"node\">\n",
       "<title>4941967616</title>\n",
       "<polygon fill=\"lightgrey\" stroke=\"black\" points=\"194,-141 106,-141 106,-121.75 194,-121.75 194,-141\"/>\n",
       "<text text-anchor=\"middle\" x=\"150\" y=\"-127.5\" font-family=\"monospace\" font-size=\"10.00\">SinBackward0</text>\n",
       "</g>\n",
       "<!-- 4941967424&#45;&gt;4941967616 -->\n",
       "<g id=\"edge6\" class=\"edge\">\n",
       "<title>4941967424&#45;&gt;4941967616</title>\n",
       "<path fill=\"none\" stroke=\"black\" d=\"M101.34,-232C109.88,-214.51 129.05,-175.27 140.62,-151.59\"/>\n",
       "<polygon fill=\"black\" stroke=\"black\" points=\"143.69,-153.26 144.94,-142.74 137.4,-150.19 143.69,-153.26\"/>\n",
       "</g>\n",
       "<!-- 4939663504 -->\n",
       "<g id=\"node6\" class=\"node\">\n",
       "<title>4939663504</title>\n",
       "<polygon fill=\"lightblue\" stroke=\"black\" points=\"124,-318 70,-318 70,-287.5 124,-287.5 124,-318\"/>\n",
       "<text text-anchor=\"middle\" x=\"97\" y=\"-304.5\" font-family=\"monospace\" font-size=\"10.00\">x</text>\n",
       "<text text-anchor=\"middle\" x=\"97\" y=\"-293.25\" font-family=\"monospace\" font-size=\"10.00\"> ()</text>\n",
       "</g>\n",
       "<!-- 4939663504&#45;&gt;4941967424 -->\n",
       "<g id=\"edge4\" class=\"edge\">\n",
       "<title>4939663504&#45;&gt;4941967424</title>\n",
       "<path fill=\"none\" stroke=\"black\" d=\"M97,-287.2C97,-279.96 97,-271.09 97,-263.19\"/>\n",
       "<polygon fill=\"black\" stroke=\"black\" points=\"100.5,-263.46 97,-253.46 93.5,-263.46 100.5,-263.46\"/>\n",
       "</g>\n",
       "<!-- 4941967616&#45;&gt;4941967808 -->\n",
       "<g id=\"edge5\" class=\"edge\">\n",
       "<title>4941967616&#45;&gt;4941967808</title>\n",
       "<path fill=\"none\" stroke=\"black\" d=\"M141.25,-121.58C133.85,-114.15 123.04,-103.29 113.95,-94.16\"/>\n",
       "<polygon fill=\"black\" stroke=\"black\" points=\"116.54,-91.8 107.01,-87.18 111.58,-96.74 116.54,-91.8\"/>\n",
       "</g>\n",
       "</g>\n",
       "</svg>\n"
      ],
      "text/plain": [
       "<graphviz.graphs.Digraph at 0x1205e92d0>"
      ]
     },
     "execution_count": 95,
     "metadata": {},
     "output_type": "execute_result"
    }
   ],
   "source": [
    "from torchviz import make_dot\n",
    "\n",
    "make_dot(y_i, dict(x = x_i, y = y_i))"
   ]
  },
  {
   "cell_type": "markdown",
   "metadata": {},
   "source": [
    "Let's plot the Autograd-calculated gradients next to the original function and its manual gradients."
   ]
  },
  {
   "cell_type": "code",
   "execution_count": 96,
   "metadata": {},
   "outputs": [
    {
     "data": {
      "image/png": "[encoded data removed]",
      "text/plain": [
       "<Figure size 1600x500 with 3 Axes>"
      ]
     },
     "metadata": {},
     "output_type": "display_data"
    }
   ],
   "source": [
    "fig = plt.figure(figsize=(16, 5))\n",
    "\n",
    "plt.subplot(1, 3, 1)\n",
    "plt.plot(x, y, linewidth=2)\n",
    "plt.ylabel('y')\n",
    "plt.xlabel('x')\n",
    "plt.title('Original function')\n",
    "plt.grid()\n",
    "\n",
    "plt.subplot(1, 3, 2)\n",
    "plt.plot(x, y_prime, 'g', linewidth=2)\n",
    "plt.ylabel('y\\'')\n",
    "plt.xlabel('x')\n",
    "plt.title('Derivative - Manual symbolic differtiation')\n",
    "plt.grid()\n",
    "\n",
    "plt.subplot(1, 3, 3)\n",
    "plt.plot(x, grads, 'r', linewidth=2)\n",
    "plt.ylabel('y\\'')\n",
    "plt.xlabel('x')\n",
    "plt.title('Auto-differtiation')\n",
    "plt.grid()"
   ]
  }
 ],
 "metadata": {
  "kernelspec": {
   "display_name": "Python 3 (ipykernel)",
   "language": "python",
   "name": "python3"
  },
  "language_info": {
   "codemirror_mode": {
    "name": "ipython",
    "version": 3
   },
   "file_extension": ".py",
   "mimetype": "text/x-python",
   "name": "python",
   "nbconvert_exporter": "python",
   "pygments_lexer": "ipython3",
   "version": "3.11.5"
  },
  "vscode": {
   "interpreter": {
    "hash": "0c4ab92bbc10d18b480eb40b47e751a2f458ae1b2b88576453c716fde62785ad"
   }
  }
 },
 "nbformat": 4,
 "nbformat_minor": 4
}
