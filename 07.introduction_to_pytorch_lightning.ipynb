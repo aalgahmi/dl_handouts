{
 "cells": [
  {
   "cell_type": "markdown",
   "metadata": {},
   "source": [
    "Run locally or <a target=\"_blank\" href=\"https://colab.research.google.com/github/aalgahmi/dl_handouts/blob/main/07.introduction_to_pytorch_lightning.ipynb\">\n",
    "  <img src=\"https://colab.research.google.com/assets/colab-badge.svg\" alt=\"Open In Colab\"/>\n",
    "</a>"
   ]
  },
  {
   "cell_type": "code",
   "execution_count": 1,
   "metadata": {},
   "outputs": [],
   "source": [
    "import pandas as pd\n",
    "import torch\n",
    "import torch.nn as nn\n",
    "import torch.nn.functional as F\n",
    "import torchvision\n",
    "from torchvision import datasets\n",
    "import torchvision.transforms as transforms\n",
    "from torch.utils.data import random_split, DataLoader\n",
    "from torchinfo import summary\n",
    "\n",
    "torch.random.manual_seed(17);"
   ]
  },
  {
   "cell_type": "markdown",
   "metadata": {},
   "source": [
    "# Introduction to PyTorch Lightning\n",
    "\n",
    "This handout introduces **PyTorch Lightning**, a lightweight PyTorch wrapper (with a high-level interface) that simplifies the training process of neural networks and is designed to abstract away boilerplate code. PyTorch Lightning to PyTorch is like Keras to Tensorfolw, but with more flexibility and support for both researchers and engineers.\n",
    "\n",
    "PyTorch Lightning introduces three main abstractions to simplify and organize the training process:\n",
    "\n",
    "* **LightningModule:** The `LightningModule` is the core abstraction in PyTorch Lightning, encapsulating the essential components of a PyTorch model. It organizes the training logic, loss computation, and optimization into a modular structure. By subclassing `LightningModule`, you define the architecture and training steps of your neural network in a standardized way. This abstraction encourages cleaner and more modular code.\n",
    "\n",
    "* **LightningDataModule:** The `LightningDataModule` abstracts away the data-related components of the model. It encapsulates the data preparation, loading, and processing steps.\n",
    "\n",
    "* **Trainer:** The `Trainer` abstraction in PyTorch Lightning is responsible for orchestrating the training process. It implements the training loop, managing optimization, configuring distributed training, and implementing early stopping.\n",
    "\n",
    "These abstractions help modularize the code, making it more readable, reusable, and scalable. They also contribute to PyTorch Lightning's goal of simplifying the training process by abstracting away the boilerplate code, allowing practitioners to focus more on experiment design and less on implementation details."
   ]
  },
  {
   "cell_type": "markdown",
   "metadata": {
    "colab_type": "text"
   },
   "source": [
    "## Loading the data\n",
    "We'll start by loading the `FashionMNIST` dataset used in Example 2 of the last handout."
   ]
  },
  {
   "cell_type": "code",
   "execution_count": 2,
   "metadata": {},
   "outputs": [
    {
     "data": {
      "text/plain": [
       "(48000, 12000, 10000)"
      ]
     },
     "execution_count": 2,
     "metadata": {},
     "output_type": "execute_result"
    }
   ],
   "source": [
    "data_path = './datasets'\n",
    "\n",
    "ds_rest = datasets.FashionMNIST(data_path, train=True, download=True, transform=transforms.ToTensor())\n",
    "ds_train, ds_val = random_split(ds_rest, [.8, .2])\n",
    "ds_test = datasets.FashionMNIST(data_path, train=False, download=True, transform=transforms.ToTensor())\n",
    "\n",
    "len(ds_train), len(ds_val), len(ds_test)"
   ]
  },
  {
   "cell_type": "markdown",
   "metadata": {},
   "source": [
    "Here are the corresponding data loaders:"
   ]
  },
  {
   "cell_type": "code",
   "execution_count": 3,
   "metadata": {},
   "outputs": [],
   "source": [
    "dl_train = DataLoader(ds_train, batch_size=64, shuffle=True, num_workers=2, persistent_workers=True)\n",
    "dl_val = DataLoader(ds_val, batch_size=64, shuffle=False, num_workers=2, persistent_workers=True)\n",
    "dl_test = DataLoader(ds_test, batch_size=64, shuffle=False, num_workers=2, persistent_workers=True)"
   ]
  },
  {
   "cell_type": "markdown",
   "metadata": {},
   "source": [
    "## Building the model\n",
    "\n",
    "Next we build a model similar to that of Example 2 of the last handout. We'll do that by subclassing the`lightning.LightningModule` class instead of the `torch.nn.Module` class. This `lightning.LightningModule` is a child class of `torch.nn.Module`, adding multiple life-cycle functions that take care of much of the training process boilerplate code.\n",
    "\n",
    "It organizes your PyTorch code into six main sections:\n",
    "* Initialization (`__init__`) and `forward()` just like `nn.Module`.\n",
    "* The training step (`training_step()`): This is what happens to a given batch during training up to but not including the optimizer's steps. Those will be taken care of by the Trainer. This is the place where the loss function can be defined and used.\n",
    "* The validation step (`validation_step()`): This is what happens to a given validation batch; it calculates and returns validation loss and metrics.\n",
    "* The test set (`test_step()`): This is what happens to a given testing batch; it calculates and returns testing loss and metrics.\n",
    "* Configuration of optimizers and learning rate schedulers (`configure_optimizers()`): This is where the optimizer is created, configured, and returned.\n",
    "\n",
    "At a minimum, the `training_step()` and  `configure_optimizers()` methods must be implemented.\n",
    "\n",
    "First we make the necessary imports:"
   ]
  },
  {
   "cell_type": "code",
   "execution_count": 4,
   "metadata": {},
   "outputs": [],
   "source": [
    "import lightning as L\n",
    "from torchmetrics.functional import accuracy"
   ]
  },
  {
   "cell_type": "markdown",
   "metadata": {},
   "source": [
    "And here is the model:"
   ]
  },
  {
   "cell_type": "code",
   "execution_count": 5,
   "metadata": {},
   "outputs": [],
   "source": [
    "class FashionModel(L.LightningModule):\n",
    "    def __init__(self, lr=0.001, weight_decay=0.01):\n",
    "        super().__init__()\n",
    "        \n",
    "        self.lr = lr\n",
    "        self.weight_decay = weight_decay\n",
    "        \n",
    "        self.net = nn.Sequential(\n",
    "            nn.Flatten(),\n",
    "            nn.Linear(784, 256),\n",
    "            nn.BatchNorm1d(256),\n",
    "            nn.ReLU(),\n",
    "            nn.Linear(256, 128),\n",
    "            nn.BatchNorm1d(128),\n",
    "            nn.ReLU(),\n",
    "            nn.Dropout(.2),\n",
    "            nn.Linear(128, 10)\n",
    "        )\n",
    "\n",
    "    def forward(self, x):\n",
    "        return self.net(x)\n",
    "\n",
    "    def training_step(self, batch, batch_idx):\n",
    "        X, y = batch\n",
    "        logits = self(X)\n",
    "        loss = nn.functional.cross_entropy(logits, y)\n",
    "        y_hat = torch.argmax(logits, dim=1)\n",
    "        self.log(\"loss\", loss, prog_bar=True)\n",
    "        self.log(\"accuracy\", accuracy(y_hat, y, task=\"multiclass\", num_classes=10), prog_bar=True)\n",
    "        \n",
    "        return loss\n",
    " \n",
    "    def configure_optimizers(self):\n",
    "        return torch.optim.SGD(model.parameters(), lr=self.lr, weight_decay=self.weight_decay)\n",
    "\n",
    "model = FashionModel()"
   ]
  },
  {
   "cell_type": "markdown",
   "metadata": {},
   "source": [
    "As you can see, the model has the same layers as those of Example 2 of the previous handout. And just like that, we can summarize it:"
   ]
  },
  {
   "cell_type": "code",
   "execution_count": 6,
   "metadata": {},
   "outputs": [
    {
     "data": {
      "text/plain": [
       "=================================================================\n",
       "Layer (type:depth-idx)                   Param #\n",
       "=================================================================\n",
       "FashionModel                             --\n",
       "├─Sequential: 1-1                        --\n",
       "│    └─Flatten: 2-1                      --\n",
       "│    └─Linear: 2-2                       200,960\n",
       "│    └─BatchNorm1d: 2-3                  512\n",
       "│    └─ReLU: 2-4                         --\n",
       "│    └─Linear: 2-5                       32,896\n",
       "│    └─BatchNorm1d: 2-6                  256\n",
       "│    └─ReLU: 2-7                         --\n",
       "│    └─Dropout: 2-8                      --\n",
       "│    └─Linear: 2-9                       1,290\n",
       "=================================================================\n",
       "Total params: 235,914\n",
       "Trainable params: 235,914\n",
       "Non-trainable params: 0\n",
       "================================================================="
      ]
     },
     "execution_count": 6,
     "metadata": {},
     "output_type": "execute_result"
    }
   ],
   "source": [
    "from torchinfo import summary\n",
    "summary(model)"
   ]
  },
  {
   "cell_type": "markdown",
   "metadata": {},
   "source": [
    "and plot it:"
   ]
  },
  {
   "cell_type": "code",
   "execution_count": 7,
   "metadata": {},
   "outputs": [
    {
     "data": {
      "image/svg+xml": [
       "<?xml version=\"1.0\" encoding=\"UTF-8\" standalone=\"no\"?>\n",
       "<!DOCTYPE svg PUBLIC \"-//W3C//DTD SVG 1.1//EN\"\n",
       " \"http://www.w3.org/Graphics/SVG/1.1/DTD/svg11.dtd\">\n",
       "<!-- Generated by graphviz version 9.0.0 (20230911.1827)\n",
       " -->\n",
       "<!-- Pages: 1 -->\n",
       "<svg width=\"761pt\" height=\"682pt\"\n",
       " viewBox=\"0.00 0.00 761.00 681.75\" xmlns=\"http://www.w3.org/2000/svg\" xmlns:xlink=\"http://www.w3.org/1999/xlink\">\n",
       "<g id=\"graph0\" class=\"graph\" transform=\"scale(1 1) rotate(0) translate(4 677.75)\">\n",
       "<polygon fill=\"white\" stroke=\"none\" points=\"-4,4 -4,-677.75 757,-677.75 757,4 -4,4\"/>\n",
       "<!-- 5080544176 -->\n",
       "<g id=\"node1\" class=\"node\">\n",
       "<title>5080544176</title>\n",
       "<polygon fill=\"#caff70\" stroke=\"black\" points=\"531,-31.25 467,-31.25 467,0 531,0 531,-31.25\"/>\n",
       "<text text-anchor=\"middle\" x=\"499\" y=\"-5.75\" font-family=\"monospace\" font-size=\"10.00\"> (1, 10)</text>\n",
       "</g>\n",
       "<!-- 5080653664 -->\n",
       "<g id=\"node2\" class=\"node\">\n",
       "<title>5080653664</title>\n",
       "<polygon fill=\"lightgrey\" stroke=\"black\" points=\"549,-86.5 449,-86.5 449,-67.25 549,-67.25 549,-86.5\"/>\n",
       "<text text-anchor=\"middle\" x=\"499\" y=\"-73\" font-family=\"monospace\" font-size=\"10.00\">AddmmBackward0</text>\n",
       "</g>\n",
       "<!-- 5080653664&#45;&gt;5080544176 -->\n",
       "<g id=\"edge30\" class=\"edge\">\n",
       "<title>5080653664&#45;&gt;5080544176</title>\n",
       "<path fill=\"none\" stroke=\"black\" d=\"M499,-66.88C499,-60.54 499,-51.7 499,-43.2\"/>\n",
       "<polygon fill=\"black\" stroke=\"black\" points=\"502.5,-43.22 499,-33.22 495.5,-43.22 502.5,-43.22\"/>\n",
       "</g>\n",
       "<!-- 5080653520 -->\n",
       "<g id=\"node3\" class=\"node\">\n",
       "<title>5080653520</title>\n",
       "<polygon fill=\"lightgrey\" stroke=\"black\" points=\"424,-141.75 324,-141.75 324,-122.5 424,-122.5 424,-141.75\"/>\n",
       "<text text-anchor=\"middle\" x=\"374\" y=\"-128.25\" font-family=\"monospace\" font-size=\"10.00\">AccumulateGrad</text>\n",
       "</g>\n",
       "<!-- 5080653520&#45;&gt;5080653664 -->\n",
       "<g id=\"edge1\" class=\"edge\">\n",
       "<title>5080653520&#45;&gt;5080653664</title>\n",
       "<path fill=\"none\" stroke=\"black\" d=\"M395.2,-122.09C414.96,-113.68 444.67,-101.02 467.25,-91.4\"/>\n",
       "<polygon fill=\"black\" stroke=\"black\" points=\"468.47,-94.68 476.3,-87.55 465.73,-88.24 468.47,-94.68\"/>\n",
       "</g>\n",
       "<!-- 5078262768 -->\n",
       "<g id=\"node4\" class=\"node\">\n",
       "<title>5078262768</title>\n",
       "<polygon fill=\"lightblue\" stroke=\"black\" points=\"401,-208.25 325,-208.25 325,-177.75 401,-177.75 401,-208.25\"/>\n",
       "<text text-anchor=\"middle\" x=\"363\" y=\"-194.75\" font-family=\"monospace\" font-size=\"10.00\">net.8.bias</text>\n",
       "<text text-anchor=\"middle\" x=\"363\" y=\"-183.5\" font-family=\"monospace\" font-size=\"10.00\"> (10)</text>\n",
       "</g>\n",
       "<!-- 5078262768&#45;&gt;5080653520 -->\n",
       "<g id=\"edge2\" class=\"edge\">\n",
       "<title>5078262768&#45;&gt;5080653520</title>\n",
       "<path fill=\"none\" stroke=\"black\" d=\"M365.72,-177.45C367.07,-170.21 368.73,-161.34 370.2,-153.44\"/>\n",
       "<polygon fill=\"black\" stroke=\"black\" points=\"373.63,-154.16 372.03,-143.69 366.75,-152.88 373.63,-154.16\"/>\n",
       "</g>\n",
       "<!-- 5080653472 -->\n",
       "<g id=\"node5\" class=\"node\">\n",
       "<title>5080653472</title>\n",
       "<polygon fill=\"lightgrey\" stroke=\"black\" points=\"546,-141.75 452,-141.75 452,-122.5 546,-122.5 546,-141.75\"/>\n",
       "<text text-anchor=\"middle\" x=\"499\" y=\"-128.25\" font-family=\"monospace\" font-size=\"10.00\">ReluBackward0</text>\n",
       "</g>\n",
       "<!-- 5080653472&#45;&gt;5080653664 -->\n",
       "<g id=\"edge3\" class=\"edge\">\n",
       "<title>5080653472&#45;&gt;5080653664</title>\n",
       "<path fill=\"none\" stroke=\"black\" d=\"M499,-122.33C499,-115.82 499,-106.67 499,-98.37\"/>\n",
       "<polygon fill=\"black\" stroke=\"black\" points=\"502.5,-98.37 499,-88.37 495.5,-98.37 502.5,-98.37\"/>\n",
       "</g>\n",
       "<!-- 5080653376 -->\n",
       "<g id=\"node6\" class=\"node\">\n",
       "<title>5080653376</title>\n",
       "<polygon fill=\"lightgrey\" stroke=\"black\" points=\"579,-202.62 419,-202.62 419,-183.38 579,-183.38 579,-202.62\"/>\n",
       "<text text-anchor=\"middle\" x=\"499\" y=\"-189.12\" font-family=\"monospace\" font-size=\"10.00\">NativeBatchNormBackward0</text>\n",
       "</g>\n",
       "<!-- 5080653376&#45;&gt;5080653472 -->\n",
       "<g id=\"edge4\" class=\"edge\">\n",
       "<title>5080653376&#45;&gt;5080653472</title>\n",
       "<path fill=\"none\" stroke=\"black\" d=\"M499,-183.06C499,-175.28 499,-163.7 499,-153.66\"/>\n",
       "<polygon fill=\"black\" stroke=\"black\" points=\"502.5,-153.66 499,-143.66 495.5,-153.66 502.5,-153.66\"/>\n",
       "</g>\n",
       "<!-- 5080653232 -->\n",
       "<g id=\"node7\" class=\"node\">\n",
       "<title>5080653232</title>\n",
       "<polygon fill=\"lightgrey\" stroke=\"black\" points=\"373,-269.12 273,-269.12 273,-249.88 373,-249.88 373,-269.12\"/>\n",
       "<text text-anchor=\"middle\" x=\"323\" y=\"-255.62\" font-family=\"monospace\" font-size=\"10.00\">AddmmBackward0</text>\n",
       "</g>\n",
       "<!-- 5080653232&#45;&gt;5080653376 -->\n",
       "<g id=\"edge5\" class=\"edge\">\n",
       "<title>5080653232&#45;&gt;5080653376</title>\n",
       "<path fill=\"none\" stroke=\"black\" d=\"M347.84,-249.4C378.11,-238.3 429.45,-219.49 463.78,-206.91\"/>\n",
       "<polygon fill=\"black\" stroke=\"black\" points=\"464.68,-210.31 472.86,-203.58 462.27,-203.73 464.68,-210.31\"/>\n",
       "</g>\n",
       "<!-- 5080652896 -->\n",
       "<g id=\"node8\" class=\"node\">\n",
       "<title>5080652896</title>\n",
       "<polygon fill=\"lightgrey\" stroke=\"black\" points=\"210,-335.62 110,-335.62 110,-316.38 210,-316.38 210,-335.62\"/>\n",
       "<text text-anchor=\"middle\" x=\"160\" y=\"-322.12\" font-family=\"monospace\" font-size=\"10.00\">AccumulateGrad</text>\n",
       "</g>\n",
       "<!-- 5080652896&#45;&gt;5080653232 -->\n",
       "<g id=\"edge6\" class=\"edge\">\n",
       "<title>5080652896&#45;&gt;5080653232</title>\n",
       "<path fill=\"none\" stroke=\"black\" d=\"M183.01,-315.9C210.8,-304.9 257.76,-286.31 289.55,-273.74\"/>\n",
       "<polygon fill=\"black\" stroke=\"black\" points=\"290.69,-277.05 298.7,-270.12 288.12,-270.54 290.69,-277.05\"/>\n",
       "</g>\n",
       "<!-- 5078261040 -->\n",
       "<g id=\"node9\" class=\"node\">\n",
       "<title>5078261040</title>\n",
       "<polygon fill=\"lightblue\" stroke=\"black\" points=\"187,-407.75 111,-407.75 111,-377.25 187,-377.25 187,-407.75\"/>\n",
       "<text text-anchor=\"middle\" x=\"149\" y=\"-394.25\" font-family=\"monospace\" font-size=\"10.00\">net.4.bias</text>\n",
       "<text text-anchor=\"middle\" x=\"149\" y=\"-383\" font-family=\"monospace\" font-size=\"10.00\"> (128)</text>\n",
       "</g>\n",
       "<!-- 5078261040&#45;&gt;5080652896 -->\n",
       "<g id=\"edge7\" class=\"edge\">\n",
       "<title>5078261040&#45;&gt;5080652896</title>\n",
       "<path fill=\"none\" stroke=\"black\" d=\"M151.5,-376.86C152.99,-368.08 154.92,-356.77 156.56,-347.15\"/>\n",
       "<polygon fill=\"black\" stroke=\"black\" points=\"160.01,-347.76 158.24,-337.31 153.11,-346.58 160.01,-347.76\"/>\n",
       "</g>\n",
       "<!-- 5080652944 -->\n",
       "<g id=\"node10\" class=\"node\">\n",
       "<title>5080652944</title>\n",
       "<polygon fill=\"lightgrey\" stroke=\"black\" points=\"332,-335.62 238,-335.62 238,-316.38 332,-316.38 332,-335.62\"/>\n",
       "<text text-anchor=\"middle\" x=\"285\" y=\"-322.12\" font-family=\"monospace\" font-size=\"10.00\">ReluBackward0</text>\n",
       "</g>\n",
       "<!-- 5080652944&#45;&gt;5080653232 -->\n",
       "<g id=\"edge8\" class=\"edge\">\n",
       "<title>5080652944&#45;&gt;5080653232</title>\n",
       "<path fill=\"none\" stroke=\"black\" d=\"M290.28,-316.03C295.9,-306.5 304.94,-291.16 312.09,-279.02\"/>\n",
       "<polygon fill=\"black\" stroke=\"black\" points=\"314.93,-281.09 316.99,-270.7 308.9,-277.54 314.93,-281.09\"/>\n",
       "</g>\n",
       "<!-- 5080652800 -->\n",
       "<g id=\"node11\" class=\"node\">\n",
       "<title>5080652800</title>\n",
       "<polygon fill=\"lightgrey\" stroke=\"black\" points=\"365,-402.12 205,-402.12 205,-382.88 365,-382.88 365,-402.12\"/>\n",
       "<text text-anchor=\"middle\" x=\"285\" y=\"-388.62\" font-family=\"monospace\" font-size=\"10.00\">NativeBatchNormBackward0</text>\n",
       "</g>\n",
       "<!-- 5080652800&#45;&gt;5080652944 -->\n",
       "<g id=\"edge9\" class=\"edge\">\n",
       "<title>5080652800&#45;&gt;5080652944</title>\n",
       "<path fill=\"none\" stroke=\"black\" d=\"M285,-382.53C285,-373.48 285,-359.2 285,-347.38\"/>\n",
       "<polygon fill=\"black\" stroke=\"black\" points=\"288.5,-347.41 285,-337.41 281.5,-347.41 288.5,-347.41\"/>\n",
       "</g>\n",
       "<!-- 5080652512 -->\n",
       "<g id=\"node12\" class=\"node\">\n",
       "<title>5080652512</title>\n",
       "<polygon fill=\"lightgrey\" stroke=\"black\" points=\"197,-468.62 97,-468.62 97,-449.38 197,-449.38 197,-468.62\"/>\n",
       "<text text-anchor=\"middle\" x=\"147\" y=\"-455.12\" font-family=\"monospace\" font-size=\"10.00\">AddmmBackward0</text>\n",
       "</g>\n",
       "<!-- 5080652512&#45;&gt;5080652800 -->\n",
       "<g id=\"edge10\" class=\"edge\">\n",
       "<title>5080652512&#45;&gt;5080652800</title>\n",
       "<path fill=\"none\" stroke=\"black\" d=\"M166.48,-448.9C189.6,-438.09 228.38,-419.96 255.26,-407.4\"/>\n",
       "<polygon fill=\"black\" stroke=\"black\" points=\"256.67,-410.6 264.25,-403.2 253.71,-404.26 256.67,-410.6\"/>\n",
       "</g>\n",
       "<!-- 5080652272 -->\n",
       "<g id=\"node13\" class=\"node\">\n",
       "<title>5080652272</title>\n",
       "<polygon fill=\"lightgrey\" stroke=\"black\" points=\"100,-535.12 0,-535.12 0,-515.88 100,-515.88 100,-535.12\"/>\n",
       "<text text-anchor=\"middle\" x=\"50\" y=\"-521.62\" font-family=\"monospace\" font-size=\"10.00\">AccumulateGrad</text>\n",
       "</g>\n",
       "<!-- 5080652272&#45;&gt;5080652512 -->\n",
       "<g id=\"edge11\" class=\"edge\">\n",
       "<title>5080652272&#45;&gt;5080652512</title>\n",
       "<path fill=\"none\" stroke=\"black\" d=\"M63.49,-515.53C79.11,-505.14 105.1,-487.86 123.95,-475.33\"/>\n",
       "<polygon fill=\"black\" stroke=\"black\" points=\"125.66,-478.39 132.05,-469.94 121.79,-472.56 125.66,-478.39\"/>\n",
       "</g>\n",
       "<!-- 5078260848 -->\n",
       "<g id=\"node14\" class=\"node\">\n",
       "<title>5078260848</title>\n",
       "<polygon fill=\"lightblue\" stroke=\"black\" points=\"88,-607.25 12,-607.25 12,-576.75 88,-576.75 88,-607.25\"/>\n",
       "<text text-anchor=\"middle\" x=\"50\" y=\"-593.75\" font-family=\"monospace\" font-size=\"10.00\">net.1.bias</text>\n",
       "<text text-anchor=\"middle\" x=\"50\" y=\"-582.5\" font-family=\"monospace\" font-size=\"10.00\"> (256)</text>\n",
       "</g>\n",
       "<!-- 5078260848&#45;&gt;5080652272 -->\n",
       "<g id=\"edge12\" class=\"edge\">\n",
       "<title>5078260848&#45;&gt;5080652272</title>\n",
       "<path fill=\"none\" stroke=\"black\" d=\"M50,-576.36C50,-567.58 50,-556.27 50,-546.65\"/>\n",
       "<polygon fill=\"black\" stroke=\"black\" points=\"53.5,-546.84 50,-536.84 46.5,-546.84 53.5,-546.84\"/>\n",
       "</g>\n",
       "<!-- 5080652368 -->\n",
       "<g id=\"node15\" class=\"node\">\n",
       "<title>5080652368</title>\n",
       "<polygon fill=\"lightgrey\" stroke=\"black\" points=\"194,-535.12 118,-535.12 118,-515.88 194,-515.88 194,-535.12\"/>\n",
       "<text text-anchor=\"middle\" x=\"156\" y=\"-521.62\" font-family=\"monospace\" font-size=\"10.00\">TBackward0</text>\n",
       "</g>\n",
       "<!-- 5080652368&#45;&gt;5080652512 -->\n",
       "<g id=\"edge13\" class=\"edge\">\n",
       "<title>5080652368&#45;&gt;5080652512</title>\n",
       "<path fill=\"none\" stroke=\"black\" d=\"M154.75,-515.53C153.47,-506.39 151.45,-491.89 149.79,-480\"/>\n",
       "<polygon fill=\"black\" stroke=\"black\" points=\"153.3,-479.81 148.45,-470.39 146.37,-480.78 153.3,-479.81\"/>\n",
       "</g>\n",
       "<!-- 5080652224 -->\n",
       "<g id=\"node16\" class=\"node\">\n",
       "<title>5080652224</title>\n",
       "<polygon fill=\"lightgrey\" stroke=\"black\" points=\"206,-601.62 106,-601.62 106,-582.38 206,-582.38 206,-601.62\"/>\n",
       "<text text-anchor=\"middle\" x=\"156\" y=\"-588.12\" font-family=\"monospace\" font-size=\"10.00\">AccumulateGrad</text>\n",
       "</g>\n",
       "<!-- 5080652224&#45;&gt;5080652368 -->\n",
       "<g id=\"edge14\" class=\"edge\">\n",
       "<title>5080652224&#45;&gt;5080652368</title>\n",
       "<path fill=\"none\" stroke=\"black\" d=\"M156,-582.03C156,-572.98 156,-558.7 156,-546.88\"/>\n",
       "<polygon fill=\"black\" stroke=\"black\" points=\"159.5,-546.91 156,-536.91 152.5,-546.91 159.5,-546.91\"/>\n",
       "</g>\n",
       "<!-- 5078258352 -->\n",
       "<g id=\"node17\" class=\"node\">\n",
       "<title>5078258352</title>\n",
       "<polygon fill=\"lightblue\" stroke=\"black\" points=\"200,-673.75 112,-673.75 112,-643.25 200,-643.25 200,-673.75\"/>\n",
       "<text text-anchor=\"middle\" x=\"156\" y=\"-660.25\" font-family=\"monospace\" font-size=\"10.00\">net.1.weight</text>\n",
       "<text text-anchor=\"middle\" x=\"156\" y=\"-649\" font-family=\"monospace\" font-size=\"10.00\"> (256, 784)</text>\n",
       "</g>\n",
       "<!-- 5078258352&#45;&gt;5080652224 -->\n",
       "<g id=\"edge15\" class=\"edge\">\n",
       "<title>5078258352&#45;&gt;5080652224</title>\n",
       "<path fill=\"none\" stroke=\"black\" d=\"M156,-642.86C156,-634.08 156,-622.77 156,-613.15\"/>\n",
       "<polygon fill=\"black\" stroke=\"black\" points=\"159.5,-613.34 156,-603.34 152.5,-613.34 159.5,-613.34\"/>\n",
       "</g>\n",
       "<!-- 5080652656 -->\n",
       "<g id=\"node18\" class=\"node\">\n",
       "<title>5080652656</title>\n",
       "<polygon fill=\"lightgrey\" stroke=\"black\" points=\"315,-468.62 215,-468.62 215,-449.38 315,-449.38 315,-468.62\"/>\n",
       "<text text-anchor=\"middle\" x=\"265\" y=\"-455.12\" font-family=\"monospace\" font-size=\"10.00\">AccumulateGrad</text>\n",
       "</g>\n",
       "<!-- 5080652656&#45;&gt;5080652800 -->\n",
       "<g id=\"edge16\" class=\"edge\">\n",
       "<title>5080652656&#45;&gt;5080652800</title>\n",
       "<path fill=\"none\" stroke=\"black\" d=\"M267.78,-449.03C270.65,-439.79 275.21,-425.08 278.91,-413.13\"/>\n",
       "<polygon fill=\"black\" stroke=\"black\" points=\"282.18,-414.43 281.79,-403.84 275.49,-412.35 282.18,-414.43\"/>\n",
       "</g>\n",
       "<!-- 5078260176 -->\n",
       "<g id=\"node19\" class=\"node\">\n",
       "<title>5078260176</title>\n",
       "<polygon fill=\"lightblue\" stroke=\"black\" points=\"309,-540.75 221,-540.75 221,-510.25 309,-510.25 309,-540.75\"/>\n",
       "<text text-anchor=\"middle\" x=\"265\" y=\"-527.25\" font-family=\"monospace\" font-size=\"10.00\">net.2.weight</text>\n",
       "<text text-anchor=\"middle\" x=\"265\" y=\"-516\" font-family=\"monospace\" font-size=\"10.00\"> (256)</text>\n",
       "</g>\n",
       "<!-- 5078260176&#45;&gt;5080652656 -->\n",
       "<g id=\"edge17\" class=\"edge\">\n",
       "<title>5078260176&#45;&gt;5080652656</title>\n",
       "<path fill=\"none\" stroke=\"black\" d=\"M265,-509.86C265,-501.08 265,-489.77 265,-480.15\"/>\n",
       "<polygon fill=\"black\" stroke=\"black\" points=\"268.5,-480.34 265,-470.34 261.5,-480.34 268.5,-480.34\"/>\n",
       "</g>\n",
       "<!-- 5080652704 -->\n",
       "<g id=\"node20\" class=\"node\">\n",
       "<title>5080652704</title>\n",
       "<polygon fill=\"lightgrey\" stroke=\"black\" points=\"433,-468.62 333,-468.62 333,-449.38 433,-449.38 433,-468.62\"/>\n",
       "<text text-anchor=\"middle\" x=\"383\" y=\"-455.12\" font-family=\"monospace\" font-size=\"10.00\">AccumulateGrad</text>\n",
       "</g>\n",
       "<!-- 5080652704&#45;&gt;5080652800 -->\n",
       "<g id=\"edge18\" class=\"edge\">\n",
       "<title>5080652704&#45;&gt;5080652800</title>\n",
       "<path fill=\"none\" stroke=\"black\" d=\"M369.37,-449.03C353.59,-438.64 327.33,-421.36 308.29,-408.83\"/>\n",
       "<polygon fill=\"black\" stroke=\"black\" points=\"310.37,-406.01 300.09,-403.43 306.52,-411.85 310.37,-406.01\"/>\n",
       "</g>\n",
       "<!-- 5078260752 -->\n",
       "<g id=\"node21\" class=\"node\">\n",
       "<title>5078260752</title>\n",
       "<polygon fill=\"lightblue\" stroke=\"black\" points=\"421,-540.75 345,-540.75 345,-510.25 421,-510.25 421,-540.75\"/>\n",
       "<text text-anchor=\"middle\" x=\"383\" y=\"-527.25\" font-family=\"monospace\" font-size=\"10.00\">net.2.bias</text>\n",
       "<text text-anchor=\"middle\" x=\"383\" y=\"-516\" font-family=\"monospace\" font-size=\"10.00\"> (256)</text>\n",
       "</g>\n",
       "<!-- 5078260752&#45;&gt;5080652704 -->\n",
       "<g id=\"edge19\" class=\"edge\">\n",
       "<title>5078260752&#45;&gt;5080652704</title>\n",
       "<path fill=\"none\" stroke=\"black\" d=\"M383,-509.86C383,-501.08 383,-489.77 383,-480.15\"/>\n",
       "<polygon fill=\"black\" stroke=\"black\" points=\"386.5,-480.34 383,-470.34 379.5,-480.34 386.5,-480.34\"/>\n",
       "</g>\n",
       "<!-- 5080652992 -->\n",
       "<g id=\"node22\" class=\"node\">\n",
       "<title>5080652992</title>\n",
       "<polygon fill=\"lightgrey\" stroke=\"black\" points=\"426,-335.62 350,-335.62 350,-316.38 426,-316.38 426,-335.62\"/>\n",
       "<text text-anchor=\"middle\" x=\"388\" y=\"-322.12\" font-family=\"monospace\" font-size=\"10.00\">TBackward0</text>\n",
       "</g>\n",
       "<!-- 5080652992&#45;&gt;5080653232 -->\n",
       "<g id=\"edge20\" class=\"edge\">\n",
       "<title>5080652992&#45;&gt;5080653232</title>\n",
       "<path fill=\"none\" stroke=\"black\" d=\"M378.96,-316.03C368.87,-306.02 352.32,-289.6 339.83,-277.2\"/>\n",
       "<polygon fill=\"black\" stroke=\"black\" points=\"342.6,-275.02 333.04,-270.46 337.67,-279.99 342.6,-275.02\"/>\n",
       "</g>\n",
       "<!-- 5080652416 -->\n",
       "<g id=\"node23\" class=\"node\">\n",
       "<title>5080652416</title>\n",
       "<polygon fill=\"lightgrey\" stroke=\"black\" points=\"524,-402.12 424,-402.12 424,-382.88 524,-382.88 524,-402.12\"/>\n",
       "<text text-anchor=\"middle\" x=\"474\" y=\"-388.62\" font-family=\"monospace\" font-size=\"10.00\">AccumulateGrad</text>\n",
       "</g>\n",
       "<!-- 5080652416&#45;&gt;5080652992 -->\n",
       "<g id=\"edge21\" class=\"edge\">\n",
       "<title>5080652416&#45;&gt;5080652992</title>\n",
       "<path fill=\"none\" stroke=\"black\" d=\"M462.04,-382.53C448.38,-372.29 425.78,-355.34 409.13,-342.85\"/>\n",
       "<polygon fill=\"black\" stroke=\"black\" points=\"411.44,-340.21 401.34,-337.01 407.24,-345.81 411.44,-340.21\"/>\n",
       "</g>\n",
       "<!-- 5078260080 -->\n",
       "<g id=\"node24\" class=\"node\">\n",
       "<title>5078260080</title>\n",
       "<polygon fill=\"lightblue\" stroke=\"black\" points=\"539,-474.25 451,-474.25 451,-443.75 539,-443.75 539,-474.25\"/>\n",
       "<text text-anchor=\"middle\" x=\"495\" y=\"-460.75\" font-family=\"monospace\" font-size=\"10.00\">net.4.weight</text>\n",
       "<text text-anchor=\"middle\" x=\"495\" y=\"-449.5\" font-family=\"monospace\" font-size=\"10.00\"> (128, 256)</text>\n",
       "</g>\n",
       "<!-- 5078260080&#45;&gt;5080652416 -->\n",
       "<g id=\"edge22\" class=\"edge\">\n",
       "<title>5078260080&#45;&gt;5080652416</title>\n",
       "<path fill=\"none\" stroke=\"black\" d=\"M490.23,-443.36C487.31,-434.38 483.53,-422.76 480.35,-413.01\"/>\n",
       "<polygon fill=\"black\" stroke=\"black\" points=\"483.77,-412.19 477.34,-403.76 477.11,-414.35 483.77,-412.19\"/>\n",
       "</g>\n",
       "<!-- 5080653280 -->\n",
       "<g id=\"node25\" class=\"node\">\n",
       "<title>5080653280</title>\n",
       "<polygon fill=\"lightgrey\" stroke=\"black\" points=\"529,-269.12 429,-269.12 429,-249.88 529,-249.88 529,-269.12\"/>\n",
       "<text text-anchor=\"middle\" x=\"479\" y=\"-255.62\" font-family=\"monospace\" font-size=\"10.00\">AccumulateGrad</text>\n",
       "</g>\n",
       "<!-- 5080653280&#45;&gt;5080653376 -->\n",
       "<g id=\"edge23\" class=\"edge\">\n",
       "<title>5080653280&#45;&gt;5080653376</title>\n",
       "<path fill=\"none\" stroke=\"black\" d=\"M481.78,-249.53C484.65,-240.29 489.21,-225.58 492.91,-213.63\"/>\n",
       "<polygon fill=\"black\" stroke=\"black\" points=\"496.18,-214.93 495.79,-204.34 489.49,-212.85 496.18,-214.93\"/>\n",
       "</g>\n",
       "<!-- 5078261136 -->\n",
       "<g id=\"node26\" class=\"node\">\n",
       "<title>5078261136</title>\n",
       "<polygon fill=\"lightblue\" stroke=\"black\" points=\"532,-341.25 444,-341.25 444,-310.75 532,-310.75 532,-341.25\"/>\n",
       "<text text-anchor=\"middle\" x=\"488\" y=\"-327.75\" font-family=\"monospace\" font-size=\"10.00\">net.5.weight</text>\n",
       "<text text-anchor=\"middle\" x=\"488\" y=\"-316.5\" font-family=\"monospace\" font-size=\"10.00\"> (128)</text>\n",
       "</g>\n",
       "<!-- 5078261136&#45;&gt;5080653280 -->\n",
       "<g id=\"edge24\" class=\"edge\">\n",
       "<title>5078261136&#45;&gt;5080653280</title>\n",
       "<path fill=\"none\" stroke=\"black\" d=\"M485.96,-310.36C484.73,-301.58 483.15,-290.27 481.81,-280.65\"/>\n",
       "<polygon fill=\"black\" stroke=\"black\" points=\"485.29,-280.24 480.44,-270.82 478.36,-281.21 485.29,-280.24\"/>\n",
       "</g>\n",
       "<!-- 5080653328 -->\n",
       "<g id=\"node27\" class=\"node\">\n",
       "<title>5080653328</title>\n",
       "<polygon fill=\"lightgrey\" stroke=\"black\" points=\"647,-269.12 547,-269.12 547,-249.88 647,-249.88 647,-269.12\"/>\n",
       "<text text-anchor=\"middle\" x=\"597\" y=\"-255.62\" font-family=\"monospace\" font-size=\"10.00\">AccumulateGrad</text>\n",
       "</g>\n",
       "<!-- 5080653328&#45;&gt;5080653376 -->\n",
       "<g id=\"edge25\" class=\"edge\">\n",
       "<title>5080653328&#45;&gt;5080653376</title>\n",
       "<path fill=\"none\" stroke=\"black\" d=\"M583.37,-249.53C567.59,-239.14 541.33,-221.86 522.29,-209.33\"/>\n",
       "<polygon fill=\"black\" stroke=\"black\" points=\"524.37,-206.51 514.09,-203.93 520.52,-212.35 524.37,-206.51\"/>\n",
       "</g>\n",
       "<!-- 5078261232 -->\n",
       "<g id=\"node28\" class=\"node\">\n",
       "<title>5078261232</title>\n",
       "<polygon fill=\"lightblue\" stroke=\"black\" points=\"635,-341.25 559,-341.25 559,-310.75 635,-310.75 635,-341.25\"/>\n",
       "<text text-anchor=\"middle\" x=\"597\" y=\"-327.75\" font-family=\"monospace\" font-size=\"10.00\">net.5.bias</text>\n",
       "<text text-anchor=\"middle\" x=\"597\" y=\"-316.5\" font-family=\"monospace\" font-size=\"10.00\"> (128)</text>\n",
       "</g>\n",
       "<!-- 5078261232&#45;&gt;5080653328 -->\n",
       "<g id=\"edge26\" class=\"edge\">\n",
       "<title>5078261232&#45;&gt;5080653328</title>\n",
       "<path fill=\"none\" stroke=\"black\" d=\"M597,-310.36C597,-301.58 597,-290.27 597,-280.65\"/>\n",
       "<polygon fill=\"black\" stroke=\"black\" points=\"600.5,-280.84 597,-270.84 593.5,-280.84 600.5,-280.84\"/>\n",
       "</g>\n",
       "<!-- 5080653424 -->\n",
       "<g id=\"node29\" class=\"node\">\n",
       "<title>5080653424</title>\n",
       "<polygon fill=\"lightgrey\" stroke=\"black\" points=\"683,-141.75 607,-141.75 607,-122.5 683,-122.5 683,-141.75\"/>\n",
       "<text text-anchor=\"middle\" x=\"645\" y=\"-128.25\" font-family=\"monospace\" font-size=\"10.00\">TBackward0</text>\n",
       "</g>\n",
       "<!-- 5080653424&#45;&gt;5080653664 -->\n",
       "<g id=\"edge27\" class=\"edge\">\n",
       "<title>5080653424&#45;&gt;5080653664</title>\n",
       "<path fill=\"none\" stroke=\"black\" d=\"M620.23,-122.09C596.74,-113.52 561.19,-100.56 534.65,-90.88\"/>\n",
       "<polygon fill=\"black\" stroke=\"black\" points=\"535.9,-87.61 525.31,-87.47 533.51,-94.19 535.9,-87.61\"/>\n",
       "</g>\n",
       "<!-- 5080652848 -->\n",
       "<g id=\"node30\" class=\"node\">\n",
       "<title>5080652848</title>\n",
       "<polygon fill=\"lightgrey\" stroke=\"black\" points=\"738,-202.62 638,-202.62 638,-183.38 738,-183.38 738,-202.62\"/>\n",
       "<text text-anchor=\"middle\" x=\"688\" y=\"-189.12\" font-family=\"monospace\" font-size=\"10.00\">AccumulateGrad</text>\n",
       "</g>\n",
       "<!-- 5080652848&#45;&gt;5080653424 -->\n",
       "<g id=\"edge28\" class=\"edge\">\n",
       "<title>5080652848&#45;&gt;5080653424</title>\n",
       "<path fill=\"none\" stroke=\"black\" d=\"M681.47,-183.06C675.34,-174.67 666,-161.88 658.31,-151.34\"/>\n",
       "<polygon fill=\"black\" stroke=\"black\" points=\"661.21,-149.38 652.48,-143.37 655.56,-153.51 661.21,-149.38\"/>\n",
       "</g>\n",
       "<!-- 5078261616 -->\n",
       "<g id=\"node31\" class=\"node\">\n",
       "<title>5078261616</title>\n",
       "<polygon fill=\"lightblue\" stroke=\"black\" points=\"753,-274.75 665,-274.75 665,-244.25 753,-244.25 753,-274.75\"/>\n",
       "<text text-anchor=\"middle\" x=\"709\" y=\"-261.25\" font-family=\"monospace\" font-size=\"10.00\">net.8.weight</text>\n",
       "<text text-anchor=\"middle\" x=\"709\" y=\"-250\" font-family=\"monospace\" font-size=\"10.00\"> (10, 128)</text>\n",
       "</g>\n",
       "<!-- 5078261616&#45;&gt;5080652848 -->\n",
       "<g id=\"edge29\" class=\"edge\">\n",
       "<title>5078261616&#45;&gt;5080652848</title>\n",
       "<path fill=\"none\" stroke=\"black\" d=\"M704.23,-243.86C701.31,-234.88 697.53,-223.26 694.35,-213.51\"/>\n",
       "<polygon fill=\"black\" stroke=\"black\" points=\"697.77,-212.69 691.34,-204.26 691.11,-214.85 697.77,-212.69\"/>\n",
       "</g>\n",
       "</g>\n",
       "</svg>\n"
      ],
      "text/plain": [
       "<graphviz.graphs.Digraph at 0x12ea90d90>"
      ]
     },
     "execution_count": 7,
     "metadata": {},
     "output_type": "execute_result"
    }
   ],
   "source": [
    "from torchviz import make_dot\n",
    "model.eval()\n",
    "make_dot(model(ds_train[0][0].unsqueeze(dim=0)), params=dict(model.named_parameters()))"
   ]
  },
  {
   "cell_type": "markdown",
   "metadata": {},
   "source": [
    "We can now train it. But instead of creating our own training loop, we use lightening's `Trainer`. As you see below we only need to specify the maximum number of epochs, we want to train the model for. Keep in mind that trainer can do a lot, depending on the large number of parameters passed to it, many of which we will see in subsequent examples and handouts.\n",
    "\n",
    "After that we call the trainer's `fit` method, which implements the training loop, passing it the model to train along with the training data loader."
   ]
  },
  {
   "cell_type": "code",
   "execution_count": 8,
   "metadata": {},
   "outputs": [
    {
     "name": "stderr",
     "output_type": "stream",
     "text": [
      "GPU available: False, used: False\n",
      "TPU available: False, using: 0 TPU cores\n",
      "IPU available: False, using: 0 IPUs\n",
      "HPU available: False, using: 0 HPUs\n",
      "\n",
      "  | Name | Type       | Params\n",
      "------------------------------------\n",
      "0 | net  | Sequential | 235 K \n",
      "------------------------------------\n",
      "235 K     Trainable params\n",
      "0         Non-trainable params\n",
      "235 K     Total params\n",
      "0.944     Total estimated model params size (MB)\n"
     ]
    },
    {
     "data": {
      "application/vnd.jupyter.widget-view+json": {
       "model_id": "bd1e393658764c0fa09036c30ef6d124",
       "version_major": 2,
       "version_minor": 0
      },
      "text/plain": [
       "Training: |                                                                                          | 0/? [00…"
      ]
     },
     "metadata": {},
     "output_type": "display_data"
    },
    {
     "name": "stderr",
     "output_type": "stream",
     "text": [
      "`Trainer.fit` stopped: `max_epochs=10` reached.\n"
     ]
    }
   ],
   "source": [
    "trainer = L.Trainer(max_epochs=10)\n",
    "trainer.fit(model=model, train_dataloaders=dl_train)"
   ]
  },
  {
   "cell_type": "markdown",
   "metadata": {},
   "source": [
    "Let's evaluate it:"
   ]
  },
  {
   "cell_type": "code",
   "execution_count": 9,
   "metadata": {},
   "outputs": [
    {
     "name": "stdout",
     "output_type": "stream",
     "text": [
      "Accuracy: 0.8418591022491455\n"
     ]
    }
   ],
   "source": [
    "model.eval()\n",
    "acc = 0\n",
    "for x_batch, y_batch in dl_test:\n",
    "    preds = model(x_batch)\n",
    "    acc += accuracy(torch.argmax(preds, dim=1), y_batch, task=\"multiclass\", num_classes=10)\n",
    "\n",
    "acc /= len(dl_test)\n",
    "print(\"Accuracy:\", acc.item())"
   ]
  },
  {
   "cell_type": "markdown",
   "metadata": {},
   "source": [
    "## Using a data module\n",
    "\n",
    "The third main abstraction of lightning is the data module. The above example uses the ordinary torch datasets and data loaders in training the model. PyTorch lightning provides a `lightening.LightningDataModule` class that can be subclassed to streamline the dataset preparation and loading. This is , as you can see below, a simple module where:\n",
    "\n",
    "* the dataset is downloaded and prepared inside the `prepare_data(self)` method.\n",
    "* the dataset is setup (split into various sets and transformed as needed) inside the `setup(self, stage=None)`.\n",
    "* the relevant data loaders are created and returned under the methods `train_dataloader(self)`, `val_dataloader(self)`, and `test_dataloader(self)`.\n",
    "\n",
    "Here is a data module for the above FashionMNIST data."
   ]
  },
  {
   "cell_type": "code",
   "execution_count": 10,
   "metadata": {},
   "outputs": [],
   "source": [
    "class FashionDataModule(L.LightningDataModule):\n",
    "    def __init__(self, data_path='./datasets'):\n",
    "        super().__init__()\n",
    "        self.data_path = data_path\n",
    "        self.transform = transforms.Compose([transforms.ToTensor()])\n",
    "        \n",
    "    def prepare_data(self):\n",
    "        datasets.FashionMNIST(root=self.data_path, download=True) \n",
    "\n",
    "    def setup(self, stage=None): # stage is either 'fit', 'validate', 'test', or 'predict'\n",
    "        self.ds_train, self.ds_val = random_split(\n",
    "            datasets.FashionMNIST(data_path, train=True, download=True, \n",
    "                                  transform=transforms.ToTensor()), [.8, .2])\n",
    "        self.ds_test = datasets.FashionMNIST(data_path, train=False, download=True, \n",
    "                                             transform=transforms.ToTensor())\n",
    "\n",
    "    def train_dataloader(self):\n",
    "        return DataLoader(self.ds_train, batch_size=64, num_workers=2, persistent_workers=True)\n",
    "\n",
    "    def val_dataloader(self):\n",
    "        return DataLoader(self.ds_val, batch_size=64, num_workers=2, persistent_workers=True)\n",
    "\n",
    "    def test_dataloader(self):\n",
    "        return DataLoader(self.ds_test, batch_size=64, num_workers=2, persistent_workers=True)\n",
    "    \n",
    "fashion_dm = FashionDataModule()"
   ]
  },
  {
   "cell_type": "markdown",
   "metadata": {},
   "source": [
    "Using this data module, we can train the above model for 5 extra epochs using only 100 training batches per epoch, again to show you the different arguments of the trainer."
   ]
  },
  {
   "cell_type": "code",
   "execution_count": 11,
   "metadata": {},
   "outputs": [
    {
     "name": "stderr",
     "output_type": "stream",
     "text": [
      "GPU available: False, used: False\n",
      "TPU available: False, using: 0 TPU cores\n",
      "IPU available: False, using: 0 IPUs\n",
      "HPU available: False, using: 0 HPUs\n",
      "/Users/aalgahmi/opt/miniconda3/envs/torch/lib/python3.11/site-packages/lightning/pytorch/trainer/configuration_validator.py:72: You passed in a `val_dataloader` but have no `validation_step`. Skipping val loop.\n",
      "\n",
      "  | Name | Type       | Params\n",
      "------------------------------------\n",
      "0 | net  | Sequential | 235 K \n",
      "------------------------------------\n",
      "235 K     Trainable params\n",
      "0         Non-trainable params\n",
      "235 K     Total params\n",
      "0.944     Total estimated model params size (MB)\n"
     ]
    },
    {
     "data": {
      "application/vnd.jupyter.widget-view+json": {
       "model_id": "770f98a22b704d7e9ade7e15e8162e88",
       "version_major": 2,
       "version_minor": 0
      },
      "text/plain": [
       "Training: |                                                                                          | 0/? [00…"
      ]
     },
     "metadata": {},
     "output_type": "display_data"
    },
    {
     "name": "stderr",
     "output_type": "stream",
     "text": [
      "`Trainer.fit` stopped: `max_epochs=5` reached.\n"
     ]
    }
   ],
   "source": [
    "trainer = L.Trainer(limit_train_batches=100, max_epochs=5)\n",
    "trainer.fit(model=model, datamodule=fashion_dm)"
   ]
  },
  {
   "cell_type": "markdown",
   "metadata": {},
   "source": [
    "Let's evaluate it:"
   ]
  },
  {
   "cell_type": "code",
   "execution_count": 12,
   "metadata": {},
   "outputs": [
    {
     "name": "stdout",
     "output_type": "stream",
     "text": [
      "Accuracy: 0.8445461988449097\n"
     ]
    }
   ],
   "source": [
    "model.eval()\n",
    "acc = 0\n",
    "for x_batch, y_batch in fashion_dm.test_dataloader():\n",
    "    preds = model(x_batch)\n",
    "    acc += accuracy(torch.argmax(preds, dim=1), y_batch, task=\"multiclass\", num_classes=10)\n",
    "\n",
    "acc /= len(dl_test)\n",
    "print(\"Accuracy:\", acc.item())"
   ]
  },
  {
   "cell_type": "markdown",
   "metadata": {},
   "source": [
    "## Visualizing the results with Tensorboard\n",
    "\n",
    "**TensorBoard** is a visualization tool provided by TensorFlow for monitoring and debugging machine learning models. While TensorFlow-centric, it can also be used with PyTorch models and other frameworks. TensorBoard offers a user-friendly interface to visualize and analyze various aspects of the training process and model performance. Lightning uses a TensorBoard logger (by default if tensorboard is found), to log relevant information about the progress of training. This allows us to seamlessly integrate TensorBoard into our PyTorch workflows and leverage its visualization capabilities for improved model understanding and debugging.\n",
    "\n",
    "Here is how we can display the logs of the above model using TensorBoard."
   ]
  },
  {
   "cell_type": "code",
   "execution_count": 13,
   "metadata": {},
   "outputs": [
    {
     "data": {
      "text/html": [
       "\n",
       "      <iframe id=\"tensorboard-frame-b31be56b9c79839a\" width=\"100%\" height=\"800\" frameborder=\"0\">\n",
       "      </iframe>\n",
       "      <script>\n",
       "        (function() {\n",
       "          const frame = document.getElementById(\"tensorboard-frame-b31be56b9c79839a\");\n",
       "          const url = new URL(\"/\", window.location);\n",
       "          const port = 6006;\n",
       "          if (port) {\n",
       "            url.port = port;\n",
       "          }\n",
       "          frame.src = url;\n",
       "        })();\n",
       "      </script>\n",
       "    "
      ],
      "text/plain": [
       "<IPython.core.display.HTML object>"
      ]
     },
     "metadata": {},
     "output_type": "display_data"
    }
   ],
   "source": [
    "# Install TensorBoard\n",
    "! pip install tensorboard --quiet\n",
    "\n",
    "# Start TensorBoard\n",
    "%load_ext tensorboard\n",
    "%tensorboard --logdir lightning_logs/"
   ]
  },
  {
   "cell_type": "markdown",
   "metadata": {},
   "source": [
    "## Adding validation and test steps\n",
    "The last model we trained implemented only the `training_step()` and  `configure_optimizers()` methods. Let's add a validation and test step. "
   ]
  },
  {
   "cell_type": "code",
   "execution_count": 14,
   "metadata": {},
   "outputs": [],
   "source": [
    "class FashionModel(L.LightningModule):\n",
    "    def __init__(self, lr=0.001, weight_decay=0.01):\n",
    "        super().__init__()\n",
    "\n",
    "        self.lr = lr\n",
    "        self.weight_decay = weight_decay\n",
    "        \n",
    "        self.net = nn.Sequential(\n",
    "            nn.Flatten(),\n",
    "            nn.Linear(784, 256),\n",
    "            nn.BatchNorm1d(256),\n",
    "            nn.ReLU(),\n",
    "            nn.Linear(256, 128),\n",
    "            nn.BatchNorm1d(128),\n",
    "            nn.ReLU(),\n",
    "            nn.Dropout(.2),\n",
    "            nn.Linear(128, 10)\n",
    "        )\n",
    "\n",
    "    def forward(self, x):\n",
    "        return self.net(x)\n",
    "\n",
    "    def training_step(self, batch, batch_idx):\n",
    "        X, y = batch\n",
    "        logits = self(X)\n",
    "        loss = nn.functional.cross_entropy(logits, y)\n",
    "        y_hat = torch.argmax(logits, dim=1)\n",
    "        self.log(\"loss\", loss, prog_bar=True)\n",
    "        self.log(\"accuracy\", accuracy(y_hat, y, task=\"multiclass\", num_classes=10), prog_bar=True)\n",
    "        \n",
    "        return loss\n",
    "\n",
    "    def validation_step(self, batch, batch_idx):\n",
    "        X, y = batch\n",
    "        logits = self(X)\n",
    "        loss = nn.functional.cross_entropy(logits, y)\n",
    "        y_hat = torch.argmax(logits, dim=1)\n",
    "        self.log(\"val_loss\", loss, prog_bar=True)\n",
    "        self.log(\"val_accuracy\", accuracy(y_hat, y, task=\"multiclass\", num_classes=10), prog_bar=True)\n",
    "        \n",
    "        return loss\n",
    "\n",
    "    def test_step(self, batch, batch_idx):\n",
    "        X, y = batch\n",
    "        logits = self(X)\n",
    "        loss = nn.functional.cross_entropy(logits, y)\n",
    "        y_hat = torch.argmax(logits, dim=1)\n",
    "        self.log(\"test_loss\", loss, prog_bar=True)\n",
    "        self.log(\"test_accuracy\", accuracy(y_hat, y, task=\"multiclass\", num_classes=10), prog_bar=True)\n",
    "        \n",
    "        return loss\n",
    "        \n",
    "    def configure_optimizers(self):\n",
    "        return torch.optim.SGD(model.parameters(), lr=self.lr, weight_decay=self.weight_decay)\n",
    "\n",
    "model = FashionModel()"
   ]
  },
  {
   "cell_type": "markdown",
   "metadata": {},
   "source": [
    "Let's train this new model. But this time, we will use a new logger: `lightning.pytorch.loggers.CSVLogger`. This logger will record the metrics into a CSV file, which we can read and utilize to plot the training and validation learning curves. Let's save the log files in a folder named `./logs` under a given name for the model (`fashionMNIST_v1_0`). Once we create the logger, we pass it to the trainer."
   ]
  },
  {
   "cell_type": "code",
   "execution_count": 15,
   "metadata": {},
   "outputs": [
    {
     "name": "stderr",
     "output_type": "stream",
     "text": [
      "GPU available: False, used: False\n",
      "TPU available: False, using: 0 TPU cores\n",
      "IPU available: False, using: 0 IPUs\n",
      "HPU available: False, using: 0 HPUs\n",
      "\n",
      "  | Name | Type       | Params\n",
      "------------------------------------\n",
      "0 | net  | Sequential | 235 K \n",
      "------------------------------------\n",
      "235 K     Trainable params\n",
      "0         Non-trainable params\n",
      "235 K     Total params\n",
      "0.944     Total estimated model params size (MB)\n"
     ]
    },
    {
     "data": {
      "application/vnd.jupyter.widget-view+json": {
       "model_id": "",
       "version_major": 2,
       "version_minor": 0
      },
      "text/plain": [
       "Sanity Checking: |                                                                                   | 0/? [00…"
      ]
     },
     "metadata": {},
     "output_type": "display_data"
    },
    {
     "data": {
      "application/vnd.jupyter.widget-view+json": {
       "model_id": "26a901086646491c8b70e14a4c59b17f",
       "version_major": 2,
       "version_minor": 0
      },
      "text/plain": [
       "Training: |                                                                                          | 0/? [00…"
      ]
     },
     "metadata": {},
     "output_type": "display_data"
    },
    {
     "data": {
      "application/vnd.jupyter.widget-view+json": {
       "model_id": "",
       "version_major": 2,
       "version_minor": 0
      },
      "text/plain": [
       "Validation: |                                                                                        | 0/? [00…"
      ]
     },
     "metadata": {},
     "output_type": "display_data"
    },
    {
     "data": {
      "application/vnd.jupyter.widget-view+json": {
       "model_id": "",
       "version_major": 2,
       "version_minor": 0
      },
      "text/plain": [
       "Validation: |                                                                                        | 0/? [00…"
      ]
     },
     "metadata": {},
     "output_type": "display_data"
    },
    {
     "data": {
      "application/vnd.jupyter.widget-view+json": {
       "model_id": "",
       "version_major": 2,
       "version_minor": 0
      },
      "text/plain": [
       "Validation: |                                                                                        | 0/? [00…"
      ]
     },
     "metadata": {},
     "output_type": "display_data"
    },
    {
     "data": {
      "application/vnd.jupyter.widget-view+json": {
       "model_id": "",
       "version_major": 2,
       "version_minor": 0
      },
      "text/plain": [
       "Validation: |                                                                                        | 0/? [00…"
      ]
     },
     "metadata": {},
     "output_type": "display_data"
    },
    {
     "data": {
      "application/vnd.jupyter.widget-view+json": {
       "model_id": "",
       "version_major": 2,
       "version_minor": 0
      },
      "text/plain": [
       "Validation: |                                                                                        | 0/? [00…"
      ]
     },
     "metadata": {},
     "output_type": "display_data"
    },
    {
     "data": {
      "application/vnd.jupyter.widget-view+json": {
       "model_id": "",
       "version_major": 2,
       "version_minor": 0
      },
      "text/plain": [
       "Validation: |                                                                                        | 0/? [00…"
      ]
     },
     "metadata": {},
     "output_type": "display_data"
    },
    {
     "data": {
      "application/vnd.jupyter.widget-view+json": {
       "model_id": "",
       "version_major": 2,
       "version_minor": 0
      },
      "text/plain": [
       "Validation: |                                                                                        | 0/? [00…"
      ]
     },
     "metadata": {},
     "output_type": "display_data"
    },
    {
     "data": {
      "application/vnd.jupyter.widget-view+json": {
       "model_id": "",
       "version_major": 2,
       "version_minor": 0
      },
      "text/plain": [
       "Validation: |                                                                                        | 0/? [00…"
      ]
     },
     "metadata": {},
     "output_type": "display_data"
    },
    {
     "data": {
      "application/vnd.jupyter.widget-view+json": {
       "model_id": "",
       "version_major": 2,
       "version_minor": 0
      },
      "text/plain": [
       "Validation: |                                                                                        | 0/? [00…"
      ]
     },
     "metadata": {},
     "output_type": "display_data"
    },
    {
     "data": {
      "application/vnd.jupyter.widget-view+json": {
       "model_id": "",
       "version_major": 2,
       "version_minor": 0
      },
      "text/plain": [
       "Validation: |                                                                                        | 0/? [00…"
      ]
     },
     "metadata": {},
     "output_type": "display_data"
    },
    {
     "name": "stderr",
     "output_type": "stream",
     "text": [
      "`Trainer.fit` stopped: `max_epochs=10` reached.\n"
     ]
    }
   ],
   "source": [
    "from lightning.pytorch.loggers import CSVLogger\n",
    "logger = CSVLogger(\"logs\", name=\"fashionMNIST_v1_0\")\n",
    "\n",
    "trainer = L.Trainer(max_epochs=10, logger=logger)\n",
    "trainer.fit(model=model, datamodule=fashion_dm)"
   ]
  },
  {
   "cell_type": "markdown",
   "metadata": {},
   "source": [
    "Because we implemented a testing step, we can evaluate the model like this:"
   ]
  },
  {
   "cell_type": "code",
   "execution_count": 16,
   "metadata": {},
   "outputs": [
    {
     "data": {
      "application/vnd.jupyter.widget-view+json": {
       "model_id": "ebda13159aea4c71bd6f009c24806384",
       "version_major": 2,
       "version_minor": 0
      },
      "text/plain": [
       "Testing: |                                                                                           | 0/? [00…"
      ]
     },
     "metadata": {},
     "output_type": "display_data"
    },
    {
     "data": {
      "text/html": [
       "<pre style=\"white-space:pre;overflow-x:auto;line-height:normal;font-family:Menlo,'DejaVu Sans Mono',consolas,'Courier New',monospace\">┏━━━━━━━━━━━━━━━━━━━━━━━━━━━┳━━━━━━━━━━━━━━━━━━━━━━━━━━━┓\n",
       "┃<span style=\"font-weight: bold\">        Test metric        </span>┃<span style=\"font-weight: bold\">       DataLoader 0        </span>┃\n",
       "┡━━━━━━━━━━━━━━━━━━━━━━━━━━━╇━━━━━━━━━━━━━━━━━━━━━━━━━━━┩\n",
       "│<span style=\"color: #008080; text-decoration-color: #008080\">       test_accuracy       </span>│<span style=\"color: #800080; text-decoration-color: #800080\">     0.843500018119812     </span>│\n",
       "│<span style=\"color: #008080; text-decoration-color: #008080\">         test_loss         </span>│<span style=\"color: #800080; text-decoration-color: #800080\">    0.4638446271419525     </span>│\n",
       "└───────────────────────────┴───────────────────────────┘\n",
       "</pre>\n"
      ],
      "text/plain": [
       "┏━━━━━━━━━━━━━━━━━━━━━━━━━━━┳━━━━━━━━━━━━━━━━━━━━━━━━━━━┓\n",
       "┃\u001b[1m \u001b[0m\u001b[1m       Test metric       \u001b[0m\u001b[1m \u001b[0m┃\u001b[1m \u001b[0m\u001b[1m      DataLoader 0       \u001b[0m\u001b[1m \u001b[0m┃\n",
       "┡━━━━━━━━━━━━━━━━━━━━━━━━━━━╇━━━━━━━━━━━━━━━━━━━━━━━━━━━┩\n",
       "│\u001b[36m \u001b[0m\u001b[36m      test_accuracy      \u001b[0m\u001b[36m \u001b[0m│\u001b[35m \u001b[0m\u001b[35m    0.843500018119812    \u001b[0m\u001b[35m \u001b[0m│\n",
       "│\u001b[36m \u001b[0m\u001b[36m        test_loss        \u001b[0m\u001b[36m \u001b[0m│\u001b[35m \u001b[0m\u001b[35m   0.4638446271419525    \u001b[0m\u001b[35m \u001b[0m│\n",
       "└───────────────────────────┴───────────────────────────┘\n"
      ]
     },
     "metadata": {},
     "output_type": "display_data"
    },
    {
     "data": {
      "text/plain": [
       "[{'test_loss': 0.4638446271419525, 'test_accuracy': 0.843500018119812}]"
      ]
     },
     "execution_count": 16,
     "metadata": {},
     "output_type": "execute_result"
    }
   ],
   "source": [
    "trainer.test(model, datamodule=fashion_dm)"
   ]
  },
  {
   "cell_type": "markdown",
   "metadata": {},
   "source": [
    "To use the CSVLogger's log file (`metrics.csv`), we first read it into a dataframe. Adjust the version number part of the file name as needed."
   ]
  },
  {
   "cell_type": "code",
   "execution_count": 17,
   "metadata": {},
   "outputs": [
    {
     "data": {
      "text/html": [
       "<div>\n",
       "<style scoped>\n",
       "    .dataframe tbody tr th:only-of-type {\n",
       "        vertical-align: middle;\n",
       "    }\n",
       "\n",
       "    .dataframe tbody tr th {\n",
       "        vertical-align: top;\n",
       "    }\n",
       "\n",
       "    .dataframe thead th {\n",
       "        text-align: right;\n",
       "    }\n",
       "</style>\n",
       "<table border=\"1\" class=\"dataframe\">\n",
       "  <thead>\n",
       "    <tr style=\"text-align: right;\">\n",
       "      <th></th>\n",
       "      <th>accuracy</th>\n",
       "      <th>step</th>\n",
       "      <th>loss</th>\n",
       "      <th>epoch</th>\n",
       "      <th>val_loss</th>\n",
       "      <th>val_accuracy</th>\n",
       "      <th>test_loss</th>\n",
       "      <th>test_accuracy</th>\n",
       "    </tr>\n",
       "  </thead>\n",
       "  <tbody>\n",
       "    <tr>\n",
       "      <th>0</th>\n",
       "      <td>0.296875</td>\n",
       "      <td>49</td>\n",
       "      <td>2.046117</td>\n",
       "      <td>0</td>\n",
       "      <td>NaN</td>\n",
       "      <td>NaN</td>\n",
       "      <td>NaN</td>\n",
       "      <td>NaN</td>\n",
       "    </tr>\n",
       "    <tr>\n",
       "      <th>1</th>\n",
       "      <td>0.328125</td>\n",
       "      <td>99</td>\n",
       "      <td>1.857239</td>\n",
       "      <td>0</td>\n",
       "      <td>NaN</td>\n",
       "      <td>NaN</td>\n",
       "      <td>NaN</td>\n",
       "      <td>NaN</td>\n",
       "    </tr>\n",
       "    <tr>\n",
       "      <th>2</th>\n",
       "      <td>0.562500</td>\n",
       "      <td>149</td>\n",
       "      <td>1.557151</td>\n",
       "      <td>0</td>\n",
       "      <td>NaN</td>\n",
       "      <td>NaN</td>\n",
       "      <td>NaN</td>\n",
       "      <td>NaN</td>\n",
       "    </tr>\n",
       "    <tr>\n",
       "      <th>3</th>\n",
       "      <td>0.640625</td>\n",
       "      <td>199</td>\n",
       "      <td>1.464682</td>\n",
       "      <td>0</td>\n",
       "      <td>NaN</td>\n",
       "      <td>NaN</td>\n",
       "      <td>NaN</td>\n",
       "      <td>NaN</td>\n",
       "    </tr>\n",
       "    <tr>\n",
       "      <th>4</th>\n",
       "      <td>0.593750</td>\n",
       "      <td>249</td>\n",
       "      <td>1.498453</td>\n",
       "      <td>0</td>\n",
       "      <td>NaN</td>\n",
       "      <td>NaN</td>\n",
       "      <td>NaN</td>\n",
       "      <td>NaN</td>\n",
       "    </tr>\n",
       "    <tr>\n",
       "      <th>...</th>\n",
       "      <td>...</td>\n",
       "      <td>...</td>\n",
       "      <td>...</td>\n",
       "      <td>...</td>\n",
       "      <td>...</td>\n",
       "      <td>...</td>\n",
       "      <td>...</td>\n",
       "      <td>...</td>\n",
       "    </tr>\n",
       "    <tr>\n",
       "      <th>156</th>\n",
       "      <td>0.734375</td>\n",
       "      <td>7399</td>\n",
       "      <td>0.558630</td>\n",
       "      <td>9</td>\n",
       "      <td>NaN</td>\n",
       "      <td>NaN</td>\n",
       "      <td>NaN</td>\n",
       "      <td>NaN</td>\n",
       "    </tr>\n",
       "    <tr>\n",
       "      <th>157</th>\n",
       "      <td>0.875000</td>\n",
       "      <td>7449</td>\n",
       "      <td>0.528945</td>\n",
       "      <td>9</td>\n",
       "      <td>NaN</td>\n",
       "      <td>NaN</td>\n",
       "      <td>NaN</td>\n",
       "      <td>NaN</td>\n",
       "    </tr>\n",
       "    <tr>\n",
       "      <th>158</th>\n",
       "      <td>0.843750</td>\n",
       "      <td>7499</td>\n",
       "      <td>0.452537</td>\n",
       "      <td>9</td>\n",
       "      <td>NaN</td>\n",
       "      <td>NaN</td>\n",
       "      <td>NaN</td>\n",
       "      <td>NaN</td>\n",
       "    </tr>\n",
       "    <tr>\n",
       "      <th>159</th>\n",
       "      <td>NaN</td>\n",
       "      <td>7499</td>\n",
       "      <td>NaN</td>\n",
       "      <td>9</td>\n",
       "      <td>0.454147</td>\n",
       "      <td>0.85025</td>\n",
       "      <td>NaN</td>\n",
       "      <td>NaN</td>\n",
       "    </tr>\n",
       "    <tr>\n",
       "      <th>160</th>\n",
       "      <td>NaN</td>\n",
       "      <td>7500</td>\n",
       "      <td>NaN</td>\n",
       "      <td>10</td>\n",
       "      <td>NaN</td>\n",
       "      <td>NaN</td>\n",
       "      <td>0.463845</td>\n",
       "      <td>0.8435</td>\n",
       "    </tr>\n",
       "  </tbody>\n",
       "</table>\n",
       "<p>161 rows × 8 columns</p>\n",
       "</div>"
      ],
      "text/plain": [
       "     accuracy  step      loss  epoch  val_loss  val_accuracy  test_loss  \\\n",
       "0    0.296875    49  2.046117      0       NaN           NaN        NaN   \n",
       "1    0.328125    99  1.857239      0       NaN           NaN        NaN   \n",
       "2    0.562500   149  1.557151      0       NaN           NaN        NaN   \n",
       "3    0.640625   199  1.464682      0       NaN           NaN        NaN   \n",
       "4    0.593750   249  1.498453      0       NaN           NaN        NaN   \n",
       "..        ...   ...       ...    ...       ...           ...        ...   \n",
       "156  0.734375  7399  0.558630      9       NaN           NaN        NaN   \n",
       "157  0.875000  7449  0.528945      9       NaN           NaN        NaN   \n",
       "158  0.843750  7499  0.452537      9       NaN           NaN        NaN   \n",
       "159       NaN  7499       NaN      9  0.454147       0.85025        NaN   \n",
       "160       NaN  7500       NaN     10       NaN           NaN   0.463845   \n",
       "\n",
       "     test_accuracy  \n",
       "0              NaN  \n",
       "1              NaN  \n",
       "2              NaN  \n",
       "3              NaN  \n",
       "4              NaN  \n",
       "..             ...  \n",
       "156            NaN  \n",
       "157            NaN  \n",
       "158            NaN  \n",
       "159            NaN  \n",
       "160         0.8435  \n",
       "\n",
       "[161 rows x 8 columns]"
      ]
     },
     "execution_count": 17,
     "metadata": {},
     "output_type": "execute_result"
    }
   ],
   "source": [
    "hist = pd.read_csv('./logs/fashionMNIST_v1_0/version_1/metrics.csv')\n",
    "hist"
   ]
  },
  {
   "cell_type": "markdown",
   "metadata": {},
   "source": [
    "For training, use the `accuracy` and `loss` columns, dropping any `NaN` values. Similarly, use `val_accuracy` and `val_loss` for validation, and `test_accuracy` and `test_loss` for testing. Let's plot the training curves:"
   ]
  },
  {
   "cell_type": "code",
   "execution_count": 18,
   "metadata": {},
   "outputs": [
    {
     "data": {
      "text/plain": [
       "array([[<Axes: >, <Axes: >]], dtype=object)"
      ]
     },
     "execution_count": 18,
     "metadata": {},
     "output_type": "execute_result"
    },
    {
     "data": {
      "image/png": "[encoded data removed]",
      "text/plain": [
       "<Figure size 1600x400 with 2 Axes>"
      ]
     },
     "metadata": {},
     "output_type": "display_data"
    }
   ],
   "source": [
    "hist[['accuracy', 'loss']].dropna().plot(subplots=True, layout=(1,2), figsize=(16,4), \n",
    "                                         grid=True, title=\"Training Curves\")"
   ]
  },
  {
   "cell_type": "markdown",
   "metadata": {},
   "source": [
    "Similarly, here are the validation curves:"
   ]
  },
  {
   "cell_type": "code",
   "execution_count": 19,
   "metadata": {},
   "outputs": [
    {
     "data": {
      "text/plain": [
       "array([[<Axes: >, <Axes: >]], dtype=object)"
      ]
     },
     "execution_count": 19,
     "metadata": {},
     "output_type": "execute_result"
    },
    {
     "data": {
      "image/png": "[encoded data removed]",
      "text/plain": [
       "<Figure size 1600x400 with 2 Axes>"
      ]
     },
     "metadata": {},
     "output_type": "display_data"
    }
   ],
   "source": [
    "hist[['val_accuracy', 'val_loss']].dropna().plot(subplots=True, layout=(1,2), figsize=(16,4), \n",
    "                                                 grid=True, title=\"Validation Curves\")"
   ]
  },
  {
   "cell_type": "markdown",
   "metadata": {},
   "source": [
    "There is no need to plot the testing curves since there is only one row, which is not enough to plot a curve."
   ]
  },
  {
   "cell_type": "code",
   "execution_count": 20,
   "metadata": {},
   "outputs": [
    {
     "data": {
      "text/html": [
       "<div>\n",
       "<style scoped>\n",
       "    .dataframe tbody tr th:only-of-type {\n",
       "        vertical-align: middle;\n",
       "    }\n",
       "\n",
       "    .dataframe tbody tr th {\n",
       "        vertical-align: top;\n",
       "    }\n",
       "\n",
       "    .dataframe thead th {\n",
       "        text-align: right;\n",
       "    }\n",
       "</style>\n",
       "<table border=\"1\" class=\"dataframe\">\n",
       "  <thead>\n",
       "    <tr style=\"text-align: right;\">\n",
       "      <th></th>\n",
       "      <th>test_accuracy</th>\n",
       "      <th>test_loss</th>\n",
       "    </tr>\n",
       "  </thead>\n",
       "  <tbody>\n",
       "    <tr>\n",
       "      <th>160</th>\n",
       "      <td>0.8435</td>\n",
       "      <td>0.463845</td>\n",
       "    </tr>\n",
       "  </tbody>\n",
       "</table>\n",
       "</div>"
      ],
      "text/plain": [
       "     test_accuracy  test_loss\n",
       "160         0.8435   0.463845"
      ]
     },
     "execution_count": 20,
     "metadata": {},
     "output_type": "execute_result"
    }
   ],
   "source": [
    "hist[['test_accuracy', 'test_loss']].dropna()"
   ]
  },
  {
   "cell_type": "markdown",
   "metadata": {},
   "source": [
    "## Using hooks\n",
    "\n",
    "The `LightningModule`-based model can also define methods that perform custom actions at various points during the training process. Here are some of the commonly used hooks supported by the `LightningModule` class:\n",
    "\n",
    "* **`on_train_start`:** Called at the beginning of the training process.\n",
    "* **`on_train_end`:** Called at the end of the training process.\n",
    "* **`on_epoch_start`:** Called at the beginning of each epoch.\n",
    "* **`on_epoch_end`:** Called at the end of each epoch.\n",
    "* **`on_batch_start`:** Called at the beginning of each training batch.\n",
    "* **`on_batch_end`:** Called at the end of each training batch.\n",
    "  \n",
    "* **`on_validation_start`:** Called at the beginning of the validation process.\n",
    "* **`on_validation_end`:** Called at the end of the validation process.\n",
    "* **`on_validation_epoch_start`:** Called at the beginning of each validation epoch.\n",
    "* **`on_validation_epoch_end`:** Called at the end of each validation epoch.\n",
    "  \n",
    "* **`on_test_start`:** Called at the beginning of the testing process.\n",
    "* **`on_test_end`:** Called at the end of the testing process.\n",
    "* **`on_test_epoch_start`:** Called at the beginning of each testing epoch.\n",
    "* **`on_test_epoch_end`:** Called at the end of each testing epoch.\n",
    "\n",
    "These hooks provide opportunities for users to intervene and execute custom logic at specific points during the training, validation, or testing processes. You can define these hooks in your `LightningModule`-based by implementing the corresponding methods with the desired functionality.\n",
    "\n",
    "More information about hooks can be found at [the `LightningModule` documentation page](https://lightning.ai/docs/pytorch/stable/common/lightning_module.html#hooks).\n",
    "\n",
    "Here is the above model with multiple hooks to calculate the per-epoch training, validation, and testing accuracies."
   ]
  },
  {
   "cell_type": "code",
   "execution_count": 21,
   "metadata": {},
   "outputs": [],
   "source": [
    "from torchmetrics import Accuracy\n",
    "\n",
    "class FashionModel(L.LightningModule):\n",
    "    def __init__(self, lr=0.001):\n",
    "        super().__init__()\n",
    "\n",
    "        self.lr = lr\n",
    "        \n",
    "        self.net = nn.Sequential(\n",
    "            nn.Flatten(),\n",
    "            nn.Linear(784, 256),\n",
    "            nn.BatchNorm1d(256),\n",
    "            nn.ReLU(),\n",
    "            nn.Linear(256, 128),\n",
    "            nn.BatchNorm1d(128),\n",
    "            nn.ReLU(),\n",
    "            nn.Dropout(.2),\n",
    "            nn.Linear(128, 10)\n",
    "        )\n",
    "\n",
    "        self.train_accuracy = Accuracy(task=\"multiclass\", num_classes=10)\n",
    "        self.val_accuracy = Accuracy(task=\"multiclass\", num_classes=10)\n",
    "        self.test_accuracy = Accuracy(task=\"multiclass\", num_classes=10)\n",
    "\n",
    "    def forward(self, x):\n",
    "        return self.net(x)\n",
    "\n",
    "    def training_step(self, batch, batch_idx):\n",
    "        X, y = batch\n",
    "        logits = self(X)\n",
    "        loss = nn.functional.cross_entropy(logits, y)\n",
    "        y_hat = torch.argmax(logits, dim=1)\n",
    "        self.train_accuracy.update(y_hat, y)\n",
    "        self.log(\"loss\", loss, prog_bar=True)\n",
    "        self.log(\"accuracy\", self.train_accuracy(y_hat, y), prog_bar=True)\n",
    "        return loss\n",
    "\n",
    "    def on_training_epoch_end(self):\n",
    "        self.log(\"accuracy\", self.train_accuracy.compute())\n",
    "        self.train_accuracy.reset()\n",
    "    \n",
    "    def validation_step(self, batch, batch_idx):\n",
    "        X, y = batch\n",
    "        logits = self(X)\n",
    "        loss = nn.functional.cross_entropy(logits, y)\n",
    "        y_hat = torch.argmax(logits, dim=1)\n",
    "        self.val_accuracy.update(y_hat, y)\n",
    "        self.log(\"val_loss\", loss, prog_bar=True)\n",
    "        self.log(\"val_accuracy\", self.val_accuracy(y_hat, y), prog_bar=True)\n",
    "        return loss\n",
    "\n",
    "    def on_validation_epoch_end(self):\n",
    "        self.log(\"val_accuracy\", self.val_accuracy.compute())\n",
    "        self.val_accuracy.reset()\n",
    "\n",
    "    def test_step(self, batch, batch_idx):\n",
    "        X, y = batch\n",
    "        logits = self(X)\n",
    "        loss = nn.functional.cross_entropy(logits, y)\n",
    "        y_hat = torch.argmax(logits, dim=1)\n",
    "        self.test_accuracy.update(y_hat, y)\n",
    "        self.log(\"test_loss\", loss, prog_bar=True)\n",
    "        self.log(\"test_accuracy\", self.test_accuracy(y_hat, y), prog_bar=True)\n",
    "        return loss\n",
    "\n",
    "    def on_test_epoch_end(self):\n",
    "        self.log(\"test_accuracy\", self.test_accuracy.compute())\n",
    "        self.test_accuracy.reset()\n",
    "        \n",
    "    def configure_optimizers(self):\n",
    "        return torch.optim.Adam(self.parameters(), lr=self.lr)\n",
    "\n",
    "model = FashionModel()"
   ]
  },
  {
   "cell_type": "markdown",
   "metadata": {},
   "source": [
    "Here we update the relevant accuracy quantities during the training, validation, and testing steps, and at the end of each epoch, we average all those accuracy readings, which gives us the overall per-epoch accuracies.\n",
    "\n",
    "Let's train the model:"
   ]
  },
  {
   "cell_type": "code",
   "execution_count": 22,
   "metadata": {},
   "outputs": [
    {
     "name": "stderr",
     "output_type": "stream",
     "text": [
      "GPU available: False, used: False\n",
      "TPU available: False, using: 0 TPU cores\n",
      "IPU available: False, using: 0 IPUs\n",
      "HPU available: False, using: 0 HPUs\n",
      "\n",
      "  | Name           | Type               | Params\n",
      "------------------------------------------------------\n",
      "0 | net            | Sequential         | 235 K \n",
      "1 | train_accuracy | MulticlassAccuracy | 0     \n",
      "2 | val_accuracy   | MulticlassAccuracy | 0     \n",
      "3 | test_accuracy  | MulticlassAccuracy | 0     \n",
      "------------------------------------------------------\n",
      "235 K     Trainable params\n",
      "0         Non-trainable params\n",
      "235 K     Total params\n",
      "0.944     Total estimated model params size (MB)\n"
     ]
    },
    {
     "data": {
      "application/vnd.jupyter.widget-view+json": {
       "model_id": "",
       "version_major": 2,
       "version_minor": 0
      },
      "text/plain": [
       "Sanity Checking: |                                                                                   | 0/? [00…"
      ]
     },
     "metadata": {},
     "output_type": "display_data"
    },
    {
     "data": {
      "application/vnd.jupyter.widget-view+json": {
       "model_id": "eac673f5965a4cafac186559116e6d5b",
       "version_major": 2,
       "version_minor": 0
      },
      "text/plain": [
       "Training: |                                                                                          | 0/? [00…"
      ]
     },
     "metadata": {},
     "output_type": "display_data"
    },
    {
     "data": {
      "application/vnd.jupyter.widget-view+json": {
       "model_id": "",
       "version_major": 2,
       "version_minor": 0
      },
      "text/plain": [
       "Validation: |                                                                                        | 0/? [00…"
      ]
     },
     "metadata": {},
     "output_type": "display_data"
    },
    {
     "data": {
      "application/vnd.jupyter.widget-view+json": {
       "model_id": "",
       "version_major": 2,
       "version_minor": 0
      },
      "text/plain": [
       "Validation: |                                                                                        | 0/? [00…"
      ]
     },
     "metadata": {},
     "output_type": "display_data"
    },
    {
     "data": {
      "application/vnd.jupyter.widget-view+json": {
       "model_id": "",
       "version_major": 2,
       "version_minor": 0
      },
      "text/plain": [
       "Validation: |                                                                                        | 0/? [00…"
      ]
     },
     "metadata": {},
     "output_type": "display_data"
    },
    {
     "data": {
      "application/vnd.jupyter.widget-view+json": {
       "model_id": "",
       "version_major": 2,
       "version_minor": 0
      },
      "text/plain": [
       "Validation: |                                                                                        | 0/? [00…"
      ]
     },
     "metadata": {},
     "output_type": "display_data"
    },
    {
     "data": {
      "application/vnd.jupyter.widget-view+json": {
       "model_id": "",
       "version_major": 2,
       "version_minor": 0
      },
      "text/plain": [
       "Validation: |                                                                                        | 0/? [00…"
      ]
     },
     "metadata": {},
     "output_type": "display_data"
    },
    {
     "data": {
      "application/vnd.jupyter.widget-view+json": {
       "model_id": "",
       "version_major": 2,
       "version_minor": 0
      },
      "text/plain": [
       "Validation: |                                                                                        | 0/? [00…"
      ]
     },
     "metadata": {},
     "output_type": "display_data"
    },
    {
     "data": {
      "application/vnd.jupyter.widget-view+json": {
       "model_id": "",
       "version_major": 2,
       "version_minor": 0
      },
      "text/plain": [
       "Validation: |                                                                                        | 0/? [00…"
      ]
     },
     "metadata": {},
     "output_type": "display_data"
    },
    {
     "data": {
      "application/vnd.jupyter.widget-view+json": {
       "model_id": "",
       "version_major": 2,
       "version_minor": 0
      },
      "text/plain": [
       "Validation: |                                                                                        | 0/? [00…"
      ]
     },
     "metadata": {},
     "output_type": "display_data"
    },
    {
     "data": {
      "application/vnd.jupyter.widget-view+json": {
       "model_id": "",
       "version_major": 2,
       "version_minor": 0
      },
      "text/plain": [
       "Validation: |                                                                                        | 0/? [00…"
      ]
     },
     "metadata": {},
     "output_type": "display_data"
    },
    {
     "data": {
      "application/vnd.jupyter.widget-view+json": {
       "model_id": "",
       "version_major": 2,
       "version_minor": 0
      },
      "text/plain": [
       "Validation: |                                                                                        | 0/? [00…"
      ]
     },
     "metadata": {},
     "output_type": "display_data"
    },
    {
     "name": "stderr",
     "output_type": "stream",
     "text": [
      "`Trainer.fit` stopped: `max_epochs=10` reached.\n"
     ]
    }
   ],
   "source": [
    "trainer = L.Trainer(max_epochs=10)\n",
    "trainer.fit(model=model, datamodule=fashion_dm)"
   ]
  },
  {
   "cell_type": "markdown",
   "metadata": {},
   "source": [
    "Because we implemented a testing step, we can evaluate the model like this:"
   ]
  },
  {
   "cell_type": "code",
   "execution_count": 23,
   "metadata": {},
   "outputs": [
    {
     "data": {
      "application/vnd.jupyter.widget-view+json": {
       "model_id": "8d574f0905604162b38e66da2a81c4ce",
       "version_major": 2,
       "version_minor": 0
      },
      "text/plain": [
       "Testing: |                                                                                           | 0/? [00…"
      ]
     },
     "metadata": {},
     "output_type": "display_data"
    },
    {
     "data": {
      "text/html": [
       "<pre style=\"white-space:pre;overflow-x:auto;line-height:normal;font-family:Menlo,'DejaVu Sans Mono',consolas,'Courier New',monospace\">┏━━━━━━━━━━━━━━━━━━━━━━━━━━━┳━━━━━━━━━━━━━━━━━━━━━━━━━━━┓\n",
       "┃<span style=\"font-weight: bold\">        Test metric        </span>┃<span style=\"font-weight: bold\">       DataLoader 0        </span>┃\n",
       "┡━━━━━━━━━━━━━━━━━━━━━━━━━━━╇━━━━━━━━━━━━━━━━━━━━━━━━━━━┩\n",
       "│<span style=\"color: #008080; text-decoration-color: #008080\">       test_accuracy       </span>│<span style=\"color: #800080; text-decoration-color: #800080\">    0.8770999908447266     </span>│\n",
       "│<span style=\"color: #008080; text-decoration-color: #008080\">         test_loss         </span>│<span style=\"color: #800080; text-decoration-color: #800080\">    0.40860870480537415    </span>│\n",
       "└───────────────────────────┴───────────────────────────┘\n",
       "</pre>\n"
      ],
      "text/plain": [
       "┏━━━━━━━━━━━━━━━━━━━━━━━━━━━┳━━━━━━━━━━━━━━━━━━━━━━━━━━━┓\n",
       "┃\u001b[1m \u001b[0m\u001b[1m       Test metric       \u001b[0m\u001b[1m \u001b[0m┃\u001b[1m \u001b[0m\u001b[1m      DataLoader 0       \u001b[0m\u001b[1m \u001b[0m┃\n",
       "┡━━━━━━━━━━━━━━━━━━━━━━━━━━━╇━━━━━━━━━━━━━━━━━━━━━━━━━━━┩\n",
       "│\u001b[36m \u001b[0m\u001b[36m      test_accuracy      \u001b[0m\u001b[36m \u001b[0m│\u001b[35m \u001b[0m\u001b[35m   0.8770999908447266    \u001b[0m\u001b[35m \u001b[0m│\n",
       "│\u001b[36m \u001b[0m\u001b[36m        test_loss        \u001b[0m\u001b[36m \u001b[0m│\u001b[35m \u001b[0m\u001b[35m   0.40860870480537415   \u001b[0m\u001b[35m \u001b[0m│\n",
       "└───────────────────────────┴───────────────────────────┘\n"
      ]
     },
     "metadata": {},
     "output_type": "display_data"
    },
    {
     "data": {
      "text/plain": [
       "[{'test_loss': 0.40860870480537415, 'test_accuracy': 0.8770999908447266}]"
      ]
     },
     "execution_count": 23,
     "metadata": {},
     "output_type": "execute_result"
    }
   ],
   "source": [
    "trainer.test(model, dataloaders=fashion_dm.test_dataloader())"
   ]
  },
  {
   "cell_type": "markdown",
   "metadata": {},
   "source": [
    "## Using callbacks\n",
    "\n",
    "PyTorch Lightning's Trainer supports callbacks, which are modules that inject additional logic at specific points during training, validation, or testing. Callbacks provide a convenient way to perform actions such as logging, model checkpointing, learning rate scheduling, and more. Here are some commonly used PyTorch Lightning Callbacks:\n",
    "\n",
    "* **ModelCheckpoint:** Saves model checkpoints during training based on specified criteria (e.g., best validation performance).\n",
    "\n",
    "* **EarlyStopping:** Stops training early if a specified metric does not improve for a certain number of consecutive epochs.\n",
    "\n",
    "* **LearningRateMonitor:** Logs and visualizes the learning rate during training.\n",
    "\n",
    "* **TensorBoardLogger:** Logs metrics and visualizations to TensorBoard, enabling easy monitoring and analysis.\n",
    "\n",
    "* **CSVLogger:** Logs metrics to a CSV file for later analysis.\n",
    "\n",
    "* **LambdaCallback:** Allows the execution of arbitrary functions as callbacks during training.\n",
    "\n",
    "These callbacks can be combined and customized to tailor the training process to specific requirements. \n",
    "They are grouped in a list and passed as argument to the trainer. Here is an example with two important callbacks using the last model.\n",
    "* The `ModelCheckpoint` callback, which is used to automatically save the model's checkpoints during training. This is particularly useful for resuming training from a specific point or selecting the best-performing model based on a chosen metric.\n",
    "* The `EarlyStopping` callback, which is used to stop training early if a specified metric does not improve for a certain number of consecutive epochs. This can prevent overfitting and save computational resources.\n",
    "\n",
    "First we make sure to install the `rich` package."
   ]
  },
  {
   "cell_type": "code",
   "execution_count": 24,
   "metadata": {},
   "outputs": [
    {
     "name": "stderr",
     "output_type": "stream",
     "text": [
      "GPU available: False, used: False\n",
      "TPU available: False, using: 0 TPU cores\n",
      "IPU available: False, using: 0 IPUs\n",
      "HPU available: False, using: 0 HPUs\n",
      "/Users/aalgahmi/opt/miniconda3/envs/torch/lib/python3.11/site-packages/lightning/pytorch/callbacks/model_checkpoint.py:639: Checkpoint directory checkpoints/ exists and is not empty.\n",
      "\n",
      "  | Name           | Type               | Params\n",
      "------------------------------------------------------\n",
      "0 | net            | Sequential         | 235 K \n",
      "1 | train_accuracy | MulticlassAccuracy | 0     \n",
      "2 | val_accuracy   | MulticlassAccuracy | 0     \n",
      "3 | test_accuracy  | MulticlassAccuracy | 0     \n",
      "------------------------------------------------------\n",
      "235 K     Trainable params\n",
      "0         Non-trainable params\n",
      "235 K     Total params\n",
      "0.944     Total estimated model params size (MB)\n"
     ]
    },
    {
     "data": {
      "application/vnd.jupyter.widget-view+json": {
       "model_id": "",
       "version_major": 2,
       "version_minor": 0
      },
      "text/plain": [
       "Sanity Checking: |                                                                                   | 0/? [00…"
      ]
     },
     "metadata": {},
     "output_type": "display_data"
    },
    {
     "data": {
      "application/vnd.jupyter.widget-view+json": {
       "model_id": "dbd97cdd95f64d128483b64b84135534",
       "version_major": 2,
       "version_minor": 0
      },
      "text/plain": [
       "Training: |                                                                                          | 0/? [00…"
      ]
     },
     "metadata": {},
     "output_type": "display_data"
    },
    {
     "data": {
      "application/vnd.jupyter.widget-view+json": {
       "model_id": "",
       "version_major": 2,
       "version_minor": 0
      },
      "text/plain": [
       "Validation: |                                                                                        | 0/? [00…"
      ]
     },
     "metadata": {},
     "output_type": "display_data"
    },
    {
     "data": {
      "application/vnd.jupyter.widget-view+json": {
       "model_id": "",
       "version_major": 2,
       "version_minor": 0
      },
      "text/plain": [
       "Validation: |                                                                                        | 0/? [00…"
      ]
     },
     "metadata": {},
     "output_type": "display_data"
    },
    {
     "data": {
      "application/vnd.jupyter.widget-view+json": {
       "model_id": "",
       "version_major": 2,
       "version_minor": 0
      },
      "text/plain": [
       "Validation: |                                                                                        | 0/? [00…"
      ]
     },
     "metadata": {},
     "output_type": "display_data"
    },
    {
     "data": {
      "application/vnd.jupyter.widget-view+json": {
       "model_id": "",
       "version_major": 2,
       "version_minor": 0
      },
      "text/plain": [
       "Validation: |                                                                                        | 0/? [00…"
      ]
     },
     "metadata": {},
     "output_type": "display_data"
    },
    {
     "data": {
      "application/vnd.jupyter.widget-view+json": {
       "model_id": "",
       "version_major": 2,
       "version_minor": 0
      },
      "text/plain": [
       "Validation: |                                                                                        | 0/? [00…"
      ]
     },
     "metadata": {},
     "output_type": "display_data"
    }
   ],
   "source": [
    "from lightning.pytorch.callbacks import ModelCheckpoint, EarlyStopping\n",
    "\n",
    "callbacks = [\n",
    "    ModelCheckpoint(\n",
    "        monitor='val_loss',     # Metric to monitor for saving the best model\n",
    "        mode='min',             # Indicate a minimization process\n",
    "        save_last=True,         # Save the last checkpoint (useful for resuming training)\n",
    "        save_top_k=1,           # Save the top k models based on the monitored metric\n",
    "        dirpath='checkpoints/', # Directory to save the checkpoints to\n",
    "        filename='model-{epoch:02d}-{val_loss:.2f}',  # Name of saved checkpoints\n",
    "    ),\n",
    "    EarlyStopping(\n",
    "        monitor='val_loss',     # Metric to monitor for early stopping\n",
    "        patience=3,             # How many epochs with no improvement before training is stopped\n",
    "        mode='min',             # Indicate a minimization process \n",
    "                                # monitored metric\n",
    "    )\n",
    "]\n",
    "trainer = L.Trainer(limit_train_batches=100, limit_val_batches=50, max_epochs=20, \n",
    "                    callbacks=callbacks)\n",
    "trainer.fit(model=model, datamodule=fashion_dm)"
   ]
  },
  {
   "cell_type": "markdown",
   "metadata": {},
   "source": [
    "As you can see, training was stopped early. \n",
    "\n",
    "Let's evaluate the model. This will load the best saved checkpoint of the model."
   ]
  },
  {
   "cell_type": "code",
   "execution_count": 25,
   "metadata": {},
   "outputs": [
    {
     "name": "stderr",
     "output_type": "stream",
     "text": [
      "Restoring states from the checkpoint path at checkpoints/model-epoch=01-val_loss=0.21-v2.ckpt\n",
      "Loaded model weights from the checkpoint at checkpoints/model-epoch=01-val_loss=0.21-v2.ckpt\n"
     ]
    },
    {
     "data": {
      "application/vnd.jupyter.widget-view+json": {
       "model_id": "d1df5c082a5e4134a5e4ecb42971ef5b",
       "version_major": 2,
       "version_minor": 0
      },
      "text/plain": [
       "Testing: |                                                                                           | 0/? [00…"
      ]
     },
     "metadata": {},
     "output_type": "display_data"
    },
    {
     "data": {
      "text/html": [
       "<pre style=\"white-space:pre;overflow-x:auto;line-height:normal;font-family:Menlo,'DejaVu Sans Mono',consolas,'Courier New',monospace\">┏━━━━━━━━━━━━━━━━━━━━━━━━━━━┳━━━━━━━━━━━━━━━━━━━━━━━━━━━┓\n",
       "┃<span style=\"font-weight: bold\">        Test metric        </span>┃<span style=\"font-weight: bold\">       DataLoader 0        </span>┃\n",
       "┡━━━━━━━━━━━━━━━━━━━━━━━━━━━╇━━━━━━━━━━━━━━━━━━━━━━━━━━━┩\n",
       "│<span style=\"color: #008080; text-decoration-color: #008080\">       test_accuracy       </span>│<span style=\"color: #800080; text-decoration-color: #800080\">    0.8779000043869019     </span>│\n",
       "│<span style=\"color: #008080; text-decoration-color: #008080\">         test_loss         </span>│<span style=\"color: #800080; text-decoration-color: #800080\">    0.3747703731060028     </span>│\n",
       "└───────────────────────────┴───────────────────────────┘\n",
       "</pre>\n"
      ],
      "text/plain": [
       "┏━━━━━━━━━━━━━━━━━━━━━━━━━━━┳━━━━━━━━━━━━━━━━━━━━━━━━━━━┓\n",
       "┃\u001b[1m \u001b[0m\u001b[1m       Test metric       \u001b[0m\u001b[1m \u001b[0m┃\u001b[1m \u001b[0m\u001b[1m      DataLoader 0       \u001b[0m\u001b[1m \u001b[0m┃\n",
       "┡━━━━━━━━━━━━━━━━━━━━━━━━━━━╇━━━━━━━━━━━━━━━━━━━━━━━━━━━┩\n",
       "│\u001b[36m \u001b[0m\u001b[36m      test_accuracy      \u001b[0m\u001b[36m \u001b[0m│\u001b[35m \u001b[0m\u001b[35m   0.8779000043869019    \u001b[0m\u001b[35m \u001b[0m│\n",
       "│\u001b[36m \u001b[0m\u001b[36m        test_loss        \u001b[0m\u001b[36m \u001b[0m│\u001b[35m \u001b[0m\u001b[35m   0.3747703731060028    \u001b[0m\u001b[35m \u001b[0m│\n",
       "└───────────────────────────┴───────────────────────────┘\n"
      ]
     },
     "metadata": {},
     "output_type": "display_data"
    },
    {
     "data": {
      "text/plain": [
       "[{'test_loss': 0.3747703731060028, 'test_accuracy': 0.8779000043869019}]"
      ]
     },
     "execution_count": 25,
     "metadata": {},
     "output_type": "execute_result"
    }
   ],
   "source": [
    "trainer.test(ckpt_path='best', datamodule=fashion_dm)"
   ]
  },
  {
   "cell_type": "markdown",
   "metadata": {},
   "source": [
    "## Loading model from a saved checkpoint\n",
    "\n",
    "We can load a model from a saved checkpoint using the `load_from_checkpoint` method. This method is made available by the `LightningModule` class and can be called to create a model from a saved checkpoint file. This is useful for resuming training, conducting further evaluation, or deploying the model for inference.\n",
    "\n",
    "To see an examplem let's first list the available saved checkpoints. Adjust the command below, if you are running on Windows."
   ]
  },
  {
   "cell_type": "code",
   "execution_count": 26,
   "metadata": {},
   "outputs": [
    {
     "name": "stdout",
     "output_type": "stream",
     "text": [
      "cancer-epoch=02-val_loss=0.51.ckpt   last-v6.ckpt\n",
      "cancer-epoch=08-val_loss=0.50.ckpt   last-v7.ckpt\n",
      "cancer-epoch=08-val_loss=0.51.ckpt   last.ckpt\n",
      "last-v1.ckpt                         model-epoch=00-val_loss=0.19.ckpt\n",
      "last-v2.ckpt                         model-epoch=00-val_loss=0.21.ckpt\n",
      "last-v3.ckpt                         model-epoch=01-val_loss=0.21-v1.ckpt\n",
      "last-v4.ckpt                         model-epoch=01-val_loss=0.21-v2.ckpt\n",
      "last-v5.ckpt                         model-epoch=01-val_loss=0.21.ckpt\n"
     ]
    }
   ],
   "source": [
    "! ls checkpoints/"
   ]
  },
  {
   "cell_type": "markdown",
   "metadata": {},
   "source": [
    "Next we create a model based on the checkpoint with the smallest `val_loss`. Adjust the line below based on your files."
   ]
  },
  {
   "cell_type": "code",
   "execution_count": 27,
   "metadata": {},
   "outputs": [],
   "source": [
    "saved_model = FashionModel.load_from_checkpoint('checkpoints/model-epoch=00-val_loss=0.19.ckpt')"
   ]
  },
  {
   "cell_type": "markdown",
   "metadata": {},
   "source": [
    "Let's evaluate this saved model and make sure it behaves as it should:"
   ]
  },
  {
   "cell_type": "code",
   "execution_count": 28,
   "metadata": {},
   "outputs": [
    {
     "data": {
      "application/vnd.jupyter.widget-view+json": {
       "model_id": "f805dc85367a4514886d06ec10925447",
       "version_major": 2,
       "version_minor": 0
      },
      "text/plain": [
       "Testing: |                                                                                           | 0/? [00…"
      ]
     },
     "metadata": {},
     "output_type": "display_data"
    },
    {
     "data": {
      "text/html": [
       "<pre style=\"white-space:pre;overflow-x:auto;line-height:normal;font-family:Menlo,'DejaVu Sans Mono',consolas,'Courier New',monospace\">┏━━━━━━━━━━━━━━━━━━━━━━━━━━━┳━━━━━━━━━━━━━━━━━━━━━━━━━━━┓\n",
       "┃<span style=\"font-weight: bold\">        Test metric        </span>┃<span style=\"font-weight: bold\">       DataLoader 0        </span>┃\n",
       "┡━━━━━━━━━━━━━━━━━━━━━━━━━━━╇━━━━━━━━━━━━━━━━━━━━━━━━━━━┩\n",
       "│<span style=\"color: #008080; text-decoration-color: #008080\">       test_accuracy       </span>│<span style=\"color: #800080; text-decoration-color: #800080\">    0.8849999904632568     </span>│\n",
       "│<span style=\"color: #008080; text-decoration-color: #008080\">         test_loss         </span>│<span style=\"color: #800080; text-decoration-color: #800080\">    0.36918336153030396    </span>│\n",
       "└───────────────────────────┴───────────────────────────┘\n",
       "</pre>\n"
      ],
      "text/plain": [
       "┏━━━━━━━━━━━━━━━━━━━━━━━━━━━┳━━━━━━━━━━━━━━━━━━━━━━━━━━━┓\n",
       "┃\u001b[1m \u001b[0m\u001b[1m       Test metric       \u001b[0m\u001b[1m \u001b[0m┃\u001b[1m \u001b[0m\u001b[1m      DataLoader 0       \u001b[0m\u001b[1m \u001b[0m┃\n",
       "┡━━━━━━━━━━━━━━━━━━━━━━━━━━━╇━━━━━━━━━━━━━━━━━━━━━━━━━━━┩\n",
       "│\u001b[36m \u001b[0m\u001b[36m      test_accuracy      \u001b[0m\u001b[36m \u001b[0m│\u001b[35m \u001b[0m\u001b[35m   0.8849999904632568    \u001b[0m\u001b[35m \u001b[0m│\n",
       "│\u001b[36m \u001b[0m\u001b[36m        test_loss        \u001b[0m\u001b[36m \u001b[0m│\u001b[35m \u001b[0m\u001b[35m   0.36918336153030396   \u001b[0m\u001b[35m \u001b[0m│\n",
       "└───────────────────────────┴───────────────────────────┘\n"
      ]
     },
     "metadata": {},
     "output_type": "display_data"
    },
    {
     "data": {
      "text/plain": [
       "[{'test_loss': 0.36918336153030396, 'test_accuracy': 0.8849999904632568}]"
      ]
     },
     "execution_count": 28,
     "metadata": {},
     "output_type": "execute_result"
    }
   ],
   "source": [
    "trainer.test(model= saved_model, datamodule=fashion_dm)"
   ]
  },
  {
   "cell_type": "markdown",
   "metadata": {},
   "source": [
    "or:"
   ]
  },
  {
   "cell_type": "code",
   "execution_count": 29,
   "metadata": {},
   "outputs": [
    {
     "name": "stdout",
     "output_type": "stream",
     "text": [
      "Accuracy: 0.8852508068084717\n"
     ]
    }
   ],
   "source": [
    "saved_model.eval()\n",
    "acc = 0\n",
    "for x_batch, y_batch in fashion_dm.test_dataloader():\n",
    "    preds = saved_model(x_batch)\n",
    "    acc += accuracy(torch.argmax(preds, dim=1), y_batch, task=\"multiclass\", num_classes=10)\n",
    "\n",
    "acc /= len(fashion_dm.test_dataloader())\n",
    "print(\"Accuracy:\", acc.item())"
   ]
  },
  {
   "cell_type": "markdown",
   "metadata": {},
   "source": [
    "## Training models on GPUs\n",
    "\n",
    "Training a model on one or more GPUs using PyTorch Lightning is straightforward and seamless with built-in support for distributed training. All we need is to configure the trainer with the number of GPUs to train the model on and the distribution strategy. That's it! \n",
    "\n",
    "**Note:** Ensure that your environment has the necessary CUDA-compatible GPUs and that PyTorch and PyTorch Lightning are installed with GPU support (`torch.cuda.is_available()` should return `True`)."
   ]
  },
  {
   "cell_type": "code",
   "execution_count": 30,
   "metadata": {},
   "outputs": [
    {
     "name": "stderr",
     "output_type": "stream",
     "text": [
      "GPU available: False, used: False\n",
      "TPU available: False, using: 0 TPU cores\n",
      "IPU available: False, using: 0 IPUs\n",
      "HPU available: False, using: 0 HPUs\n",
      "\n",
      "  | Name           | Type               | Params\n",
      "------------------------------------------------------\n",
      "0 | net            | Sequential         | 235 K \n",
      "1 | train_accuracy | MulticlassAccuracy | 0     \n",
      "2 | val_accuracy   | MulticlassAccuracy | 0     \n",
      "3 | test_accuracy  | MulticlassAccuracy | 0     \n",
      "------------------------------------------------------\n",
      "235 K     Trainable params\n",
      "0         Non-trainable params\n",
      "235 K     Total params\n",
      "0.944     Total estimated model params size (MB)\n"
     ]
    },
    {
     "data": {
      "application/vnd.jupyter.widget-view+json": {
       "model_id": "",
       "version_major": 2,
       "version_minor": 0
      },
      "text/plain": [
       "Sanity Checking: |                                                                                   | 0/? [00…"
      ]
     },
     "metadata": {},
     "output_type": "display_data"
    },
    {
     "data": {
      "application/vnd.jupyter.widget-view+json": {
       "model_id": "d4ae8f921c5f46d8b3837ed210995105",
       "version_major": 2,
       "version_minor": 0
      },
      "text/plain": [
       "Training: |                                                                                          | 0/? [00…"
      ]
     },
     "metadata": {},
     "output_type": "display_data"
    },
    {
     "data": {
      "application/vnd.jupyter.widget-view+json": {
       "model_id": "",
       "version_major": 2,
       "version_minor": 0
      },
      "text/plain": [
       "Validation: |                                                                                        | 0/? [00…"
      ]
     },
     "metadata": {},
     "output_type": "display_data"
    },
    {
     "data": {
      "application/vnd.jupyter.widget-view+json": {
       "model_id": "",
       "version_major": 2,
       "version_minor": 0
      },
      "text/plain": [
       "Validation: |                                                                                        | 0/? [00…"
      ]
     },
     "metadata": {},
     "output_type": "display_data"
    },
    {
     "data": {
      "application/vnd.jupyter.widget-view+json": {
       "model_id": "",
       "version_major": 2,
       "version_minor": 0
      },
      "text/plain": [
       "Validation: |                                                                                        | 0/? [00…"
      ]
     },
     "metadata": {},
     "output_type": "display_data"
    },
    {
     "data": {
      "application/vnd.jupyter.widget-view+json": {
       "model_id": "",
       "version_major": 2,
       "version_minor": 0
      },
      "text/plain": [
       "Validation: |                                                                                        | 0/? [00…"
      ]
     },
     "metadata": {},
     "output_type": "display_data"
    },
    {
     "data": {
      "application/vnd.jupyter.widget-view+json": {
       "model_id": "",
       "version_major": 2,
       "version_minor": 0
      },
      "text/plain": [
       "Validation: |                                                                                        | 0/? [00…"
      ]
     },
     "metadata": {},
     "output_type": "display_data"
    },
    {
     "name": "stderr",
     "output_type": "stream",
     "text": [
      "`Trainer.fit` stopped: `max_epochs=5` reached.\n"
     ]
    }
   ],
   "source": [
    "model = FashionModel()\n",
    "\n",
    "# Training with GPU Accelerator using 1 GPUs = Change accelerator from cpu to gpu if you have a gpu\n",
    "trainer = L.Trainer(devices=1, accelerator=\"cpu\", max_epochs=5)\n",
    "\n",
    "trainer.fit(model, datamodule=fashion_dm)"
   ]
  },
  {
   "cell_type": "markdown",
   "metadata": {},
   "source": [
    "Let's evaluate this newly trained model:"
   ]
  },
  {
   "cell_type": "code",
   "execution_count": 31,
   "metadata": {},
   "outputs": [
    {
     "data": {
      "application/vnd.jupyter.widget-view+json": {
       "model_id": "587b2cd14aac402a930d6754f9923ca3",
       "version_major": 2,
       "version_minor": 0
      },
      "text/plain": [
       "Testing: |                                                                                           | 0/? [00…"
      ]
     },
     "metadata": {},
     "output_type": "display_data"
    },
    {
     "data": {
      "text/html": [
       "<pre style=\"white-space:pre;overflow-x:auto;line-height:normal;font-family:Menlo,'DejaVu Sans Mono',consolas,'Courier New',monospace\">┏━━━━━━━━━━━━━━━━━━━━━━━━━━━┳━━━━━━━━━━━━━━━━━━━━━━━━━━━┓\n",
       "┃<span style=\"font-weight: bold\">        Test metric        </span>┃<span style=\"font-weight: bold\">       DataLoader 0        </span>┃\n",
       "┡━━━━━━━━━━━━━━━━━━━━━━━━━━━╇━━━━━━━━━━━━━━━━━━━━━━━━━━━┩\n",
       "│<span style=\"color: #008080; text-decoration-color: #008080\">       test_accuracy       </span>│<span style=\"color: #800080; text-decoration-color: #800080\">    0.8849999904632568     </span>│\n",
       "│<span style=\"color: #008080; text-decoration-color: #008080\">         test_loss         </span>│<span style=\"color: #800080; text-decoration-color: #800080\">    0.36918336153030396    </span>│\n",
       "└───────────────────────────┴───────────────────────────┘\n",
       "</pre>\n"
      ],
      "text/plain": [
       "┏━━━━━━━━━━━━━━━━━━━━━━━━━━━┳━━━━━━━━━━━━━━━━━━━━━━━━━━━┓\n",
       "┃\u001b[1m \u001b[0m\u001b[1m       Test metric       \u001b[0m\u001b[1m \u001b[0m┃\u001b[1m \u001b[0m\u001b[1m      DataLoader 0       \u001b[0m\u001b[1m \u001b[0m┃\n",
       "┡━━━━━━━━━━━━━━━━━━━━━━━━━━━╇━━━━━━━━━━━━━━━━━━━━━━━━━━━┩\n",
       "│\u001b[36m \u001b[0m\u001b[36m      test_accuracy      \u001b[0m\u001b[36m \u001b[0m│\u001b[35m \u001b[0m\u001b[35m   0.8849999904632568    \u001b[0m\u001b[35m \u001b[0m│\n",
       "│\u001b[36m \u001b[0m\u001b[36m        test_loss        \u001b[0m\u001b[36m \u001b[0m│\u001b[35m \u001b[0m\u001b[35m   0.36918336153030396   \u001b[0m\u001b[35m \u001b[0m│\n",
       "└───────────────────────────┴───────────────────────────┘\n"
      ]
     },
     "metadata": {},
     "output_type": "display_data"
    },
    {
     "data": {
      "text/plain": [
       "[{'test_loss': 0.36918336153030396, 'test_accuracy': 0.8849999904632568}]"
      ]
     },
     "execution_count": 31,
     "metadata": {},
     "output_type": "execute_result"
    }
   ],
   "source": [
    "trainer.test(model= saved_model, datamodule=fashion_dm)"
   ]
  }
 ],
 "metadata": {
  "kernelspec": {
   "display_name": "Python 3 (ipykernel)",
   "language": "python",
   "name": "python3"
  },
  "language_info": {
   "codemirror_mode": {
    "name": "ipython",
    "version": 3
   },
   "file_extension": ".py",
   "mimetype": "text/x-python",
   "name": "python",
   "nbconvert_exporter": "python",
   "pygments_lexer": "ipython3",
   "version": "3.11.5"
  },
  "vscode": {
   "interpreter": {
    "hash": "0c4ab92bbc10d18b480eb40b47e751a2f458ae1b2b88576453c716fde62785ad"
   }
  }
 },
 "nbformat": 4,
 "nbformat_minor": 4
}
