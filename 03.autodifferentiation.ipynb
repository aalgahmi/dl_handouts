{
 "cells": [
  {
   "cell_type": "markdown",
   "id": "6c6fcc5d",
   "metadata": {},
   "source": [
    "Run locally or <a target=\"_blank\" href=\"https://colab.research.google.com/github/aalgahmi/dl_handouts/blob/main/03.autodifferentiation.ipynb\">\n",
    "  <img src=\"https://colab.research.google.com/assets/colab-badge.svg\" alt=\"Open In Colab\"/>\n",
    "</a>"
   ]
  },
  {
   "cell_type": "markdown",
   "id": "740dd58b-10f9-4abc-8b98-b1d7a9101839",
   "metadata": {},
   "source": [
    "# Autodifferentiation\n",
    "\n",
    "Autodifferentiation, short for automatic differentiation, is a set of techniques used for efficiently and automatically computing the derivatives or gradients of functions. These derivatives are crucial for optimization algorithms, such as gradient descent, which are critical to training machine learning models. It allows for the automatic calculation of derivatives without explicitly deriving and implementing them manually. It is particularly beneficial in scenarios where the functions involved are complex or when dealing with high-dimensional spaces.\n",
    "\n",
    "There are two main modes of autodifferentiation:\n",
    "\n",
    "* **Forward-mode autodifferentiation:** Computes the derivatives by applying the chain rule from the input variables to the output. This mode is efficient for functions where the number of input variables is relatively small compared to the number of outputs.\n",
    "\n",
    "* **Reverse-mode autodifferentiation (backpropagation):** Computes the derivatives by traversing the computational graph backward from the output to the input. This mode is well-suited for functions with many input variables and few outputs, which is often the case in machine learning.\n",
    "\n",
    "Frameworks like PyTorch and TensorFlow leverage reverse-mode autodifferentiation to enable the automatic computation of gradients during the training of neural networks, making it easier for us to implement and experiment with complex models.\n",
    "\n",
    "Below are two detailed examples of autodifferentiation:\n",
    "\n",
    "## Example 1\n",
    "\n",
    "Given the function:\n",
    "\n",
    "$$ f(x_1, x_2) = ln(x_1) + x_1 x_2 - sin(x_2) $$\n",
    "\n",
    "\n",
    "here is the computational graph. Node labels are between `(` and `)`. Notice that: $y = f(x_1, x_2) = v_7$"
   ]
  },
  {
   "cell_type": "markdown",
   "id": "d686ea56-0a0d-4c66-8009-9ae72455575d",
   "metadata": {},
   "source": [
    "```\n",
    "x1 (v1) ------ LN (v3) ------ PLUS (v5) ---------MINUS(v7)\n",
    "      \\                     /                   /\n",
    "       \\                   /                   /\n",
    "        \\                 /                   /\n",
    "         \\               /                   /\n",
    "          \\             /                   /\n",
    "           \\           /                   /\n",
    "            TIMES (v4)                    /\n",
    "          /                              /\n",
    "         /                              / \n",
    "        /                              /   \n",
    "       /                              /\n",
    "x2 (v2) ------------------------- SIN(v6)            \n",
    "                       \n",
    "```"
   ]
  },
  {
   "cell_type": "markdown",
   "id": "bcc72793-40bb-485d-9a4e-02b176af16cd",
   "metadata": {},
   "source": [
    "### Forward-mode Autodiff\n",
    "First, refer to the lecture recording for the calculations of $\\frac{\\delta y}{\\delta v_1} = \\frac{\\delta v_7}{\\delta v_1}$.\n",
    "\n",
    "For: $$\\frac{\\delta y}{\\delta v_2} = \\frac{\\delta v_7}{\\delta v_2}$$ \n",
    "\n",
    "at $x_1 = 2, x_2 = 5$, here are the calculations:"
   ]
  },
  {
   "cell_type": "markdown",
   "id": "8c4058c9-2250-4c04-825c-0836911f4ea5",
   "metadata": {},
   "source": [
    "$ \\dot{v}_1 = \\frac{\\delta v_1}{\\delta v_2} = 0 $\n",
    "\n",
    "$ \\dot{v}_2 = \\frac{\\delta v_2}{\\delta v_2} = 1 $\n",
    "\n",
    "$ \\dot{v}_3 = \\frac{\\delta \\ln(v_1)}{\\delta v_2} = 0 $\n",
    "\n",
    "$ \\dot{v}_4 = \\frac{\\delta v_1 v_2}{\\delta v_2} = v_1 = 2 $\n",
    "\n",
    "$ \\dot{v}_5 = \\frac{\\delta v_5}{\\delta v_2} = \\dot{v}_3 \\frac{\\delta v_5}{\\delta v_3}  + \\dot{v}_4 \\frac{\\delta v_5}{\\delta v_4} = \\dot{v}_3 + \\dot{v}_4 = 0 + 2 = 2 $\n",
    "\n",
    "\n",
    "$ \\dot{v}_6 = \\frac{\\delta \\sin(v_2)}{\\delta v_2} = \\cos(v_2) = \\cos(5) = 0.284 $\n",
    "\n",
    "$ \\dot{v}_7 = \\frac{\\delta v_7}{\\delta v_2} = \\dot{v}_5 \\frac{\\delta v_7}{\\delta v_5}  - \\dot{v}_6 \\frac{\\delta v_7}{\\delta v_6} = \\dot{v}_5 - \\dot{v}_6 = 2 - 0.284 = 1.1716 $\n"
   ]
  },
  {
   "cell_type": "markdown",
   "id": "2a857e87-94b3-47c0-9d34-e74a4c42a027",
   "metadata": {},
   "source": [
    "### Reverse-mode Autodiff\n",
    "At $x_1 = 2, x_2 = 5$, reverse-mode autodiff allows us to calculate: \n",
    "\n",
    "$\\dot{v}_1 = \\frac{\\delta v_7}{\\delta v_1}$ and $\\dot{v}_2 = \\frac{\\delta v_7}{\\delta v_2}$ in one fell swoop.\n",
    "\n",
    "Running the forward pass:\n",
    "\n",
    "$v_1 = 2$, $v_2 = 5$, $v_3 = \\ln(2)$, $v_4 = 10$, $v_5 = \\ln(2) + 10 $, $v_6 = \\sin(5)$, and $v_7 = \\ln(2) + 10 - \\sin(5)$"
   ]
  },
  {
   "cell_type": "markdown",
   "id": "3edf33cd-dc98-4a13-b55b-12aa107e0049",
   "metadata": {},
   "source": [
    "$ \\dot{v}_7 = \\frac{\\delta v_7}{\\delta v_7} = 1$\n",
    "\n",
    "$ \\dot{v}_6 = \\frac{\\delta v_7}{\\delta v_6} = \\frac{\\delta v_5 - v_6}{\\delta v_6} = -1 $\n",
    "\n",
    "$ \\dot{v}_5 = \\frac{\\delta v_7}{\\delta v_5} = \\frac{\\delta v_5 - v_6}{\\delta v_5} = 1 $\n",
    "\n",
    "$ \\dot{v}_4 = \\frac{\\delta v_7}{\\delta v_4} = \\dot{v}_5 \\frac{\\delta v_3 + v_4}{\\delta v_4} = 1 \\times 1 = 1 $\n",
    "\n",
    "$ \\dot{v}_3 = \\frac{\\delta v_7}{\\delta v_3} = \\dot{v}_5 \\frac{\\delta v_3 + v_4}{\\delta v_3} = 1 \\times 1 = 1 $\n",
    "\n",
    "$ \\dot{v}_2 = \\frac{\\delta v_7}{\\delta v_2} = \\dot{v}_4 \\frac{\\delta v_1 v_2}{\\delta v_2} + \\dot{v}_6 \\frac{\\delta \\sin(v_2)}{\\delta v_2} =  1 \\times v_1 + (-1) \\times cos(v_2)= 2 - 0.284 = 1.716 $\n",
    "\n",
    "$ \\dot{v}_1 = \\frac{\\delta v_7}{\\delta v_1} = \\dot{v}_3 \\frac{\\delta \\ln(v_1)}{\\delta v_1} + \\dot{v}_4 \\frac{\\delta v_1 v_2}{\\delta v_1} +  =  1 \\times (1 / v_1) + 1 \\times v_2= 1/2 + 5 = 5.5 $"
   ]
  },
  {
   "cell_type": "markdown",
   "id": "467271e8-57ef-4510-9e50-418d64791686",
   "metadata": {},
   "source": [
    "## Example 2\n",
    "\n",
    "Given the function:\n",
    "\n",
    "$$y = 6x(1 −2x)^2$$\n",
    "\n",
    "\n",
    "here is the computational graph. Node labels are between `(` and `)`. Notice that: $y = v_6$"
   ]
  },
  {
   "cell_type": "markdown",
   "id": "4b3d22bf",
   "metadata": {},
   "source": [
    "```\n",
    "1 ------------------- MINUS(v4) ----------- ^2 (v5)\n",
    "                     /                           \\\n",
    "                    /                             \\\n",
    "                   /                               \\\n",
    "2 -------- TIMES (v2)                               \\\n",
    "         /                                           \\\n",
    "        /                                             \\\n",
    "       /                                               \\\n",
    "      /                                                 \\\n",
    "     /                                                   \\\n",
    "x (v1)                                                    \\\n",
    "     \\                                                     \\\n",
    "      \\                                                     \\\n",
    "       \\                                                     \\\n",
    "        \\                                                     \\\n",
    "         \\                                                     \\\n",
    "6 -------- TIMES (v3) ----------------------------------------- TIMES (v6)\n",
    "\n",
    "```"
   ]
  },
  {
   "cell_type": "markdown",
   "id": "ca54ef77-0f3d-41fa-bac2-d3b1e9cbe90b",
   "metadata": {},
   "source": [
    "### Forward-mode Autodiff\n",
    "Here we need to calculate $\\dot{v}_6 = \\frac{\\delta v_6}{\\delta v_1}$ at $x = 2$.\n",
    "\n",
    "First need first to calculate:\n",
    "\n",
    "$v_1 = 2$, $v_2 = 4$, $v_3 = 6 v_1 = 12$, $v_4 = 1 - v_2 = 1 - 4 = -3$, $v_5 = v_4^2 = 9$, and $v_6 = v_3 v_5 = 108 $"
   ]
  },
  {
   "cell_type": "markdown",
   "id": "7e7dee36-3dbe-4a44-b114-03331c1ed369",
   "metadata": {},
   "source": [
    "$ \\dot{v}_1 = \\frac{\\delta v_1}{\\delta v_1} = 1 $\n",
    "\n",
    "$ \\dot{v}_2 = \\frac{\\delta v_2}{\\delta v_1} = \\frac{\\delta 2 v_1}{\\delta v_1} = 2 $\n",
    "\n",
    "$ \\dot{v}_3 = \\frac{\\delta v_3}{\\delta v_1} = \\frac{\\delta 6 v_1}{\\delta v_1} = 6 $\n",
    "\n",
    "$ \\dot{v}_4 = \\dot{v}_2 \\frac{\\delta v_4}{\\delta v_2} = 2 \\frac{\\delta 1 - v_2}{\\delta v_2}  = -2 $\n",
    "\n",
    "$ \\dot{v}_5 = \\dot{v}_4 \\frac{\\delta v_5}{\\delta v_4} = -2 \\frac{\\delta v_4^2}{\\delta v_4}  = -2 \\times 2 \\times  -3 = 12 $\n",
    "\n",
    "$ \\dot{v}_6 = \\dot{v}_5 \\frac{\\delta v_6}{\\delta v_5} + \\dot{v}_3 \\frac{\\delta v_6}{\\delta v_3} = 12 \\frac{\\delta v_3 v_5}{\\delta v_5} + 6 \\frac{\\delta v_3 v_5}{\\delta v_3} = 12 \\times 12 +  6 \\times 9 =  144 +  54 = 198 $"
   ]
  },
  {
   "cell_type": "markdown",
   "id": "08bac53b",
   "metadata": {},
   "source": [
    "### Reverse-mode Autodiff\n",
    "Here we need to calculate $\\dot{v}_1 = \\frac{\\delta v_6}{\\delta v_1}$ at $x = 2$.\n",
    "\n",
    "Running the forward pass:\n",
    "\n",
    "$v_1 = 2$, $v_2 = 4$, $v_3 = 6 v_1 = 12$, $v_4 = 1 - v_2 = 1 - 4 = -3$, $v_5 = v_4^2 = 9$, and $v_6 = v_3 v_5 = 108 $"
   ]
  },
  {
   "cell_type": "markdown",
   "id": "10d10a64",
   "metadata": {},
   "source": [
    "\n",
    "$ \\dot{v}_6 = \\frac{\\delta v_6}{\\delta v_6} = 1 $\n",
    "\n",
    "$ \\dot{v}_5 = \\frac{\\delta v_6}{\\delta v_5} = \\frac{\\delta v_3 v_5 }{\\delta v_5} = v_3 = 12 $\n",
    "\n",
    "$ \\dot{v}_4 = \\frac{\\delta v_6}{\\delta v_4} = \\dot{v}_5 \\frac{\\delta v-4^2}{\\delta v_4} = 12 \\times 2 \\times -3 = -72 $\n",
    "\n",
    "$ \\dot{v}_3 = \\frac{\\delta v_6}{\\delta v_3} = \\frac{\\delta v_3 v_5}{\\delta v_3} = v_5 = 9 $\n",
    "\n",
    "$ \\dot{v}_2 = \\frac{\\delta v_6}{\\delta v_2} = \\dot{v}_4 \\frac{\\delta 1 - v_2}{\\delta v_2} = -72 \\times -1 = 72 $\n",
    "\n",
    "$ \\dot{v}_1 = \\frac{\\delta v_6}{\\delta v_1} = \\dot{v}_2 \\frac{\\delta 2 v_1}{\\delta v_1} + \\dot{v}_3 \\frac{\\delta 6 v_1}{\\delta v_1}  =  72 \\times 2 + 9 \\times 6 = 144 + 54 = 198 $"
   ]
  },
  {
   "cell_type": "markdown",
   "id": "a901fbaa-1ca3-4a91-bea5-9fc43fa36f6a",
   "metadata": {},
   "source": [
    "## Examples 1 and 2 using Autograd\n",
    "### Example 1\n",
    "What are the gradients of the function: \n",
    "$$ f(x_1, x_2) = ln(x_1) + x_1 x_2 - sin(x_2) $$\n",
    "\n",
    "at $x_1 = 2, x_2 = 5$ with respect to both $x_1$ and $x_2$?\n",
    "\n",
    "**Answer:**\n",
    "First we create the input and output tensors. "
   ]
  },
  {
   "cell_type": "code",
   "execution_count": 1,
   "id": "c807ffa2-d837-42e6-80eb-54e8be02bdee",
   "metadata": {},
   "outputs": [],
   "source": [
    "import torch\n",
    "\n",
    "x1 = torch.tensor(2., requires_grad=True)\n",
    "x2 = torch.tensor(5., requires_grad=True)\n",
    "y = torch.log(x1) + x1 * x2 - torch.sin(x2)"
   ]
  },
  {
   "cell_type": "markdown",
   "id": "cddac184-2d2f-4ca4-8f0b-db99b3100f91",
   "metadata": {},
   "source": [
    "Next we run the `backward()` function:"
   ]
  },
  {
   "cell_type": "code",
   "execution_count": 2,
   "id": "7136c88e-c051-4d6c-a19e-4da5a5d0b3e0",
   "metadata": {},
   "outputs": [],
   "source": [
    "y.backward()"
   ]
  },
  {
   "cell_type": "markdown",
   "id": "bee7e123-c2bf-4ae1-86be-6e4412c3317d",
   "metadata": {},
   "source": [
    "Here is $\\frac{d y}{d x_1}$:"
   ]
  },
  {
   "cell_type": "code",
   "execution_count": 3,
   "id": "362b2621-daaa-4241-becd-aad70b7d5a59",
   "metadata": {},
   "outputs": [
    {
     "data": {
      "text/plain": [
       "5.5"
      ]
     },
     "execution_count": 3,
     "metadata": {},
     "output_type": "execute_result"
    }
   ],
   "source": [
    "x1.grad.item()"
   ]
  },
  {
   "cell_type": "markdown",
   "id": "daf287cd-bee0-4357-b469-0795f5d74956",
   "metadata": {},
   "source": [
    "And here is $\\frac{d y}{d x_2}$:"
   ]
  },
  {
   "cell_type": "code",
   "execution_count": 4,
   "id": "7e6e27f7-780f-4380-a0b2-f4ab2dd27077",
   "metadata": {},
   "outputs": [
    {
     "data": {
      "text/plain": [
       "1.71633780002594"
      ]
     },
     "execution_count": 4,
     "metadata": {},
     "output_type": "execute_result"
    }
   ],
   "source": [
    "x2.grad.item()"
   ]
  },
  {
   "cell_type": "markdown",
   "id": "58389fbd-9f43-43bd-b55b-8faf3142428e",
   "metadata": {},
   "source": [
    "which are the same values as before. Here is the computational graph Autograd created for this function."
   ]
  },
  {
   "cell_type": "code",
   "execution_count": 5,
   "id": "7aefd1f6-0644-4781-8af9-cd792c9d7180",
   "metadata": {},
   "outputs": [
    {
     "data": {
      "image/svg+xml": [
       "<?xml version=\"1.0\" encoding=\"UTF-8\" standalone=\"no\"?>\n",
       "<!DOCTYPE svg PUBLIC \"-//W3C//DTD SVG 1.1//EN\"\n",
       " \"http://www.w3.org/Graphics/SVG/1.1/DTD/svg11.dtd\">\n",
       "<!-- Generated by graphviz version 9.0.0 (20230911.1827)\n",
       " -->\n",
       "<!-- Pages: 1 -->\n",
       "<svg width=\"274pt\" height=\"326pt\"\n",
       " viewBox=\"0.00 0.00 274.00 326.00\" xmlns=\"http://www.w3.org/2000/svg\" xmlns:xlink=\"http://www.w3.org/1999/xlink\">\n",
       "<g id=\"graph0\" class=\"graph\" transform=\"scale(1 1) rotate(0) translate(4 322)\">\n",
       "<polygon fill=\"white\" stroke=\"none\" points=\"-4,4 -4,-322 270,-322 270,4 -4,4\"/>\n",
       "<!-- 4640856816 -->\n",
       "<g id=\"node1\" class=\"node\">\n",
       "<title>4640856816</title>\n",
       "<polygon fill=\"#caff70\" stroke=\"black\" points=\"124,-30.5 70,-30.5 70,0 124,0 124,-30.5\"/>\n",
       "<text text-anchor=\"middle\" x=\"97\" y=\"-17\" font-family=\"monospace\" font-size=\"10.00\">y</text>\n",
       "<text text-anchor=\"middle\" x=\"97\" y=\"-5.75\" font-family=\"monospace\" font-size=\"10.00\"> ()</text>\n",
       "</g>\n",
       "<!-- 4401634448 -->\n",
       "<g id=\"node2\" class=\"node\">\n",
       "<title>4401634448</title>\n",
       "<polygon fill=\"lightgrey\" stroke=\"black\" points=\"141,-85.75 53,-85.75 53,-66.5 141,-66.5 141,-85.75\"/>\n",
       "<text text-anchor=\"middle\" x=\"97\" y=\"-72.25\" font-family=\"monospace\" font-size=\"10.00\">SubBackward0</text>\n",
       "</g>\n",
       "<!-- 4401634448&#45;&gt;4640856816 -->\n",
       "<g id=\"edge11\" class=\"edge\">\n",
       "<title>4401634448&#45;&gt;4640856816</title>\n",
       "<path fill=\"none\" stroke=\"black\" d=\"M97,-66.18C97,-59.73 97,-50.66 97,-42.01\"/>\n",
       "<polygon fill=\"black\" stroke=\"black\" points=\"100.5,-42.3 97,-32.3 93.5,-42.3 100.5,-42.3\"/>\n",
       "</g>\n",
       "<!-- 4679105312 -->\n",
       "<g id=\"node3\" class=\"node\">\n",
       "<title>4679105312</title>\n",
       "<polygon fill=\"lightgrey\" stroke=\"black\" points=\"194,-141 106,-141 106,-121.75 194,-121.75 194,-141\"/>\n",
       "<text text-anchor=\"middle\" x=\"150\" y=\"-127.5\" font-family=\"monospace\" font-size=\"10.00\">AddBackward0</text>\n",
       "</g>\n",
       "<!-- 4679105312&#45;&gt;4401634448 -->\n",
       "<g id=\"edge1\" class=\"edge\">\n",
       "<title>4679105312&#45;&gt;4401634448</title>\n",
       "<path fill=\"none\" stroke=\"black\" d=\"M141.25,-121.58C133.85,-114.15 123.04,-103.29 113.95,-94.16\"/>\n",
       "<polygon fill=\"black\" stroke=\"black\" points=\"116.54,-91.8 107.01,-87.18 111.58,-96.74 116.54,-91.8\"/>\n",
       "</g>\n",
       "<!-- 4679105408 -->\n",
       "<g id=\"node4\" class=\"node\">\n",
       "<title>4679105408</title>\n",
       "<polygon fill=\"lightgrey\" stroke=\"black\" points=\"266,-196.25 178,-196.25 178,-177 266,-177 266,-196.25\"/>\n",
       "<text text-anchor=\"middle\" x=\"222\" y=\"-182.75\" font-family=\"monospace\" font-size=\"10.00\">LogBackward0</text>\n",
       "</g>\n",
       "<!-- 4679105408&#45;&gt;4679105312 -->\n",
       "<g id=\"edge2\" class=\"edge\">\n",
       "<title>4679105408&#45;&gt;4679105312</title>\n",
       "<path fill=\"none\" stroke=\"black\" d=\"M209.79,-176.59C199.17,-168.74 183.56,-157.2 170.96,-147.87\"/>\n",
       "<polygon fill=\"black\" stroke=\"black\" points=\"173.37,-145.31 163.25,-142.17 169.21,-150.94 173.37,-145.31\"/>\n",
       "</g>\n",
       "<!-- 4679105024 -->\n",
       "<g id=\"node5\" class=\"node\">\n",
       "<title>4679105024</title>\n",
       "<polygon fill=\"lightgrey\" stroke=\"black\" points=\"257,-251.5 157,-251.5 157,-232.25 257,-232.25 257,-251.5\"/>\n",
       "<text text-anchor=\"middle\" x=\"207\" y=\"-238\" font-family=\"monospace\" font-size=\"10.00\">AccumulateGrad</text>\n",
       "</g>\n",
       "<!-- 4679105024&#45;&gt;4679105408 -->\n",
       "<g id=\"edge3\" class=\"edge\">\n",
       "<title>4679105024&#45;&gt;4679105408</title>\n",
       "<path fill=\"none\" stroke=\"black\" d=\"M209.48,-232.08C211.35,-225.42 214.01,-215.99 216.39,-207.53\"/>\n",
       "<polygon fill=\"black\" stroke=\"black\" points=\"219.72,-208.64 219.06,-198.07 212.98,-206.74 219.72,-208.64\"/>\n",
       "</g>\n",
       "<!-- 4679105168 -->\n",
       "<g id=\"node7\" class=\"node\">\n",
       "<title>4679105168</title>\n",
       "<polygon fill=\"lightgrey\" stroke=\"black\" points=\"160,-196.25 72,-196.25 72,-177 160,-177 160,-196.25\"/>\n",
       "<text text-anchor=\"middle\" x=\"116\" y=\"-182.75\" font-family=\"monospace\" font-size=\"10.00\">MulBackward0</text>\n",
       "</g>\n",
       "<!-- 4679105024&#45;&gt;4679105168 -->\n",
       "<g id=\"edge6\" class=\"edge\">\n",
       "<title>4679105024&#45;&gt;4679105168</title>\n",
       "<path fill=\"none\" stroke=\"black\" d=\"M191.56,-231.84C177.84,-223.81 157.5,-211.91 141.38,-202.48\"/>\n",
       "<polygon fill=\"black\" stroke=\"black\" points=\"143.22,-199.5 132.82,-197.47 139.68,-205.54 143.22,-199.5\"/>\n",
       "</g>\n",
       "<!-- 4640856528 -->\n",
       "<g id=\"node6\" class=\"node\">\n",
       "<title>4640856528</title>\n",
       "<polygon fill=\"lightblue\" stroke=\"black\" points=\"234,-318 180,-318 180,-287.5 234,-287.5 234,-318\"/>\n",
       "<text text-anchor=\"middle\" x=\"207\" y=\"-304.5\" font-family=\"monospace\" font-size=\"10.00\">x1</text>\n",
       "<text text-anchor=\"middle\" x=\"207\" y=\"-293.25\" font-family=\"monospace\" font-size=\"10.00\"> ()</text>\n",
       "</g>\n",
       "<!-- 4640856528&#45;&gt;4679105024 -->\n",
       "<g id=\"edge4\" class=\"edge\">\n",
       "<title>4640856528&#45;&gt;4679105024</title>\n",
       "<path fill=\"none\" stroke=\"black\" d=\"M207,-287.2C207,-279.96 207,-271.09 207,-263.19\"/>\n",
       "<polygon fill=\"black\" stroke=\"black\" points=\"210.5,-263.46 207,-253.46 203.5,-263.46 210.5,-263.46\"/>\n",
       "</g>\n",
       "<!-- 4679105168&#45;&gt;4679105312 -->\n",
       "<g id=\"edge5\" class=\"edge\">\n",
       "<title>4679105168&#45;&gt;4679105312</title>\n",
       "<path fill=\"none\" stroke=\"black\" d=\"M121.61,-176.83C126.12,-169.78 132.59,-159.65 138.21,-150.83\"/>\n",
       "<polygon fill=\"black\" stroke=\"black\" points=\"141.02,-152.95 143.45,-142.63 135.12,-149.18 141.02,-152.95\"/>\n",
       "</g>\n",
       "<!-- 4679104976 -->\n",
       "<g id=\"node8\" class=\"node\">\n",
       "<title>4679104976</title>\n",
       "<polygon fill=\"lightgrey\" stroke=\"black\" points=\"124,-251.5 24,-251.5 24,-232.25 124,-232.25 124,-251.5\"/>\n",
       "<text text-anchor=\"middle\" x=\"74\" y=\"-238\" font-family=\"monospace\" font-size=\"10.00\">AccumulateGrad</text>\n",
       "</g>\n",
       "<!-- 4679104976&#45;&gt;4679105168 -->\n",
       "<g id=\"edge7\" class=\"edge\">\n",
       "<title>4679104976&#45;&gt;4679105168</title>\n",
       "<path fill=\"none\" stroke=\"black\" d=\"M80.94,-232.08C86.62,-224.88 94.84,-214.46 101.89,-205.51\"/>\n",
       "<polygon fill=\"black\" stroke=\"black\" points=\"104.53,-207.82 107.98,-197.8 99.04,-203.48 104.53,-207.82\"/>\n",
       "</g>\n",
       "<!-- 4679105264 -->\n",
       "<g id=\"node10\" class=\"node\">\n",
       "<title>4679105264</title>\n",
       "<polygon fill=\"lightgrey\" stroke=\"black\" points=\"88,-141 0,-141 0,-121.75 88,-121.75 88,-141\"/>\n",
       "<text text-anchor=\"middle\" x=\"44\" y=\"-127.5\" font-family=\"monospace\" font-size=\"10.00\">SinBackward0</text>\n",
       "</g>\n",
       "<!-- 4679104976&#45;&gt;4679105264 -->\n",
       "<g id=\"edge10\" class=\"edge\">\n",
       "<title>4679104976&#45;&gt;4679105264</title>\n",
       "<path fill=\"none\" stroke=\"black\" d=\"M71.54,-232C66.75,-214.67 56.06,-175.98 49.49,-152.24\"/>\n",
       "<polygon fill=\"black\" stroke=\"black\" points=\"52.93,-151.54 46.89,-142.84 46.18,-153.41 52.93,-151.54\"/>\n",
       "</g>\n",
       "<!-- 4640856432 -->\n",
       "<g id=\"node9\" class=\"node\">\n",
       "<title>4640856432</title>\n",
       "<polygon fill=\"lightblue\" stroke=\"black\" points=\"101,-318 47,-318 47,-287.5 101,-287.5 101,-318\"/>\n",
       "<text text-anchor=\"middle\" x=\"74\" y=\"-304.5\" font-family=\"monospace\" font-size=\"10.00\">x2</text>\n",
       "<text text-anchor=\"middle\" x=\"74\" y=\"-293.25\" font-family=\"monospace\" font-size=\"10.00\"> ()</text>\n",
       "</g>\n",
       "<!-- 4640856432&#45;&gt;4679104976 -->\n",
       "<g id=\"edge8\" class=\"edge\">\n",
       "<title>4640856432&#45;&gt;4679104976</title>\n",
       "<path fill=\"none\" stroke=\"black\" d=\"M74,-287.2C74,-279.96 74,-271.09 74,-263.19\"/>\n",
       "<polygon fill=\"black\" stroke=\"black\" points=\"77.5,-263.46 74,-253.46 70.5,-263.46 77.5,-263.46\"/>\n",
       "</g>\n",
       "<!-- 4679105264&#45;&gt;4401634448 -->\n",
       "<g id=\"edge9\" class=\"edge\">\n",
       "<title>4679105264&#45;&gt;4401634448</title>\n",
       "<path fill=\"none\" stroke=\"black\" d=\"M52.75,-121.58C60.15,-114.15 70.96,-103.29 80.05,-94.16\"/>\n",
       "<polygon fill=\"black\" stroke=\"black\" points=\"82.42,-96.74 86.99,-87.18 77.46,-91.8 82.42,-96.74\"/>\n",
       "</g>\n",
       "</g>\n",
       "</svg>\n"
      ],
      "text/plain": [
       "<graphviz.graphs.Digraph at 0x114455950>"
      ]
     },
     "execution_count": 5,
     "metadata": {},
     "output_type": "execute_result"
    }
   ],
   "source": [
    "from torchviz import make_dot\n",
    "\n",
    "make_dot(y, dict(x1 = x1, x2=x2, y = y))"
   ]
  },
  {
   "cell_type": "markdown",
   "id": "c42b315a-d309-4aea-8f80-4f8079b65de3",
   "metadata": {},
   "source": [
    "### Example 2\n",
    "What is the gradient of the function: \n",
    "\n",
    "$$y = 6x(1 −2x)^2$$\n",
    "\n",
    "at $x = 2$ with respect to both $x$?\n",
    "\n",
    "**Answer:**\n",
    "First we create the input and output tensors. "
   ]
  },
  {
   "cell_type": "code",
   "execution_count": 6,
   "id": "33e52583-a500-46c1-927d-a77c1766fdba",
   "metadata": {},
   "outputs": [],
   "source": [
    "x = torch.tensor(2., requires_grad=True)\n",
    "y = 6. * x * (1 - 2 * x)**2"
   ]
  },
  {
   "cell_type": "markdown",
   "id": "37a8d1d5-cf03-4c78-8ada-9ce8ef33532c",
   "metadata": {},
   "source": [
    "Next we run the `backward()` function:"
   ]
  },
  {
   "cell_type": "code",
   "execution_count": 7,
   "id": "3f05c727-4daf-4c2a-9156-c27509dbecc7",
   "metadata": {},
   "outputs": [],
   "source": [
    "y.backward()"
   ]
  },
  {
   "cell_type": "markdown",
   "id": "4233884a-595f-4060-b7a7-f5f3b5179173",
   "metadata": {},
   "source": [
    "Here is $\\frac{d y}{d x}$:"
   ]
  },
  {
   "cell_type": "code",
   "execution_count": 8,
   "id": "51892471-29ae-4946-876d-8e68ed41970b",
   "metadata": {},
   "outputs": [
    {
     "data": {
      "text/plain": [
       "198.0"
      ]
     },
     "execution_count": 8,
     "metadata": {},
     "output_type": "execute_result"
    }
   ],
   "source": [
    "x.grad.item()"
   ]
  },
  {
   "cell_type": "markdown",
   "id": "9bd336ed-65e1-41ea-b6f9-56d222a9ef36",
   "metadata": {},
   "source": [
    "which is the same values as before. Here is the computational graph Autograd created for this function."
   ]
  },
  {
   "cell_type": "code",
   "execution_count": 9,
   "id": "7f8e95b8-3201-477d-8794-abff22f0d2db",
   "metadata": {},
   "outputs": [
    {
     "data": {
      "image/svg+xml": [
       "<?xml version=\"1.0\" encoding=\"UTF-8\" standalone=\"no\"?>\n",
       "<!DOCTYPE svg PUBLIC \"-//W3C//DTD SVG 1.1//EN\"\n",
       " \"http://www.w3.org/Graphics/SVG/1.1/DTD/svg11.dtd\">\n",
       "<!-- Generated by graphviz version 9.0.0 (20230911.1827)\n",
       " -->\n",
       "<!-- Pages: 1 -->\n",
       "<svg width=\"208pt\" height=\"381pt\"\n",
       " viewBox=\"0.00 0.00 208.00 381.25\" xmlns=\"http://www.w3.org/2000/svg\" xmlns:xlink=\"http://www.w3.org/1999/xlink\">\n",
       "<g id=\"graph0\" class=\"graph\" transform=\"scale(1 1) rotate(0) translate(4 377.25)\">\n",
       "<polygon fill=\"white\" stroke=\"none\" points=\"-4,4 -4,-377.25 204,-377.25 204,4 -4,4\"/>\n",
       "<!-- 4679255440 -->\n",
       "<g id=\"node1\" class=\"node\">\n",
       "<title>4679255440</title>\n",
       "<polygon fill=\"#caff70\" stroke=\"black\" points=\"125,-30.5 71,-30.5 71,0 125,0 125,-30.5\"/>\n",
       "<text text-anchor=\"middle\" x=\"98\" y=\"-17\" font-family=\"monospace\" font-size=\"10.00\">y</text>\n",
       "<text text-anchor=\"middle\" x=\"98\" y=\"-5.75\" font-family=\"monospace\" font-size=\"10.00\"> ()</text>\n",
       "</g>\n",
       "<!-- 4679104928 -->\n",
       "<g id=\"node2\" class=\"node\">\n",
       "<title>4679104928</title>\n",
       "<polygon fill=\"lightgrey\" stroke=\"black\" points=\"142,-85.75 54,-85.75 54,-66.5 142,-66.5 142,-85.75\"/>\n",
       "<text text-anchor=\"middle\" x=\"98\" y=\"-72.25\" font-family=\"monospace\" font-size=\"10.00\">MulBackward0</text>\n",
       "</g>\n",
       "<!-- 4679104928&#45;&gt;4679255440 -->\n",
       "<g id=\"edge8\" class=\"edge\">\n",
       "<title>4679104928&#45;&gt;4679255440</title>\n",
       "<path fill=\"none\" stroke=\"black\" d=\"M98,-66.18C98,-59.73 98,-50.66 98,-42.01\"/>\n",
       "<polygon fill=\"black\" stroke=\"black\" points=\"101.5,-42.3 98,-32.3 94.5,-42.3 101.5,-42.3\"/>\n",
       "</g>\n",
       "<!-- 4679105120 -->\n",
       "<g id=\"node3\" class=\"node\">\n",
       "<title>4679105120</title>\n",
       "<polygon fill=\"lightgrey\" stroke=\"black\" points=\"88,-196.25 0,-196.25 0,-177 88,-177 88,-196.25\"/>\n",
       "<text text-anchor=\"middle\" x=\"44\" y=\"-182.75\" font-family=\"monospace\" font-size=\"10.00\">MulBackward0</text>\n",
       "</g>\n",
       "<!-- 4679105120&#45;&gt;4679104928 -->\n",
       "<g id=\"edge1\" class=\"edge\">\n",
       "<title>4679105120&#45;&gt;4679104928</title>\n",
       "<path fill=\"none\" stroke=\"black\" d=\"M48.42,-176.75C57.12,-159.26 76.65,-120.02 88.44,-96.34\"/>\n",
       "<polygon fill=\"black\" stroke=\"black\" points=\"91.52,-97.99 92.85,-87.48 85.26,-94.87 91.52,-97.99\"/>\n",
       "</g>\n",
       "<!-- 4402212592 -->\n",
       "<g id=\"node4\" class=\"node\">\n",
       "<title>4402212592</title>\n",
       "<polygon fill=\"lightgrey\" stroke=\"black\" points=\"148,-306.75 48,-306.75 48,-287.5 148,-287.5 148,-306.75\"/>\n",
       "<text text-anchor=\"middle\" x=\"98\" y=\"-293.25\" font-family=\"monospace\" font-size=\"10.00\">AccumulateGrad</text>\n",
       "</g>\n",
       "<!-- 4402212592&#45;&gt;4679105120 -->\n",
       "<g id=\"edge2\" class=\"edge\">\n",
       "<title>4402212592&#45;&gt;4679105120</title>\n",
       "<path fill=\"none\" stroke=\"black\" d=\"M93.58,-287.25C84.88,-269.76 65.35,-230.52 53.56,-206.84\"/>\n",
       "<polygon fill=\"black\" stroke=\"black\" points=\"56.74,-205.37 49.15,-197.98 50.48,-208.49 56.74,-205.37\"/>\n",
       "</g>\n",
       "<!-- 4640809616 -->\n",
       "<g id=\"node8\" class=\"node\">\n",
       "<title>4640809616</title>\n",
       "<polygon fill=\"lightgrey\" stroke=\"black\" points=\"187,-251.5 99,-251.5 99,-232.25 187,-232.25 187,-251.5\"/>\n",
       "<text text-anchor=\"middle\" x=\"143\" y=\"-238\" font-family=\"monospace\" font-size=\"10.00\">MulBackward0</text>\n",
       "</g>\n",
       "<!-- 4402212592&#45;&gt;4640809616 -->\n",
       "<g id=\"edge7\" class=\"edge\">\n",
       "<title>4402212592&#45;&gt;4640809616</title>\n",
       "<path fill=\"none\" stroke=\"black\" d=\"M105.43,-287.33C111.58,-280.05 120.51,-269.48 128.13,-260.48\"/>\n",
       "<polygon fill=\"black\" stroke=\"black\" points=\"130.65,-262.91 134.43,-253.02 125.3,-258.39 130.65,-262.91\"/>\n",
       "</g>\n",
       "<!-- 4640857680 -->\n",
       "<g id=\"node5\" class=\"node\">\n",
       "<title>4640857680</title>\n",
       "<polygon fill=\"lightblue\" stroke=\"black\" points=\"125,-373.25 71,-373.25 71,-342.75 125,-342.75 125,-373.25\"/>\n",
       "<text text-anchor=\"middle\" x=\"98\" y=\"-359.75\" font-family=\"monospace\" font-size=\"10.00\">x</text>\n",
       "<text text-anchor=\"middle\" x=\"98\" y=\"-348.5\" font-family=\"monospace\" font-size=\"10.00\"> ()</text>\n",
       "</g>\n",
       "<!-- 4640857680&#45;&gt;4402212592 -->\n",
       "<g id=\"edge3\" class=\"edge\">\n",
       "<title>4640857680&#45;&gt;4402212592</title>\n",
       "<path fill=\"none\" stroke=\"black\" d=\"M98,-342.45C98,-335.21 98,-326.34 98,-318.44\"/>\n",
       "<polygon fill=\"black\" stroke=\"black\" points=\"101.5,-318.71 98,-308.71 94.5,-318.71 101.5,-318.71\"/>\n",
       "</g>\n",
       "<!-- 4679104112 -->\n",
       "<g id=\"node6\" class=\"node\">\n",
       "<title>4679104112</title>\n",
       "<polygon fill=\"lightgrey\" stroke=\"black\" points=\"187,-141 99,-141 99,-121.75 187,-121.75 187,-141\"/>\n",
       "<text text-anchor=\"middle\" x=\"143\" y=\"-127.5\" font-family=\"monospace\" font-size=\"10.00\">PowBackward0</text>\n",
       "</g>\n",
       "<!-- 4679104112&#45;&gt;4679104928 -->\n",
       "<g id=\"edge4\" class=\"edge\">\n",
       "<title>4679104112&#45;&gt;4679104928</title>\n",
       "<path fill=\"none\" stroke=\"black\" d=\"M135.57,-121.58C129.42,-114.3 120.49,-103.73 112.87,-94.73\"/>\n",
       "<polygon fill=\"black\" stroke=\"black\" points=\"115.7,-92.64 106.57,-87.27 110.35,-97.16 115.7,-92.64\"/>\n",
       "</g>\n",
       "<!-- 4402205872 -->\n",
       "<g id=\"node7\" class=\"node\">\n",
       "<title>4402205872</title>\n",
       "<polygon fill=\"lightgrey\" stroke=\"black\" points=\"200,-196.25 106,-196.25 106,-177 200,-177 200,-196.25\"/>\n",
       "<text text-anchor=\"middle\" x=\"153\" y=\"-182.75\" font-family=\"monospace\" font-size=\"10.00\">RsubBackward1</text>\n",
       "</g>\n",
       "<!-- 4402205872&#45;&gt;4679104112 -->\n",
       "<g id=\"edge5\" class=\"edge\">\n",
       "<title>4402205872&#45;&gt;4679104112</title>\n",
       "<path fill=\"none\" stroke=\"black\" d=\"M151.35,-176.83C150.11,-170.24 148.37,-160.96 146.79,-152.57\"/>\n",
       "<polygon fill=\"black\" stroke=\"black\" points=\"150.25,-152.03 144.97,-142.85 143.37,-153.32 150.25,-152.03\"/>\n",
       "</g>\n",
       "<!-- 4640809616&#45;&gt;4402205872 -->\n",
       "<g id=\"edge6\" class=\"edge\">\n",
       "<title>4640809616&#45;&gt;4402205872</title>\n",
       "<path fill=\"none\" stroke=\"black\" d=\"M144.65,-232.08C145.89,-225.49 147.63,-216.21 149.21,-207.82\"/>\n",
       "<polygon fill=\"black\" stroke=\"black\" points=\"152.63,-208.57 151.03,-198.1 145.75,-207.28 152.63,-208.57\"/>\n",
       "</g>\n",
       "</g>\n",
       "</svg>\n"
      ],
      "text/plain": [
       "<graphviz.graphs.Digraph at 0x116e85f90>"
      ]
     },
     "execution_count": 9,
     "metadata": {},
     "output_type": "execute_result"
    }
   ],
   "source": [
    "make_dot(y, dict(x = x, y = y))"
   ]
  }
 ],
 "metadata": {
  "kernelspec": {
   "display_name": "Python 3 (ipykernel)",
   "language": "python",
   "name": "python3"
  },
  "language_info": {
   "codemirror_mode": {
    "name": "ipython",
    "version": 3
   },
   "file_extension": ".py",
   "mimetype": "text/x-python",
   "name": "python",
   "nbconvert_exporter": "python",
   "pygments_lexer": "ipython3",
   "version": "3.11.5"
  },
  "vscode": {
   "interpreter": {
    "hash": "362103da0919e59d0cb43f4358cfe78c97cd2df6fe4e5099c2771aed73dde6a9"
   }
  }
 },
 "nbformat": 4,
 "nbformat_minor": 5
}
