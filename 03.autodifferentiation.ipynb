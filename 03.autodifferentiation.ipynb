{
  "cells": [
    {
      "cell_type": "markdown",
      "id": "6c6fcc5d",
      "metadata": {
        "id": "6c6fcc5d"
      },
      "source": [
        "Run locally or <a target=\"_blank\" href=\"https://colab.research.google.com/github/aalgahmi/dl_handouts/blob/main/03.autodifferentiation.ipynb\">\n",
        "  <img src=\"https://colab.research.google.com/assets/colab-badge.svg\" alt=\"Open In Colab\"/>\n",
        "</a>"
      ]
    },
    {
      "cell_type": "code",
      "source": [
        "!pip install torchviz"
      ],
      "metadata": {
        "id": "wHBtsMrCVd7Z",
        "outputId": "2d8a6dfc-20ec-4b23-f4da-e192ccc58272",
        "colab": {
          "base_uri": "https://localhost:8080/"
        }
      },
      "id": "wHBtsMrCVd7Z",
      "execution_count": 1,
      "outputs": [
        {
          "output_type": "stream",
          "name": "stdout",
          "text": [
            "Requirement already satisfied: torchviz in /usr/local/lib/python3.11/dist-packages (0.0.3)\n",
            "Requirement already satisfied: torch in /usr/local/lib/python3.11/dist-packages (from torchviz) (2.5.1+cu121)\n",
            "Requirement already satisfied: graphviz in /usr/local/lib/python3.11/dist-packages (from torchviz) (0.20.3)\n",
            "Requirement already satisfied: filelock in /usr/local/lib/python3.11/dist-packages (from torch->torchviz) (3.16.1)\n",
            "Requirement already satisfied: typing-extensions>=4.8.0 in /usr/local/lib/python3.11/dist-packages (from torch->torchviz) (4.12.2)\n",
            "Requirement already satisfied: networkx in /usr/local/lib/python3.11/dist-packages (from torch->torchviz) (3.4.2)\n",
            "Requirement already satisfied: jinja2 in /usr/local/lib/python3.11/dist-packages (from torch->torchviz) (3.1.5)\n",
            "Requirement already satisfied: fsspec in /usr/local/lib/python3.11/dist-packages (from torch->torchviz) (2024.10.0)\n",
            "Requirement already satisfied: nvidia-cuda-nvrtc-cu12==12.1.105 in /usr/local/lib/python3.11/dist-packages (from torch->torchviz) (12.1.105)\n",
            "Requirement already satisfied: nvidia-cuda-runtime-cu12==12.1.105 in /usr/local/lib/python3.11/dist-packages (from torch->torchviz) (12.1.105)\n",
            "Requirement already satisfied: nvidia-cuda-cupti-cu12==12.1.105 in /usr/local/lib/python3.11/dist-packages (from torch->torchviz) (12.1.105)\n",
            "Requirement already satisfied: nvidia-cudnn-cu12==9.1.0.70 in /usr/local/lib/python3.11/dist-packages (from torch->torchviz) (9.1.0.70)\n",
            "Requirement already satisfied: nvidia-cublas-cu12==12.1.3.1 in /usr/local/lib/python3.11/dist-packages (from torch->torchviz) (12.1.3.1)\n",
            "Requirement already satisfied: nvidia-cufft-cu12==11.0.2.54 in /usr/local/lib/python3.11/dist-packages (from torch->torchviz) (11.0.2.54)\n",
            "Requirement already satisfied: nvidia-curand-cu12==10.3.2.106 in /usr/local/lib/python3.11/dist-packages (from torch->torchviz) (10.3.2.106)\n",
            "Requirement already satisfied: nvidia-cusolver-cu12==11.4.5.107 in /usr/local/lib/python3.11/dist-packages (from torch->torchviz) (11.4.5.107)\n",
            "Requirement already satisfied: nvidia-cusparse-cu12==12.1.0.106 in /usr/local/lib/python3.11/dist-packages (from torch->torchviz) (12.1.0.106)\n",
            "Requirement already satisfied: nvidia-nccl-cu12==2.21.5 in /usr/local/lib/python3.11/dist-packages (from torch->torchviz) (2.21.5)\n",
            "Requirement already satisfied: nvidia-nvtx-cu12==12.1.105 in /usr/local/lib/python3.11/dist-packages (from torch->torchviz) (12.1.105)\n",
            "Requirement already satisfied: triton==3.1.0 in /usr/local/lib/python3.11/dist-packages (from torch->torchviz) (3.1.0)\n",
            "Requirement already satisfied: sympy==1.13.1 in /usr/local/lib/python3.11/dist-packages (from torch->torchviz) (1.13.1)\n",
            "Requirement already satisfied: nvidia-nvjitlink-cu12 in /usr/local/lib/python3.11/dist-packages (from nvidia-cusolver-cu12==11.4.5.107->torch->torchviz) (12.6.85)\n",
            "Requirement already satisfied: mpmath<1.4,>=1.1.0 in /usr/local/lib/python3.11/dist-packages (from sympy==1.13.1->torch->torchviz) (1.3.0)\n",
            "Requirement already satisfied: MarkupSafe>=2.0 in /usr/local/lib/python3.11/dist-packages (from jinja2->torch->torchviz) (3.0.2)\n"
          ]
        }
      ]
    },
    {
      "cell_type": "markdown",
      "id": "740dd58b-10f9-4abc-8b98-b1d7a9101839",
      "metadata": {
        "id": "740dd58b-10f9-4abc-8b98-b1d7a9101839"
      },
      "source": [
        "# Autodifferentiation\n",
        "\n",
        "Autodifferentiation, short for automatic differentiation, is a set of techniques used for efficiently and automatically computing the derivatives or gradients of functions. These derivatives are crucial for optimization algorithms, such as gradient descent, which are critical to training machine learning models. It allows for the automatic calculation of derivatives without explicitly deriving and implementing them manually. It is particularly beneficial in scenarios where the functions involved are complex or when dealing with high-dimensional spaces.\n",
        "\n",
        "There are two main modes of autodifferentiation:\n",
        "\n",
        "* **Forward-mode autodifferentiation:** Computes the derivatives by applying the chain rule in the  input to the output direction. This mode is efficient for functions where the number of input variables is relatively small compared to the number of outputs.\n",
        "\n",
        "* **Reverse-mode autodifferentiation (backpropagation):** Computes the derivatives by traversing the computational graph backward from the output to the input. This mode is well-suited for functions with many input variables and few outputs, which is often the case in machine learning.\n",
        "\n",
        "Frameworks like PyTorch and TensorFlow leverage reverse-mode autodifferentiation to enable the automatic computation of gradients during the training of neural networks, making it easier for us to implement and experiment with complex models.\n",
        "\n",
        "Below are two detailed examples of autodifferentiation:\n",
        "\n",
        "## Example 1\n",
        "\n",
        "Given the function:\n",
        "\n",
        "$$ f(x_1, x_2) = ln(x_1) + x_1 x_2 - sin(x_2) $$\n",
        "\n",
        "\n",
        "here is the computational graph. Node labels are between `(` and `)`. Notice that: $y = f(x_1, x_2) = v_7$"
      ]
    },
    {
      "cell_type": "markdown",
      "id": "d686ea56-0a0d-4c66-8009-9ae72455575d",
      "metadata": {
        "id": "d686ea56-0a0d-4c66-8009-9ae72455575d"
      },
      "source": [
        "![ad-fn1.svg](data:image/svg+xml;base64,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)"
      ]
    },
    {
      "cell_type": "markdown",
      "id": "bcc72793-40bb-485d-9a4e-02b176af16cd",
      "metadata": {
        "id": "bcc72793-40bb-485d-9a4e-02b176af16cd"
      },
      "source": [
        "### Forward-mode Autodiff\n",
        "First, refer to the lecture recording for the calculations of $\\frac{\\delta y}{\\delta v_1} = \\frac{\\delta v_5}{\\delta x_1}$.\n",
        "\n",
        "For: $$\\frac{\\delta y}{\\delta v_2} = \\frac{\\delta v_5}{\\delta x_2}$$\n",
        "\n",
        "at $x_1 = 2, x_2 = 5$, here are the calculations:"
      ]
    },
    {
      "cell_type": "markdown",
      "id": "8c4058c9-2250-4c04-825c-0836911f4ea5",
      "metadata": {
        "id": "8c4058c9-2250-4c04-825c-0836911f4ea5"
      },
      "source": [
        "$ \\dot{x}_1 = \\frac{\\delta x_1}{\\delta x_2} = 0 $\n",
        "\n",
        "$ \\dot{x}_2 = \\frac{\\delta x_2}{\\delta x_2} = 1 $\n",
        "\n",
        "$ \\dot{v}_1 = \\frac{\\delta v_1}{\\delta x_2} = \\frac{\\delta \\ln(x_1)}{\\delta x_2} = 0 $\n",
        "\n",
        "$ \\dot{v}_2 = \\frac{\\delta v_2}{\\delta x_2} = \\frac{\\delta\\ \\ \\ (x_1 x_2)}{\\delta x_2} = x_1 = 2 $\n",
        "\n",
        "$ \\dot{v}_3 = \\frac{\\delta \\sin(x_2)}{\\delta x_2} = \\cos(x_2) = \\cos(5) = 0.284 $\n",
        "\n",
        "$ \\dot{v}_4 = \\frac{\\delta\\ \\ \\ (v_1 + v_2)}{\\delta x_2} = \\dot{v}_1 + \\dot{v}_2 = 0 + 2 = 2 $\n",
        "\n",
        "$ \\dot{v}_5 = \\frac{\\delta v_5}{\\delta x_2} = \\frac{\\delta\\ \\ \\ (v_4 - v_3)}{\\delta x_2} = \\dot{v}_4  - \\dot{v}_3 = 2 - 0.284 = 1.1716 $\n"
      ]
    },
    {
      "cell_type": "markdown",
      "id": "2a857e87-94b3-47c0-9d34-e74a4c42a027",
      "metadata": {
        "id": "2a857e87-94b3-47c0-9d34-e74a4c42a027"
      },
      "source": [
        "### Reverse-mode Autodiff\n",
        "At $x_1 = 2, x_2 = 5$, reverse-mode autodiff allows us to calculate:\n",
        "\n",
        "$\\dot{x}_1 = \\frac{\\delta v_7}{\\delta v_1}$ and $\\dot{x}_2 = \\frac{\\delta v_7}{\\delta v_2}$ in one fell swoop.\n",
        "\n",
        "Running the forward pass:\n",
        "\n",
        "$x_1 = 2$, $x_2 = 5$, $v_1 = \\ln(2)$, $v_2 = 10$, $v_3 = \\sin(5)$,  $v_4 = \\ln(2) + 10 $, and $v_5 = \\ln(2) + 10 - \\sin(5)$"
      ]
    },
    {
      "cell_type": "markdown",
      "id": "3edf33cd-dc98-4a13-b55b-12aa107e0049",
      "metadata": {
        "id": "3edf33cd-dc98-4a13-b55b-12aa107e0049"
      },
      "source": [
        "$ \\dot{v}_5 = \\frac{\\delta v_5}{\\delta v_5} = 1$\n",
        "\n",
        "$ \\dot{v}_4 = \\frac{\\delta v_5}{\\delta v_4} = \\frac{\\delta\\ \\ \\ (v_4 - v_3)}{\\delta v_6} = 1 $\n",
        "\n",
        "$ \\dot{v}_3 = \\frac{\\delta v_5}{\\delta v_3} = \\frac{\\delta\\ \\ \\ (v_4 - v_3)}{\\delta v_3} = -1 $\n",
        "\n",
        "$ \\dot{v}_2 = \\frac{\\delta v_5}{\\delta v_2} = \\frac{\\delta v_5}{\\delta v_4} \\frac{\\delta v_4}{\\delta v_2} = \\dot{v}_4 \\frac{\\delta\\ \\ \\ (v_1 + v_2)}{\\delta v_2} = 1 \\times 1 = 1 $\n",
        "\n",
        "$ \\dot{v}_1 = \\frac{\\delta v_5}{\\delta v_1} = \\frac{\\delta v_5}{\\delta v_4} \\frac{\\delta v_4}{\\delta v_1} = \\dot{v}_4 \\frac{\\delta\\ \\ \\ (v_1 + v_2)}{\\delta v_1} = 1 \\times 1 = 1 $\n",
        "\n",
        "$ \\dot{x}_2 = \\frac{\\delta v_5}{\\delta x_2} = \\dot{v}_2 \\frac{\\delta\\ \\ x_1 x_2}{\\delta x_2} + \\dot{v}_3 \\frac{\\delta \\sin(x_2)}{\\delta x_2} =  1 \\times x_1 + (-1) \\times cos(v_2)= 2 - 0.284 = 1.716 $\n",
        "\n",
        "$ \\dot{x}_1 = \\frac{\\delta v_5}{\\delta x_1} = \\dot{v}_1 \\frac{\\delta \\ln(x_1)}{\\delta x_1} + \\dot{v}_2 \\frac{\\delta\\ \\ \\ x_1 x_2}{\\delta x_1} +  =  1 \\times (1 / x_1) + 1 \\times x_2= 1/2 + 5 = 5.5 $"
      ]
    },
    {
      "cell_type": "markdown",
      "id": "467271e8-57ef-4510-9e50-418d64791686",
      "metadata": {
        "id": "467271e8-57ef-4510-9e50-418d64791686"
      },
      "source": [
        "## Example 2\n",
        "\n",
        "Given the function:\n",
        "\n",
        "$$y = 6x(1 −2x)^2$$\n",
        "\n",
        "\n",
        "here is the computational graph. Node labels are between `(` and `)`. Notice that: $y = v_6$"
      ]
    },
    {
      "cell_type": "markdown",
      "id": "4b3d22bf",
      "metadata": {
        "id": "4b3d22bf"
      },
      "source": [
        "![ad-fn2.svg](data:image/svg+xml;base64,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)"
      ]
    },
    {
      "cell_type": "markdown",
      "id": "ca54ef77-0f3d-41fa-bac2-d3b1e9cbe90b",
      "metadata": {
        "id": "ca54ef77-0f3d-41fa-bac2-d3b1e9cbe90b"
      },
      "source": [
        "### Forward-mode Autodiff\n",
        "Here we need to calculate $\\dot{v}_5 = \\frac{\\delta v_5}{\\delta x}$ at $x = 2$.\n",
        "\n",
        "First need first to calculate:\n",
        "\n",
        "$v_1 = 4$, $v_2 = 12$, $v_3 = 1 - v_1 = 1 - 4 = -3$, $v_4 = v_3^2 = 9$, and $v_5 = v_2 v_4 = 108 $"
      ]
    },
    {
      "cell_type": "markdown",
      "id": "7e7dee36-3dbe-4a44-b114-03331c1ed369",
      "metadata": {
        "id": "7e7dee36-3dbe-4a44-b114-03331c1ed369"
      },
      "source": [
        "$ \\dot{x} = \\frac{\\delta x}{\\delta x} = 1 $\n",
        "\n",
        "$ \\dot{v}_1 = \\frac{\\delta v_1}{\\delta x} = \\frac{\\delta\\ \\ \\ 2 x}{\\delta x} = 2 $\n",
        "\n",
        "$ \\dot{v}_2 = \\frac{\\delta v_2}{\\delta x} = \\frac{\\delta\\ \\ \\ 6 x}{\\delta x} = 6 $\n",
        "\n",
        "$ \\dot{v}_3 = \\frac{\\delta v_3}{\\delta x} = \\frac{\\delta\\ \\ \\ 1 - v_1}{\\delta x} = - \\dot{v}_1  = -2 $\n",
        "\n",
        "$ \\dot{v}_4 = \\frac{\\delta v_4}{\\delta x} = \\frac{\\delta\\ \\ v_3^2}{\\delta x} = 2 v_3  \\frac{\\delta v_3}{\\delta x} = 2 v_3 \\dot{v}_3 = 2 \\times (-2) \\times (-3) = 12 $\n",
        "\n",
        "$ \\dot{v}_5 = \\frac{\\delta v_5}{\\delta x} = \\frac{\\delta\\ \\ \\ v_2 v_4}{\\delta x} =  v_2 \\dot{v}_4 + v_4 \\dot{v}_2 = 12 * 12 + 9 * 6 = 144 + 54 = 198$"
      ]
    },
    {
      "cell_type": "markdown",
      "id": "08bac53b",
      "metadata": {
        "id": "08bac53b"
      },
      "source": [
        "### Reverse-mode Autodiff\n",
        "Here we need to calculate $\\dot{v}_1 = \\frac{\\delta v_5}{\\delta x}$ at $x = 2$.\n",
        "\n",
        "Running the forward pass:\n",
        "\n",
        "$v_1 = 4$, $v_2 = 12$, $v_3 = 1 - v_1 = 1 - 4 = -3$, $v_4 = v_3^2 = 9$, and $v_5 = v_2 v_4 = 108 $"
      ]
    },
    {
      "cell_type": "markdown",
      "id": "10d10a64",
      "metadata": {
        "id": "10d10a64"
      },
      "source": [
        "\n",
        "$ \\dot{v}_5 = \\frac{\\delta v_5}{\\delta v_5} = 1 $\n",
        "\n",
        "$ \\dot{v}_4 = \\frac{\\delta v_5}{\\delta v_4} = \\frac{\\delta\\ \\ \\ v_2 v_4 }{\\delta v_4} = v_2 = 12 $\n",
        "\n",
        "$ \\dot{v}_3 = \\frac{\\delta v_5}{\\delta v_3} = \\frac{\\delta v_5}{\\delta v_4}  \\frac{\\delta v_4}{\\delta v_3}  = \\dot{v}_4 \\frac{\\delta\\ \\  v_3^2}{\\delta v_4} = 12 \\times 2 \\times v_3 = 12 \\times 2 \\times -3 = -72 $\n",
        "\n",
        "$ \\dot{v}_2 = \\frac{\\delta v_5}{\\delta v_2} = \\frac{\\delta\\ \\ \\ v_2 v_4}{\\delta v_2} = v_4 = 9 $\n",
        "\n",
        "$ \\dot{v}_1 = \\frac{\\delta v_5}{\\delta v_1} = \\dot{v}_3 \\frac{\\delta\\ \\ \\ 1 - v_1}{\\delta v_1} = -72 \\times -1 = 72 $\n",
        "\n",
        "$ \\dot{x} = \\frac{\\delta v_6}{\\delta x} = \\dot{v}_1 \\frac{\\delta\\ \\ \\ 2 x}{\\delta x} + \\dot{v}_2 \\frac{\\delta\\ \\ \\ 6 x}{\\delta x}  =  72 \\times 2 + 9 \\times 6 = 144 + 54 = 198 $"
      ]
    },
    {
      "cell_type": "markdown",
      "id": "a901fbaa-1ca3-4a91-bea5-9fc43fa36f6a",
      "metadata": {
        "id": "a901fbaa-1ca3-4a91-bea5-9fc43fa36f6a"
      },
      "source": [
        "## Examples 1 and 2 using Autograd\n",
        "### Example 1\n",
        "What are the gradients of the function:\n",
        "$$ f(x_1, x_2) = ln(x_1) + x_1 x_2 - sin(x_2) $$\n",
        "\n",
        "at $x_1 = 2, x_2 = 5$ with respect to both $x_1$ and $x_2$?\n",
        "\n",
        "**Answer:**\n",
        "First we create the input and output tensors."
      ]
    },
    {
      "cell_type": "code",
      "execution_count": 2,
      "id": "c807ffa2-d837-42e6-80eb-54e8be02bdee",
      "metadata": {
        "id": "c807ffa2-d837-42e6-80eb-54e8be02bdee"
      },
      "outputs": [],
      "source": [
        "import torch\n",
        "\n",
        "x1 = torch.tensor(2., requires_grad=True)\n",
        "x2 = torch.tensor(5., requires_grad=True)\n",
        "y = torch.log(x1) + x1 * x2 - torch.sin(x2)"
      ]
    },
    {
      "cell_type": "markdown",
      "id": "cddac184-2d2f-4ca4-8f0b-db99b3100f91",
      "metadata": {
        "id": "cddac184-2d2f-4ca4-8f0b-db99b3100f91"
      },
      "source": [
        "Next we run the `backward()` function:"
      ]
    },
    {
      "cell_type": "code",
      "execution_count": 3,
      "id": "7136c88e-c051-4d6c-a19e-4da5a5d0b3e0",
      "metadata": {
        "id": "7136c88e-c051-4d6c-a19e-4da5a5d0b3e0"
      },
      "outputs": [],
      "source": [
        "y.backward()"
      ]
    },
    {
      "cell_type": "markdown",
      "id": "bee7e123-c2bf-4ae1-86be-6e4412c3317d",
      "metadata": {
        "id": "bee7e123-c2bf-4ae1-86be-6e4412c3317d"
      },
      "source": [
        "Here is $\\frac{d y}{d x_1}$:"
      ]
    },
    {
      "cell_type": "code",
      "execution_count": 4,
      "id": "362b2621-daaa-4241-becd-aad70b7d5a59",
      "metadata": {
        "colab": {
          "base_uri": "https://localhost:8080/"
        },
        "id": "362b2621-daaa-4241-becd-aad70b7d5a59",
        "outputId": "e2a3a866-64ee-424f-ef30-3ab6a608bffb"
      },
      "outputs": [
        {
          "output_type": "execute_result",
          "data": {
            "text/plain": [
              "5.5"
            ]
          },
          "metadata": {},
          "execution_count": 4
        }
      ],
      "source": [
        "x1.grad.item()"
      ]
    },
    {
      "cell_type": "markdown",
      "id": "daf287cd-bee0-4357-b469-0795f5d74956",
      "metadata": {
        "id": "daf287cd-bee0-4357-b469-0795f5d74956"
      },
      "source": [
        "And here is $\\frac{d y}{d x_2}$:"
      ]
    },
    {
      "cell_type": "code",
      "execution_count": 5,
      "id": "7e6e27f7-780f-4380-a0b2-f4ab2dd27077",
      "metadata": {
        "colab": {
          "base_uri": "https://localhost:8080/"
        },
        "id": "7e6e27f7-780f-4380-a0b2-f4ab2dd27077",
        "outputId": "d25a7455-dec3-4b11-da61-1817c85d4644"
      },
      "outputs": [
        {
          "output_type": "execute_result",
          "data": {
            "text/plain": [
              "1.71633780002594"
            ]
          },
          "metadata": {},
          "execution_count": 5
        }
      ],
      "source": [
        "x2.grad.item()"
      ]
    },
    {
      "cell_type": "markdown",
      "id": "58389fbd-9f43-43bd-b55b-8faf3142428e",
      "metadata": {
        "id": "58389fbd-9f43-43bd-b55b-8faf3142428e"
      },
      "source": [
        "which are the same values as before. Here is the computational graph Autograd created for this function."
      ]
    },
    {
      "cell_type": "code",
      "execution_count": 6,
      "id": "7aefd1f6-0644-4781-8af9-cd792c9d7180",
      "metadata": {
        "colab": {
          "base_uri": "https://localhost:8080/",
          "height": 473
        },
        "id": "7aefd1f6-0644-4781-8af9-cd792c9d7180",
        "outputId": "b4685dcd-9db9-462c-d712-50eb1e195b87"
      },
      "outputs": [
        {
          "output_type": "execute_result",
          "data": {
            "image/svg+xml": "<?xml version=\"1.0\" encoding=\"UTF-8\" standalone=\"no\"?>\n<!DOCTYPE svg PUBLIC \"-//W3C//DTD SVG 1.1//EN\"\n \"http://www.w3.org/Graphics/SVG/1.1/DTD/svg11.dtd\">\n<!-- Generated by graphviz version 2.43.0 (0)\n -->\n<!-- Title: %3 Pages: 1 -->\n<svg width=\"277pt\" height=\"324pt\"\n viewBox=\"0.00 0.00 277.00 324.00\" xmlns=\"http://www.w3.org/2000/svg\" xmlns:xlink=\"http://www.w3.org/1999/xlink\">\n<g id=\"graph0\" class=\"graph\" transform=\"scale(1 1) rotate(0) translate(4 320)\">\n<title>%3</title>\n<polygon fill=\"white\" stroke=\"transparent\" points=\"-4,4 -4,-320 273,-320 273,4 -4,4\"/>\n<!-- 140028685673456 -->\n<g id=\"node1\" class=\"node\">\n<title>140028685673456</title>\n<polygon fill=\"#caff70\" stroke=\"black\" points=\"124.5,-30 70.5,-30 70.5,0 124.5,0 124.5,-30\"/>\n<text text-anchor=\"middle\" x=\"97.5\" y=\"-18\" font-family=\"monospace\" font-size=\"10.00\">y</text>\n<text text-anchor=\"middle\" x=\"97.5\" y=\"-7\" font-family=\"monospace\" font-size=\"10.00\"> ()</text>\n</g>\n<!-- 140028686277680 -->\n<g id=\"node2\" class=\"node\">\n<title>140028686277680</title>\n<polygon fill=\"lightgrey\" stroke=\"black\" points=\"142,-85 53,-85 53,-66 142,-66 142,-85\"/>\n<text text-anchor=\"middle\" x=\"97.5\" y=\"-73\" font-family=\"monospace\" font-size=\"10.00\">SubBackward0</text>\n</g>\n<!-- 140028686277680&#45;&gt;140028685673456 -->\n<g id=\"edge11\" class=\"edge\">\n<title>140028686277680&#45;&gt;140028685673456</title>\n<path fill=\"none\" stroke=\"black\" d=\"M97.5,-65.87C97.5,-59.11 97.5,-49.35 97.5,-40.26\"/>\n<polygon fill=\"black\" stroke=\"black\" points=\"101,-40.11 97.5,-30.11 94,-40.11 101,-40.11\"/>\n</g>\n<!-- 140028686277536 -->\n<g id=\"node3\" class=\"node\">\n<title>140028686277536</title>\n<polygon fill=\"lightgrey\" stroke=\"black\" points=\"196,-140 107,-140 107,-121 196,-121 196,-140\"/>\n<text text-anchor=\"middle\" x=\"151.5\" y=\"-128\" font-family=\"monospace\" font-size=\"10.00\">AddBackward0</text>\n</g>\n<!-- 140028686277536&#45;&gt;140028686277680 -->\n<g id=\"edge1\" class=\"edge\">\n<title>140028686277536&#45;&gt;140028686277680</title>\n<path fill=\"none\" stroke=\"black\" d=\"M142.58,-120.75C134.72,-113.03 123.07,-101.6 113.58,-92.28\"/>\n<polygon fill=\"black\" stroke=\"black\" points=\"115.84,-89.6 106.25,-85.09 110.94,-94.59 115.84,-89.6\"/>\n</g>\n<!-- 140028686277632 -->\n<g id=\"node4\" class=\"node\">\n<title>140028686277632</title>\n<polygon fill=\"lightgrey\" stroke=\"black\" points=\"269,-195 180,-195 180,-176 269,-176 269,-195\"/>\n<text text-anchor=\"middle\" x=\"224.5\" y=\"-183\" font-family=\"monospace\" font-size=\"10.00\">LogBackward0</text>\n</g>\n<!-- 140028686277632&#45;&gt;140028686277536 -->\n<g id=\"edge2\" class=\"edge\">\n<title>140028686277632&#45;&gt;140028686277536</title>\n<path fill=\"none\" stroke=\"black\" d=\"M212.77,-175.98C201.77,-168 185.08,-155.88 171.9,-146.31\"/>\n<polygon fill=\"black\" stroke=\"black\" points=\"173.59,-143.21 163.44,-140.17 169.48,-148.88 173.59,-143.21\"/>\n</g>\n<!-- 140028686277248 -->\n<g id=\"node5\" class=\"node\">\n<title>140028686277248</title>\n<polygon fill=\"lightgrey\" stroke=\"black\" points=\"259,-250 158,-250 158,-231 259,-231 259,-250\"/>\n<text text-anchor=\"middle\" x=\"208.5\" y=\"-238\" font-family=\"monospace\" font-size=\"10.00\">AccumulateGrad</text>\n</g>\n<!-- 140028686277248&#45;&gt;140028686277632 -->\n<g id=\"edge3\" class=\"edge\">\n<title>140028686277248&#45;&gt;140028686277632</title>\n<path fill=\"none\" stroke=\"black\" d=\"M211.14,-230.75C213.26,-223.72 216.31,-213.62 218.96,-204.84\"/>\n<polygon fill=\"black\" stroke=\"black\" points=\"222.37,-205.67 221.91,-195.09 215.67,-203.65 222.37,-205.67\"/>\n</g>\n<!-- 140028686277392 -->\n<g id=\"node7\" class=\"node\">\n<title>140028686277392</title>\n<polygon fill=\"lightgrey\" stroke=\"black\" points=\"162,-195 73,-195 73,-176 162,-176 162,-195\"/>\n<text text-anchor=\"middle\" x=\"117.5\" y=\"-183\" font-family=\"monospace\" font-size=\"10.00\">MulBackward0</text>\n</g>\n<!-- 140028686277248&#45;&gt;140028686277392 -->\n<g id=\"edge6\" class=\"edge\">\n<title>140028686277248&#45;&gt;140028686277392</title>\n<path fill=\"none\" stroke=\"black\" d=\"M193.88,-230.98C179.64,-222.69 157.75,-209.94 141.05,-200.22\"/>\n<polygon fill=\"black\" stroke=\"black\" points=\"142.79,-197.18 132.39,-195.17 139.27,-203.23 142.79,-197.18\"/>\n</g>\n<!-- 140028685679312 -->\n<g id=\"node6\" class=\"node\">\n<title>140028685679312</title>\n<polygon fill=\"lightblue\" stroke=\"black\" points=\"235.5,-316 181.5,-316 181.5,-286 235.5,-286 235.5,-316\"/>\n<text text-anchor=\"middle\" x=\"208.5\" y=\"-304\" font-family=\"monospace\" font-size=\"10.00\">x1</text>\n<text text-anchor=\"middle\" x=\"208.5\" y=\"-293\" font-family=\"monospace\" font-size=\"10.00\"> ()</text>\n</g>\n<!-- 140028685679312&#45;&gt;140028686277248 -->\n<g id=\"edge4\" class=\"edge\">\n<title>140028685679312&#45;&gt;140028686277248</title>\n<path fill=\"none\" stroke=\"black\" d=\"M208.5,-285.84C208.5,-278.21 208.5,-268.7 208.5,-260.45\"/>\n<polygon fill=\"black\" stroke=\"black\" points=\"212,-260.27 208.5,-250.27 205,-260.27 212,-260.27\"/>\n</g>\n<!-- 140028686277392&#45;&gt;140028686277536 -->\n<g id=\"edge5\" class=\"edge\">\n<title>140028686277392&#45;&gt;140028686277536</title>\n<path fill=\"none\" stroke=\"black\" d=\"M123.11,-175.75C127.82,-168.42 134.67,-157.73 140.47,-148.7\"/>\n<polygon fill=\"black\" stroke=\"black\" points=\"143.54,-150.4 145.99,-140.09 137.64,-146.62 143.54,-150.4\"/>\n</g>\n<!-- 140028686277200 -->\n<g id=\"node8\" class=\"node\">\n<title>140028686277200</title>\n<polygon fill=\"lightgrey\" stroke=\"black\" points=\"125,-250 24,-250 24,-231 125,-231 125,-250\"/>\n<text text-anchor=\"middle\" x=\"74.5\" y=\"-238\" font-family=\"monospace\" font-size=\"10.00\">AccumulateGrad</text>\n</g>\n<!-- 140028686277200&#45;&gt;140028686277392 -->\n<g id=\"edge7\" class=\"edge\">\n<title>140028686277200&#45;&gt;140028686277392</title>\n<path fill=\"none\" stroke=\"black\" d=\"M81.6,-230.75C87.67,-223.26 96.59,-212.28 104.01,-203.13\"/>\n<polygon fill=\"black\" stroke=\"black\" points=\"106.95,-205.06 110.53,-195.09 101.51,-200.65 106.95,-205.06\"/>\n</g>\n<!-- 140028686277488 -->\n<g id=\"node10\" class=\"node\">\n<title>140028686277488</title>\n<polygon fill=\"lightgrey\" stroke=\"black\" points=\"89,-140 0,-140 0,-121 89,-121 89,-140\"/>\n<text text-anchor=\"middle\" x=\"44.5\" y=\"-128\" font-family=\"monospace\" font-size=\"10.00\">SinBackward0</text>\n</g>\n<!-- 140028686277200&#45;&gt;140028686277488 -->\n<g id=\"edge10\" class=\"edge\">\n<title>140028686277200&#45;&gt;140028686277488</title>\n<path fill=\"none\" stroke=\"black\" d=\"M72.04,-230.66C67.16,-213.09 56.15,-173.45 49.63,-149.95\"/>\n<polygon fill=\"black\" stroke=\"black\" points=\"52.95,-148.86 46.91,-140.16 46.21,-150.73 52.95,-148.86\"/>\n</g>\n<!-- 140028685678544 -->\n<g id=\"node9\" class=\"node\">\n<title>140028685678544</title>\n<polygon fill=\"lightblue\" stroke=\"black\" points=\"101.5,-316 47.5,-316 47.5,-286 101.5,-286 101.5,-316\"/>\n<text text-anchor=\"middle\" x=\"74.5\" y=\"-304\" font-family=\"monospace\" font-size=\"10.00\">x2</text>\n<text text-anchor=\"middle\" x=\"74.5\" y=\"-293\" font-family=\"monospace\" font-size=\"10.00\"> ()</text>\n</g>\n<!-- 140028685678544&#45;&gt;140028686277200 -->\n<g id=\"edge8\" class=\"edge\">\n<title>140028685678544&#45;&gt;140028686277200</title>\n<path fill=\"none\" stroke=\"black\" d=\"M74.5,-285.84C74.5,-278.21 74.5,-268.7 74.5,-260.45\"/>\n<polygon fill=\"black\" stroke=\"black\" points=\"78,-260.27 74.5,-250.27 71,-260.27 78,-260.27\"/>\n</g>\n<!-- 140028686277488&#45;&gt;140028686277680 -->\n<g id=\"edge9\" class=\"edge\">\n<title>140028686277488&#45;&gt;140028686277680</title>\n<path fill=\"none\" stroke=\"black\" d=\"M53.25,-120.75C60.97,-113.03 72.4,-101.6 81.72,-92.28\"/>\n<polygon fill=\"black\" stroke=\"black\" points=\"84.31,-94.64 88.91,-85.09 79.36,-89.69 84.31,-94.64\"/>\n</g>\n</g>\n</svg>\n",
            "text/plain": [
              "<graphviz.graphs.Digraph at 0x7f5af8140150>"
            ]
          },
          "metadata": {},
          "execution_count": 6
        }
      ],
      "source": [
        "from torchviz import make_dot\n",
        "\n",
        "make_dot(y, dict(x1 = x1, x2=x2, y = y))"
      ]
    },
    {
      "cell_type": "markdown",
      "id": "c42b315a-d309-4aea-8f80-4f8079b65de3",
      "metadata": {
        "id": "c42b315a-d309-4aea-8f80-4f8079b65de3"
      },
      "source": [
        "### Example 2\n",
        "What is the gradient of the function:\n",
        "\n",
        "$$y = 6x(1 −2x)^2$$\n",
        "\n",
        "at $x = 2$ with respect to both $x$?\n",
        "\n",
        "**Answer:**\n",
        "First we create the input and output tensors."
      ]
    },
    {
      "cell_type": "code",
      "execution_count": 7,
      "id": "33e52583-a500-46c1-927d-a77c1766fdba",
      "metadata": {
        "id": "33e52583-a500-46c1-927d-a77c1766fdba"
      },
      "outputs": [],
      "source": [
        "x = torch.tensor(2., requires_grad=True)\n",
        "y = 6. * x * (1 - 2 * x)**2"
      ]
    },
    {
      "cell_type": "markdown",
      "id": "37a8d1d5-cf03-4c78-8ada-9ce8ef33532c",
      "metadata": {
        "id": "37a8d1d5-cf03-4c78-8ada-9ce8ef33532c"
      },
      "source": [
        "Next we run the `backward()` function:"
      ]
    },
    {
      "cell_type": "code",
      "execution_count": 8,
      "id": "3f05c727-4daf-4c2a-9156-c27509dbecc7",
      "metadata": {
        "id": "3f05c727-4daf-4c2a-9156-c27509dbecc7"
      },
      "outputs": [],
      "source": [
        "y.backward()"
      ]
    },
    {
      "cell_type": "markdown",
      "id": "4233884a-595f-4060-b7a7-f5f3b5179173",
      "metadata": {
        "id": "4233884a-595f-4060-b7a7-f5f3b5179173"
      },
      "source": [
        "Here is $\\frac{d y}{d x}$:"
      ]
    },
    {
      "cell_type": "code",
      "execution_count": 9,
      "id": "51892471-29ae-4946-876d-8e68ed41970b",
      "metadata": {
        "colab": {
          "base_uri": "https://localhost:8080/"
        },
        "id": "51892471-29ae-4946-876d-8e68ed41970b",
        "outputId": "f02dbe38-5a4d-49fb-8180-2cba66a49fec"
      },
      "outputs": [
        {
          "output_type": "execute_result",
          "data": {
            "text/plain": [
              "198.0"
            ]
          },
          "metadata": {},
          "execution_count": 9
        }
      ],
      "source": [
        "x.grad.item()"
      ]
    },
    {
      "cell_type": "markdown",
      "id": "9bd336ed-65e1-41ea-b6f9-56d222a9ef36",
      "metadata": {
        "id": "9bd336ed-65e1-41ea-b6f9-56d222a9ef36"
      },
      "source": [
        "which is the same values as before. Here is the computational graph Autograd created for this function."
      ]
    },
    {
      "cell_type": "code",
      "execution_count": 10,
      "id": "7f8e95b8-3201-477d-8794-abff22f0d2db",
      "metadata": {
        "colab": {
          "base_uri": "https://localhost:8080/",
          "height": 547
        },
        "id": "7f8e95b8-3201-477d-8794-abff22f0d2db",
        "outputId": "07af0f08-34f8-4e6a-d55a-7cd10f1120b9"
      },
      "outputs": [
        {
          "output_type": "execute_result",
          "data": {
            "image/svg+xml": "<?xml version=\"1.0\" encoding=\"UTF-8\" standalone=\"no\"?>\n<!DOCTYPE svg PUBLIC \"-//W3C//DTD SVG 1.1//EN\"\n \"http://www.w3.org/Graphics/SVG/1.1/DTD/svg11.dtd\">\n<!-- Generated by graphviz version 2.43.0 (0)\n -->\n<!-- Title: %3 Pages: 1 -->\n<svg width=\"210pt\" height=\"379pt\"\n viewBox=\"0.00 0.00 210.00 379.00\" xmlns=\"http://www.w3.org/2000/svg\" xmlns:xlink=\"http://www.w3.org/1999/xlink\">\n<g id=\"graph0\" class=\"graph\" transform=\"scale(1 1) rotate(0) translate(4 375)\">\n<title>%3</title>\n<polygon fill=\"white\" stroke=\"transparent\" points=\"-4,4 -4,-375 206,-375 206,4 -4,4\"/>\n<!-- 140028686204368 -->\n<g id=\"node1\" class=\"node\">\n<title>140028686204368</title>\n<polygon fill=\"#caff70\" stroke=\"black\" points=\"125.5,-30 71.5,-30 71.5,0 125.5,0 125.5,-30\"/>\n<text text-anchor=\"middle\" x=\"98.5\" y=\"-18\" font-family=\"monospace\" font-size=\"10.00\">y</text>\n<text text-anchor=\"middle\" x=\"98.5\" y=\"-7\" font-family=\"monospace\" font-size=\"10.00\"> ()</text>\n</g>\n<!-- 140029503557872 -->\n<g id=\"node2\" class=\"node\">\n<title>140029503557872</title>\n<polygon fill=\"lightgrey\" stroke=\"black\" points=\"143,-85 54,-85 54,-66 143,-66 143,-85\"/>\n<text text-anchor=\"middle\" x=\"98.5\" y=\"-73\" font-family=\"monospace\" font-size=\"10.00\">MulBackward0</text>\n</g>\n<!-- 140029503557872&#45;&gt;140028686204368 -->\n<g id=\"edge8\" class=\"edge\">\n<title>140029503557872&#45;&gt;140028686204368</title>\n<path fill=\"none\" stroke=\"black\" d=\"M98.5,-65.87C98.5,-59.11 98.5,-49.35 98.5,-40.26\"/>\n<polygon fill=\"black\" stroke=\"black\" points=\"102,-40.11 98.5,-30.11 95,-40.11 102,-40.11\"/>\n</g>\n<!-- 140029503557008 -->\n<g id=\"node3\" class=\"node\">\n<title>140029503557008</title>\n<polygon fill=\"lightgrey\" stroke=\"black\" points=\"89,-195 0,-195 0,-176 89,-176 89,-195\"/>\n<text text-anchor=\"middle\" x=\"44.5\" y=\"-183\" font-family=\"monospace\" font-size=\"10.00\">MulBackward0</text>\n</g>\n<!-- 140029503557008&#45;&gt;140029503557872 -->\n<g id=\"edge1\" class=\"edge\">\n<title>140029503557008&#45;&gt;140029503557872</title>\n<path fill=\"none\" stroke=\"black\" d=\"M48.92,-175.66C57.78,-157.93 77.89,-117.73 89.59,-94.32\"/>\n<polygon fill=\"black\" stroke=\"black\" points=\"92.83,-95.67 94.17,-85.16 86.57,-92.54 92.83,-95.67\"/>\n</g>\n<!-- 140028687415424 -->\n<g id=\"node4\" class=\"node\">\n<title>140028687415424</title>\n<polygon fill=\"lightgrey\" stroke=\"black\" points=\"149,-305 48,-305 48,-286 149,-286 149,-305\"/>\n<text text-anchor=\"middle\" x=\"98.5\" y=\"-293\" font-family=\"monospace\" font-size=\"10.00\">AccumulateGrad</text>\n</g>\n<!-- 140028687415424&#45;&gt;140029503557008 -->\n<g id=\"edge2\" class=\"edge\">\n<title>140028687415424&#45;&gt;140029503557008</title>\n<path fill=\"none\" stroke=\"black\" d=\"M94.08,-285.66C85.22,-267.93 65.11,-227.73 53.41,-204.32\"/>\n<polygon fill=\"black\" stroke=\"black\" points=\"56.43,-202.54 48.83,-195.16 50.17,-205.67 56.43,-202.54\"/>\n</g>\n<!-- 140028686278544 -->\n<g id=\"node8\" class=\"node\">\n<title>140028686278544</title>\n<polygon fill=\"lightgrey\" stroke=\"black\" points=\"189,-250 100,-250 100,-231 189,-231 189,-250\"/>\n<text text-anchor=\"middle\" x=\"144.5\" y=\"-238\" font-family=\"monospace\" font-size=\"10.00\">MulBackward0</text>\n</g>\n<!-- 140028687415424&#45;&gt;140028686278544 -->\n<g id=\"edge7\" class=\"edge\">\n<title>140028687415424&#45;&gt;140028686278544</title>\n<path fill=\"none\" stroke=\"black\" d=\"M106.1,-285.75C112.66,-278.18 122.32,-267.05 130.31,-257.84\"/>\n<polygon fill=\"black\" stroke=\"black\" points=\"133.13,-259.94 137.05,-250.09 127.85,-255.35 133.13,-259.94\"/>\n</g>\n<!-- 140028685670384 -->\n<g id=\"node5\" class=\"node\">\n<title>140028685670384</title>\n<polygon fill=\"lightblue\" stroke=\"black\" points=\"125.5,-371 71.5,-371 71.5,-341 125.5,-341 125.5,-371\"/>\n<text text-anchor=\"middle\" x=\"98.5\" y=\"-359\" font-family=\"monospace\" font-size=\"10.00\">x</text>\n<text text-anchor=\"middle\" x=\"98.5\" y=\"-348\" font-family=\"monospace\" font-size=\"10.00\"> ()</text>\n</g>\n<!-- 140028685670384&#45;&gt;140028687415424 -->\n<g id=\"edge3\" class=\"edge\">\n<title>140028685670384&#45;&gt;140028687415424</title>\n<path fill=\"none\" stroke=\"black\" d=\"M98.5,-340.84C98.5,-333.21 98.5,-323.7 98.5,-315.45\"/>\n<polygon fill=\"black\" stroke=\"black\" points=\"102,-315.27 98.5,-305.27 95,-315.27 102,-315.27\"/>\n</g>\n<!-- 140029503556096 -->\n<g id=\"node6\" class=\"node\">\n<title>140029503556096</title>\n<polygon fill=\"lightgrey\" stroke=\"black\" points=\"189,-140 100,-140 100,-121 189,-121 189,-140\"/>\n<text text-anchor=\"middle\" x=\"144.5\" y=\"-128\" font-family=\"monospace\" font-size=\"10.00\">PowBackward0</text>\n</g>\n<!-- 140029503556096&#45;&gt;140029503557872 -->\n<g id=\"edge4\" class=\"edge\">\n<title>140029503556096&#45;&gt;140029503557872</title>\n<path fill=\"none\" stroke=\"black\" d=\"M136.9,-120.75C130.34,-113.18 120.68,-102.05 112.69,-92.84\"/>\n<polygon fill=\"black\" stroke=\"black\" points=\"115.15,-90.35 105.95,-85.09 109.87,-94.94 115.15,-90.35\"/>\n</g>\n<!-- 140028686277344 -->\n<g id=\"node7\" class=\"node\">\n<title>140028686277344</title>\n<polygon fill=\"lightgrey\" stroke=\"black\" points=\"202,-195 107,-195 107,-176 202,-176 202,-195\"/>\n<text text-anchor=\"middle\" x=\"154.5\" y=\"-183\" font-family=\"monospace\" font-size=\"10.00\">RsubBackward1</text>\n</g>\n<!-- 140028686277344&#45;&gt;140029503556096 -->\n<g id=\"edge5\" class=\"edge\">\n<title>140028686277344&#45;&gt;140029503556096</title>\n<path fill=\"none\" stroke=\"black\" d=\"M152.85,-175.75C151.54,-168.8 149.66,-158.85 148.02,-150.13\"/>\n<polygon fill=\"black\" stroke=\"black\" points=\"151.41,-149.27 146.12,-140.09 144.54,-150.56 151.41,-149.27\"/>\n</g>\n<!-- 140028686278544&#45;&gt;140028686277344 -->\n<g id=\"edge6\" class=\"edge\">\n<title>140028686278544&#45;&gt;140028686277344</title>\n<path fill=\"none\" stroke=\"black\" d=\"M146.15,-230.75C147.46,-223.8 149.34,-213.85 150.98,-205.13\"/>\n<polygon fill=\"black\" stroke=\"black\" points=\"154.46,-205.56 152.88,-195.09 147.59,-204.27 154.46,-205.56\"/>\n</g>\n</g>\n</svg>\n",
            "text/plain": [
              "<graphviz.graphs.Digraph at 0x7f5af8158210>"
            ]
          },
          "metadata": {},
          "execution_count": 10
        }
      ],
      "source": [
        "make_dot(y, dict(x = x, y = y))"
      ]
    }
  ],
  "metadata": {
    "kernelspec": {
      "display_name": "Python 3 (ipykernel)",
      "language": "python",
      "name": "python3"
    },
    "language_info": {
      "codemirror_mode": {
        "name": "ipython",
        "version": 3
      },
      "file_extension": ".py",
      "mimetype": "text/x-python",
      "name": "python",
      "nbconvert_exporter": "python",
      "pygments_lexer": "ipython3",
      "version": "3.11.5"
    },
    "vscode": {
      "interpreter": {
        "hash": "362103da0919e59d0cb43f4358cfe78c97cd2df6fe4e5099c2771aed73dde6a9"
      }
    },
    "colab": {
      "provenance": []
    }
  },
  "nbformat": 4,
  "nbformat_minor": 5
}