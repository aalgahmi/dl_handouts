{
  "cells": [
    {
      "cell_type": "markdown",
      "metadata": {
        "id": "jTptRtY4z3tJ"
      },
      "source": [
        "Run locally or <a target=\"_blank\" href=\"https://colab.research.google.com/github/aalgahmi/dl_handouts/blob/main/01.introduction_to_tensors.ipynb\">\n",
        "  <img src=\"https://colab.research.google.com/assets/colab-badge.svg\" alt=\"Open In Colab\"/>\n",
        "</a>"
      ]
    },
    {
      "cell_type": "markdown",
      "metadata": {
        "id": "Vm7PP76az3tO"
      },
      "source": [
        "# Introduction to Tensors\n",
        "\n",
        "This notebook provides a concise tutorial on using tensors in PyTorch. It serves as a starting point and is not intended to be exhaustive. It's important to note that we are building upon our existing knowledge of NumPy, Pandas, and Sci-kit Learn rather than replacing them.\n",
        "\n",
        "PyTorch and its ecosystem are constructed around the notion of tensors, which are similar to NumPy's nd-arrays and their functions. However, PyTorch tensors offer three significant improvements over those of NumPy:\n",
        "\n",
        "* They can utilize GPUs and TPUs for enhanced performance.\n",
        "* They enable automatic computation of gradients for arbitrary differentiable tensor operations.\n",
        "* They support computation distribution across various devices and clusters.\n",
        "\n",
        "To begin, we import the torch library."
      ]
    },
    {
      "cell_type": "code",
      "execution_count": 1,
      "metadata": {
        "id": "VHaGuWT4z3tO"
      },
      "outputs": [],
      "source": [
        "import numpy as np\n",
        "import torch\n",
        "import matplotlib.pyplot as plt"
      ]
    },
    {
      "cell_type": "markdown",
      "metadata": {
        "id": "CViUWd7mz3tQ"
      },
      "source": [
        "## What is a tensor?\n",
        "\n",
        "A **tensor** is basically a multidimensional array. It generalizes scalars, vectors, and matrices. A tensor is defined by four key attributes:\n",
        "* **Rank**: The number of axes or dimensions. You can find the rank of a tensor using the attribute `ndim`\n",
        "* **Shape**: A tuple of integers describing how many units along each dimension. You can find the shape of a tensor using the attribute `shape`\n",
        "* **Data type**: The type of the data contained in the tensor. You can find the data type of a tensor using the attribute `dtype`\n",
        "* **Device**: The device on which the tensor exists. Note that NumPy tensors exist only on CPU. PyTorch tensors, however, can be created in the CPU or the GPU.\n",
        "\n",
        "\n",
        "Given this definition, both NumPy arrays and PyTorch tensors are considered tensors. Let's see a couple of examples:\n",
        "\n",
        "**Scalars**: Scalar values are considered 0-dimensional tensors. Here is a few examples:"
      ]
    },
    {
      "cell_type": "code",
      "execution_count": 2,
      "metadata": {
        "colab": {
          "base_uri": "https://localhost:8080/"
        },
        "id": "3msp7D7cz3tQ",
        "outputId": "0a4ca94d-dfc3-47be-e551-51901b877949"
      },
      "outputs": [
        {
          "output_type": "execute_result",
          "data": {
            "text/plain": [
              "(array(3), 0, (), dtype('int64'))"
            ]
          },
          "metadata": {},
          "execution_count": 2
        }
      ],
      "source": [
        "s = np.array(3)\n",
        "s, s.ndim, s.shape, s.dtype"
      ]
    },
    {
      "cell_type": "code",
      "execution_count": 3,
      "metadata": {
        "colab": {
          "base_uri": "https://localhost:8080/"
        },
        "id": "Ms93EeAez3tR",
        "outputId": "c7b136e4-cbe3-413c-a5d4-9e177843cae7"
      },
      "outputs": [
        {
          "output_type": "execute_result",
          "data": {
            "text/plain": [
              "(tensor(3), 0, torch.Size([]), torch.int64, device(type='cpu'))"
            ]
          },
          "metadata": {},
          "execution_count": 3
        }
      ],
      "source": [
        "s1 = torch.tensor(3)\n",
        "s1, s1.ndim, s1.shape, s1.dtype, s1.device"
      ]
    },
    {
      "cell_type": "markdown",
      "metadata": {
        "id": "vLuyVj_Zz3tR"
      },
      "source": [
        "As you can see, the scalar value `3` is an integer with `0` dimensions and `()` shape (or empty size in PyTorch). This tensor has one element.\n",
        "\n",
        "**IMPORTANT**: You can always convert a 0-dimensional tensor back to a scalar value using the `item()` method."
      ]
    },
    {
      "cell_type": "code",
      "execution_count": 4,
      "metadata": {
        "colab": {
          "base_uri": "https://localhost:8080/"
        },
        "id": "wgbZKBQez3tS",
        "outputId": "103e0ddc-28c8-41bc-fe7e-adf8f42bf531"
      },
      "outputs": [
        {
          "output_type": "execute_result",
          "data": {
            "text/plain": [
              "3"
            ]
          },
          "metadata": {},
          "execution_count": 4
        }
      ],
      "source": [
        "s1.item()"
      ]
    },
    {
      "cell_type": "markdown",
      "metadata": {
        "id": "9GXZzC4Uz3tS"
      },
      "source": [
        "**Vectors**: A vector is simply a one-dimensional tensor like this. For example:"
      ]
    },
    {
      "cell_type": "code",
      "execution_count": 5,
      "metadata": {
        "colab": {
          "base_uri": "https://localhost:8080/"
        },
        "id": "aOl18KyMz3tS",
        "jupyter": {
          "source_hidden": true
        },
        "outputId": "2711a745-98c5-4961-daf4-d3ddb54d8abe"
      },
      "outputs": [
        {
          "output_type": "execute_result",
          "data": {
            "text/plain": [
              "(array([2, 4, 0, 1]), 1, (4,), dtype('int64'))"
            ]
          },
          "metadata": {},
          "execution_count": 5
        }
      ],
      "source": [
        "v = np.array([2, 4, 0, 1])\n",
        "v, v.ndim, v.shape, v.dtype"
      ]
    },
    {
      "cell_type": "code",
      "execution_count": 6,
      "metadata": {
        "colab": {
          "base_uri": "https://localhost:8080/"
        },
        "id": "mytaOLUOz3tS",
        "outputId": "c47826a6-257b-443b-d293-e31a1bfc93cb"
      },
      "outputs": [
        {
          "output_type": "execute_result",
          "data": {
            "text/plain": [
              "(tensor([2, 4, 0, 1]), 1, torch.Size([4]), torch.int64)"
            ]
          },
          "metadata": {},
          "execution_count": 6
        }
      ],
      "source": [
        "v1 = torch.tensor([2, 4, 0, 1])\n",
        "v1, v1.ndim, v1.shape, v1.dtype"
      ]
    },
    {
      "cell_type": "markdown",
      "metadata": {
        "id": "z4rfLIiwz3tT"
      },
      "source": [
        "**Matrices**: A matrix is a two-dimensional array. Here is an example `4 by 3` (12 elements) matrix:"
      ]
    },
    {
      "cell_type": "code",
      "execution_count": 7,
      "metadata": {
        "colab": {
          "base_uri": "https://localhost:8080/"
        },
        "id": "BBCtp1cOz3tT",
        "outputId": "e5a48628-52ca-4bf1-b094-35c7ddd3d525"
      },
      "outputs": [
        {
          "output_type": "execute_result",
          "data": {
            "text/plain": [
              "(array([[2, 4, 1],\n",
              "        [1, 3, 3],\n",
              "        [0, 5, 1],\n",
              "        [1, 0, 2]]),\n",
              " 2,\n",
              " (4, 3),\n",
              " dtype('int64'))"
            ]
          },
          "metadata": {},
          "execution_count": 7
        }
      ],
      "source": [
        "m = np.array([[2, 4, 1], [1, 3, 3], [0, 5, 1], [1, 0, 2]])\n",
        "m, m.ndim, m.shape, m.dtype"
      ]
    },
    {
      "cell_type": "code",
      "execution_count": 8,
      "metadata": {
        "colab": {
          "base_uri": "https://localhost:8080/"
        },
        "id": "OTCDTojPz3tT",
        "outputId": "c97842b3-1965-4d58-92c8-1e8f5005397e"
      },
      "outputs": [
        {
          "output_type": "execute_result",
          "data": {
            "text/plain": [
              "(tensor([[2, 4, 1],\n",
              "         [1, 3, 3],\n",
              "         [0, 5, 1],\n",
              "         [1, 0, 2]]),\n",
              " 2,\n",
              " torch.Size([4, 3]),\n",
              " torch.int64)"
            ]
          },
          "metadata": {},
          "execution_count": 8
        }
      ],
      "source": [
        "m1 = torch.tensor([[2, 4, 1], [1, 3, 3], [0, 5, 1], [1, 0, 2]])\n",
        "m1, m1.ndim, m1.shape, m1.dtype"
      ]
    },
    {
      "cell_type": "markdown",
      "metadata": {
        "id": "KHlIFFxVz3tU"
      },
      "source": [
        "## Creating tensors\n",
        "In addition to the previously mentioned examples of creating tensors from Python values and lists, PyTorch provides alternative methods for tensor creation:\n",
        "\n",
        "### From NumPy Arrays\n",
        "There are two ways to create PyTorch tensors from NumPy arrays, depending on whether the underlying memory location is shared or not. Here is an example of creating a tensor that is a copy of a NumPy array without a shared memory location. Given the array:"
      ]
    },
    {
      "cell_type": "code",
      "execution_count": 9,
      "metadata": {
        "colab": {
          "base_uri": "https://localhost:8080/"
        },
        "id": "Nm1vHl_Pz3tU",
        "outputId": "f27e47b5-4236-4fe1-e039-87f2c23af256"
      },
      "outputs": [
        {
          "output_type": "execute_result",
          "data": {
            "text/plain": [
              "array([[2, 4, 0],\n",
              "       [1, 3, 5],\n",
              "       [6, 7, 8]])"
            ]
          },
          "metadata": {},
          "execution_count": 9
        }
      ],
      "source": [
        "n = np.array([[2, 4, 0], [1, 3, 5], [6, 7, 8]])\n",
        "n"
      ]
    },
    {
      "cell_type": "markdown",
      "metadata": {
        "id": "N8k4swZaz3tU"
      },
      "source": [
        "Here is a tensor copy of it:"
      ]
    },
    {
      "cell_type": "code",
      "execution_count": 10,
      "metadata": {
        "colab": {
          "base_uri": "https://localhost:8080/"
        },
        "id": "UP6xK-8xz3tU",
        "outputId": "e66c4df6-d4a7-4bea-842d-7d0467d40866"
      },
      "outputs": [
        {
          "output_type": "execute_result",
          "data": {
            "text/plain": [
              "tensor([[2, 4, 0],\n",
              "        [1, 3, 5],\n",
              "        [6, 7, 8]])"
            ]
          },
          "metadata": {},
          "execution_count": 10
        }
      ],
      "source": [
        "n1 = torch.tensor(n)\n",
        "n1"
      ]
    },
    {
      "cell_type": "markdown",
      "metadata": {
        "id": "AW-7hwLYz3tV"
      },
      "source": [
        "The array and tensor, here, don't share memory. That means that changing an element in the array does not affect the tensor and vice verso. If, for example, let's replace the middle `3` element for the array with `99`:\n",
        "\n",
        "\n",
        "The array and tensor, in this case, do not share memory. This implies that altering an element in the array does not impact the tensor, and vice versa. For instance, if we replace the middle `3` element in the array with `99`:"
      ]
    },
    {
      "cell_type": "code",
      "execution_count": 11,
      "metadata": {
        "id": "w2Q9H2Wdz3tV"
      },
      "outputs": [],
      "source": [
        "n[1,1] = 99"
      ]
    },
    {
      "cell_type": "markdown",
      "metadata": {
        "id": "yJGwqa-fz3tV"
      },
      "source": [
        "Here are the array and the tensor after this change:"
      ]
    },
    {
      "cell_type": "code",
      "execution_count": 12,
      "metadata": {
        "colab": {
          "base_uri": "https://localhost:8080/"
        },
        "id": "smqH2wHjz3tV",
        "outputId": "d0f0a907-c3f3-4eb2-c3c0-0b36a9f11e91"
      },
      "outputs": [
        {
          "output_type": "execute_result",
          "data": {
            "text/plain": [
              "(array([[ 2,  4,  0],\n",
              "        [ 1, 99,  5],\n",
              "        [ 6,  7,  8]]),\n",
              " tensor([[2, 4, 0],\n",
              "         [1, 3, 5],\n",
              "         [6, 7, 8]]))"
            ]
          },
          "metadata": {},
          "execution_count": 12
        }
      ],
      "source": [
        "n, n1"
      ]
    },
    {
      "cell_type": "markdown",
      "metadata": {
        "id": "gtWtAL8Zz3tW"
      },
      "source": [
        "As you can see, the tensor remains unaffected by the change, indicating distinct memory locations for each.\n",
        "\n",
        "While this approach may be suitable for small tensors, it can be inefficient and wasteful for larger ones. To address this, we can utilize the `torch.from_numpy()` function to create a tensor that shares the same memory location with its array."
      ]
    },
    {
      "cell_type": "code",
      "execution_count": 13,
      "metadata": {
        "colab": {
          "base_uri": "https://localhost:8080/"
        },
        "id": "WAbN3PP4z3tW",
        "outputId": "18b0da92-3364-464a-fc92-d08b2954ea17"
      },
      "outputs": [
        {
          "output_type": "execute_result",
          "data": {
            "text/plain": [
              "tensor([[ 2,  4,  0],\n",
              "        [ 1, 99,  5],\n",
              "        [ 6,  7,  8]])"
            ]
          },
          "metadata": {},
          "execution_count": 13
        }
      ],
      "source": [
        "n2 = torch.from_numpy(n)\n",
        "n2"
      ]
    },
    {
      "cell_type": "markdown",
      "metadata": {
        "id": "bb1fUoQBz3tW"
      },
      "source": [
        "Let's replace `99` of the tensor with `11`"
      ]
    },
    {
      "cell_type": "code",
      "execution_count": 14,
      "metadata": {
        "id": "Tf2Pf-iKz3tW"
      },
      "outputs": [],
      "source": [
        "n2[1,1] = 11"
      ]
    },
    {
      "cell_type": "markdown",
      "metadata": {
        "id": "Y06JsPnmz3tW"
      },
      "source": [
        "Here are the array and the tensor after this change:"
      ]
    },
    {
      "cell_type": "code",
      "execution_count": 15,
      "metadata": {
        "colab": {
          "base_uri": "https://localhost:8080/"
        },
        "id": "DoNCt711z3tX",
        "outputId": "88765c21-7ade-4e46-b7ba-867d71cf13e6"
      },
      "outputs": [
        {
          "output_type": "execute_result",
          "data": {
            "text/plain": [
              "(array([[ 2,  4,  0],\n",
              "        [ 1, 11,  5],\n",
              "        [ 6,  7,  8]]),\n",
              " tensor([[ 2,  4,  0],\n",
              "         [ 1, 11,  5],\n",
              "         [ 6,  7,  8]]))"
            ]
          },
          "metadata": {},
          "execution_count": 15
        }
      ],
      "source": [
        "n, n2"
      ]
    },
    {
      "cell_type": "markdown",
      "metadata": {
        "id": "obUE88WHz3tX"
      },
      "source": [
        "As you can see, the changed affected both, because they share the same memory location."
      ]
    },
    {
      "cell_type": "markdown",
      "metadata": {
        "id": "_3Wow9phz3tX"
      },
      "source": [
        "**NOTICE THAT** you can convert a tensor to a NumPy array using the `numpy()` method:"
      ]
    },
    {
      "cell_type": "code",
      "execution_count": 16,
      "metadata": {
        "colab": {
          "base_uri": "https://localhost:8080/"
        },
        "id": "h1-0ctf2z3tX",
        "outputId": "b3114bff-213a-425e-82bd-793d3686b4c3"
      },
      "outputs": [
        {
          "output_type": "execute_result",
          "data": {
            "text/plain": [
              "array([[ 2,  4,  0],\n",
              "       [ 1, 11,  5],\n",
              "       [ 6,  7,  8]])"
            ]
          },
          "metadata": {},
          "execution_count": 16
        }
      ],
      "source": [
        "n2.numpy()"
      ]
    },
    {
      "cell_type": "markdown",
      "metadata": {
        "id": "uC6HZa0fz3tY"
      },
      "source": [
        "### Using ranges\n",
        "Tensors could also be created from ranges. For example, we can create a tensor with values from the range of 1 (inclusive) and 100 (exclusive)."
      ]
    },
    {
      "cell_type": "code",
      "execution_count": 17,
      "metadata": {
        "colab": {
          "base_uri": "https://localhost:8080/"
        },
        "id": "RdJz5UaRz3tY",
        "outputId": "54d4c8a9-16d4-4cb4-9c6a-62d3f9fa4f41"
      },
      "outputs": [
        {
          "output_type": "execute_result",
          "data": {
            "text/plain": [
              "(tensor([ 1,  2,  3,  4,  5,  6,  7,  8,  9, 10, 11, 12, 13, 14, 15, 16, 17, 18,\n",
              "         19, 20, 21, 22, 23, 24, 25, 26, 27, 28, 29, 30, 31, 32, 33, 34, 35, 36,\n",
              "         37, 38, 39, 40, 41, 42, 43, 44, 45, 46, 47, 48, 49, 50, 51, 52, 53, 54,\n",
              "         55, 56, 57, 58, 59, 60, 61, 62, 63, 64, 65, 66, 67, 68, 69, 70, 71, 72,\n",
              "         73, 74, 75, 76, 77, 78, 79, 80, 81, 82, 83, 84, 85, 86, 87, 88, 89, 90,\n",
              "         91, 92, 93, 94, 95, 96, 97, 98, 99]),\n",
              " 1,\n",
              " torch.Size([99]),\n",
              " torch.int64)"
            ]
          },
          "metadata": {},
          "execution_count": 17
        }
      ],
      "source": [
        "r = torch.arange(1, 100)\n",
        "r, r.ndim, r.shape, r.dtype"
      ]
    },
    {
      "cell_type": "markdown",
      "metadata": {
        "id": "gv9gOy1Gz3tZ"
      },
      "source": [
        "Here is another range with values between -4 and 4 (exclusive) and with a step (delta) of .5."
      ]
    },
    {
      "cell_type": "code",
      "execution_count": 18,
      "metadata": {
        "colab": {
          "base_uri": "https://localhost:8080/"
        },
        "id": "YmqO1CAJz3tZ",
        "outputId": "e5e62236-d76d-4673-fc60-9292ecc4efe7"
      },
      "outputs": [
        {
          "output_type": "execute_result",
          "data": {
            "text/plain": [
              "(tensor([-4.0000, -3.5000, -3.0000, -2.5000, -2.0000, -1.5000, -1.0000, -0.5000,\n",
              "          0.0000,  0.5000,  1.0000,  1.5000,  2.0000,  2.5000,  3.0000,  3.5000]),\n",
              " 1,\n",
              " torch.Size([16]),\n",
              " torch.float32)"
            ]
          },
          "metadata": {},
          "execution_count": 18
        }
      ],
      "source": [
        "r = torch.arange(-4, 4, step=.5)\n",
        "r,r.ndim, r.shape, r.dtype"
      ]
    },
    {
      "cell_type": "markdown",
      "metadata": {
        "id": "CwfyzdFfz3ta"
      },
      "source": [
        "PyTorch also supports `tf.linspace`, which allows us to create as many data points between and including two values as we want. The following takes the range between -4 and 4 (both inclusive) and returns 17 equally spaced data points."
      ]
    },
    {
      "cell_type": "code",
      "execution_count": 19,
      "metadata": {
        "colab": {
          "base_uri": "https://localhost:8080/"
        },
        "id": "QvbxNqDrz3ta",
        "outputId": "50926fe6-e4d9-40ec-edba-020b3caafcfc"
      },
      "outputs": [
        {
          "output_type": "execute_result",
          "data": {
            "text/plain": [
              "(tensor([-4.0000, -3.5000, -3.0000, -2.5000, -2.0000, -1.5000, -1.0000, -0.5000,\n",
              "          0.0000,  0.5000,  1.0000,  1.5000,  2.0000,  2.5000,  3.0000,  3.5000,\n",
              "          4.0000]),\n",
              " 1,\n",
              " torch.Size([17]),\n",
              " torch.float32)"
            ]
          },
          "metadata": {},
          "execution_count": 19
        }
      ],
      "source": [
        "r = torch.linspace(-4, 4, 17)\n",
        "r,r.ndim, r.shape, r.dtype"
      ]
    },
    {
      "cell_type": "markdown",
      "metadata": {
        "id": "vqOrECViz3ta"
      },
      "source": [
        "### Using Random numbers\n",
        "First, use the following statement to seed PyTorch's random generator. This is important for reproducing results."
      ]
    },
    {
      "cell_type": "code",
      "execution_count": 20,
      "metadata": {
        "colab": {
          "base_uri": "https://localhost:8080/"
        },
        "id": "b-aj_4ehz3ta",
        "outputId": "61e2de3a-d638-4b84-a201-26e05793cebe"
      },
      "outputs": [
        {
          "output_type": "execute_result",
          "data": {
            "text/plain": [
              "<torch._C.Generator at 0x7f4058355450>"
            ]
          },
          "metadata": {},
          "execution_count": 20
        }
      ],
      "source": [
        "torch.manual_seed(17)"
      ]
    },
    {
      "cell_type": "markdown",
      "metadata": {
        "id": "WUQl9pyOz3tb"
      },
      "source": [
        "Keep in mind that the above statement impacts numbers generated by PyTorch's random generator and not by other libraries such as NumPy. These other libraries will have to be seeded separately.\n",
        "\n",
        "Next, we can use `torch.rand()` to generate random numbers from a uniform distribution on the interval $[0, 1)$. Here is a tensor with 4 by 5 random numbers in the period $[0, 1)$:"
      ]
    },
    {
      "cell_type": "code",
      "execution_count": 21,
      "metadata": {
        "colab": {
          "base_uri": "https://localhost:8080/"
        },
        "id": "6_DOLy3Az3tb",
        "outputId": "4d4c0486-5697-4769-8af6-653a64f34f3f"
      },
      "outputs": [
        {
          "output_type": "execute_result",
          "data": {
            "text/plain": [
              "tensor([[4.3424e-01, 5.3511e-01, 8.3021e-01, 1.2386e-01, 2.9321e-02],\n",
              "        [5.4940e-01, 3.8249e-01, 5.4626e-01, 4.6828e-01, 1.7153e-02],\n",
              "        [2.1382e-02, 3.6643e-01, 2.0535e-01, 1.9226e-01, 3.5434e-01],\n",
              "        [2.1795e-01, 1.0574e-04, 1.4056e-01, 6.0028e-01, 5.6578e-01]])"
            ]
          },
          "metadata": {},
          "execution_count": 21
        }
      ],
      "source": [
        "torch.rand(4,5)"
      ]
    },
    {
      "cell_type": "markdown",
      "metadata": {
        "id": "7m_PWsT3z3tb"
      },
      "source": [
        "And here is a 5 by 5 tensor filled with random numbers from a normal distribution with mean 0 and variance 1."
      ]
    },
    {
      "cell_type": "code",
      "execution_count": 22,
      "metadata": {
        "colab": {
          "base_uri": "https://localhost:8080/"
        },
        "id": "LHmyGp9jz3tb",
        "outputId": "50a8927d-4240-417d-86bf-cda04dd97936"
      },
      "outputs": [
        {
          "output_type": "execute_result",
          "data": {
            "text/plain": [
              "tensor([[ 0.3518,  0.1863,  0.9567,  0.0895,  0.0068],\n",
              "        [-1.7377,  1.2938, -0.1662,  0.2750, -0.3202],\n",
              "        [ 1.3715, -0.7086,  0.2190,  0.7703,  0.9553],\n",
              "        [ 1.0025,  1.0673,  2.0900,  1.6963, -0.0480],\n",
              "        [-0.4849,  1.0632, -1.6568,  2.4467, -0.9278]])"
            ]
          },
          "metadata": {},
          "execution_count": 22
        }
      ],
      "source": [
        "torch.randn(size=(5,5))"
      ]
    },
    {
      "cell_type": "markdown",
      "metadata": {
        "id": "v2taw2fez3tc"
      },
      "source": [
        "Here is also a 4 by 6 by 2 tensor filled with random numbers from a normal distribution with a mean of 5 and a standard deviation of 2."
      ]
    },
    {
      "cell_type": "code",
      "execution_count": 23,
      "metadata": {
        "colab": {
          "base_uri": "https://localhost:8080/"
        },
        "id": "NY9Esvvnz3tc",
        "outputId": "e9e41176-1449-4630-f8d5-de2e2a2e1ef6"
      },
      "outputs": [
        {
          "output_type": "execute_result",
          "data": {
            "text/plain": [
              "tensor([[[ 5.4685,  3.6918],\n",
              "         [ 4.1712,  4.9850],\n",
              "         [ 5.7924,  4.6141],\n",
              "         [ 6.1105,  7.1149],\n",
              "         [ 6.2435,  1.4751],\n",
              "         [ 4.0317,  7.0404]],\n",
              "\n",
              "        [[ 5.2979,  5.7136],\n",
              "         [ 5.9124,  3.8198],\n",
              "         [ 2.8643,  5.0731],\n",
              "         [ 5.1640,  5.9199],\n",
              "         [ 5.4560,  3.7492],\n",
              "         [ 1.8370,  4.6630]],\n",
              "\n",
              "        [[ 7.1037,  3.2333],\n",
              "         [ 4.6204,  5.0386],\n",
              "         [ 0.8389,  6.5989],\n",
              "         [ 4.3689, 10.0968],\n",
              "         [ 5.3245,  3.3861],\n",
              "         [ 7.1125,  8.9963]],\n",
              "\n",
              "        [[ 5.4417,  7.2514],\n",
              "         [ 5.5446,  4.6553],\n",
              "         [ 7.5182,  5.3694],\n",
              "         [ 5.2308,  3.2965],\n",
              "         [ 3.7619,  4.0510],\n",
              "         [ 2.2091,  6.6606]]])"
            ]
          },
          "metadata": {},
          "execution_count": 23
        }
      ],
      "source": [
        "torch.normal(5.0, 2.0, size=(4, 6, 2))"
      ]
    },
    {
      "cell_type": "markdown",
      "metadata": {
        "id": "p5_RBQ2cz3tc"
      },
      "source": [
        "Finally, here is a 4 by 3 tensor filled with random integers generated uniformly between two values: a low 11 (inclusive) and a high 46 (exclusive)."
      ]
    },
    {
      "cell_type": "code",
      "execution_count": 24,
      "metadata": {
        "colab": {
          "base_uri": "https://localhost:8080/"
        },
        "id": "kxUqKdpSz3tc",
        "outputId": "56760b9c-ea0f-488b-82f9-289d4a417751"
      },
      "outputs": [
        {
          "output_type": "execute_result",
          "data": {
            "text/plain": [
              "tensor([[30, 17, 27],\n",
              "        [39, 24, 43],\n",
              "        [38, 27, 12],\n",
              "        [15, 32, 24]])"
            ]
          },
          "metadata": {},
          "execution_count": 24
        }
      ],
      "source": [
        "torch.randint(11, 46, size=(4, 3))"
      ]
    },
    {
      "cell_type": "markdown",
      "metadata": {
        "id": "D1rynVRgz3tc"
      },
      "source": [
        "### Other ways to create tensors\n",
        "\n",
        "We don't have to values to create tensors; they can be uninitialized. Here is a 3 by 3 uninitialized tensor:"
      ]
    },
    {
      "cell_type": "code",
      "execution_count": 25,
      "metadata": {
        "colab": {
          "base_uri": "https://localhost:8080/"
        },
        "id": "7aEQwRgIz3tc",
        "outputId": "1c1dd4a3-d281-4b20-e7ca-45d387457637"
      },
      "outputs": [
        {
          "output_type": "execute_result",
          "data": {
            "text/plain": [
              "tensor([[ 1.0977e+32,  4.5649e-41,  1.0977e+32],\n",
              "        [ 4.5649e-41, -2.3089e+20,  3.2199e-41],\n",
              "        [-2.3151e+20,  3.2199e-41,  0.0000e+00]])"
            ]
          },
          "metadata": {},
          "execution_count": 25
        }
      ],
      "source": [
        "torch.empty(3, 3)"
      ]
    },
    {
      "cell_type": "markdown",
      "metadata": {
        "id": "bqiJEwsGz3td"
      },
      "source": [
        "The values you see in this tensor reflect whatever garbage is in its memory location."
      ]
    },
    {
      "cell_type": "markdown",
      "metadata": {
        "id": "pUN5goKqz3td"
      },
      "source": [
        "Next, we create a 3D (rank-3) tensor filled with ones:"
      ]
    },
    {
      "cell_type": "code",
      "execution_count": 26,
      "metadata": {
        "colab": {
          "base_uri": "https://localhost:8080/"
        },
        "id": "GSPf31OMz3td",
        "outputId": "d9f27cb0-6393-41f3-b2af-059ab754fc43"
      },
      "outputs": [
        {
          "output_type": "execute_result",
          "data": {
            "text/plain": [
              "(tensor([[[1.],\n",
              "          [1.]],\n",
              " \n",
              "         [[1.],\n",
              "          [1.]],\n",
              " \n",
              "         [[1.],\n",
              "          [1.]]]),\n",
              " 3,\n",
              " torch.Size([3, 2, 1]),\n",
              " torch.float32)"
            ]
          },
          "metadata": {},
          "execution_count": 26
        }
      ],
      "source": [
        "t = torch.ones(3, 2, 1)\n",
        "t, t.ndim, t.shape, t.dtype"
      ]
    },
    {
      "cell_type": "markdown",
      "metadata": {
        "id": "iEn1OStGz3td"
      },
      "source": [
        "And similarly, here is a tensor filled with zeros:"
      ]
    },
    {
      "cell_type": "code",
      "execution_count": 27,
      "metadata": {
        "colab": {
          "base_uri": "https://localhost:8080/"
        },
        "id": "DJd1-AkZz3td",
        "outputId": "42819ebd-c2aa-4523-9e10-ff66cf60560e"
      },
      "outputs": [
        {
          "output_type": "execute_result",
          "data": {
            "text/plain": [
              "(tensor([[0., 0., 0., 0.],\n",
              "         [0., 0., 0., 0.]]),\n",
              " 2,\n",
              " torch.Size([2, 4]),\n",
              " torch.float32)"
            ]
          },
          "metadata": {},
          "execution_count": 27
        }
      ],
      "source": [
        "t = torch.zeros(2, 4)\n",
        "t, t.ndim, t.shape, t.dtype"
      ]
    },
    {
      "cell_type": "markdown",
      "metadata": {
        "id": "ww0emPoYz3te"
      },
      "source": [
        "We can use the `torch.full` function to create a tensor with a given shape (say `2 by 3`) and populate it with a certain value (say `9.7`):"
      ]
    },
    {
      "cell_type": "code",
      "execution_count": 28,
      "metadata": {
        "colab": {
          "base_uri": "https://localhost:8080/"
        },
        "id": "R9VGM3Nfz3te",
        "outputId": "085d6482-b2f3-4ccb-f1eb-271c6abd4f12"
      },
      "outputs": [
        {
          "output_type": "execute_result",
          "data": {
            "text/plain": [
              "(tensor([[9.7000, 9.7000, 9.7000],\n",
              "         [9.7000, 9.7000, 9.7000]]),\n",
              " 2,\n",
              " torch.Size([2, 3]),\n",
              " torch.float32)"
            ]
          },
          "metadata": {},
          "execution_count": 28
        }
      ],
      "source": [
        "t = torch.full((2,3), 9.7)\n",
        "t, t.ndim, t.shape, t.dtype"
      ]
    },
    {
      "cell_type": "markdown",
      "metadata": {
        "id": "vc0d4lUTz3te"
      },
      "source": [
        "We can also create identify matrices:"
      ]
    },
    {
      "cell_type": "code",
      "execution_count": 29,
      "metadata": {
        "colab": {
          "base_uri": "https://localhost:8080/"
        },
        "id": "VSZxUxv6z3te",
        "outputId": "880e5dfb-03d6-4ba5-ca7e-6e4c609ee877"
      },
      "outputs": [
        {
          "output_type": "execute_result",
          "data": {
            "text/plain": [
              "(tensor([[1., 0., 0., 0.],\n",
              "         [0., 1., 0., 0.],\n",
              "         [0., 0., 1., 0.],\n",
              "         [0., 0., 0., 1.]]),\n",
              " 2,\n",
              " torch.Size([4, 4]),\n",
              " torch.float32)"
            ]
          },
          "metadata": {},
          "execution_count": 29
        }
      ],
      "source": [
        "t = torch.eye(4)\n",
        "t, t.ndim, t.shape, t.dtype"
      ]
    },
    {
      "cell_type": "markdown",
      "metadata": {
        "id": "JbrZLIvmz3te"
      },
      "source": [
        "## Changing tensors\n",
        "\n",
        "Tensors have certain attributes that we change. Here are few of them:"
      ]
    },
    {
      "cell_type": "markdown",
      "metadata": {
        "id": "eCwv_8h6z3te"
      },
      "source": [
        "### Changing the `dtype` of a tensor\n",
        "Both PyTorch and NumPy have different default data types. It's important and highly recommended when you create tensors from NumPy data to always specify explicitly the data type you want the tensors to have. Given the array:"
      ]
    },
    {
      "cell_type": "code",
      "execution_count": 30,
      "metadata": {
        "colab": {
          "base_uri": "https://localhost:8080/"
        },
        "id": "BYyWvNLWz3tf",
        "outputId": "eac639d0-beed-4560-874c-ae8a1d0f9fb1"
      },
      "outputs": [
        {
          "output_type": "execute_result",
          "data": {
            "text/plain": [
              "(array([-4. , -3.5, -3. , -2.5, -2. , -1.5, -1. , -0.5,  0. ,  0.5,  1. ,\n",
              "         1.5,  2. ,  2.5,  3. ,  3.5,  4. ]),\n",
              " 1,\n",
              " (17,),\n",
              " dtype('float64'))"
            ]
          },
          "metadata": {},
          "execution_count": 30
        }
      ],
      "source": [
        "r = np.linspace(-4, 4, 17)\n",
        "r,r.ndim, r.shape, r.dtype"
      ]
    },
    {
      "cell_type": "markdown",
      "metadata": {
        "id": "ObCzkPPZz3tf"
      },
      "source": [
        "We can convert this array to a tensor with a different data type in multiple ways::"
      ]
    },
    {
      "cell_type": "code",
      "execution_count": 31,
      "metadata": {
        "colab": {
          "base_uri": "https://localhost:8080/"
        },
        "id": "UicbDvT3z3tf",
        "outputId": "cc941c6a-9304-48dc-ab35-2726c3e501eb"
      },
      "outputs": [
        {
          "output_type": "execute_result",
          "data": {
            "text/plain": [
              "(tensor([-4.0000, -3.5000, -3.0000, -2.5000, -2.0000, -1.5000, -1.0000, -0.5000,\n",
              "          0.0000,  0.5000,  1.0000,  1.5000,  2.0000,  2.5000,  3.0000,  3.5000,\n",
              "          4.0000]),\n",
              " torch.float32)"
            ]
          },
          "metadata": {},
          "execution_count": 31
        }
      ],
      "source": [
        "rt = torch.tensor(r, dtype=torch.float)\n",
        "rt, rt.dtype"
      ]
    },
    {
      "cell_type": "markdown",
      "metadata": {
        "id": "VYgf05Hhz3tf"
      },
      "source": [
        "or:"
      ]
    },
    {
      "cell_type": "code",
      "execution_count": 32,
      "metadata": {
        "colab": {
          "base_uri": "https://localhost:8080/"
        },
        "id": "pQrpimfwz3tf",
        "outputId": "be880bf6-8181-4280-9f6b-151cd8275678"
      },
      "outputs": [
        {
          "output_type": "execute_result",
          "data": {
            "text/plain": [
              "(tensor([-4.0000, -3.5000, -3.0000, -2.5000, -2.0000, -1.5000, -1.0000, -0.5000,\n",
              "          0.0000,  0.5000,  1.0000,  1.5000,  2.0000,  2.5000,  3.0000,  3.5000,\n",
              "          4.0000]),\n",
              " torch.float32)"
            ]
          },
          "metadata": {},
          "execution_count": 32
        }
      ],
      "source": [
        "rt = torch.from_numpy(r).float()\n",
        "rt, rt.dtype"
      ]
    },
    {
      "cell_type": "markdown",
      "metadata": {
        "id": "HERxEl3oz3tg"
      },
      "source": [
        "And any tensor can be changed to a different data type using the `to()` method."
      ]
    },
    {
      "cell_type": "code",
      "execution_count": 33,
      "metadata": {
        "colab": {
          "base_uri": "https://localhost:8080/"
        },
        "id": "sLc-4JaUz3tg",
        "outputId": "7ebf676d-d49b-470b-8691-b16f51200158"
      },
      "outputs": [
        {
          "output_type": "execute_result",
          "data": {
            "text/plain": [
              "(tensor([-4.0000, -3.5000, -3.0000, -2.5000, -2.0000, -1.5000, -1.0000, -0.5000,\n",
              "          0.0000,  0.5000,  1.0000,  1.5000,  2.0000,  2.5000,  3.0000,  3.5000,\n",
              "          4.0000], dtype=torch.float64),\n",
              " torch.float64)"
            ]
          },
          "metadata": {},
          "execution_count": 33
        }
      ],
      "source": [
        "rt2 = rt.to(torch.double)\n",
        "rt2, rt2.dtype"
      ]
    },
    {
      "cell_type": "markdown",
      "metadata": {
        "id": "1fBWlvYCz3tg"
      },
      "source": [
        "Check [this documentation page](https://pytorch.org/docs/stable/tensor_attributes.html#torch.dtype) for a list of supported data types."
      ]
    },
    {
      "cell_type": "markdown",
      "metadata": {
        "id": "9JLyZiqtz3tg"
      },
      "source": [
        "### Changing the device of a tensor.\n",
        "\n",
        "All the tensors we have created so far were created in the CPU. We can check that like this:"
      ]
    },
    {
      "cell_type": "code",
      "execution_count": 34,
      "metadata": {
        "colab": {
          "base_uri": "https://localhost:8080/"
        },
        "id": "ERwCmtTBz3tg",
        "outputId": "c5046cc4-42eb-4d48-ff8c-640d27a6ad6d"
      },
      "outputs": [
        {
          "output_type": "execute_result",
          "data": {
            "text/plain": [
              "device(type='cpu')"
            ]
          },
          "metadata": {},
          "execution_count": 34
        }
      ],
      "source": [
        "rt.device"
      ]
    },
    {
      "cell_type": "markdown",
      "metadata": {
        "id": "_YWFk-tyz3th"
      },
      "source": [
        "We can check if our system supports accelerated hardware such as `cuda` or `mps` (on MacOS)like this"
      ]
    },
    {
      "cell_type": "code",
      "execution_count": 35,
      "metadata": {
        "colab": {
          "base_uri": "https://localhost:8080/"
        },
        "id": "sDtQhk9Iz3th",
        "outputId": "5c6964e0-9d86-4dd8-da18-50b60be37502"
      },
      "outputs": [
        {
          "output_type": "execute_result",
          "data": {
            "text/plain": [
              "(True, 1)"
            ]
          },
          "metadata": {},
          "execution_count": 35
        }
      ],
      "source": [
        "torch.cuda.is_available(), torch.cuda.device_count() if torch.cuda.is_available() else 0"
      ]
    },
    {
      "cell_type": "markdown",
      "metadata": {
        "id": "EENo3hVXz3th"
      },
      "source": [
        "Or:"
      ]
    },
    {
      "cell_type": "code",
      "execution_count": 36,
      "metadata": {
        "colab": {
          "base_uri": "https://localhost:8080/"
        },
        "id": "-kMtXsV9z3th",
        "outputId": "f470a70a-cc02-4d32-e4c6-a151fb175b5c"
      },
      "outputs": [
        {
          "output_type": "execute_result",
          "data": {
            "text/plain": [
              "False"
            ]
          },
          "metadata": {},
          "execution_count": 36
        }
      ],
      "source": [
        "torch.backends.mps.is_available()"
      ]
    },
    {
      "cell_type": "markdown",
      "metadata": {
        "id": "Yn4FExrwz3ti"
      },
      "source": [
        "We can create a tensor on a specific GPU like this:"
      ]
    },
    {
      "cell_type": "code",
      "execution_count": 37,
      "metadata": {
        "colab": {
          "base_uri": "https://localhost:8080/"
        },
        "id": "RfFNPmzhz3ti",
        "outputId": "c8631c3a-373e-462e-bcc9-6ff0811c097f"
      },
      "outputs": [
        {
          "output_type": "execute_result",
          "data": {
            "text/plain": [
              "tensor([[1., 1., 1., 1., 1.],\n",
              "        [1., 1., 1., 1., 1.],\n",
              "        [1., 1., 1., 1., 1.],\n",
              "        [1., 1., 1., 1., 1.],\n",
              "        [1., 1., 1., 1., 1.]], device='cuda:0')"
            ]
          },
          "metadata": {},
          "execution_count": 37
        }
      ],
      "source": [
        "if torch.cuda.is_available():\n",
        "    x = torch.ones((5, 5), device='cuda')\n",
        "elif torch.backends.mps.is_available():\n",
        "    x = torch.ones((5, 5), device='mps')\n",
        "else:\n",
        "    x = torch.ones((5, 5), device='cpu')\n",
        "\n",
        "x"
      ]
    },
    {
      "cell_type": "markdown",
      "metadata": {
        "id": "PtyWvIXQz3ti"
      },
      "source": [
        "A better approach is to have something like this:"
      ]
    },
    {
      "cell_type": "code",
      "execution_count": 38,
      "metadata": {
        "id": "DRmFlh5dz3ti"
      },
      "outputs": [],
      "source": [
        "device = torch.device('cuda' if torch.cuda.is_available() else 'cpu')"
      ]
    },
    {
      "cell_type": "markdown",
      "metadata": {
        "id": "VjDHiwNYz3ti"
      },
      "source": [
        "Then, every time you want to create a tensor on a supported GPU, you right something like this:"
      ]
    },
    {
      "cell_type": "code",
      "execution_count": 39,
      "metadata": {
        "colab": {
          "base_uri": "https://localhost:8080/"
        },
        "id": "1jSjfykUz3tj",
        "outputId": "9328ea41-37c7-46a0-b9e4-f2d24f0e3e9c"
      },
      "outputs": [
        {
          "output_type": "execute_result",
          "data": {
            "text/plain": [
              "tensor([7., 6., 9.], device='cuda:0')"
            ]
          },
          "metadata": {},
          "execution_count": 39
        }
      ],
      "source": [
        "y = torch.tensor([7, 6, 9], dtype=torch.float32, device=device)\n",
        "y"
      ]
    },
    {
      "cell_type": "markdown",
      "source": [
        "Or:"
      ],
      "metadata": {
        "id": "NGp6cuL4dklY"
      }
    },
    {
      "cell_type": "code",
      "source": [
        "y = torch.tensor([7, 6, 9]).to(torch.half).to(device)\n",
        "y, y.dtype"
      ],
      "metadata": {
        "id": "ldNqkMGkdlJ4",
        "outputId": "59d9676b-8f79-4539-f316-97d26d01be46",
        "colab": {
          "base_uri": "https://localhost:8080/"
        }
      },
      "execution_count": 40,
      "outputs": [
        {
          "output_type": "execute_result",
          "data": {
            "text/plain": [
              "(tensor([7., 6., 9.], device='cuda:0', dtype=torch.float16), torch.float16)"
            ]
          },
          "metadata": {},
          "execution_count": 40
        }
      ]
    },
    {
      "cell_type": "markdown",
      "metadata": {
        "id": "G5rT7jQ6z3tj"
      },
      "source": [
        "**NOTICE THAT** we can re-create an existing tensor of one device in another using the `to()` method. For example, the tensor:"
      ]
    },
    {
      "cell_type": "code",
      "execution_count": 41,
      "metadata": {
        "colab": {
          "base_uri": "https://localhost:8080/"
        },
        "id": "sHZQs794z3tj",
        "outputId": "b002baf9-a391-46ee-84cb-017037fa1fb5"
      },
      "outputs": [
        {
          "output_type": "execute_result",
          "data": {
            "text/plain": [
              "tensor([[1., 1., 1., 1., 1.],\n",
              "        [1., 1., 1., 1., 1.],\n",
              "        [1., 1., 1., 1., 1.],\n",
              "        [1., 1., 1., 1., 1.],\n",
              "        [1., 1., 1., 1., 1.]], device='cuda:0')"
            ]
          },
          "metadata": {},
          "execution_count": 41
        }
      ],
      "source": [
        "x"
      ]
    },
    {
      "cell_type": "markdown",
      "metadata": {
        "id": "Ma4BAPz5z3tj"
      },
      "source": [
        "can be re-created in the CPU like this:"
      ]
    },
    {
      "cell_type": "code",
      "execution_count": 42,
      "metadata": {
        "colab": {
          "base_uri": "https://localhost:8080/"
        },
        "id": "lBxKIMfKz3tj",
        "outputId": "004b670e-0f6c-44f1-b274-ac32ad4525e9"
      },
      "outputs": [
        {
          "output_type": "execute_result",
          "data": {
            "text/plain": [
              "tensor([[1., 1., 1., 1., 1.],\n",
              "        [1., 1., 1., 1., 1.],\n",
              "        [1., 1., 1., 1., 1.],\n",
              "        [1., 1., 1., 1., 1.],\n",
              "        [1., 1., 1., 1., 1.]])"
            ]
          },
          "metadata": {},
          "execution_count": 42
        }
      ],
      "source": [
        "x.to(device='cpu')"
      ]
    },
    {
      "cell_type": "code",
      "execution_count": 43,
      "metadata": {
        "colab": {
          "base_uri": "https://localhost:8080/"
        },
        "id": "SOj8eDQXz3tj",
        "outputId": "a785ef2a-cf9d-4f4d-effc-7c5648aa9dec"
      },
      "outputs": [
        {
          "output_type": "execute_result",
          "data": {
            "text/plain": [
              "tensor([[1., 1., 1., 1., 1.],\n",
              "        [1., 1., 1., 1., 1.],\n",
              "        [1., 1., 1., 1., 1.],\n",
              "        [1., 1., 1., 1., 1.],\n",
              "        [1., 1., 1., 1., 1.]], device='cuda:0')"
            ]
          },
          "metadata": {},
          "execution_count": 43
        }
      ],
      "source": [
        "x"
      ]
    },
    {
      "cell_type": "markdown",
      "metadata": {
        "id": "RQh_T9u3z3tk"
      },
      "source": [
        "### Reshaping and transposing a tensor\n",
        "We can reshape a tensor using the `reshape()` method:"
      ]
    },
    {
      "cell_type": "code",
      "execution_count": 44,
      "metadata": {
        "colab": {
          "base_uri": "https://localhost:8080/"
        },
        "id": "Kv1lIuBQz3tk",
        "outputId": "e9862b72-dfc8-4bef-ba06-fdccfff2cfdc"
      },
      "outputs": [
        {
          "output_type": "execute_result",
          "data": {
            "text/plain": [
              "tensor([0.7009, 0.3105, 0.2115, 0.5456, 0.7595, 0.3313, 0.0695, 0.2692, 0.1510,\n",
              "        0.0182, 0.1681, 0.6722, 0.0483, 0.6568, 0.5558, 0.2432, 0.7911, 0.5242,\n",
              "        0.6310, 0.0962, 0.3618, 0.5136, 0.6393, 0.4931, 0.7278, 0.2047, 0.2617,\n",
              "        0.1803, 0.4954, 0.9245, 0.7630, 0.7823])"
            ]
          },
          "metadata": {},
          "execution_count": 44
        }
      ],
      "source": [
        "x = torch.rand(32)\n",
        "x"
      ]
    },
    {
      "cell_type": "code",
      "execution_count": 45,
      "metadata": {
        "colab": {
          "base_uri": "https://localhost:8080/"
        },
        "id": "Rl9WfBBvz3tk",
        "outputId": "0c6c946f-14b8-46ba-eacc-b6a4ee887f9c"
      },
      "outputs": [
        {
          "output_type": "execute_result",
          "data": {
            "text/plain": [
              "(tensor([[0.7009, 0.3105, 0.2115, 0.5456, 0.7595, 0.3313, 0.0695, 0.2692, 0.1510,\n",
              "          0.0182, 0.1681, 0.6722, 0.0483, 0.6568, 0.5558, 0.2432],\n",
              "         [0.7911, 0.5242, 0.6310, 0.0962, 0.3618, 0.5136, 0.6393, 0.4931, 0.7278,\n",
              "          0.2047, 0.2617, 0.1803, 0.4954, 0.9245, 0.7630, 0.7823]]),\n",
              " torch.Size([2, 16]))"
            ]
          },
          "metadata": {},
          "execution_count": 45
        }
      ],
      "source": [
        "x = x.reshape(2, 16)\n",
        "x, x.shape"
      ]
    },
    {
      "cell_type": "code",
      "execution_count": 46,
      "metadata": {
        "colab": {
          "base_uri": "https://localhost:8080/"
        },
        "id": "qaGMW4Mpz3tk",
        "outputId": "8ec38e70-c9d1-4cf8-c209-ad19919006d9"
      },
      "outputs": [
        {
          "output_type": "execute_result",
          "data": {
            "text/plain": [
              "(tensor([[0.7009, 0.3105, 0.2115, 0.5456, 0.7595, 0.3313, 0.0695, 0.2692],\n",
              "         [0.1510, 0.0182, 0.1681, 0.6722, 0.0483, 0.6568, 0.5558, 0.2432],\n",
              "         [0.7911, 0.5242, 0.6310, 0.0962, 0.3618, 0.5136, 0.6393, 0.4931],\n",
              "         [0.7278, 0.2047, 0.2617, 0.1803, 0.4954, 0.9245, 0.7630, 0.7823]]),\n",
              " torch.Size([4, 8]))"
            ]
          },
          "metadata": {},
          "execution_count": 46
        }
      ],
      "source": [
        "x = x.reshape(4, 8)\n",
        "x, x.shape"
      ]
    },
    {
      "cell_type": "markdown",
      "metadata": {
        "id": "FphzwzdGz3tk"
      },
      "source": [
        "You can transpose the above matrix like this:"
      ]
    },
    {
      "cell_type": "code",
      "execution_count": 47,
      "metadata": {
        "colab": {
          "base_uri": "https://localhost:8080/"
        },
        "id": "d5yRvtbcz3tl",
        "outputId": "42cbb575-1c51-4d1b-c4f6-7ca55aa57077"
      },
      "outputs": [
        {
          "output_type": "execute_result",
          "data": {
            "text/plain": [
              "tensor([[0.7009, 0.1510, 0.7911, 0.7278],\n",
              "        [0.3105, 0.0182, 0.5242, 0.2047],\n",
              "        [0.2115, 0.1681, 0.6310, 0.2617],\n",
              "        [0.5456, 0.6722, 0.0962, 0.1803],\n",
              "        [0.7595, 0.0483, 0.3618, 0.4954],\n",
              "        [0.3313, 0.6568, 0.5136, 0.9245],\n",
              "        [0.0695, 0.5558, 0.6393, 0.7630],\n",
              "        [0.2692, 0.2432, 0.4931, 0.7823]])"
            ]
          },
          "metadata": {},
          "execution_count": 47
        }
      ],
      "source": [
        "x.T"
      ]
    },
    {
      "cell_type": "markdown",
      "metadata": {
        "id": "eMfgsOlCz3tl"
      },
      "source": [
        "More generally, use `torch.transpose` to transpose a tensor of any dimensionality. For example, the following transposes the matrix above by swapping dimensions 0 and 1."
      ]
    },
    {
      "cell_type": "code",
      "execution_count": 48,
      "metadata": {
        "colab": {
          "base_uri": "https://localhost:8080/"
        },
        "id": "nfBV4EXlz3tl",
        "outputId": "1cb017f1-bce1-4064-ea31-e8c136691f18",
        "tags": []
      },
      "outputs": [
        {
          "output_type": "execute_result",
          "data": {
            "text/plain": [
              "tensor([[1., 0., 0., 0.],\n",
              "        [0., 1., 0., 0.],\n",
              "        [0., 0., 1., 0.],\n",
              "        [0., 0., 0., 1.]])"
            ]
          },
          "metadata": {},
          "execution_count": 48
        }
      ],
      "source": [
        "torch.transpose(t, 0, 1)"
      ]
    },
    {
      "cell_type": "markdown",
      "metadata": {
        "id": "NOZYCKQaz3tl"
      },
      "source": [
        "## Working with tensors\n",
        "### Indexing and slicing\n",
        "Indexing and slicing tensors is similar to indexing NumPy arrays. It's also similar to the basic rules of NumPy indexing. Indexes start at `0`, negative indexes count backwards from the end; and colons `:` are used for slices using the format: `start:stop:step`. Given the tensor:"
      ]
    },
    {
      "cell_type": "code",
      "execution_count": 49,
      "metadata": {
        "colab": {
          "base_uri": "https://localhost:8080/"
        },
        "id": "U5Dmqj9Vz3tl",
        "outputId": "679c3ed4-8ea8-4bfa-c293-6725f1a87cea",
        "tags": []
      },
      "outputs": [
        {
          "output_type": "execute_result",
          "data": {
            "text/plain": [
              "tensor([[0.7009, 0.3105, 0.2115, 0.5456],\n",
              "        [0.7595, 0.3313, 0.0695, 0.2692],\n",
              "        [0.1510, 0.0182, 0.1681, 0.6722],\n",
              "        [0.0483, 0.6568, 0.5558, 0.2432],\n",
              "        [0.7911, 0.5242, 0.6310, 0.0962],\n",
              "        [0.3618, 0.5136, 0.6393, 0.4931],\n",
              "        [0.7278, 0.2047, 0.2617, 0.1803],\n",
              "        [0.4954, 0.9245, 0.7630, 0.7823]])"
            ]
          },
          "metadata": {},
          "execution_count": 49
        }
      ],
      "source": [
        "v_2d = torch.clone(x).reshape(8, 4)\n",
        "v_2d"
      ]
    },
    {
      "cell_type": "markdown",
      "metadata": {
        "id": "EYuCkfDqz3tl"
      },
      "source": [
        "Here is the element at the top left corner:"
      ]
    },
    {
      "cell_type": "code",
      "execution_count": 50,
      "metadata": {
        "colab": {
          "base_uri": "https://localhost:8080/"
        },
        "id": "Jb6FkiJ4z3tl",
        "outputId": "3ba4deab-002f-45c1-95dd-eccc8a4bb6ad"
      },
      "outputs": [
        {
          "output_type": "execute_result",
          "data": {
            "text/plain": [
              "tensor(0.7009)"
            ]
          },
          "metadata": {},
          "execution_count": 50
        }
      ],
      "source": [
        "v_2d[0,0]"
      ]
    },
    {
      "cell_type": "markdown",
      "metadata": {
        "id": "dptbnqbxz3tm"
      },
      "source": [
        "Here is the last column:"
      ]
    },
    {
      "cell_type": "code",
      "execution_count": 51,
      "metadata": {
        "colab": {
          "base_uri": "https://localhost:8080/"
        },
        "id": "j7Ninavtz3tm",
        "outputId": "969a1591-5ed1-42fd-8114-05f10c563953"
      },
      "outputs": [
        {
          "output_type": "execute_result",
          "data": {
            "text/plain": [
              "tensor([0.5456, 0.2692, 0.6722, 0.2432, 0.0962, 0.4931, 0.1803, 0.7823])"
            ]
          },
          "metadata": {},
          "execution_count": 51
        }
      ],
      "source": [
        "v_2d[:,-1]"
      ]
    },
    {
      "cell_type": "markdown",
      "metadata": {
        "id": "k0HFIj1yz3tm"
      },
      "source": [
        "and the last row:"
      ]
    },
    {
      "cell_type": "code",
      "execution_count": 52,
      "metadata": {
        "colab": {
          "base_uri": "https://localhost:8080/"
        },
        "id": "L4w5t6hpz3tm",
        "outputId": "3c12ebb1-a034-444f-f042-f0d51958c7f6"
      },
      "outputs": [
        {
          "output_type": "execute_result",
          "data": {
            "text/plain": [
              "tensor([0.4954, 0.9245, 0.7630, 0.7823])"
            ]
          },
          "metadata": {},
          "execution_count": 52
        }
      ],
      "source": [
        "v_2d[-1,:]"
      ]
    },
    {
      "cell_type": "markdown",
      "metadata": {
        "id": "8n--QfZwz3tn"
      },
      "source": [
        "And finally here are every other row starting at the top:"
      ]
    },
    {
      "cell_type": "code",
      "execution_count": 53,
      "metadata": {
        "colab": {
          "base_uri": "https://localhost:8080/"
        },
        "id": "TTMRxixfz3tn",
        "outputId": "37a2fbbc-0c6d-4fe0-a88a-9f623eb08b8a"
      },
      "outputs": [
        {
          "output_type": "execute_result",
          "data": {
            "text/plain": [
              "tensor([[0.7009, 0.3105, 0.2115, 0.5456],\n",
              "        [0.1510, 0.0182, 0.1681, 0.6722],\n",
              "        [0.7911, 0.5242, 0.6310, 0.0962],\n",
              "        [0.7278, 0.2047, 0.2617, 0.1803]])"
            ]
          },
          "metadata": {},
          "execution_count": 53
        }
      ],
      "source": [
        "v_2d[0:8:2,:]"
      ]
    },
    {
      "cell_type": "markdown",
      "metadata": {
        "id": "7oqok0XBz3tn"
      },
      "source": [
        "### Splitting  and concatenating tensors\n",
        "We can use the `torch.split` to split a tensor into multiple parts."
      ]
    },
    {
      "cell_type": "code",
      "execution_count": 54,
      "metadata": {
        "colab": {
          "base_uri": "https://localhost:8080/"
        },
        "id": "KZhbREAnz3tn",
        "outputId": "4fb8ebf4-32ba-4387-8597-51bc2d7e63f3"
      },
      "outputs": [
        {
          "output_type": "execute_result",
          "data": {
            "text/plain": [
              "(tensor([[0.7009, 0.3105, 0.2115, 0.5456, 0.7595, 0.3313, 0.0695, 0.2692],\n",
              "         [0.1510, 0.0182, 0.1681, 0.6722, 0.0483, 0.6568, 0.5558, 0.2432]]),\n",
              " tensor([[0.7911, 0.5242, 0.6310, 0.0962, 0.3618, 0.5136, 0.6393, 0.4931],\n",
              "         [0.7278, 0.2047, 0.2617, 0.1803, 0.4954, 0.9245, 0.7630, 0.7823]]))"
            ]
          },
          "metadata": {},
          "execution_count": 54
        }
      ],
      "source": [
        "p1, p2 = torch.split(x, split_size_or_sections=2)\n",
        "p1, p2"
      ]
    },
    {
      "cell_type": "markdown",
      "metadata": {
        "id": "pQUhzVL-z3tn"
      },
      "source": [
        "And if you have multiple tensors that you want to put together, we can use `torch.concat` or `torch.concatenate` or `torch.cat` along a given axis."
      ]
    },
    {
      "cell_type": "code",
      "execution_count": 55,
      "metadata": {
        "colab": {
          "base_uri": "https://localhost:8080/"
        },
        "id": "GR6omKPmz3tn",
        "outputId": "00e2d70f-e0b6-4612-ebbe-3efd2e8b2b63"
      },
      "outputs": [
        {
          "output_type": "execute_result",
          "data": {
            "text/plain": [
              "tensor([[0.7009, 0.3105, 0.2115, 0.5456, 0.7595, 0.3313, 0.0695, 0.2692],\n",
              "        [0.1510, 0.0182, 0.1681, 0.6722, 0.0483, 0.6568, 0.5558, 0.2432],\n",
              "        [0.7911, 0.5242, 0.6310, 0.0962, 0.3618, 0.5136, 0.6393, 0.4931],\n",
              "        [0.7278, 0.2047, 0.2617, 0.1803, 0.4954, 0.9245, 0.7630, 0.7823]])"
            ]
          },
          "metadata": {},
          "execution_count": 55
        }
      ],
      "source": [
        "torch.concat((p1, p2), axis=0)"
      ]
    },
    {
      "cell_type": "markdown",
      "metadata": {
        "id": "FabwN4vtz3to"
      },
      "source": [
        "or"
      ]
    },
    {
      "cell_type": "code",
      "execution_count": 56,
      "metadata": {
        "colab": {
          "base_uri": "https://localhost:8080/"
        },
        "id": "-zQMFVL2z3to",
        "outputId": "c19082cc-6f78-47b7-ad1d-5b3fad20ec88"
      },
      "outputs": [
        {
          "output_type": "execute_result",
          "data": {
            "text/plain": [
              "tensor([[0.7009, 0.3105, 0.2115, 0.5456, 0.7595, 0.3313, 0.0695, 0.2692, 0.7911,\n",
              "         0.5242, 0.6310, 0.0962, 0.3618, 0.5136, 0.6393, 0.4931],\n",
              "        [0.1510, 0.0182, 0.1681, 0.6722, 0.0483, 0.6568, 0.5558, 0.2432, 0.7278,\n",
              "         0.2047, 0.2617, 0.1803, 0.4954, 0.9245, 0.7630, 0.7823]])"
            ]
          },
          "metadata": {},
          "execution_count": 56
        }
      ],
      "source": [
        "torch.concat((p1, p2), axis=1)"
      ]
    },
    {
      "cell_type": "markdown",
      "metadata": {
        "id": "kRrlGtKOz3to"
      },
      "source": [
        "But if we want to arrange or stack tenors along a new dimension, then we use `torch.stack`. For example, given the following three one-deminsional tensors:"
      ]
    },
    {
      "cell_type": "code",
      "execution_count": 57,
      "metadata": {
        "colab": {
          "base_uri": "https://localhost:8080/"
        },
        "id": "NiYmBPl7z3to",
        "outputId": "8feebec9-3346-4a2a-9296-3adb5123c05b"
      },
      "outputs": [
        {
          "output_type": "execute_result",
          "data": {
            "text/plain": [
              "(torch.Size([3]), torch.Size([3]), torch.Size([3]))"
            ]
          },
          "metadata": {},
          "execution_count": 57
        }
      ],
      "source": [
        "x = torch.tensor([1,3,5])\n",
        "y = torch.tensor([10,30,50])\n",
        "z = torch.tensor([100,300,500])\n",
        "\n",
        "x.shape, y.shape, z.shape"
      ]
    },
    {
      "cell_type": "markdown",
      "metadata": {
        "id": "UhpP4gWZz3to"
      },
      "source": [
        "We can stack these tensors to make a two-dimensional matrix:"
      ]
    },
    {
      "cell_type": "code",
      "execution_count": 58,
      "metadata": {
        "colab": {
          "base_uri": "https://localhost:8080/"
        },
        "id": "-5VRCDXTz3to",
        "outputId": "04b18948-76bf-4ae2-a023-db3c81e04689"
      },
      "outputs": [
        {
          "output_type": "execute_result",
          "data": {
            "text/plain": [
              "tensor([[  1,   3,   5],\n",
              "        [ 10,  30,  50],\n",
              "        [100, 300, 500]])"
            ]
          },
          "metadata": {},
          "execution_count": 58
        }
      ],
      "source": [
        "torch.stack([x, y, z])"
      ]
    },
    {
      "cell_type": "markdown",
      "metadata": {
        "id": "rmzyRwbuz3tp"
      },
      "source": [
        "or"
      ]
    },
    {
      "cell_type": "code",
      "execution_count": 59,
      "metadata": {
        "colab": {
          "base_uri": "https://localhost:8080/"
        },
        "id": "HPI-_za6z3tp",
        "outputId": "67b4821f-2f0e-4c6d-fcb7-61a57e79fbcb"
      },
      "outputs": [
        {
          "output_type": "execute_result",
          "data": {
            "text/plain": [
              "tensor([[  1,  10, 100],\n",
              "        [  3,  30, 300],\n",
              "        [  5,  50, 500]])"
            ]
          },
          "metadata": {},
          "execution_count": 59
        }
      ],
      "source": [
        "torch.stack([x, y, z], axis=1)"
      ]
    },
    {
      "cell_type": "markdown",
      "metadata": {
        "id": "jvwx5WDtz3tp"
      },
      "source": [
        "## Mathematical functions\n",
        "\n",
        "### Basic operations\n",
        "We can apply simple mathematical operations to tensors. We can also apply linear algebra operations such as the dot product or the matrix multiplication. Let's start by creating two tensors both on the same device."
      ]
    },
    {
      "cell_type": "code",
      "execution_count": 60,
      "metadata": {
        "colab": {
          "base_uri": "https://localhost:8080/"
        },
        "id": "3TwyBrjzz3tp",
        "outputId": "07950de0-7ef6-46bc-8695-9d9008a415de"
      },
      "outputs": [
        {
          "output_type": "execute_result",
          "data": {
            "text/plain": [
              "(tensor([[14.3706,  3.5976,  9.5152],\n",
              "         [10.0047,  7.3342, 11.6616],\n",
              "         [12.3461,  8.6009, 10.1178],\n",
              "         [ 7.1976, 10.6908,  7.6625]]),\n",
              " tensor([[9.7000, 9.7000, 9.7000],\n",
              "         [9.7000, 9.7000, 9.7000],\n",
              "         [9.7000, 9.7000, 9.7000],\n",
              "         [9.7000, 9.7000, 9.7000]]))"
            ]
          },
          "metadata": {},
          "execution_count": 60
        }
      ],
      "source": [
        "t1 = torch.normal(10, 3, size=(4, 3))\n",
        "t2 = torch.full((4, 3), 9.7)\n",
        "\n",
        "t1, t2"
      ]
    },
    {
      "cell_type": "markdown",
      "metadata": {
        "id": "rtFsSs_xz3tp"
      },
      "source": [
        "Here are a few familiar operations:"
      ]
    },
    {
      "cell_type": "code",
      "execution_count": 61,
      "metadata": {
        "colab": {
          "base_uri": "https://localhost:8080/"
        },
        "id": "mQ_SLMQ4z3tp",
        "outputId": "5bf29474-4bb1-425e-ccd4-230e6f24d5d7"
      },
      "outputs": [
        {
          "output_type": "execute_result",
          "data": {
            "text/plain": [
              "tensor([[28.7412,  7.1952, 19.0305],\n",
              "        [20.0093, 14.6683, 23.3232],\n",
              "        [24.6922, 17.2018, 20.2355],\n",
              "        [14.3952, 21.3815, 15.3249]])"
            ]
          },
          "metadata": {},
          "execution_count": 61
        }
      ],
      "source": [
        "2 * t1"
      ]
    },
    {
      "cell_type": "code",
      "execution_count": 62,
      "metadata": {
        "colab": {
          "base_uri": "https://localhost:8080/"
        },
        "id": "eQ9TzVF6z3tq",
        "outputId": "7b0a5ca6-5c8a-44d3-bd31-63c78c63affa"
      },
      "outputs": [
        {
          "output_type": "execute_result",
          "data": {
            "text/plain": [
              "tensor([[24.0706, 13.2976, 19.2152],\n",
              "        [19.7047, 17.0342, 21.3616],\n",
              "        [22.0461, 18.3009, 19.8178],\n",
              "        [16.8976, 20.3908, 17.3625]])"
            ]
          },
          "metadata": {},
          "execution_count": 62
        }
      ],
      "source": [
        "t1 + t2"
      ]
    },
    {
      "cell_type": "code",
      "execution_count": 63,
      "metadata": {
        "colab": {
          "base_uri": "https://localhost:8080/"
        },
        "id": "SnCA8zjoz3tq",
        "outputId": "c0fe13cf-d3c2-4dea-d792-efed946894cf"
      },
      "outputs": [
        {
          "output_type": "execute_result",
          "data": {
            "text/plain": [
              "tensor([[ 4.6706, -6.1024, -0.1848],\n",
              "        [ 0.3047, -2.3658,  1.9616],\n",
              "        [ 2.6461, -1.0991,  0.4178],\n",
              "        [-2.5024,  0.9908, -2.0375]])"
            ]
          },
          "metadata": {},
          "execution_count": 63
        }
      ],
      "source": [
        "t1 - t2"
      ]
    },
    {
      "cell_type": "code",
      "execution_count": 64,
      "metadata": {
        "colab": {
          "base_uri": "https://localhost:8080/"
        },
        "id": "jE-_Bw8Jz3tq",
        "outputId": "a2abce68-3d9b-4721-d52e-ea063a03be51"
      },
      "outputs": [
        {
          "output_type": "execute_result",
          "data": {
            "text/plain": [
              "tensor([[139.3947,  34.8967,  92.2979],\n",
              "        [ 97.0453,  71.1413, 113.1173],\n",
              "        [119.7574,  83.4287,  98.1424],\n",
              "        [ 69.8166, 103.7004,  74.3259]])"
            ]
          },
          "metadata": {},
          "execution_count": 64
        }
      ],
      "source": [
        "t1 * t2"
      ]
    },
    {
      "cell_type": "code",
      "execution_count": 65,
      "metadata": {
        "colab": {
          "base_uri": "https://localhost:8080/"
        },
        "id": "kbb4dE4Zz3tq",
        "outputId": "229c9612-8f5d-4368-f354-331b1d51cfdd"
      },
      "outputs": [
        {
          "output_type": "execute_result",
          "data": {
            "text/plain": [
              "tensor([[0.6750, 2.6962, 1.0194],\n",
              "        [0.9695, 1.3226, 0.8318],\n",
              "        [0.7857, 1.1278, 0.9587],\n",
              "        [1.3477, 0.9073, 1.2659]])"
            ]
          },
          "metadata": {},
          "execution_count": 65
        }
      ],
      "source": [
        "t2 / t1"
      ]
    },
    {
      "cell_type": "code",
      "execution_count": 66,
      "metadata": {
        "colab": {
          "base_uri": "https://localhost:8080/"
        },
        "id": "Vz7fpsWsz3tq",
        "outputId": "208c6be8-403c-4d42-d023-5de08c1c2dc5"
      },
      "outputs": [
        {
          "output_type": "execute_result",
          "data": {
            "text/plain": [
              "tensor([[1., 0., 0.],\n",
              "        [1., 0., 1.],\n",
              "        [1., 0., 1.],\n",
              "        [0., 1., 0.]])"
            ]
          },
          "metadata": {},
          "execution_count": 66
        }
      ],
      "source": [
        "t1 // t2"
      ]
    },
    {
      "cell_type": "markdown",
      "metadata": {
        "id": "L_3lpMElz3tq"
      },
      "source": [
        "The above operations could also be done like this:"
      ]
    },
    {
      "cell_type": "code",
      "execution_count": 67,
      "metadata": {
        "colab": {
          "base_uri": "https://localhost:8080/"
        },
        "id": "4Fb8prhUz3tr",
        "outputId": "c809a82f-41ff-4717-aa9e-47025879d659"
      },
      "outputs": [
        {
          "output_type": "execute_result",
          "data": {
            "text/plain": [
              "tensor([[28.7412,  7.1952, 19.0305],\n",
              "        [20.0093, 14.6683, 23.3232],\n",
              "        [24.6922, 17.2018, 20.2355],\n",
              "        [14.3952, 21.3815, 15.3249]])"
            ]
          },
          "metadata": {},
          "execution_count": 67
        }
      ],
      "source": [
        "torch.multiply(2, t1)"
      ]
    },
    {
      "cell_type": "code",
      "execution_count": 68,
      "metadata": {
        "colab": {
          "base_uri": "https://localhost:8080/"
        },
        "id": "0nlTlW7fz3tr",
        "outputId": "7cff13a2-0316-4713-c09a-b7938a624489"
      },
      "outputs": [
        {
          "output_type": "execute_result",
          "data": {
            "text/plain": [
              "tensor([[24.0706, 13.2976, 19.2152],\n",
              "        [19.7047, 17.0342, 21.3616],\n",
              "        [22.0461, 18.3009, 19.8178],\n",
              "        [16.8976, 20.3908, 17.3625]])"
            ]
          },
          "metadata": {},
          "execution_count": 68
        }
      ],
      "source": [
        "torch.add(t1, t2)"
      ]
    },
    {
      "cell_type": "code",
      "execution_count": 69,
      "metadata": {
        "colab": {
          "base_uri": "https://localhost:8080/"
        },
        "id": "9y-uDWI5z3tr",
        "outputId": "f17298da-db59-4083-88e7-d0e8d1b9d2da"
      },
      "outputs": [
        {
          "output_type": "execute_result",
          "data": {
            "text/plain": [
              "tensor([[ 4.6706, -6.1024, -0.1848],\n",
              "        [ 0.3047, -2.3658,  1.9616],\n",
              "        [ 2.6461, -1.0991,  0.4178],\n",
              "        [-2.5024,  0.9908, -2.0375]])"
            ]
          },
          "metadata": {},
          "execution_count": 69
        }
      ],
      "source": [
        "torch.subtract(t1, t2)"
      ]
    },
    {
      "cell_type": "code",
      "execution_count": 70,
      "metadata": {
        "colab": {
          "base_uri": "https://localhost:8080/"
        },
        "id": "l9meOD2wz3tr",
        "outputId": "824acee8-bbeb-40e8-b765-d2d910c3b285"
      },
      "outputs": [
        {
          "output_type": "execute_result",
          "data": {
            "text/plain": [
              "tensor([[139.3947,  34.8967,  92.2979],\n",
              "        [ 97.0453,  71.1413, 113.1173],\n",
              "        [119.7574,  83.4287,  98.1424],\n",
              "        [ 69.8166, 103.7004,  74.3259]])"
            ]
          },
          "metadata": {},
          "execution_count": 70
        }
      ],
      "source": [
        "torch.multiply(t1, t2)"
      ]
    },
    {
      "cell_type": "code",
      "execution_count": 71,
      "metadata": {
        "colab": {
          "base_uri": "https://localhost:8080/"
        },
        "id": "rV8zls4Qz3tr",
        "outputId": "e6b0982f-ec81-4441-a46f-72c41d9c0908"
      },
      "outputs": [
        {
          "output_type": "execute_result",
          "data": {
            "text/plain": [
              "tensor([[0.6750, 2.6962, 1.0194],\n",
              "        [0.9695, 1.3226, 0.8318],\n",
              "        [0.7857, 1.1278, 0.9587],\n",
              "        [1.3477, 0.9073, 1.2659]])"
            ]
          },
          "metadata": {},
          "execution_count": 71
        }
      ],
      "source": [
        "torch.divide(t2, t1)"
      ]
    },
    {
      "cell_type": "markdown",
      "metadata": {
        "id": "PBimrmKkz3tr"
      },
      "source": [
        "PyTorch provides implementations for many of the familiar mathematical operations such `sin()`, `cos()`, `exp()`, and `pow()` to name a few.\n",
        "\n",
        "Here is a plot with these functions:"
      ]
    },
    {
      "cell_type": "code",
      "execution_count": 72,
      "metadata": {
        "colab": {
          "base_uri": "https://localhost:8080/",
          "height": 795
        },
        "id": "Ej9LNrnkz3ts",
        "outputId": "83cf7e17-9041-4b6a-c4ce-0b12d3741874"
      },
      "outputs": [
        {
          "output_type": "display_data",
          "data": {
            "text/plain": [
              "<Figure size 1600x900 with 4 Axes>"
            ],
            "image/png": "[encoded data removed]"
          },
          "metadata": {}
        }
      ],
      "source": [
        "x = torch.arange(-5, 5 , 0.1)\n",
        "fig = plt.figure(figsize=(16,9))\n",
        "\n",
        "ax = fig.add_subplot(2, 2, 1) # First subplot\n",
        "\n",
        "ax.plot(x, 3 + torch.pow(x, 3), 'b-')\n",
        "ax.set_ylabel(\"$3 + x^3$\")\n",
        "ax.set_xlabel('x')\n",
        "ax.set_title(\"Cubic function\")\n",
        "ax.grid()\n",
        "\n",
        "ax = fig.add_subplot(2, 2, 2) # Second subplot\n",
        "ax.plot(x, -2 + torch.exp(-x**2), 'r-')\n",
        "ax.set_ylabel(\"$exp(-x^2)$\")\n",
        "ax.set_xlabel('x')\n",
        "ax.set_title(\"Exponential function\")\n",
        "ax.grid()\n",
        "\n",
        "ax = fig.add_subplot(2, 2, 3) # Third subplot\n",
        "ax.plot(x, torch.tanh(x), 'g-')\n",
        "ax.set_ylabel(\"$ tanh(x)$\")\n",
        "ax.set_xlabel('x')\n",
        "ax.set_title(\"Sigmoid function\")\n",
        "ax.grid()\n",
        "\n",
        "ax = fig.add_subplot(2, 2, 4) # Fourth subplot\n",
        "ax.plot(x, 3 + torch.sin(x**2), 'm-')\n",
        "ax.set_ylabel(\"$3 + sin(x^2)$\")\n",
        "ax.set_xlabel('x')\n",
        "ax.set_title(\"Sinsiodal function\")\n",
        "ax.grid()\n",
        "\n",
        "plt.show()"
      ]
    },
    {
      "cell_type": "markdown",
      "metadata": {
        "id": "onRA-Ce6z3ts"
      },
      "source": [
        "### Linear algebra operations\n",
        "\n",
        "Given the above `t1` and `t2` matrices, we can perform matrix multiplication $t_1^T \\times t_2$ using the `tf.linalg.matmul` function:"
      ]
    },
    {
      "cell_type": "code",
      "execution_count": 73,
      "metadata": {
        "colab": {
          "base_uri": "https://localhost:8080/"
        },
        "id": "9aFwGj90z3ts",
        "outputId": "01859674-aeca-4ae8-a327-4bf3620df916"
      },
      "outputs": [
        {
          "output_type": "execute_result",
          "data": {
            "text/plain": [
              "(torch.float32, torch.float32)"
            ]
          },
          "metadata": {},
          "execution_count": 73
        }
      ],
      "source": [
        "t1.dtype, t2.dtype"
      ]
    },
    {
      "cell_type": "code",
      "execution_count": 74,
      "metadata": {
        "colab": {
          "base_uri": "https://localhost:8080/"
        },
        "id": "_HvK-MbCz3ts",
        "outputId": "43f40e65-0ac4-4b31-bb88-82bc2eea6f45",
        "tags": []
      },
      "outputs": [
        {
          "output_type": "execute_result",
          "data": {
            "text/plain": [
              "tensor([[426.0139, 426.0139, 426.0139],\n",
              "        [293.1672, 293.1672, 293.1672],\n",
              "        [377.8835, 377.8835, 377.8835]])"
            ]
          },
          "metadata": {},
          "execution_count": 74
        }
      ],
      "source": [
        "torch.matmul(t1.T, t2)"
      ]
    },
    {
      "cell_type": "markdown",
      "metadata": {
        "id": "DjZ8jTcrz3ts"
      },
      "source": [
        "or:"
      ]
    },
    {
      "cell_type": "code",
      "execution_count": 75,
      "metadata": {
        "colab": {
          "base_uri": "https://localhost:8080/"
        },
        "id": "jQej7fmAz3ts",
        "outputId": "1811da92-e796-4251-a973-cc0034e49fde"
      },
      "outputs": [
        {
          "output_type": "execute_result",
          "data": {
            "text/plain": [
              "tensor([[426.0139, 426.0139, 426.0139],\n",
              "        [293.1672, 293.1672, 293.1672],\n",
              "        [377.8835, 377.8835, 377.8835]])"
            ]
          },
          "metadata": {},
          "execution_count": 75
        }
      ],
      "source": [
        "t1.T @ t2"
      ]
    },
    {
      "cell_type": "markdown",
      "metadata": {
        "id": "KiUe99Eiz3tt"
      },
      "source": [
        "Given the two 1D vectors below:"
      ]
    },
    {
      "cell_type": "code",
      "execution_count": 76,
      "metadata": {
        "id": "6zrQpZKCz3tt"
      },
      "outputs": [],
      "source": [
        "a = torch.tensor([2,3,4,5])\n",
        "b = torch.tensor([-1, 4, 2, 1])"
      ]
    },
    {
      "cell_type": "markdown",
      "metadata": {
        "id": "TBRpDbGyz3tt"
      },
      "source": [
        "we can write the dot product $a . b$ as:"
      ]
    },
    {
      "cell_type": "code",
      "execution_count": 77,
      "metadata": {
        "colab": {
          "base_uri": "https://localhost:8080/"
        },
        "id": "YugasAsNz3tt",
        "outputId": "36f002a3-ac79-4550-ca33-dbaab69d2498"
      },
      "outputs": [
        {
          "output_type": "execute_result",
          "data": {
            "text/plain": [
              "tensor(23)"
            ]
          },
          "metadata": {},
          "execution_count": 77
        }
      ],
      "source": [
        "torch.dot(a, b)"
      ]
    },
    {
      "cell_type": "markdown",
      "metadata": {
        "id": "367tRzMoz3tt"
      },
      "source": [
        "which we can verify by making sure it has the same value as:"
      ]
    },
    {
      "cell_type": "code",
      "execution_count": 78,
      "metadata": {
        "colab": {
          "base_uri": "https://localhost:8080/"
        },
        "id": "L7V1BREIz3tt",
        "outputId": "52a8f10a-a4c5-4940-cfee-ccd63333e2f1"
      },
      "outputs": [
        {
          "output_type": "execute_result",
          "data": {
            "text/plain": [
              "tensor(23)"
            ]
          },
          "metadata": {},
          "execution_count": 78
        }
      ],
      "source": [
        "torch.sum(a * b)"
      ]
    },
    {
      "cell_type": "markdown",
      "metadata": {
        "id": "RdvPEXecz3tt"
      },
      "source": [
        "### Numerical (statistical) operations: Mean, sum, min, and max\n",
        "Here is also how to obtain the mean, sum, min, max of a tensor such as:"
      ]
    },
    {
      "cell_type": "code",
      "execution_count": 79,
      "metadata": {
        "colab": {
          "base_uri": "https://localhost:8080/"
        },
        "id": "HIJNFYfDz3tt",
        "outputId": "4cc70c69-ad46-4f0b-d9ec-5cb4d7c8852c",
        "tags": []
      },
      "outputs": [
        {
          "output_type": "execute_result",
          "data": {
            "text/plain": [
              "tensor([[14.3706,  3.5976,  9.5152],\n",
              "        [10.0047,  7.3342, 11.6616],\n",
              "        [12.3461,  8.6009, 10.1178],\n",
              "        [ 7.1976, 10.6908,  7.6625]])"
            ]
          },
          "metadata": {},
          "execution_count": 79
        }
      ],
      "source": [
        "t1"
      ]
    },
    {
      "cell_type": "markdown",
      "metadata": {
        "id": "Hk5qBldMz3tu"
      },
      "source": [
        "The overall mean, sum, min, and max are:"
      ]
    },
    {
      "cell_type": "code",
      "execution_count": 80,
      "metadata": {
        "colab": {
          "base_uri": "https://localhost:8080/"
        },
        "id": "WpCqKJwjz3tu",
        "outputId": "30081964-0fb7-4163-d96e-dc35c1da0346"
      },
      "outputs": [
        {
          "output_type": "execute_result",
          "data": {
            "text/plain": [
              "tensor(9.4250)"
            ]
          },
          "metadata": {},
          "execution_count": 80
        }
      ],
      "source": [
        "torch.mean(t1, dtype=torch.float)"
      ]
    },
    {
      "cell_type": "code",
      "execution_count": 81,
      "metadata": {
        "colab": {
          "base_uri": "https://localhost:8080/"
        },
        "id": "dHCRhNRiz3tu",
        "outputId": "c3da5859-fbf6-4217-e5ca-0bce26b21287"
      },
      "outputs": [
        {
          "output_type": "execute_result",
          "data": {
            "text/plain": [
              "tensor(7.9543)"
            ]
          },
          "metadata": {},
          "execution_count": 81
        }
      ],
      "source": [
        "torch.var(t1)"
      ]
    },
    {
      "cell_type": "code",
      "execution_count": 82,
      "metadata": {
        "colab": {
          "base_uri": "https://localhost:8080/"
        },
        "id": "NNnAZfQgz3tu",
        "outputId": "62d4afef-e22a-4317-fc74-9d95d4e4c51c"
      },
      "outputs": [
        {
          "output_type": "execute_result",
          "data": {
            "text/plain": [
              "tensor(2.8203)"
            ]
          },
          "metadata": {},
          "execution_count": 82
        }
      ],
      "source": [
        "torch.std(t1)"
      ]
    },
    {
      "cell_type": "code",
      "execution_count": 83,
      "metadata": {
        "colab": {
          "base_uri": "https://localhost:8080/"
        },
        "id": "J7owcN0Az3tu",
        "outputId": "c1d55767-8e2e-4a2d-a3e0-20e6c98d74bc"
      },
      "outputs": [
        {
          "output_type": "execute_result",
          "data": {
            "text/plain": [
              "tensor(113.0994)"
            ]
          },
          "metadata": {},
          "execution_count": 83
        }
      ],
      "source": [
        "torch.sum(t1)"
      ]
    },
    {
      "cell_type": "code",
      "execution_count": 84,
      "metadata": {
        "colab": {
          "base_uri": "https://localhost:8080/"
        },
        "id": "_XFJlVVkz3tu",
        "outputId": "611e15c7-7cde-43ba-94be-9797ed004266"
      },
      "outputs": [
        {
          "output_type": "execute_result",
          "data": {
            "text/plain": [
              "tensor(3.5976)"
            ]
          },
          "metadata": {},
          "execution_count": 84
        }
      ],
      "source": [
        "torch.min(t1)"
      ]
    },
    {
      "cell_type": "code",
      "execution_count": 85,
      "metadata": {
        "colab": {
          "base_uri": "https://localhost:8080/"
        },
        "id": "2448AUClz3tu",
        "outputId": "1796967c-483b-49a5-a782-ec725cfbd8b3"
      },
      "outputs": [
        {
          "output_type": "execute_result",
          "data": {
            "text/plain": [
              "tensor(14.3706)"
            ]
          },
          "metadata": {},
          "execution_count": 85
        }
      ],
      "source": [
        "torch.max(t1)"
      ]
    },
    {
      "cell_type": "markdown",
      "metadata": {
        "id": "fiUmyuqRz3tv"
      },
      "source": [
        "And here are the above quantities for each row:"
      ]
    },
    {
      "cell_type": "code",
      "execution_count": 86,
      "metadata": {
        "colab": {
          "base_uri": "https://localhost:8080/"
        },
        "id": "rCZoN2AKz3tv",
        "outputId": "02ca4f79-d650-44f4-c484-1105c3f70b78"
      },
      "outputs": [
        {
          "output_type": "execute_result",
          "data": {
            "text/plain": [
              "tensor([ 9.1611,  9.6668, 10.3549,  8.5169])"
            ]
          },
          "metadata": {},
          "execution_count": 86
        }
      ],
      "source": [
        "torch.mean(t1, axis=1)"
      ]
    },
    {
      "cell_type": "code",
      "execution_count": 87,
      "metadata": {
        "colab": {
          "base_uri": "https://localhost:8080/"
        },
        "id": "e-t9OhgJz3tv",
        "outputId": "4d0322fd-8218-4c30-8910-7ac28f869fb6"
      },
      "outputs": [
        {
          "output_type": "execute_result",
          "data": {
            "text/plain": [
              "tensor([5.3952, 2.1834, 1.8838, 1.8969])"
            ]
          },
          "metadata": {},
          "execution_count": 87
        }
      ],
      "source": [
        "torch.std(t1, axis=1)"
      ]
    },
    {
      "cell_type": "code",
      "execution_count": 88,
      "metadata": {
        "colab": {
          "base_uri": "https://localhost:8080/"
        },
        "id": "QHUuCFo2z3tv",
        "outputId": "5f8f1cc0-c98b-4daf-dfe7-7925b36b6bea"
      },
      "outputs": [
        {
          "output_type": "execute_result",
          "data": {
            "text/plain": [
              "tensor([27.4834, 29.0004, 31.0648, 25.5508])"
            ]
          },
          "metadata": {},
          "execution_count": 88
        }
      ],
      "source": [
        "torch.sum(t1, axis=1)"
      ]
    },
    {
      "cell_type": "code",
      "execution_count": 89,
      "metadata": {
        "colab": {
          "base_uri": "https://localhost:8080/"
        },
        "id": "h9vdZHijz3tv",
        "outputId": "cd7340c1-a087-450e-e7f4-478cc75821ed"
      },
      "outputs": [
        {
          "output_type": "execute_result",
          "data": {
            "text/plain": [
              "torch.return_types.min(\n",
              "values=tensor([3.5976, 7.3342, 8.6009, 7.1976]),\n",
              "indices=tensor([1, 1, 1, 0]))"
            ]
          },
          "metadata": {},
          "execution_count": 89
        }
      ],
      "source": [
        "torch.min(t1, axis=1)"
      ]
    },
    {
      "cell_type": "code",
      "execution_count": 90,
      "metadata": {
        "colab": {
          "base_uri": "https://localhost:8080/"
        },
        "id": "QZgc8Thwz3tv",
        "outputId": "e6a9e94b-30d9-43d6-ab28-84775644e130"
      },
      "outputs": [
        {
          "output_type": "execute_result",
          "data": {
            "text/plain": [
              "torch.return_types.max(\n",
              "values=tensor([14.3706, 11.6616, 12.3461, 10.6908]),\n",
              "indices=tensor([0, 2, 0, 1]))"
            ]
          },
          "metadata": {},
          "execution_count": 90
        }
      ],
      "source": [
        "torch.max(t1, axis=1)"
      ]
    },
    {
      "cell_type": "markdown",
      "metadata": {
        "id": "V-c4Hdebz3tv"
      },
      "source": [
        "## Autograd: Calculating gradients in PyTorch\n",
        "\n",
        "One significant reason PyTorch is widely used in deep learning is its capability to calculate the gradients (partial derivatives) of any differentiable function composed of one or more tensor operations. This feature facilitates the creation of gradient-based models, as covered in this course. The component of PyTorch responsible for gradient calculation is **[Autograd](https://pytorch.org/tutorials/beginner/blitz/autograd_tutorial.html)**.\n",
        "\n",
        "Here is an  example function: $$ y = f(x) = \\cos^3(x) + \\sin(x) $$\n",
        "\n",
        "Let's plot a segment of it:"
      ]
    },
    {
      "cell_type": "code",
      "execution_count": 91,
      "metadata": {
        "colab": {
          "base_uri": "https://localhost:8080/",
          "height": 449
        },
        "id": "uSJQFj6Pz3tv",
        "outputId": "3278692e-7917-4ca1-d4a0-affa0ba4a824"
      },
      "outputs": [
        {
          "output_type": "display_data",
          "data": {
            "text/plain": [
              "<Figure size 640x480 with 1 Axes>"
            ],
            "image/png": "[encoded data removed]"
          },
          "metadata": {}
        }
      ],
      "source": [
        "x = torch.linspace(-4, 4, 100)\n",
        "y = torch.cos(x)**3 +  np.sin(x)\n",
        "\n",
        "plt.plot(x, y)\n",
        "plt.xlabel('x')\n",
        "plt.ylabel('y')\n",
        "plt.grid()\n",
        "plt.show()"
      ]
    },
    {
      "cell_type": "markdown",
      "metadata": {
        "id": "ncEFKOAez3tw"
      },
      "source": [
        "We [know from calculus](https://www.wolframalpha.com/input?i=cos%28x%29%5E3+%2B+sin%28x%29) that the derivative of this function is:\n",
        "$$ f^\\prime = \\frac{d y}{d x} = \\cos(x) - 3 \\sin(x) \\cos^2(x) $$\n",
        "\n",
        "This process, known as **symbolic differentiation**, is typically performed manually or using symbolic mathematical systems like Mathematica. However, these approaches are impractical for deep learning. Plotting the derivative function yields:"
      ]
    },
    {
      "cell_type": "code",
      "execution_count": 92,
      "metadata": {
        "colab": {
          "base_uri": "https://localhost:8080/",
          "height": 449
        },
        "id": "g6P0XBY8z3tw",
        "outputId": "c22102ad-a9b8-41ad-f4db-9b6fc1baabed"
      },
      "outputs": [
        {
          "output_type": "display_data",
          "data": {
            "text/plain": [
              "<Figure size 640x480 with 1 Axes>"
            ],
            "image/png": "[encoded data removed]"
          },
          "metadata": {}
        }
      ],
      "source": [
        "y_prime = torch.cos(x) - 3 * torch.sin(x) * torch.cos(x)**2\n",
        "\n",
        "plt.plot(x, y_prime)\n",
        "plt.xlabel('x')\n",
        "plt.ylabel('$y^\\prime$')\n",
        "plt.grid()\n",
        "plt.show()"
      ]
    },
    {
      "cell_type": "markdown",
      "metadata": {
        "id": "DDfaUdWTz3tw"
      },
      "source": [
        "PyTorch's Autograd employs a technique known as **reverse-mode auto-differentiation** to calculate the gradients of a tensor function with respect to its inputs. The computation of these gradients requires a special tensor attribute called `requires_grad`, which is present for every tensor. By default, this attribute is set to **false**. Setting this attribute to true on a tensor instructs Autograd to track all operations performed on this tensor. Since this is a resource-intensive task, the `requires_grad` attribute is only set to true for tensors for which we intend to calculate gradients. In the previous example, we only need to set this attribute to true for the `x` tensor."
      ]
    },
    {
      "cell_type": "code",
      "execution_count": 93,
      "metadata": {
        "id": "iRHQ5dxPz3tw"
      },
      "outputs": [],
      "source": [
        "x = torch.linspace(-4, 4, 100, requires_grad=True)"
      ]
    },
    {
      "cell_type": "markdown",
      "metadata": {
        "id": "E1bvhOw6z3tw"
      },
      "source": [
        "Notice that the above cell recreates the `x` tensor with the new `requires_grad` attribute. Alternatively, we could have set the the value of the `requires_grad` attribute of the `x` tensor (or any existing tensor, for that matter) using the `requires_grad_()` method:"
      ]
    },
    {
      "cell_type": "code",
      "execution_count": 94,
      "metadata": {
        "id": "upK4iZjjz3tw"
      },
      "outputs": [],
      "source": [
        "x.requires_grad_(False);"
      ]
    },
    {
      "cell_type": "markdown",
      "metadata": {
        "id": "Kr6B9aBrz3tx"
      },
      "source": [
        "Notice the underscore at the end of the method name, `requires_grad_()`, which, following PyTorch conventions, indicates that this is an in-place operation.\n",
        "\n",
        "To calculate the gradients of `y` with respect to `x` at every value of `x`, we iterate over the values of `x`, and then call the `backward()` method on the output `y` tensor for that value."
      ]
    },
    {
      "cell_type": "code",
      "execution_count": 95,
      "metadata": {
        "colab": {
          "base_uri": "https://localhost:8080/"
        },
        "id": "sxlpgj2Dz3tx",
        "outputId": "ba906165-9019-4c14-b89d-b11d213d2a03"
      },
      "outputs": [
        {
          "output_type": "execute_result",
          "data": {
            "text/plain": [
              "tensor([-1.6237, -1.7814, -1.8992, -1.9709, -1.9922, -1.9616, -1.8800, -1.7511,\n",
              "        -1.5808, -1.3770, -1.1493, -0.9082, -0.6647, -0.4297, -0.2131, -0.0236,\n",
              "         0.1320,  0.2493,  0.3259,  0.3623,  0.3615,  0.3286,  0.2707,  0.1965,\n",
              "         0.1155,  0.0377, -0.0273, -0.0705, -0.0845, -0.0637, -0.0049,  0.0929,\n",
              "         0.2281,  0.3966,  0.5919,  0.8059,  1.0289,  1.2502,  1.4591,  1.6449,\n",
              "         1.7981,  1.9106,  1.9763,  1.9913,  1.9543,  1.8667,  1.7323,  1.5574,\n",
              "         1.3501,  1.1202,  0.8782,  0.6352,  0.4020,  0.1883,  0.0026, -0.1486,\n",
              "        -0.2609, -0.3325, -0.3642, -0.3591, -0.3227, -0.2623, -0.1867, -0.1055,\n",
              "        -0.0288,  0.0339,  0.0739,  0.0839,  0.0586, -0.0050, -0.1076, -0.2471,\n",
              "        -0.4193, -0.6174, -0.8330, -1.0564, -1.2768, -1.4833, -1.6657, -1.8143,\n",
              "        -1.9213, -1.9809, -1.9895, -1.9462, -1.8526, -1.7128, -1.5335, -1.3229,\n",
              "        -1.0909, -0.8482, -0.6058, -0.3745, -0.1638,  0.0180,  0.1645,  0.2719,\n",
              "         0.3385,  0.3654,  0.3562,  0.3164])"
            ]
          },
          "metadata": {},
          "execution_count": 95
        }
      ],
      "source": [
        "grads = torch.empty(len(x))\n",
        "for i, x_i in enumerate(x):\n",
        "    x_i.requires_grad_(True)\n",
        "    y_i = torch.cos(x_i)**3 +  torch.sin(x_i)\n",
        "    y_i.backward()\n",
        "    grads[i] = x_i.grad.item()\n",
        "\n",
        "grads"
      ]
    },
    {
      "cell_type": "markdown",
      "metadata": {
        "id": "C6tq9H_Bz3tx"
      },
      "source": [
        "In the above code, the calculated gradients are stored under the `grad` attribute of the `x_i` tensors. During the computation of these gradients, Autograd created a computational DAG (directed acyclic graph), which can be visualized. To do that, we need to install `torchviz` first."
      ]
    },
    {
      "cell_type": "code",
      "execution_count": 96,
      "metadata": {
        "colab": {
          "base_uri": "https://localhost:8080/"
        },
        "id": "31-CG2dS0OBk",
        "outputId": "94338c81-baea-4174-c7d6-11e5b4956222"
      },
      "outputs": [
        {
          "output_type": "stream",
          "name": "stdout",
          "text": [
            "Requirement already satisfied: torchviz in /usr/local/lib/python3.10/dist-packages (0.0.3)\n",
            "Requirement already satisfied: torch in /usr/local/lib/python3.10/dist-packages (from torchviz) (2.5.1+cu121)\n",
            "Requirement already satisfied: graphviz in /usr/local/lib/python3.10/dist-packages (from torchviz) (0.20.3)\n",
            "Requirement already satisfied: filelock in /usr/local/lib/python3.10/dist-packages (from torch->torchviz) (3.16.1)\n",
            "Requirement already satisfied: typing-extensions>=4.8.0 in /usr/local/lib/python3.10/dist-packages (from torch->torchviz) (4.12.2)\n",
            "Requirement already satisfied: networkx in /usr/local/lib/python3.10/dist-packages (from torch->torchviz) (3.4.2)\n",
            "Requirement already satisfied: jinja2 in /usr/local/lib/python3.10/dist-packages (from torch->torchviz) (3.1.5)\n",
            "Requirement already satisfied: fsspec in /usr/local/lib/python3.10/dist-packages (from torch->torchviz) (2024.10.0)\n",
            "Requirement already satisfied: sympy==1.13.1 in /usr/local/lib/python3.10/dist-packages (from torch->torchviz) (1.13.1)\n",
            "Requirement already satisfied: mpmath<1.4,>=1.1.0 in /usr/local/lib/python3.10/dist-packages (from sympy==1.13.1->torch->torchviz) (1.3.0)\n",
            "Requirement already satisfied: MarkupSafe>=2.0 in /usr/local/lib/python3.10/dist-packages (from jinja2->torch->torchviz) (3.0.2)\n"
          ]
        }
      ],
      "source": [
        "! pip install torchviz"
      ]
    },
    {
      "cell_type": "markdown",
      "metadata": {
        "id": "8AsUOhJH0Pd0"
      },
      "source": [
        "Having done that, here is the computational graph created by the previous loop."
      ]
    },
    {
      "cell_type": "code",
      "execution_count": 97,
      "metadata": {
        "colab": {
          "base_uri": "https://localhost:8080/",
          "height": 453
        },
        "id": "foZpitCZz3tx",
        "outputId": "c6117682-94fc-499e-d49f-25b5eb03e956"
      },
      "outputs": [
        {
          "output_type": "execute_result",
          "data": {
            "image/svg+xml": "<?xml version=\"1.0\" encoding=\"UTF-8\" standalone=\"no\"?>\n<!DOCTYPE svg PUBLIC \"-//W3C//DTD SVG 1.1//EN\"\n \"http://www.w3.org/Graphics/SVG/1.1/DTD/svg11.dtd\">\n<!-- Generated by graphviz version 2.43.0 (0)\n -->\n<!-- Title: %3 Pages: 1 -->\n<svg width=\"204pt\" height=\"324pt\"\n viewBox=\"0.00 0.00 204.00 324.00\" xmlns=\"http://www.w3.org/2000/svg\" xmlns:xlink=\"http://www.w3.org/1999/xlink\">\n<g id=\"graph0\" class=\"graph\" transform=\"scale(1 1) rotate(0) translate(4 320)\">\n<title>%3</title>\n<polygon fill=\"white\" stroke=\"transparent\" points=\"-4,4 -4,-320 200,-320 200,4 -4,4\"/>\n<!-- 139914663954928 -->\n<g id=\"node1\" class=\"node\">\n<title>139914663954928</title>\n<polygon fill=\"#caff70\" stroke=\"black\" points=\"124.5,-30 70.5,-30 70.5,0 124.5,0 124.5,-30\"/>\n<text text-anchor=\"middle\" x=\"97.5\" y=\"-18\" font-family=\"monospace\" font-size=\"10.00\">y</text>\n<text text-anchor=\"middle\" x=\"97.5\" y=\"-7\" font-family=\"monospace\" font-size=\"10.00\"> ()</text>\n</g>\n<!-- 139910977484544 -->\n<g id=\"node2\" class=\"node\">\n<title>139910977484544</title>\n<polygon fill=\"lightgrey\" stroke=\"black\" points=\"142,-85 53,-85 53,-66 142,-66 142,-85\"/>\n<text text-anchor=\"middle\" x=\"97.5\" y=\"-73\" font-family=\"monospace\" font-size=\"10.00\">AddBackward0</text>\n</g>\n<!-- 139910977484544&#45;&gt;139914663954928 -->\n<g id=\"edge7\" class=\"edge\">\n<title>139910977484544&#45;&gt;139914663954928</title>\n<path fill=\"none\" stroke=\"black\" d=\"M97.5,-65.87C97.5,-59.11 97.5,-49.35 97.5,-40.26\"/>\n<polygon fill=\"black\" stroke=\"black\" points=\"101,-40.11 97.5,-30.11 94,-40.11 101,-40.11\"/>\n</g>\n<!-- 139910977483728 -->\n<g id=\"node3\" class=\"node\">\n<title>139910977483728</title>\n<polygon fill=\"lightgrey\" stroke=\"black\" points=\"89,-140 0,-140 0,-121 89,-121 89,-140\"/>\n<text text-anchor=\"middle\" x=\"44.5\" y=\"-128\" font-family=\"monospace\" font-size=\"10.00\">PowBackward0</text>\n</g>\n<!-- 139910977483728&#45;&gt;139910977484544 -->\n<g id=\"edge1\" class=\"edge\">\n<title>139910977483728&#45;&gt;139910977484544</title>\n<path fill=\"none\" stroke=\"black\" d=\"M53.25,-120.75C60.97,-113.03 72.4,-101.6 81.72,-92.28\"/>\n<polygon fill=\"black\" stroke=\"black\" points=\"84.31,-94.64 88.91,-85.09 79.36,-89.69 84.31,-94.64\"/>\n</g>\n<!-- 139910977484784 -->\n<g id=\"node4\" class=\"node\">\n<title>139910977484784</title>\n<polygon fill=\"lightgrey\" stroke=\"black\" points=\"106,-195 17,-195 17,-176 106,-176 106,-195\"/>\n<text text-anchor=\"middle\" x=\"61.5\" y=\"-183\" font-family=\"monospace\" font-size=\"10.00\">CosBackward0</text>\n</g>\n<!-- 139910977484784&#45;&gt;139910977483728 -->\n<g id=\"edge2\" class=\"edge\">\n<title>139910977484784&#45;&gt;139910977483728</title>\n<path fill=\"none\" stroke=\"black\" d=\"M58.69,-175.75C56.44,-168.72 53.2,-158.62 50.38,-149.84\"/>\n<polygon fill=\"black\" stroke=\"black\" points=\"53.64,-148.54 47.25,-140.09 46.98,-150.68 53.64,-148.54\"/>\n</g>\n<!-- 139910977484976 -->\n<g id=\"node5\" class=\"node\">\n<title>139910977484976</title>\n<polygon fill=\"lightgrey\" stroke=\"black\" points=\"148,-250 47,-250 47,-231 148,-231 148,-250\"/>\n<text text-anchor=\"middle\" x=\"97.5\" y=\"-238\" font-family=\"monospace\" font-size=\"10.00\">AccumulateGrad</text>\n</g>\n<!-- 139910977484976&#45;&gt;139910977484784 -->\n<g id=\"edge3\" class=\"edge\">\n<title>139910977484976&#45;&gt;139910977484784</title>\n<path fill=\"none\" stroke=\"black\" d=\"M91.56,-230.75C86.52,-223.34 79.16,-212.5 72.99,-203.41\"/>\n<polygon fill=\"black\" stroke=\"black\" points=\"75.85,-201.39 67.33,-195.09 70.06,-205.33 75.85,-201.39\"/>\n</g>\n<!-- 139910977486032 -->\n<g id=\"node7\" class=\"node\">\n<title>139910977486032</title>\n<polygon fill=\"lightgrey\" stroke=\"black\" points=\"196,-140 107,-140 107,-121 196,-121 196,-140\"/>\n<text text-anchor=\"middle\" x=\"151.5\" y=\"-128\" font-family=\"monospace\" font-size=\"10.00\">SinBackward0</text>\n</g>\n<!-- 139910977484976&#45;&gt;139910977486032 -->\n<g id=\"edge6\" class=\"edge\">\n<title>139910977484976&#45;&gt;139910977486032</title>\n<path fill=\"none\" stroke=\"black\" d=\"M101.92,-230.66C110.78,-212.93 130.89,-172.73 142.59,-149.32\"/>\n<polygon fill=\"black\" stroke=\"black\" points=\"145.83,-150.67 147.17,-140.16 139.57,-147.54 145.83,-150.67\"/>\n</g>\n<!-- 139914664132832 -->\n<g id=\"node6\" class=\"node\">\n<title>139914664132832</title>\n<polygon fill=\"lightblue\" stroke=\"black\" points=\"124.5,-316 70.5,-316 70.5,-286 124.5,-286 124.5,-316\"/>\n<text text-anchor=\"middle\" x=\"97.5\" y=\"-304\" font-family=\"monospace\" font-size=\"10.00\">x</text>\n<text text-anchor=\"middle\" x=\"97.5\" y=\"-293\" font-family=\"monospace\" font-size=\"10.00\"> ()</text>\n</g>\n<!-- 139914664132832&#45;&gt;139910977484976 -->\n<g id=\"edge4\" class=\"edge\">\n<title>139914664132832&#45;&gt;139910977484976</title>\n<path fill=\"none\" stroke=\"black\" d=\"M97.5,-285.84C97.5,-278.21 97.5,-268.7 97.5,-260.45\"/>\n<polygon fill=\"black\" stroke=\"black\" points=\"101,-260.27 97.5,-250.27 94,-260.27 101,-260.27\"/>\n</g>\n<!-- 139910977486032&#45;&gt;139910977484544 -->\n<g id=\"edge5\" class=\"edge\">\n<title>139910977486032&#45;&gt;139910977484544</title>\n<path fill=\"none\" stroke=\"black\" d=\"M142.58,-120.75C134.72,-113.03 123.07,-101.6 113.58,-92.28\"/>\n<polygon fill=\"black\" stroke=\"black\" points=\"115.84,-89.6 106.25,-85.09 110.94,-94.59 115.84,-89.6\"/>\n</g>\n</g>\n</svg>\n",
            "text/plain": [
              "<graphviz.graphs.Digraph at 0x7f3f901cf790>"
            ]
          },
          "metadata": {},
          "execution_count": 97
        }
      ],
      "source": [
        "from torchviz import make_dot\n",
        "\n",
        "make_dot(y_i, dict(x = x_i, y = y_i))"
      ]
    },
    {
      "cell_type": "markdown",
      "metadata": {
        "id": "Be6dBqsJz3tx"
      },
      "source": [
        "Let's plot the Autograd-calculated gradients next to the original function and its manual gradients."
      ]
    },
    {
      "cell_type": "code",
      "execution_count": 98,
      "metadata": {
        "colab": {
          "base_uri": "https://localhost:8080/",
          "height": 487
        },
        "id": "jVuQjpCuz3tx",
        "outputId": "cee954c2-52ef-40cf-a91d-34a49f5069b3"
      },
      "outputs": [
        {
          "output_type": "display_data",
          "data": {
            "text/plain": [
              "<Figure size 1600x500 with 3 Axes>"
            ],
            "image/png": "[encoded data removed]"
          },
          "metadata": {}
        }
      ],
      "source": [
        "fig = plt.figure(figsize=(16, 5))\n",
        "\n",
        "plt.subplot(1, 3, 1)\n",
        "plt.plot(x, y, linewidth=2)\n",
        "plt.ylabel('y')\n",
        "plt.xlabel('x')\n",
        "plt.title('Original function')\n",
        "plt.grid()\n",
        "\n",
        "plt.subplot(1, 3, 2)\n",
        "plt.plot(x, y_prime, 'g', linewidth=2)\n",
        "plt.ylabel('y\\'')\n",
        "plt.xlabel('x')\n",
        "plt.title('Derivative - Manual symbolic differtiation')\n",
        "plt.grid()\n",
        "\n",
        "plt.subplot(1, 3, 3)\n",
        "plt.plot(x, grads, 'r', linewidth=2)\n",
        "plt.ylabel('y\\'')\n",
        "plt.xlabel('x')\n",
        "plt.title('Auto-differtiation')\n",
        "plt.grid()"
      ]
    }
  ],
  "metadata": {
    "colab": {
      "provenance": [],
      "toc_visible": true,
      "gpuType": "T4"
    },
    "kernelspec": {
      "display_name": "Python 3",
      "name": "python3"
    },
    "language_info": {
      "codemirror_mode": {
        "name": "ipython",
        "version": 3
      },
      "file_extension": ".py",
      "mimetype": "text/x-python",
      "name": "python",
      "nbconvert_exporter": "python",
      "pygments_lexer": "ipython3",
      "version": "3.11.5"
    },
    "vscode": {
      "interpreter": {
        "hash": "0c4ab92bbc10d18b480eb40b47e751a2f458ae1b2b88576453c716fde62785ad"
      }
    },
    "accelerator": "GPU"
  },
  "nbformat": 4,
  "nbformat_minor": 0
}