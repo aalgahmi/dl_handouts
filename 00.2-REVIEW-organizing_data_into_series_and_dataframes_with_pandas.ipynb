{
 "cells": [
  {
   "cell_type": "markdown",
   "metadata": {},
   "source": [
    "# Organizing data into Series and DataFrames with Pandas\n",
    "\n",
    "Pandas is another essential package for data analysis and machine learning. While we won't be using is as much in Deep learning, it is still important to know how to use it for loading data files and for data processing and wrangling. It comes with two main data structures: Series and DataFrame. A Series is like a dictionary with keys (also called indexes) and values. A DataFrame represents tabular data with one or more columns.\n",
    "\n",
    "To use pandas, we first need to import it. Let's also import NumPy."
   ]
  },
  {
   "cell_type": "code",
   "execution_count": 1,
   "metadata": {},
   "outputs": [],
   "source": [
    "import numpy as np\n",
    "import pandas as pd"
   ]
  },
  {
   "cell_type": "markdown",
   "metadata": {},
   "source": [
    "We can now create series and dataframes.\n",
    "\n",
    "## Series\n",
    "A series is a one-dimensional narray with axis labels (or indexes).\n",
    "\n",
    "### Creating a series\n",
    "We can create a series by providing an array of values."
   ]
  },
  {
   "cell_type": "code",
   "execution_count": 2,
   "metadata": {},
   "outputs": [
    {
     "name": "stdout",
     "output_type": "stream",
     "text": [
      "0    10\n",
      "1    20\n",
      "2    30\n",
      "3    40\n",
      "4    50\n",
      "dtype: int64\n"
     ]
    }
   ],
   "source": [
    "s1 = pd.Series([10,20,30,40,50])\n",
    "print(s1)"
   ]
  },
  {
   "cell_type": "markdown",
   "metadata": {},
   "source": [
    "Since we did not provide indexes for our data, numeric zero-based indexes (much like those for arrays) will be automatically provided.\n",
    "\n",
    "We can also create a series by providing custom indexes."
   ]
  },
  {
   "cell_type": "code",
   "execution_count": 3,
   "metadata": {
    "tags": []
   },
   "outputs": [
    {
     "name": "stdout",
     "output_type": "stream",
     "text": [
      "a    1\n",
      "b    2\n",
      "c    3\n",
      "d    4\n",
      "e    5\n",
      "dtype: int64\n"
     ]
    }
   ],
   "source": [
    "s2 = pd.Series([1,2,3,4,5], index=['a','b','c','d','e'])\n",
    "print(s2)\n"
   ]
  },
  {
   "cell_type": "markdown",
   "metadata": {},
   "source": [
    "Notice that indexes are not required to be unique. For example, we can create a Series with duplicate indexes."
   ]
  },
  {
   "cell_type": "code",
   "execution_count": 4,
   "metadata": {},
   "outputs": [
    {
     "name": "stdout",
     "output_type": "stream",
     "text": [
      "a    1\n",
      "b    2\n",
      "b    3\n",
      "c    4\n",
      "c    5\n",
      "dtype: int64\n"
     ]
    }
   ],
   "source": [
    "s3 = pd.Series([1,2,3,4,5], index=['a','b','b','c','c']) \n",
    "print(s3)"
   ]
  },
  {
   "cell_type": "markdown",
   "metadata": {},
   "source": [
    "We can create a series from NumPy arrays."
   ]
  },
  {
   "cell_type": "code",
   "execution_count": 5,
   "metadata": {},
   "outputs": [
    {
     "name": "stdout",
     "output_type": "stream",
     "text": [
      "A     2\n",
      "B     4\n",
      "C     6\n",
      "D     8\n",
      "F    10\n",
      "dtype: int64\n"
     ]
    }
   ],
   "source": [
    "snp = pd.Series(np.arange(2, 11, 2), index=['A','B','C','D','F']) \n",
    "print(snp)"
   ]
  },
  {
   "cell_type": "markdown",
   "metadata": {},
   "source": [
    "And indexes could be ranges."
   ]
  },
  {
   "cell_type": "code",
   "execution_count": 6,
   "metadata": {},
   "outputs": [
    {
     "name": "stdout",
     "output_type": "stream",
     "text": [
      "1     2\n",
      "2     4\n",
      "3     6\n",
      "4     8\n",
      "5    10\n",
      "dtype: int64\n"
     ]
    }
   ],
   "source": [
    "s4 = pd.Series(np.arange(2, 11, 2), index=np.arange(1, 6)) \n",
    "print(s4)"
   ]
  },
  {
   "cell_type": "markdown",
   "metadata": {},
   "source": [
    "### Accessing elements in a series (Indexing)\n",
    "\n",
    "We can use the indexes to extract and/or slice elements within a series. For example, given the series `s1`:"
   ]
  },
  {
   "cell_type": "code",
   "execution_count": 7,
   "metadata": {},
   "outputs": [
    {
     "data": {
      "text/plain": [
       "0    10\n",
       "1    20\n",
       "2    30\n",
       "3    40\n",
       "4    50\n",
       "dtype: int64"
      ]
     },
     "execution_count": 7,
     "metadata": {},
     "output_type": "execute_result"
    }
   ],
   "source": [
    "s1"
   ]
  },
  {
   "cell_type": "markdown",
   "metadata": {},
   "source": [
    "Here is the element at index 0:"
   ]
  },
  {
   "cell_type": "code",
   "execution_count": 8,
   "metadata": {},
   "outputs": [
    {
     "data": {
      "text/plain": [
       "10"
      ]
     },
     "execution_count": 8,
     "metadata": {},
     "output_type": "execute_result"
    }
   ],
   "source": [
    "s1[0]"
   ]
  },
  {
   "cell_type": "markdown",
   "metadata": {},
   "source": [
    "and the elements at indexes 2 and 3:"
   ]
  },
  {
   "cell_type": "code",
   "execution_count": 9,
   "metadata": {},
   "outputs": [
    {
     "data": {
      "text/plain": [
       "2    30\n",
       "3    40\n",
       "dtype: int64"
      ]
     },
     "execution_count": 9,
     "metadata": {},
     "output_type": "execute_result"
    }
   ],
   "source": [
    "s1[[2,3]]"
   ]
  },
  {
   "cell_type": "markdown",
   "metadata": {},
   "source": [
    "or at the index range from 2 up to but not equal to 4"
   ]
  },
  {
   "cell_type": "code",
   "execution_count": 10,
   "metadata": {},
   "outputs": [
    {
     "data": {
      "text/plain": [
       "2    30\n",
       "3    40\n",
       "dtype: int64"
      ]
     },
     "execution_count": 10,
     "metadata": {},
     "output_type": "execute_result"
    }
   ],
   "source": [
    "s1[2:4]"
   ]
  },
  {
   "cell_type": "markdown",
   "metadata": {},
   "source": [
    "And given the series `s2`:"
   ]
  },
  {
   "cell_type": "code",
   "execution_count": 11,
   "metadata": {},
   "outputs": [
    {
     "data": {
      "text/plain": [
       "a    1\n",
       "b    2\n",
       "c    3\n",
       "d    4\n",
       "e    5\n",
       "dtype: int64"
      ]
     },
     "execution_count": 11,
     "metadata": {},
     "output_type": "execute_result"
    }
   ],
   "source": [
    "s2"
   ]
  },
  {
   "cell_type": "markdown",
   "metadata": {},
   "source": [
    "Here is the element at index 'c':"
   ]
  },
  {
   "cell_type": "code",
   "execution_count": 12,
   "metadata": {},
   "outputs": [
    {
     "data": {
      "text/plain": [
       "3"
      ]
     },
     "execution_count": 12,
     "metadata": {},
     "output_type": "execute_result"
    }
   ],
   "source": [
    "s2['c']"
   ]
  },
  {
   "cell_type": "markdown",
   "metadata": {},
   "source": [
    "and here are the elements from index 'b' to index 'd'"
   ]
  },
  {
   "cell_type": "code",
   "execution_count": 13,
   "metadata": {},
   "outputs": [
    {
     "data": {
      "text/plain": [
       "b    2\n",
       "c    3\n",
       "d    4\n",
       "dtype: int64"
      ]
     },
     "execution_count": 13,
     "metadata": {},
     "output_type": "execute_result"
    }
   ],
   "source": [
    "s2['b':'d']"
   ]
  },
  {
   "cell_type": "markdown",
   "metadata": {},
   "source": [
    "And for a series with duplicate indexes such as:"
   ]
  },
  {
   "cell_type": "code",
   "execution_count": 14,
   "metadata": {},
   "outputs": [
    {
     "data": {
      "text/plain": [
       "a    1\n",
       "b    2\n",
       "b    3\n",
       "c    4\n",
       "c    5\n",
       "dtype: int64"
      ]
     },
     "execution_count": 14,
     "metadata": {},
     "output_type": "execute_result"
    }
   ],
   "source": [
    "s3"
   ]
  },
  {
   "cell_type": "markdown",
   "metadata": {},
   "source": [
    "Using a duplicate index returns a series of all the elements with that index."
   ]
  },
  {
   "cell_type": "code",
   "execution_count": 15,
   "metadata": {},
   "outputs": [
    {
     "data": {
      "text/plain": [
       "b    2\n",
       "b    3\n",
       "dtype: int64"
      ]
     },
     "execution_count": 15,
     "metadata": {},
     "output_type": "execute_result"
    }
   ],
   "source": [
    "s3['b']"
   ]
  },
  {
   "cell_type": "markdown",
   "metadata": {},
   "source": [
    "The above use of indexes is the same as using `.loc[]` with indexes between `[` and `]`. That is"
   ]
  },
  {
   "cell_type": "code",
   "execution_count": 16,
   "metadata": {},
   "outputs": [
    {
     "name": "stdout",
     "output_type": "stream",
     "text": [
      "A    2\n",
      "B    4\n",
      "C    6\n",
      "D    8\n",
      "dtype: int64\n",
      "b    2\n",
      "b    3\n",
      "dtype: int64\n"
     ]
    }
   ],
   "source": [
    "print(snp['A':'D'])\n",
    "print(s3['b'])"
   ]
  },
  {
   "cell_type": "markdown",
   "metadata": {},
   "source": [
    "is the same as:"
   ]
  },
  {
   "cell_type": "code",
   "execution_count": 17,
   "metadata": {},
   "outputs": [
    {
     "name": "stdout",
     "output_type": "stream",
     "text": [
      "A    2\n",
      "B    4\n",
      "C    6\n",
      "D    8\n",
      "dtype: int64\n",
      "b    2\n",
      "b    3\n",
      "dtype: int64\n"
     ]
    }
   ],
   "source": [
    "print(snp.loc['A':'D'])\n",
    "print(s3.loc['b'])"
   ]
  },
  {
   "cell_type": "markdown",
   "metadata": {},
   "source": [
    "But sometimes we want to use the position of the index rather than its actual value to access elements within a series. We can use `.iloc[]` with zero-based numeric indexes positions between `[` and `]`. The position 0 means the first index. For example, given the Series:"
   ]
  },
  {
   "cell_type": "code",
   "execution_count": 18,
   "metadata": {},
   "outputs": [
    {
     "data": {
      "text/plain": [
       "A     2\n",
       "B     4\n",
       "C     6\n",
       "D     8\n",
       "F    10\n",
       "dtype: int64"
      ]
     },
     "execution_count": 18,
     "metadata": {},
     "output_type": "execute_result"
    }
   ],
   "source": [
    "snp"
   ]
  },
  {
   "cell_type": "markdown",
   "metadata": {},
   "source": [
    "We can access its first element:"
   ]
  },
  {
   "cell_type": "code",
   "execution_count": 19,
   "metadata": {},
   "outputs": [
    {
     "data": {
      "text/plain": [
       "2"
      ]
     },
     "execution_count": 19,
     "metadata": {},
     "output_type": "execute_result"
    }
   ],
   "source": [
    "snp.iloc[0]"
   ]
  },
  {
   "cell_type": "markdown",
   "metadata": {},
   "source": [
    "And its last element:"
   ]
  },
  {
   "cell_type": "code",
   "execution_count": 20,
   "metadata": {},
   "outputs": [
    {
     "data": {
      "text/plain": [
       "10"
      ]
     },
     "execution_count": 20,
     "metadata": {},
     "output_type": "execute_result"
    }
   ],
   "source": [
    "snp.iloc[snp.size - 1]"
   ]
  },
  {
   "cell_type": "markdown",
   "metadata": {},
   "source": [
    "### Slicing a series\n",
    "With `.iloc`, we can index and slice a series in exactly the same way we did in a one-dimensional NumPy array. Here is, for example, how you select every other element in a Series."
   ]
  },
  {
   "cell_type": "code",
   "execution_count": 21,
   "metadata": {},
   "outputs": [
    {
     "data": {
      "text/plain": [
       "A     2\n",
       "C     6\n",
       "F    10\n",
       "dtype: int64"
      ]
     },
     "execution_count": 21,
     "metadata": {},
     "output_type": "execute_result"
    }
   ],
   "source": [
    "snp.iloc[0::2]"
   ]
  },
  {
   "cell_type": "markdown",
   "metadata": {},
   "source": [
    "And speaking of NumPy, we can extract the values of a series as a NumPy array."
   ]
  },
  {
   "cell_type": "code",
   "execution_count": 22,
   "metadata": {},
   "outputs": [
    {
     "data": {
      "text/plain": [
       "array([ 2,  4,  6,  8, 10])"
      ]
     },
     "execution_count": 22,
     "metadata": {},
     "output_type": "execute_result"
    }
   ],
   "source": [
    "snp.values"
   ]
  },
  {
   "cell_type": "markdown",
   "metadata": {},
   "source": [
    "We can also extract its indexes as an array also:"
   ]
  },
  {
   "cell_type": "code",
   "execution_count": 23,
   "metadata": {},
   "outputs": [
    {
     "data": {
      "text/plain": [
       "Index(['A', 'B', 'C', 'D', 'F'], dtype='object')"
      ]
     },
     "execution_count": 23,
     "metadata": {},
     "output_type": "execute_result"
    }
   ],
   "source": [
    "snp.index"
   ]
  },
  {
   "cell_type": "markdown",
   "metadata": {},
   "source": [
    "### An example using a series\n",
    "To show how useful series can be, here is an example series with random values and `A` to `Z` keys."
   ]
  },
  {
   "cell_type": "code",
   "execution_count": 24,
   "metadata": {},
   "outputs": [
    {
     "data": {
      "text/plain": [
       "A   -0.750256\n",
       "B   -0.087259\n",
       "C    1.396820\n",
       "D    0.417166\n",
       "E   -0.426134\n",
       "F    1.602805\n",
       "G    1.355301\n",
       "H   -1.465951\n",
       "I   -2.189671\n",
       "J   -0.093452\n",
       "K   -0.400459\n",
       "L    0.174901\n",
       "M    0.133347\n",
       "N    0.280522\n",
       "O   -0.400481\n",
       "P   -0.616106\n",
       "Q   -0.584894\n",
       "R    1.727656\n",
       "S    0.355256\n",
       "T   -0.772756\n",
       "U    0.350615\n",
       "V   -0.182322\n",
       "W   -0.555631\n",
       "X    0.458950\n",
       "Y    2.542781\n",
       "Z   -0.082328\n",
       "dtype: float64"
      ]
     },
     "execution_count": 24,
     "metadata": {},
     "output_type": "execute_result"
    }
   ],
   "source": [
    "s = pd.Series(np.random.randn(26), index=[chr(65 + c) for c in range(26)])\n",
    "s"
   ]
  },
  {
   "cell_type": "markdown",
   "metadata": {},
   "source": [
    "We can sort this series descendingly like this:"
   ]
  },
  {
   "cell_type": "code",
   "execution_count": 25,
   "metadata": {
    "tags": []
   },
   "outputs": [
    {
     "data": {
      "text/plain": [
       "Y    2.542781\n",
       "R    1.727656\n",
       "F    1.602805\n",
       "C    1.396820\n",
       "G    1.355301\n",
       "X    0.458950\n",
       "D    0.417166\n",
       "S    0.355256\n",
       "U    0.350615\n",
       "N    0.280522\n",
       "L    0.174901\n",
       "M    0.133347\n",
       "Z   -0.082328\n",
       "B   -0.087259\n",
       "J   -0.093452\n",
       "V   -0.182322\n",
       "K   -0.400459\n",
       "O   -0.400481\n",
       "E   -0.426134\n",
       "W   -0.555631\n",
       "Q   -0.584894\n",
       "P   -0.616106\n",
       "A   -0.750256\n",
       "T   -0.772756\n",
       "H   -1.465951\n",
       "I   -2.189671\n",
       "dtype: float64"
      ]
     },
     "execution_count": 25,
     "metadata": {},
     "output_type": "execute_result"
    }
   ],
   "source": [
    "s.sort_values(ascending=False)"
   ]
  },
  {
   "cell_type": "markdown",
   "metadata": {
    "tags": []
   },
   "source": [
    "And here is how we get its top 5 elements:"
   ]
  },
  {
   "cell_type": "code",
   "execution_count": 26,
   "metadata": {
    "tags": []
   },
   "outputs": [
    {
     "data": {
      "text/plain": [
       "Y    2.542781\n",
       "R    1.727656\n",
       "F    1.602805\n",
       "C    1.396820\n",
       "G    1.355301\n",
       "dtype: float64"
      ]
     },
     "execution_count": 26,
     "metadata": {},
     "output_type": "execute_result"
    }
   ],
   "source": [
    "s.sort_values(ascending=False).iloc[:5]"
   ]
  },
  {
   "cell_type": "markdown",
   "metadata": {
    "tags": []
   },
   "source": [
    "And here is the index of the top element"
   ]
  },
  {
   "cell_type": "code",
   "execution_count": 27,
   "metadata": {},
   "outputs": [
    {
     "data": {
      "text/plain": [
       "'Y'"
      ]
     },
     "execution_count": 27,
     "metadata": {},
     "output_type": "execute_result"
    }
   ],
   "source": [
    "s.idxmax()"
   ]
  },
  {
   "cell_type": "markdown",
   "metadata": {
    "tags": []
   },
   "source": [
    "Similarly, here is the index of the bottom element"
   ]
  },
  {
   "cell_type": "code",
   "execution_count": 28,
   "metadata": {},
   "outputs": [
    {
     "data": {
      "text/plain": [
       "'I'"
      ]
     },
     "execution_count": 28,
     "metadata": {},
     "output_type": "execute_result"
    }
   ],
   "source": [
    "s.idxmin()"
   ]
  },
  {
   "cell_type": "markdown",
   "metadata": {},
   "source": [
    "And we can show next to each key the order if its element if the series is ascendingly sorted."
   ]
  },
  {
   "cell_type": "code",
   "execution_count": 29,
   "metadata": {},
   "outputs": [
    {
     "data": {
      "text/plain": [
       "A     8\n",
       "B     7\n",
       "C    19\n",
       "D     0\n",
       "E    15\n",
       "F    16\n",
       "G    22\n",
       "H     4\n",
       "I    14\n",
       "J    10\n",
       "K    21\n",
       "L     9\n",
       "M     1\n",
       "N    25\n",
       "O    12\n",
       "P    11\n",
       "Q    13\n",
       "R    20\n",
       "S    18\n",
       "T     3\n",
       "U    23\n",
       "V     6\n",
       "W     2\n",
       "X     5\n",
       "Y    17\n",
       "Z    24\n",
       "dtype: int64"
      ]
     },
     "execution_count": 29,
     "metadata": {},
     "output_type": "execute_result"
    }
   ],
   "source": [
    "s.argsort()"
   ]
  },
  {
   "cell_type": "markdown",
   "metadata": {
    "tags": []
   },
   "source": [
    "This gives us another way to sort a series"
   ]
  },
  {
   "cell_type": "code",
   "execution_count": 30,
   "metadata": {
    "tags": []
   },
   "outputs": [
    {
     "data": {
      "text/plain": [
       "Y    2.542781\n",
       "R    1.727656\n",
       "F    1.602805\n",
       "C    1.396820\n",
       "G    1.355301\n",
       "X    0.458950\n",
       "D    0.417166\n",
       "S    0.355256\n",
       "U    0.350615\n",
       "N    0.280522\n",
       "L    0.174901\n",
       "M    0.133347\n",
       "Z   -0.082328\n",
       "B   -0.087259\n",
       "J   -0.093452\n",
       "V   -0.182322\n",
       "K   -0.400459\n",
       "O   -0.400481\n",
       "E   -0.426134\n",
       "W   -0.555631\n",
       "Q   -0.584894\n",
       "P   -0.616106\n",
       "A   -0.750256\n",
       "T   -0.772756\n",
       "H   -1.465951\n",
       "I   -2.189671\n",
       "dtype: float64"
      ]
     },
     "execution_count": 30,
     "metadata": {},
     "output_type": "execute_result"
    }
   ],
   "source": [
    "s[s.argsort()][::-1]"
   ]
  },
  {
   "cell_type": "markdown",
   "metadata": {
    "tags": []
   },
   "source": [
    "Notice that we used `[::-1]` to make this sort in descending order. Finally we cat extract the top 5 elements:"
   ]
  },
  {
   "cell_type": "code",
   "execution_count": 31,
   "metadata": {},
   "outputs": [
    {
     "data": {
      "text/plain": [
       "Y    2.542781\n",
       "R    1.727656\n",
       "F    1.602805\n",
       "C    1.396820\n",
       "G    1.355301\n",
       "dtype: float64"
      ]
     },
     "execution_count": 31,
     "metadata": {},
     "output_type": "execute_result"
    }
   ],
   "source": [
    "s[s.argsort()][::-1].iloc[:5]"
   ]
  },
  {
   "cell_type": "markdown",
   "metadata": {
    "tags": []
   },
   "source": [
    "and the bottom five:"
   ]
  },
  {
   "cell_type": "code",
   "execution_count": 32,
   "metadata": {},
   "outputs": [
    {
     "data": {
      "text/plain": [
       "P   -0.616106\n",
       "A   -0.750256\n",
       "T   -0.772756\n",
       "H   -1.465951\n",
       "I   -2.189671\n",
       "dtype: float64"
      ]
     },
     "execution_count": 32,
     "metadata": {},
     "output_type": "execute_result"
    }
   ],
   "source": [
    "s[s.argsort()][::-1].iloc[-5:]"
   ]
  },
  {
   "cell_type": "markdown",
   "metadata": {},
   "source": [
    "## DataFrames\n",
    "A data frame is a two-dimensional table with columns and rows. You can think of each column on a DataFrame as a series sharing the same indexes with the other columns. Each column has a name that can be used to access it.\n",
    "\n",
    "### Creating DataFrames\n",
    "The easiest way to create a DataFrame is by using a dictionary of arrays. The keys of this dictionary will become column names. Here is a DataFrame with 4 by 9 multiplication table."
   ]
  },
  {
   "cell_type": "code",
   "execution_count": 33,
   "metadata": {},
   "outputs": [
    {
     "data": {
      "text/html": [
       "<div>\n",
       "<style scoped>\n",
       "    .dataframe tbody tr th:only-of-type {\n",
       "        vertical-align: middle;\n",
       "    }\n",
       "\n",
       "    .dataframe tbody tr th {\n",
       "        vertical-align: top;\n",
       "    }\n",
       "\n",
       "    .dataframe thead th {\n",
       "        text-align: right;\n",
       "    }\n",
       "</style>\n",
       "<table border=\"1\" class=\"dataframe\">\n",
       "  <thead>\n",
       "    <tr style=\"text-align: right;\">\n",
       "      <th></th>\n",
       "      <th>byOne</th>\n",
       "      <th>byTwo</th>\n",
       "      <th>byThree</th>\n",
       "      <th>byFour</th>\n",
       "    </tr>\n",
       "  </thead>\n",
       "  <tbody>\n",
       "    <tr>\n",
       "      <th>0</th>\n",
       "      <td>1</td>\n",
       "      <td>2</td>\n",
       "      <td>3</td>\n",
       "      <td>4</td>\n",
       "    </tr>\n",
       "    <tr>\n",
       "      <th>1</th>\n",
       "      <td>2</td>\n",
       "      <td>4</td>\n",
       "      <td>6</td>\n",
       "      <td>8</td>\n",
       "    </tr>\n",
       "    <tr>\n",
       "      <th>2</th>\n",
       "      <td>3</td>\n",
       "      <td>6</td>\n",
       "      <td>9</td>\n",
       "      <td>12</td>\n",
       "    </tr>\n",
       "    <tr>\n",
       "      <th>3</th>\n",
       "      <td>4</td>\n",
       "      <td>8</td>\n",
       "      <td>12</td>\n",
       "      <td>16</td>\n",
       "    </tr>\n",
       "    <tr>\n",
       "      <th>4</th>\n",
       "      <td>5</td>\n",
       "      <td>10</td>\n",
       "      <td>15</td>\n",
       "      <td>20</td>\n",
       "    </tr>\n",
       "    <tr>\n",
       "      <th>5</th>\n",
       "      <td>6</td>\n",
       "      <td>12</td>\n",
       "      <td>18</td>\n",
       "      <td>24</td>\n",
       "    </tr>\n",
       "    <tr>\n",
       "      <th>6</th>\n",
       "      <td>7</td>\n",
       "      <td>14</td>\n",
       "      <td>21</td>\n",
       "      <td>28</td>\n",
       "    </tr>\n",
       "    <tr>\n",
       "      <th>7</th>\n",
       "      <td>8</td>\n",
       "      <td>16</td>\n",
       "      <td>24</td>\n",
       "      <td>32</td>\n",
       "    </tr>\n",
       "    <tr>\n",
       "      <th>8</th>\n",
       "      <td>9</td>\n",
       "      <td>18</td>\n",
       "      <td>27</td>\n",
       "      <td>36</td>\n",
       "    </tr>\n",
       "  </tbody>\n",
       "</table>\n",
       "</div>"
      ],
      "text/plain": [
       "   byOne  byTwo  byThree  byFour\n",
       "0      1      2        3       4\n",
       "1      2      4        6       8\n",
       "2      3      6        9      12\n",
       "3      4      8       12      16\n",
       "4      5     10       15      20\n",
       "5      6     12       18      24\n",
       "6      7     14       21      28\n",
       "7      8     16       24      32\n",
       "8      9     18       27      36"
      ]
     },
     "execution_count": 33,
     "metadata": {},
     "output_type": "execute_result"
    }
   ],
   "source": [
    "mtable = pd.DataFrame({\n",
    "    'byOne': [1,2, 3, 4, 5, 6, 7, 8, 9],\n",
    "    'byTwo': [2, 4, 6, 8, 10, 12, 14, 16, 18],\n",
    "    'byThree': [3, 6, 9, 12, 15, 18, 21, 24, 27],\n",
    "    'byFour': [4, 8, 12, 16, 20, 24, 28, 32, 36]\n",
    "})\n",
    "\n",
    "mtable"
   ]
  },
  {
   "cell_type": "markdown",
   "metadata": {},
   "source": [
    "Since we did not provide indexes, Pandas will create zero-based numeric indexes for us, just like it does for a Series.\n",
    "\n",
    "We can use NumPy arrays to create the same table:"
   ]
  },
  {
   "cell_type": "code",
   "execution_count": 34,
   "metadata": {},
   "outputs": [
    {
     "name": "stdout",
     "output_type": "stream",
     "text": [
      "   byOne  byTwo  byThree  byFour\n",
      "0      1      2        3       4\n",
      "1      2      4        6       8\n",
      "2      3      6        9      12\n",
      "3      4      8       12      16\n",
      "4      5     10       15      20\n",
      "5      6     12       18      24\n",
      "6      7     14       21      28\n",
      "7      8     16       24      32\n",
      "8      9     18       27      36\n"
     ]
    }
   ],
   "source": [
    "mtable = pd.DataFrame({\n",
    "    'byOne': np.arange(1, 10),\n",
    "    'byTwo': 2 * np.arange(1, 10),\n",
    "    'byThree': 3 * np.arange(1, 10),\n",
    "    'byFour': 4 * np.arange(1, 10)\n",
    "})\n",
    "\n",
    "print(mtable)"
   ]
  },
  {
   "cell_type": "markdown",
   "metadata": {},
   "source": [
    "We can create a DataFrame from a two-dimensional array. Given an array,"
   ]
  },
  {
   "cell_type": "code",
   "execution_count": 35,
   "metadata": {},
   "outputs": [
    {
     "name": "stdout",
     "output_type": "stream",
     "text": [
      "[[ 1  2  3  4]\n",
      " [ 2  4  6  8]\n",
      " [ 3  6  9 12]\n",
      " [ 4  8 12 16]\n",
      " [ 5 10 15 20]\n",
      " [ 6 12 18 24]\n",
      " [ 7 14 21 28]\n",
      " [ 8 16 24 32]\n",
      " [ 9 18 27 36]]\n"
     ]
    }
   ],
   "source": [
    "table = np.array([\n",
    "    np.arange(1, 10),\n",
    "    2 * np.arange(1, 10),\n",
    "    3 * np.arange(1, 10),\n",
    "    4 * np.arange(1, 10)\n",
    "]).T\n",
    "\n",
    "print(table)"
   ]
  },
  {
   "cell_type": "markdown",
   "metadata": {},
   "source": [
    "we can create a DataFrame from it."
   ]
  },
  {
   "cell_type": "code",
   "execution_count": 36,
   "metadata": {},
   "outputs": [
    {
     "data": {
      "text/html": [
       "<div>\n",
       "<style scoped>\n",
       "    .dataframe tbody tr th:only-of-type {\n",
       "        vertical-align: middle;\n",
       "    }\n",
       "\n",
       "    .dataframe tbody tr th {\n",
       "        vertical-align: top;\n",
       "    }\n",
       "\n",
       "    .dataframe thead th {\n",
       "        text-align: right;\n",
       "    }\n",
       "</style>\n",
       "<table border=\"1\" class=\"dataframe\">\n",
       "  <thead>\n",
       "    <tr style=\"text-align: right;\">\n",
       "      <th></th>\n",
       "      <th>0</th>\n",
       "      <th>1</th>\n",
       "      <th>2</th>\n",
       "      <th>3</th>\n",
       "    </tr>\n",
       "  </thead>\n",
       "  <tbody>\n",
       "    <tr>\n",
       "      <th>0</th>\n",
       "      <td>1</td>\n",
       "      <td>2</td>\n",
       "      <td>3</td>\n",
       "      <td>4</td>\n",
       "    </tr>\n",
       "    <tr>\n",
       "      <th>1</th>\n",
       "      <td>2</td>\n",
       "      <td>4</td>\n",
       "      <td>6</td>\n",
       "      <td>8</td>\n",
       "    </tr>\n",
       "    <tr>\n",
       "      <th>2</th>\n",
       "      <td>3</td>\n",
       "      <td>6</td>\n",
       "      <td>9</td>\n",
       "      <td>12</td>\n",
       "    </tr>\n",
       "    <tr>\n",
       "      <th>3</th>\n",
       "      <td>4</td>\n",
       "      <td>8</td>\n",
       "      <td>12</td>\n",
       "      <td>16</td>\n",
       "    </tr>\n",
       "    <tr>\n",
       "      <th>4</th>\n",
       "      <td>5</td>\n",
       "      <td>10</td>\n",
       "      <td>15</td>\n",
       "      <td>20</td>\n",
       "    </tr>\n",
       "    <tr>\n",
       "      <th>5</th>\n",
       "      <td>6</td>\n",
       "      <td>12</td>\n",
       "      <td>18</td>\n",
       "      <td>24</td>\n",
       "    </tr>\n",
       "    <tr>\n",
       "      <th>6</th>\n",
       "      <td>7</td>\n",
       "      <td>14</td>\n",
       "      <td>21</td>\n",
       "      <td>28</td>\n",
       "    </tr>\n",
       "    <tr>\n",
       "      <th>7</th>\n",
       "      <td>8</td>\n",
       "      <td>16</td>\n",
       "      <td>24</td>\n",
       "      <td>32</td>\n",
       "    </tr>\n",
       "    <tr>\n",
       "      <th>8</th>\n",
       "      <td>9</td>\n",
       "      <td>18</td>\n",
       "      <td>27</td>\n",
       "      <td>36</td>\n",
       "    </tr>\n",
       "  </tbody>\n",
       "</table>\n",
       "</div>"
      ],
      "text/plain": [
       "   0   1   2   3\n",
       "0  1   2   3   4\n",
       "1  2   4   6   8\n",
       "2  3   6   9  12\n",
       "3  4   8  12  16\n",
       "4  5  10  15  20\n",
       "5  6  12  18  24\n",
       "6  7  14  21  28\n",
       "7  8  16  24  32\n",
       "8  9  18  27  36"
      ]
     },
     "execution_count": 36,
     "metadata": {},
     "output_type": "execute_result"
    }
   ],
   "source": [
    "mtable = pd.DataFrame(table)\n",
    "\n",
    "mtable"
   ]
  },
  {
   "cell_type": "markdown",
   "metadata": {},
   "source": [
    "Since we did not provide column names or indexes, Pandas provided numeric zero-based column names and indexes for us. We can rename these columns by providing custom names for it after it was created."
   ]
  },
  {
   "cell_type": "code",
   "execution_count": 37,
   "metadata": {},
   "outputs": [
    {
     "data": {
      "text/html": [
       "<div>\n",
       "<style scoped>\n",
       "    .dataframe tbody tr th:only-of-type {\n",
       "        vertical-align: middle;\n",
       "    }\n",
       "\n",
       "    .dataframe tbody tr th {\n",
       "        vertical-align: top;\n",
       "    }\n",
       "\n",
       "    .dataframe thead th {\n",
       "        text-align: right;\n",
       "    }\n",
       "</style>\n",
       "<table border=\"1\" class=\"dataframe\">\n",
       "  <thead>\n",
       "    <tr style=\"text-align: right;\">\n",
       "      <th></th>\n",
       "      <th>A</th>\n",
       "      <th>B</th>\n",
       "      <th>C</th>\n",
       "      <th>D</th>\n",
       "    </tr>\n",
       "  </thead>\n",
       "  <tbody>\n",
       "    <tr>\n",
       "      <th>0</th>\n",
       "      <td>1</td>\n",
       "      <td>2</td>\n",
       "      <td>3</td>\n",
       "      <td>4</td>\n",
       "    </tr>\n",
       "    <tr>\n",
       "      <th>1</th>\n",
       "      <td>2</td>\n",
       "      <td>4</td>\n",
       "      <td>6</td>\n",
       "      <td>8</td>\n",
       "    </tr>\n",
       "    <tr>\n",
       "      <th>2</th>\n",
       "      <td>3</td>\n",
       "      <td>6</td>\n",
       "      <td>9</td>\n",
       "      <td>12</td>\n",
       "    </tr>\n",
       "    <tr>\n",
       "      <th>3</th>\n",
       "      <td>4</td>\n",
       "      <td>8</td>\n",
       "      <td>12</td>\n",
       "      <td>16</td>\n",
       "    </tr>\n",
       "    <tr>\n",
       "      <th>4</th>\n",
       "      <td>5</td>\n",
       "      <td>10</td>\n",
       "      <td>15</td>\n",
       "      <td>20</td>\n",
       "    </tr>\n",
       "    <tr>\n",
       "      <th>5</th>\n",
       "      <td>6</td>\n",
       "      <td>12</td>\n",
       "      <td>18</td>\n",
       "      <td>24</td>\n",
       "    </tr>\n",
       "    <tr>\n",
       "      <th>6</th>\n",
       "      <td>7</td>\n",
       "      <td>14</td>\n",
       "      <td>21</td>\n",
       "      <td>28</td>\n",
       "    </tr>\n",
       "    <tr>\n",
       "      <th>7</th>\n",
       "      <td>8</td>\n",
       "      <td>16</td>\n",
       "      <td>24</td>\n",
       "      <td>32</td>\n",
       "    </tr>\n",
       "    <tr>\n",
       "      <th>8</th>\n",
       "      <td>9</td>\n",
       "      <td>18</td>\n",
       "      <td>27</td>\n",
       "      <td>36</td>\n",
       "    </tr>\n",
       "  </tbody>\n",
       "</table>\n",
       "</div>"
      ],
      "text/plain": [
       "   A   B   C   D\n",
       "0  1   2   3   4\n",
       "1  2   4   6   8\n",
       "2  3   6   9  12\n",
       "3  4   8  12  16\n",
       "4  5  10  15  20\n",
       "5  6  12  18  24\n",
       "6  7  14  21  28\n",
       "7  8  16  24  32\n",
       "8  9  18  27  36"
      ]
     },
     "execution_count": 37,
     "metadata": {},
     "output_type": "execute_result"
    }
   ],
   "source": [
    "mtable.columns= ['A', 'B', 'C', 'D']\n",
    "mtable"
   ]
  },
  {
   "cell_type": "markdown",
   "metadata": {},
   "source": [
    "We can provide the column names at the time of creating the DataFrame."
   ]
  },
  {
   "cell_type": "code",
   "execution_count": 38,
   "metadata": {},
   "outputs": [
    {
     "data": {
      "text/html": [
       "<div>\n",
       "<style scoped>\n",
       "    .dataframe tbody tr th:only-of-type {\n",
       "        vertical-align: middle;\n",
       "    }\n",
       "\n",
       "    .dataframe tbody tr th {\n",
       "        vertical-align: top;\n",
       "    }\n",
       "\n",
       "    .dataframe thead th {\n",
       "        text-align: right;\n",
       "    }\n",
       "</style>\n",
       "<table border=\"1\" class=\"dataframe\">\n",
       "  <thead>\n",
       "    <tr style=\"text-align: right;\">\n",
       "      <th></th>\n",
       "      <th>byOne</th>\n",
       "      <th>byTwo</th>\n",
       "      <th>byThree</th>\n",
       "      <th>byFour</th>\n",
       "    </tr>\n",
       "  </thead>\n",
       "  <tbody>\n",
       "    <tr>\n",
       "      <th>0</th>\n",
       "      <td>1</td>\n",
       "      <td>2</td>\n",
       "      <td>3</td>\n",
       "      <td>4</td>\n",
       "    </tr>\n",
       "    <tr>\n",
       "      <th>1</th>\n",
       "      <td>2</td>\n",
       "      <td>4</td>\n",
       "      <td>6</td>\n",
       "      <td>8</td>\n",
       "    </tr>\n",
       "    <tr>\n",
       "      <th>2</th>\n",
       "      <td>3</td>\n",
       "      <td>6</td>\n",
       "      <td>9</td>\n",
       "      <td>12</td>\n",
       "    </tr>\n",
       "    <tr>\n",
       "      <th>3</th>\n",
       "      <td>4</td>\n",
       "      <td>8</td>\n",
       "      <td>12</td>\n",
       "      <td>16</td>\n",
       "    </tr>\n",
       "    <tr>\n",
       "      <th>4</th>\n",
       "      <td>5</td>\n",
       "      <td>10</td>\n",
       "      <td>15</td>\n",
       "      <td>20</td>\n",
       "    </tr>\n",
       "    <tr>\n",
       "      <th>5</th>\n",
       "      <td>6</td>\n",
       "      <td>12</td>\n",
       "      <td>18</td>\n",
       "      <td>24</td>\n",
       "    </tr>\n",
       "    <tr>\n",
       "      <th>6</th>\n",
       "      <td>7</td>\n",
       "      <td>14</td>\n",
       "      <td>21</td>\n",
       "      <td>28</td>\n",
       "    </tr>\n",
       "    <tr>\n",
       "      <th>7</th>\n",
       "      <td>8</td>\n",
       "      <td>16</td>\n",
       "      <td>24</td>\n",
       "      <td>32</td>\n",
       "    </tr>\n",
       "    <tr>\n",
       "      <th>8</th>\n",
       "      <td>9</td>\n",
       "      <td>18</td>\n",
       "      <td>27</td>\n",
       "      <td>36</td>\n",
       "    </tr>\n",
       "  </tbody>\n",
       "</table>\n",
       "</div>"
      ],
      "text/plain": [
       "   byOne  byTwo  byThree  byFour\n",
       "0      1      2        3       4\n",
       "1      2      4        6       8\n",
       "2      3      6        9      12\n",
       "3      4      8       12      16\n",
       "4      5     10       15      20\n",
       "5      6     12       18      24\n",
       "6      7     14       21      28\n",
       "7      8     16       24      32\n",
       "8      9     18       27      36"
      ]
     },
     "execution_count": 38,
     "metadata": {},
     "output_type": "execute_result"
    }
   ],
   "source": [
    "mt = pd.DataFrame(table, columns=['byOne', 'byTwo', 'byThree', 'byFour'])\n",
    "\n",
    "mt"
   ]
  },
  {
   "cell_type": "markdown",
   "metadata": {},
   "source": [
    "We can also provide custom indexes."
   ]
  },
  {
   "cell_type": "code",
   "execution_count": 39,
   "metadata": {},
   "outputs": [
    {
     "data": {
      "text/html": [
       "<div>\n",
       "<style scoped>\n",
       "    .dataframe tbody tr th:only-of-type {\n",
       "        vertical-align: middle;\n",
       "    }\n",
       "\n",
       "    .dataframe tbody tr th {\n",
       "        vertical-align: top;\n",
       "    }\n",
       "\n",
       "    .dataframe thead th {\n",
       "        text-align: right;\n",
       "    }\n",
       "</style>\n",
       "<table border=\"1\" class=\"dataframe\">\n",
       "  <thead>\n",
       "    <tr style=\"text-align: right;\">\n",
       "      <th></th>\n",
       "      <th>byOne</th>\n",
       "      <th>byTwo</th>\n",
       "      <th>byThree</th>\n",
       "      <th>byFour</th>\n",
       "    </tr>\n",
       "  </thead>\n",
       "  <tbody>\n",
       "    <tr>\n",
       "      <th>x1</th>\n",
       "      <td>1</td>\n",
       "      <td>2</td>\n",
       "      <td>3</td>\n",
       "      <td>4</td>\n",
       "    </tr>\n",
       "    <tr>\n",
       "      <th>x2</th>\n",
       "      <td>2</td>\n",
       "      <td>4</td>\n",
       "      <td>6</td>\n",
       "      <td>8</td>\n",
       "    </tr>\n",
       "    <tr>\n",
       "      <th>x3</th>\n",
       "      <td>3</td>\n",
       "      <td>6</td>\n",
       "      <td>9</td>\n",
       "      <td>12</td>\n",
       "    </tr>\n",
       "    <tr>\n",
       "      <th>x4</th>\n",
       "      <td>4</td>\n",
       "      <td>8</td>\n",
       "      <td>12</td>\n",
       "      <td>16</td>\n",
       "    </tr>\n",
       "    <tr>\n",
       "      <th>x5</th>\n",
       "      <td>5</td>\n",
       "      <td>10</td>\n",
       "      <td>15</td>\n",
       "      <td>20</td>\n",
       "    </tr>\n",
       "    <tr>\n",
       "      <th>x6</th>\n",
       "      <td>6</td>\n",
       "      <td>12</td>\n",
       "      <td>18</td>\n",
       "      <td>24</td>\n",
       "    </tr>\n",
       "    <tr>\n",
       "      <th>x7</th>\n",
       "      <td>7</td>\n",
       "      <td>14</td>\n",
       "      <td>21</td>\n",
       "      <td>28</td>\n",
       "    </tr>\n",
       "    <tr>\n",
       "      <th>x8</th>\n",
       "      <td>8</td>\n",
       "      <td>16</td>\n",
       "      <td>24</td>\n",
       "      <td>32</td>\n",
       "    </tr>\n",
       "    <tr>\n",
       "      <th>x9</th>\n",
       "      <td>9</td>\n",
       "      <td>18</td>\n",
       "      <td>27</td>\n",
       "      <td>36</td>\n",
       "    </tr>\n",
       "  </tbody>\n",
       "</table>\n",
       "</div>"
      ],
      "text/plain": [
       "    byOne  byTwo  byThree  byFour\n",
       "x1      1      2        3       4\n",
       "x2      2      4        6       8\n",
       "x3      3      6        9      12\n",
       "x4      4      8       12      16\n",
       "x5      5     10       15      20\n",
       "x6      6     12       18      24\n",
       "x7      7     14       21      28\n",
       "x8      8     16       24      32\n",
       "x9      9     18       27      36"
      ]
     },
     "execution_count": 39,
     "metadata": {},
     "output_type": "execute_result"
    }
   ],
   "source": [
    "mt = pd.DataFrame(table, \n",
    "                  columns=['byOne', 'byTwo', 'byThree', 'byFour'],\n",
    "                  index=['x1', 'x2', 'x3', 'x4', 'x5', 'x6', 'x7', 'x8', 'x9'])\n",
    "\n",
    "mt"
   ]
  },
  {
   "cell_type": "markdown",
   "metadata": {},
   "source": [
    "We can convert the contents of a DataFrame to a NumPy array:"
   ]
  },
  {
   "cell_type": "code",
   "execution_count": 40,
   "metadata": {},
   "outputs": [
    {
     "data": {
      "text/plain": [
       "array([[ 1,  2,  3,  4],\n",
       "       [ 2,  4,  6,  8],\n",
       "       [ 3,  6,  9, 12],\n",
       "       [ 4,  8, 12, 16],\n",
       "       [ 5, 10, 15, 20],\n",
       "       [ 6, 12, 18, 24],\n",
       "       [ 7, 14, 21, 28],\n",
       "       [ 8, 16, 24, 32],\n",
       "       [ 9, 18, 27, 36]])"
      ]
     },
     "execution_count": 40,
     "metadata": {},
     "output_type": "execute_result"
    }
   ],
   "source": [
    "mt.values"
   ]
  },
  {
   "cell_type": "markdown",
   "metadata": {},
   "source": [
    "We can get its column names:"
   ]
  },
  {
   "cell_type": "code",
   "execution_count": 41,
   "metadata": {},
   "outputs": [
    {
     "data": {
      "text/plain": [
       "Index(['byOne', 'byTwo', 'byThree', 'byFour'], dtype='object')"
      ]
     },
     "execution_count": 41,
     "metadata": {},
     "output_type": "execute_result"
    }
   ],
   "source": [
    "mt.columns"
   ]
  },
  {
   "cell_type": "markdown",
   "metadata": {},
   "source": [
    "and its indexes:"
   ]
  },
  {
   "cell_type": "code",
   "execution_count": 42,
   "metadata": {},
   "outputs": [
    {
     "data": {
      "text/plain": [
       "Index(['x1', 'x2', 'x3', 'x4', 'x5', 'x6', 'x7', 'x8', 'x9'], dtype='object')"
      ]
     },
     "execution_count": 42,
     "metadata": {},
     "output_type": "execute_result"
    }
   ],
   "source": [
    "mt.index"
   ]
  },
  {
   "cell_type": "markdown",
   "metadata": {},
   "source": [
    "### Adding new columns and rows to an existing DataFrame\n",
    "Given the DataFrame:"
   ]
  },
  {
   "cell_type": "code",
   "execution_count": 43,
   "metadata": {
    "tags": []
   },
   "outputs": [
    {
     "data": {
      "text/html": [
       "<div>\n",
       "<style scoped>\n",
       "    .dataframe tbody tr th:only-of-type {\n",
       "        vertical-align: middle;\n",
       "    }\n",
       "\n",
       "    .dataframe tbody tr th {\n",
       "        vertical-align: top;\n",
       "    }\n",
       "\n",
       "    .dataframe thead th {\n",
       "        text-align: right;\n",
       "    }\n",
       "</style>\n",
       "<table border=\"1\" class=\"dataframe\">\n",
       "  <thead>\n",
       "    <tr style=\"text-align: right;\">\n",
       "      <th></th>\n",
       "      <th>byOne</th>\n",
       "      <th>byTwo</th>\n",
       "      <th>byThree</th>\n",
       "      <th>byFour</th>\n",
       "    </tr>\n",
       "  </thead>\n",
       "  <tbody>\n",
       "    <tr>\n",
       "      <th>x1</th>\n",
       "      <td>1</td>\n",
       "      <td>2</td>\n",
       "      <td>3</td>\n",
       "      <td>4</td>\n",
       "    </tr>\n",
       "    <tr>\n",
       "      <th>x2</th>\n",
       "      <td>2</td>\n",
       "      <td>4</td>\n",
       "      <td>6</td>\n",
       "      <td>8</td>\n",
       "    </tr>\n",
       "    <tr>\n",
       "      <th>x3</th>\n",
       "      <td>3</td>\n",
       "      <td>6</td>\n",
       "      <td>9</td>\n",
       "      <td>12</td>\n",
       "    </tr>\n",
       "    <tr>\n",
       "      <th>x4</th>\n",
       "      <td>4</td>\n",
       "      <td>8</td>\n",
       "      <td>12</td>\n",
       "      <td>16</td>\n",
       "    </tr>\n",
       "    <tr>\n",
       "      <th>x5</th>\n",
       "      <td>5</td>\n",
       "      <td>10</td>\n",
       "      <td>15</td>\n",
       "      <td>20</td>\n",
       "    </tr>\n",
       "    <tr>\n",
       "      <th>x6</th>\n",
       "      <td>6</td>\n",
       "      <td>12</td>\n",
       "      <td>18</td>\n",
       "      <td>24</td>\n",
       "    </tr>\n",
       "    <tr>\n",
       "      <th>x7</th>\n",
       "      <td>7</td>\n",
       "      <td>14</td>\n",
       "      <td>21</td>\n",
       "      <td>28</td>\n",
       "    </tr>\n",
       "    <tr>\n",
       "      <th>x8</th>\n",
       "      <td>8</td>\n",
       "      <td>16</td>\n",
       "      <td>24</td>\n",
       "      <td>32</td>\n",
       "    </tr>\n",
       "    <tr>\n",
       "      <th>x9</th>\n",
       "      <td>9</td>\n",
       "      <td>18</td>\n",
       "      <td>27</td>\n",
       "      <td>36</td>\n",
       "    </tr>\n",
       "  </tbody>\n",
       "</table>\n",
       "</div>"
      ],
      "text/plain": [
       "    byOne  byTwo  byThree  byFour\n",
       "x1      1      2        3       4\n",
       "x2      2      4        6       8\n",
       "x3      3      6        9      12\n",
       "x4      4      8       12      16\n",
       "x5      5     10       15      20\n",
       "x6      6     12       18      24\n",
       "x7      7     14       21      28\n",
       "x8      8     16       24      32\n",
       "x9      9     18       27      36"
      ]
     },
     "execution_count": 43,
     "metadata": {},
     "output_type": "execute_result"
    }
   ],
   "source": [
    "mt"
   ]
  },
  {
   "cell_type": "markdown",
   "metadata": {},
   "source": [
    "We can add a new column like this:"
   ]
  },
  {
   "cell_type": "code",
   "execution_count": 44,
   "metadata": {
    "tags": []
   },
   "outputs": [
    {
     "data": {
      "text/html": [
       "<div>\n",
       "<style scoped>\n",
       "    .dataframe tbody tr th:only-of-type {\n",
       "        vertical-align: middle;\n",
       "    }\n",
       "\n",
       "    .dataframe tbody tr th {\n",
       "        vertical-align: top;\n",
       "    }\n",
       "\n",
       "    .dataframe thead th {\n",
       "        text-align: right;\n",
       "    }\n",
       "</style>\n",
       "<table border=\"1\" class=\"dataframe\">\n",
       "  <thead>\n",
       "    <tr style=\"text-align: right;\">\n",
       "      <th></th>\n",
       "      <th>byOne</th>\n",
       "      <th>byTwo</th>\n",
       "      <th>byThree</th>\n",
       "      <th>byFour</th>\n",
       "      <th>byFive</th>\n",
       "    </tr>\n",
       "  </thead>\n",
       "  <tbody>\n",
       "    <tr>\n",
       "      <th>x1</th>\n",
       "      <td>1</td>\n",
       "      <td>2</td>\n",
       "      <td>3</td>\n",
       "      <td>4</td>\n",
       "      <td>5</td>\n",
       "    </tr>\n",
       "    <tr>\n",
       "      <th>x2</th>\n",
       "      <td>2</td>\n",
       "      <td>4</td>\n",
       "      <td>6</td>\n",
       "      <td>8</td>\n",
       "      <td>10</td>\n",
       "    </tr>\n",
       "    <tr>\n",
       "      <th>x3</th>\n",
       "      <td>3</td>\n",
       "      <td>6</td>\n",
       "      <td>9</td>\n",
       "      <td>12</td>\n",
       "      <td>15</td>\n",
       "    </tr>\n",
       "    <tr>\n",
       "      <th>x4</th>\n",
       "      <td>4</td>\n",
       "      <td>8</td>\n",
       "      <td>12</td>\n",
       "      <td>16</td>\n",
       "      <td>20</td>\n",
       "    </tr>\n",
       "    <tr>\n",
       "      <th>x5</th>\n",
       "      <td>5</td>\n",
       "      <td>10</td>\n",
       "      <td>15</td>\n",
       "      <td>20</td>\n",
       "      <td>25</td>\n",
       "    </tr>\n",
       "    <tr>\n",
       "      <th>x6</th>\n",
       "      <td>6</td>\n",
       "      <td>12</td>\n",
       "      <td>18</td>\n",
       "      <td>24</td>\n",
       "      <td>30</td>\n",
       "    </tr>\n",
       "    <tr>\n",
       "      <th>x7</th>\n",
       "      <td>7</td>\n",
       "      <td>14</td>\n",
       "      <td>21</td>\n",
       "      <td>28</td>\n",
       "      <td>35</td>\n",
       "    </tr>\n",
       "    <tr>\n",
       "      <th>x8</th>\n",
       "      <td>8</td>\n",
       "      <td>16</td>\n",
       "      <td>24</td>\n",
       "      <td>32</td>\n",
       "      <td>40</td>\n",
       "    </tr>\n",
       "    <tr>\n",
       "      <th>x9</th>\n",
       "      <td>9</td>\n",
       "      <td>18</td>\n",
       "      <td>27</td>\n",
       "      <td>36</td>\n",
       "      <td>45</td>\n",
       "    </tr>\n",
       "  </tbody>\n",
       "</table>\n",
       "</div>"
      ],
      "text/plain": [
       "    byOne  byTwo  byThree  byFour  byFive\n",
       "x1      1      2        3       4       5\n",
       "x2      2      4        6       8      10\n",
       "x3      3      6        9      12      15\n",
       "x4      4      8       12      16      20\n",
       "x5      5     10       15      20      25\n",
       "x6      6     12       18      24      30\n",
       "x7      7     14       21      28      35\n",
       "x8      8     16       24      32      40\n",
       "x9      9     18       27      36      45"
      ]
     },
     "execution_count": 44,
     "metadata": {},
     "output_type": "execute_result"
    }
   ],
   "source": [
    "mt['byFive'] = 5 * np.arange(1, 10)\n",
    "\n",
    "mt"
   ]
  },
  {
   "cell_type": "markdown",
   "metadata": {},
   "source": [
    "And using the `.loc`, we can add a new row like this:"
   ]
  },
  {
   "cell_type": "code",
   "execution_count": 45,
   "metadata": {
    "tags": []
   },
   "outputs": [
    {
     "data": {
      "text/html": [
       "<div>\n",
       "<style scoped>\n",
       "    .dataframe tbody tr th:only-of-type {\n",
       "        vertical-align: middle;\n",
       "    }\n",
       "\n",
       "    .dataframe tbody tr th {\n",
       "        vertical-align: top;\n",
       "    }\n",
       "\n",
       "    .dataframe thead th {\n",
       "        text-align: right;\n",
       "    }\n",
       "</style>\n",
       "<table border=\"1\" class=\"dataframe\">\n",
       "  <thead>\n",
       "    <tr style=\"text-align: right;\">\n",
       "      <th></th>\n",
       "      <th>byOne</th>\n",
       "      <th>byTwo</th>\n",
       "      <th>byThree</th>\n",
       "      <th>byFour</th>\n",
       "      <th>byFive</th>\n",
       "    </tr>\n",
       "  </thead>\n",
       "  <tbody>\n",
       "    <tr>\n",
       "      <th>x1</th>\n",
       "      <td>1</td>\n",
       "      <td>2</td>\n",
       "      <td>3</td>\n",
       "      <td>4</td>\n",
       "      <td>5</td>\n",
       "    </tr>\n",
       "    <tr>\n",
       "      <th>x2</th>\n",
       "      <td>2</td>\n",
       "      <td>4</td>\n",
       "      <td>6</td>\n",
       "      <td>8</td>\n",
       "      <td>10</td>\n",
       "    </tr>\n",
       "    <tr>\n",
       "      <th>x3</th>\n",
       "      <td>3</td>\n",
       "      <td>6</td>\n",
       "      <td>9</td>\n",
       "      <td>12</td>\n",
       "      <td>15</td>\n",
       "    </tr>\n",
       "    <tr>\n",
       "      <th>x4</th>\n",
       "      <td>4</td>\n",
       "      <td>8</td>\n",
       "      <td>12</td>\n",
       "      <td>16</td>\n",
       "      <td>20</td>\n",
       "    </tr>\n",
       "    <tr>\n",
       "      <th>x5</th>\n",
       "      <td>5</td>\n",
       "      <td>10</td>\n",
       "      <td>15</td>\n",
       "      <td>20</td>\n",
       "      <td>25</td>\n",
       "    </tr>\n",
       "    <tr>\n",
       "      <th>x6</th>\n",
       "      <td>6</td>\n",
       "      <td>12</td>\n",
       "      <td>18</td>\n",
       "      <td>24</td>\n",
       "      <td>30</td>\n",
       "    </tr>\n",
       "    <tr>\n",
       "      <th>x7</th>\n",
       "      <td>7</td>\n",
       "      <td>14</td>\n",
       "      <td>21</td>\n",
       "      <td>28</td>\n",
       "      <td>35</td>\n",
       "    </tr>\n",
       "    <tr>\n",
       "      <th>x8</th>\n",
       "      <td>8</td>\n",
       "      <td>16</td>\n",
       "      <td>24</td>\n",
       "      <td>32</td>\n",
       "      <td>40</td>\n",
       "    </tr>\n",
       "    <tr>\n",
       "      <th>x9</th>\n",
       "      <td>9</td>\n",
       "      <td>18</td>\n",
       "      <td>27</td>\n",
       "      <td>36</td>\n",
       "      <td>45</td>\n",
       "    </tr>\n",
       "    <tr>\n",
       "      <th>x10</th>\n",
       "      <td>10</td>\n",
       "      <td>20</td>\n",
       "      <td>30</td>\n",
       "      <td>40</td>\n",
       "      <td>50</td>\n",
       "    </tr>\n",
       "  </tbody>\n",
       "</table>\n",
       "</div>"
      ],
      "text/plain": [
       "     byOne  byTwo  byThree  byFour  byFive\n",
       "x1       1      2        3       4       5\n",
       "x2       2      4        6       8      10\n",
       "x3       3      6        9      12      15\n",
       "x4       4      8       12      16      20\n",
       "x5       5     10       15      20      25\n",
       "x6       6     12       18      24      30\n",
       "x7       7     14       21      28      35\n",
       "x8       8     16       24      32      40\n",
       "x9       9     18       27      36      45\n",
       "x10     10     20       30      40      50"
      ]
     },
     "execution_count": 45,
     "metadata": {},
     "output_type": "execute_result"
    }
   ],
   "source": [
    "mt.loc['x10'] = 10 * np.arange(1, 6)\n",
    "mt"
   ]
  },
  {
   "cell_type": "markdown",
   "metadata": {},
   "source": [
    "### Dropping a column or a row from a DataFrame\n",
    "We can use the `drop` method to remove a column from a DataFrame. Let's remove the column `byFive` we added above:"
   ]
  },
  {
   "cell_type": "code",
   "execution_count": 46,
   "metadata": {},
   "outputs": [
    {
     "data": {
      "text/html": [
       "<div>\n",
       "<style scoped>\n",
       "    .dataframe tbody tr th:only-of-type {\n",
       "        vertical-align: middle;\n",
       "    }\n",
       "\n",
       "    .dataframe tbody tr th {\n",
       "        vertical-align: top;\n",
       "    }\n",
       "\n",
       "    .dataframe thead th {\n",
       "        text-align: right;\n",
       "    }\n",
       "</style>\n",
       "<table border=\"1\" class=\"dataframe\">\n",
       "  <thead>\n",
       "    <tr style=\"text-align: right;\">\n",
       "      <th></th>\n",
       "      <th>byOne</th>\n",
       "      <th>byTwo</th>\n",
       "      <th>byThree</th>\n",
       "      <th>byFour</th>\n",
       "    </tr>\n",
       "  </thead>\n",
       "  <tbody>\n",
       "    <tr>\n",
       "      <th>x1</th>\n",
       "      <td>1</td>\n",
       "      <td>2</td>\n",
       "      <td>3</td>\n",
       "      <td>4</td>\n",
       "    </tr>\n",
       "    <tr>\n",
       "      <th>x2</th>\n",
       "      <td>2</td>\n",
       "      <td>4</td>\n",
       "      <td>6</td>\n",
       "      <td>8</td>\n",
       "    </tr>\n",
       "    <tr>\n",
       "      <th>x3</th>\n",
       "      <td>3</td>\n",
       "      <td>6</td>\n",
       "      <td>9</td>\n",
       "      <td>12</td>\n",
       "    </tr>\n",
       "    <tr>\n",
       "      <th>x4</th>\n",
       "      <td>4</td>\n",
       "      <td>8</td>\n",
       "      <td>12</td>\n",
       "      <td>16</td>\n",
       "    </tr>\n",
       "    <tr>\n",
       "      <th>x5</th>\n",
       "      <td>5</td>\n",
       "      <td>10</td>\n",
       "      <td>15</td>\n",
       "      <td>20</td>\n",
       "    </tr>\n",
       "    <tr>\n",
       "      <th>x6</th>\n",
       "      <td>6</td>\n",
       "      <td>12</td>\n",
       "      <td>18</td>\n",
       "      <td>24</td>\n",
       "    </tr>\n",
       "    <tr>\n",
       "      <th>x7</th>\n",
       "      <td>7</td>\n",
       "      <td>14</td>\n",
       "      <td>21</td>\n",
       "      <td>28</td>\n",
       "    </tr>\n",
       "    <tr>\n",
       "      <th>x8</th>\n",
       "      <td>8</td>\n",
       "      <td>16</td>\n",
       "      <td>24</td>\n",
       "      <td>32</td>\n",
       "    </tr>\n",
       "    <tr>\n",
       "      <th>x9</th>\n",
       "      <td>9</td>\n",
       "      <td>18</td>\n",
       "      <td>27</td>\n",
       "      <td>36</td>\n",
       "    </tr>\n",
       "    <tr>\n",
       "      <th>x10</th>\n",
       "      <td>10</td>\n",
       "      <td>20</td>\n",
       "      <td>30</td>\n",
       "      <td>40</td>\n",
       "    </tr>\n",
       "  </tbody>\n",
       "</table>\n",
       "</div>"
      ],
      "text/plain": [
       "     byOne  byTwo  byThree  byFour\n",
       "x1       1      2        3       4\n",
       "x2       2      4        6       8\n",
       "x3       3      6        9      12\n",
       "x4       4      8       12      16\n",
       "x5       5     10       15      20\n",
       "x6       6     12       18      24\n",
       "x7       7     14       21      28\n",
       "x8       8     16       24      32\n",
       "x9       9     18       27      36\n",
       "x10     10     20       30      40"
      ]
     },
     "execution_count": 46,
     "metadata": {},
     "output_type": "execute_result"
    }
   ],
   "source": [
    "mt.drop(['byFive'], axis=1)"
   ]
  },
  {
   "cell_type": "markdown",
   "metadata": {},
   "source": [
    "Here `axis=1` refers to columns. To drop a row we use `axis=0` and provide a index instead of a column name."
   ]
  },
  {
   "cell_type": "code",
   "execution_count": 47,
   "metadata": {},
   "outputs": [
    {
     "data": {
      "text/html": [
       "<div>\n",
       "<style scoped>\n",
       "    .dataframe tbody tr th:only-of-type {\n",
       "        vertical-align: middle;\n",
       "    }\n",
       "\n",
       "    .dataframe tbody tr th {\n",
       "        vertical-align: top;\n",
       "    }\n",
       "\n",
       "    .dataframe thead th {\n",
       "        text-align: right;\n",
       "    }\n",
       "</style>\n",
       "<table border=\"1\" class=\"dataframe\">\n",
       "  <thead>\n",
       "    <tr style=\"text-align: right;\">\n",
       "      <th></th>\n",
       "      <th>byOne</th>\n",
       "      <th>byTwo</th>\n",
       "      <th>byThree</th>\n",
       "      <th>byFour</th>\n",
       "      <th>byFive</th>\n",
       "    </tr>\n",
       "  </thead>\n",
       "  <tbody>\n",
       "    <tr>\n",
       "      <th>x1</th>\n",
       "      <td>1</td>\n",
       "      <td>2</td>\n",
       "      <td>3</td>\n",
       "      <td>4</td>\n",
       "      <td>5</td>\n",
       "    </tr>\n",
       "    <tr>\n",
       "      <th>x2</th>\n",
       "      <td>2</td>\n",
       "      <td>4</td>\n",
       "      <td>6</td>\n",
       "      <td>8</td>\n",
       "      <td>10</td>\n",
       "    </tr>\n",
       "    <tr>\n",
       "      <th>x3</th>\n",
       "      <td>3</td>\n",
       "      <td>6</td>\n",
       "      <td>9</td>\n",
       "      <td>12</td>\n",
       "      <td>15</td>\n",
       "    </tr>\n",
       "    <tr>\n",
       "      <th>x4</th>\n",
       "      <td>4</td>\n",
       "      <td>8</td>\n",
       "      <td>12</td>\n",
       "      <td>16</td>\n",
       "      <td>20</td>\n",
       "    </tr>\n",
       "    <tr>\n",
       "      <th>x5</th>\n",
       "      <td>5</td>\n",
       "      <td>10</td>\n",
       "      <td>15</td>\n",
       "      <td>20</td>\n",
       "      <td>25</td>\n",
       "    </tr>\n",
       "    <tr>\n",
       "      <th>x6</th>\n",
       "      <td>6</td>\n",
       "      <td>12</td>\n",
       "      <td>18</td>\n",
       "      <td>24</td>\n",
       "      <td>30</td>\n",
       "    </tr>\n",
       "    <tr>\n",
       "      <th>x7</th>\n",
       "      <td>7</td>\n",
       "      <td>14</td>\n",
       "      <td>21</td>\n",
       "      <td>28</td>\n",
       "      <td>35</td>\n",
       "    </tr>\n",
       "    <tr>\n",
       "      <th>x8</th>\n",
       "      <td>8</td>\n",
       "      <td>16</td>\n",
       "      <td>24</td>\n",
       "      <td>32</td>\n",
       "      <td>40</td>\n",
       "    </tr>\n",
       "    <tr>\n",
       "      <th>x9</th>\n",
       "      <td>9</td>\n",
       "      <td>18</td>\n",
       "      <td>27</td>\n",
       "      <td>36</td>\n",
       "      <td>45</td>\n",
       "    </tr>\n",
       "  </tbody>\n",
       "</table>\n",
       "</div>"
      ],
      "text/plain": [
       "    byOne  byTwo  byThree  byFour  byFive\n",
       "x1      1      2        3       4       5\n",
       "x2      2      4        6       8      10\n",
       "x3      3      6        9      12      15\n",
       "x4      4      8       12      16      20\n",
       "x5      5     10       15      20      25\n",
       "x6      6     12       18      24      30\n",
       "x7      7     14       21      28      35\n",
       "x8      8     16       24      32      40\n",
       "x9      9     18       27      36      45"
      ]
     },
     "execution_count": 47,
     "metadata": {},
     "output_type": "execute_result"
    }
   ],
   "source": [
    "mt.drop(['x10'], axis=0)"
   ]
  },
  {
   "cell_type": "markdown",
   "metadata": {},
   "source": [
    "### DataFrame indexing and slicing\n",
    "\n",
    "We can use the column names and indexes to access individual cells."
   ]
  },
  {
   "cell_type": "code",
   "execution_count": 48,
   "metadata": {},
   "outputs": [
    {
     "data": {
      "text/plain": [
       "10"
      ]
     },
     "execution_count": 48,
     "metadata": {},
     "output_type": "execute_result"
    }
   ],
   "source": [
    "mt['byTwo']['x5']"
   ]
  },
  {
   "cell_type": "markdown",
   "metadata": {},
   "source": [
    "To extract a single column, use its name:"
   ]
  },
  {
   "cell_type": "code",
   "execution_count": 49,
   "metadata": {},
   "outputs": [
    {
     "data": {
      "text/plain": [
       "x1      3\n",
       "x2      6\n",
       "x3      9\n",
       "x4     12\n",
       "x5     15\n",
       "x6     18\n",
       "x7     21\n",
       "x8     24\n",
       "x9     27\n",
       "x10    30\n",
       "Name: byThree, dtype: int64"
      ]
     },
     "execution_count": 49,
     "metadata": {},
     "output_type": "execute_result"
    }
   ],
   "source": [
    "mt['byThree']"
   ]
  },
  {
   "cell_type": "markdown",
   "metadata": {},
   "source": [
    "And use an array of column names to extract multiple columns"
   ]
  },
  {
   "cell_type": "code",
   "execution_count": 50,
   "metadata": {
    "tags": []
   },
   "outputs": [
    {
     "data": {
      "text/html": [
       "<div>\n",
       "<style scoped>\n",
       "    .dataframe tbody tr th:only-of-type {\n",
       "        vertical-align: middle;\n",
       "    }\n",
       "\n",
       "    .dataframe tbody tr th {\n",
       "        vertical-align: top;\n",
       "    }\n",
       "\n",
       "    .dataframe thead th {\n",
       "        text-align: right;\n",
       "    }\n",
       "</style>\n",
       "<table border=\"1\" class=\"dataframe\">\n",
       "  <thead>\n",
       "    <tr style=\"text-align: right;\">\n",
       "      <th></th>\n",
       "      <th>byTwo</th>\n",
       "      <th>byFour</th>\n",
       "    </tr>\n",
       "  </thead>\n",
       "  <tbody>\n",
       "    <tr>\n",
       "      <th>x1</th>\n",
       "      <td>2</td>\n",
       "      <td>4</td>\n",
       "    </tr>\n",
       "    <tr>\n",
       "      <th>x2</th>\n",
       "      <td>4</td>\n",
       "      <td>8</td>\n",
       "    </tr>\n",
       "    <tr>\n",
       "      <th>x3</th>\n",
       "      <td>6</td>\n",
       "      <td>12</td>\n",
       "    </tr>\n",
       "    <tr>\n",
       "      <th>x4</th>\n",
       "      <td>8</td>\n",
       "      <td>16</td>\n",
       "    </tr>\n",
       "    <tr>\n",
       "      <th>x5</th>\n",
       "      <td>10</td>\n",
       "      <td>20</td>\n",
       "    </tr>\n",
       "    <tr>\n",
       "      <th>x6</th>\n",
       "      <td>12</td>\n",
       "      <td>24</td>\n",
       "    </tr>\n",
       "    <tr>\n",
       "      <th>x7</th>\n",
       "      <td>14</td>\n",
       "      <td>28</td>\n",
       "    </tr>\n",
       "    <tr>\n",
       "      <th>x8</th>\n",
       "      <td>16</td>\n",
       "      <td>32</td>\n",
       "    </tr>\n",
       "    <tr>\n",
       "      <th>x9</th>\n",
       "      <td>18</td>\n",
       "      <td>36</td>\n",
       "    </tr>\n",
       "    <tr>\n",
       "      <th>x10</th>\n",
       "      <td>20</td>\n",
       "      <td>40</td>\n",
       "    </tr>\n",
       "  </tbody>\n",
       "</table>\n",
       "</div>"
      ],
      "text/plain": [
       "     byTwo  byFour\n",
       "x1       2       4\n",
       "x2       4       8\n",
       "x3       6      12\n",
       "x4       8      16\n",
       "x5      10      20\n",
       "x6      12      24\n",
       "x7      14      28\n",
       "x8      16      32\n",
       "x9      18      36\n",
       "x10     20      40"
      ]
     },
     "execution_count": 50,
     "metadata": {},
     "output_type": "execute_result"
    }
   ],
   "source": [
    "mt[['byTwo', 'byFour']]"
   ]
  },
  {
   "cell_type": "markdown",
   "metadata": {},
   "source": [
    "Use `.loc` to access a specific row using its index:"
   ]
  },
  {
   "cell_type": "code",
   "execution_count": 51,
   "metadata": {},
   "outputs": [
    {
     "data": {
      "text/plain": [
       "byOne       6\n",
       "byTwo      12\n",
       "byThree    18\n",
       "byFour     24\n",
       "byFive     30\n",
       "Name: x6, dtype: int64"
      ]
     },
     "execution_count": 51,
     "metadata": {},
     "output_type": "execute_result"
    }
   ],
   "source": [
    "mt.loc['x6']"
   ]
  },
  {
   "cell_type": "markdown",
   "metadata": {},
   "source": [
    "Similarly we can extract rows using their index positions using `.iloc[]`. We can, for example extract the first row using the its index position `0` (the index itself is `x1`)."
   ]
  },
  {
   "cell_type": "code",
   "execution_count": 52,
   "metadata": {},
   "outputs": [
    {
     "data": {
      "text/plain": [
       "byOne      1\n",
       "byTwo      2\n",
       "byThree    3\n",
       "byFour     4\n",
       "byFive     5\n",
       "Name: x1, dtype: int64"
      ]
     },
     "execution_count": 52,
     "metadata": {},
     "output_type": "execute_result"
    }
   ],
   "source": [
    "mt.iloc[0]"
   ]
  },
  {
   "cell_type": "markdown",
   "metadata": {},
   "source": [
    "We can also use `.iloc` to access certain columns and rows based on their positions, much like the indexing and slicing of a two-dimensional NumPy array. Here is the whole DataFrame:"
   ]
  },
  {
   "cell_type": "code",
   "execution_count": 53,
   "metadata": {
    "tags": []
   },
   "outputs": [
    {
     "data": {
      "text/html": [
       "<div>\n",
       "<style scoped>\n",
       "    .dataframe tbody tr th:only-of-type {\n",
       "        vertical-align: middle;\n",
       "    }\n",
       "\n",
       "    .dataframe tbody tr th {\n",
       "        vertical-align: top;\n",
       "    }\n",
       "\n",
       "    .dataframe thead th {\n",
       "        text-align: right;\n",
       "    }\n",
       "</style>\n",
       "<table border=\"1\" class=\"dataframe\">\n",
       "  <thead>\n",
       "    <tr style=\"text-align: right;\">\n",
       "      <th></th>\n",
       "      <th>byOne</th>\n",
       "      <th>byTwo</th>\n",
       "      <th>byThree</th>\n",
       "      <th>byFour</th>\n",
       "      <th>byFive</th>\n",
       "    </tr>\n",
       "  </thead>\n",
       "  <tbody>\n",
       "    <tr>\n",
       "      <th>x1</th>\n",
       "      <td>1</td>\n",
       "      <td>2</td>\n",
       "      <td>3</td>\n",
       "      <td>4</td>\n",
       "      <td>5</td>\n",
       "    </tr>\n",
       "    <tr>\n",
       "      <th>x2</th>\n",
       "      <td>2</td>\n",
       "      <td>4</td>\n",
       "      <td>6</td>\n",
       "      <td>8</td>\n",
       "      <td>10</td>\n",
       "    </tr>\n",
       "    <tr>\n",
       "      <th>x3</th>\n",
       "      <td>3</td>\n",
       "      <td>6</td>\n",
       "      <td>9</td>\n",
       "      <td>12</td>\n",
       "      <td>15</td>\n",
       "    </tr>\n",
       "    <tr>\n",
       "      <th>x4</th>\n",
       "      <td>4</td>\n",
       "      <td>8</td>\n",
       "      <td>12</td>\n",
       "      <td>16</td>\n",
       "      <td>20</td>\n",
       "    </tr>\n",
       "    <tr>\n",
       "      <th>x5</th>\n",
       "      <td>5</td>\n",
       "      <td>10</td>\n",
       "      <td>15</td>\n",
       "      <td>20</td>\n",
       "      <td>25</td>\n",
       "    </tr>\n",
       "    <tr>\n",
       "      <th>x6</th>\n",
       "      <td>6</td>\n",
       "      <td>12</td>\n",
       "      <td>18</td>\n",
       "      <td>24</td>\n",
       "      <td>30</td>\n",
       "    </tr>\n",
       "    <tr>\n",
       "      <th>x7</th>\n",
       "      <td>7</td>\n",
       "      <td>14</td>\n",
       "      <td>21</td>\n",
       "      <td>28</td>\n",
       "      <td>35</td>\n",
       "    </tr>\n",
       "    <tr>\n",
       "      <th>x8</th>\n",
       "      <td>8</td>\n",
       "      <td>16</td>\n",
       "      <td>24</td>\n",
       "      <td>32</td>\n",
       "      <td>40</td>\n",
       "    </tr>\n",
       "    <tr>\n",
       "      <th>x9</th>\n",
       "      <td>9</td>\n",
       "      <td>18</td>\n",
       "      <td>27</td>\n",
       "      <td>36</td>\n",
       "      <td>45</td>\n",
       "    </tr>\n",
       "    <tr>\n",
       "      <th>x10</th>\n",
       "      <td>10</td>\n",
       "      <td>20</td>\n",
       "      <td>30</td>\n",
       "      <td>40</td>\n",
       "      <td>50</td>\n",
       "    </tr>\n",
       "  </tbody>\n",
       "</table>\n",
       "</div>"
      ],
      "text/plain": [
       "     byOne  byTwo  byThree  byFour  byFive\n",
       "x1       1      2        3       4       5\n",
       "x2       2      4        6       8      10\n",
       "x3       3      6        9      12      15\n",
       "x4       4      8       12      16      20\n",
       "x5       5     10       15      20      25\n",
       "x6       6     12       18      24      30\n",
       "x7       7     14       21      28      35\n",
       "x8       8     16       24      32      40\n",
       "x9       9     18       27      36      45\n",
       "x10     10     20       30      40      50"
      ]
     },
     "execution_count": 53,
     "metadata": {},
     "output_type": "execute_result"
    }
   ],
   "source": [
    "mt.iloc[:, :]"
   ]
  },
  {
   "cell_type": "markdown",
   "metadata": {},
   "source": [
    "In the `[:, :]` expression, the first `:` refers to all rows and the second `:` refers to all columns.\n",
    "\n",
    "Here is a slice from the third(position 2) row to the sixth (position 5) and from the second column (position 1) to the fifth column(position 4)."
   ]
  },
  {
   "cell_type": "code",
   "execution_count": 54,
   "metadata": {},
   "outputs": [
    {
     "data": {
      "text/html": [
       "<div>\n",
       "<style scoped>\n",
       "    .dataframe tbody tr th:only-of-type {\n",
       "        vertical-align: middle;\n",
       "    }\n",
       "\n",
       "    .dataframe tbody tr th {\n",
       "        vertical-align: top;\n",
       "    }\n",
       "\n",
       "    .dataframe thead th {\n",
       "        text-align: right;\n",
       "    }\n",
       "</style>\n",
       "<table border=\"1\" class=\"dataframe\">\n",
       "  <thead>\n",
       "    <tr style=\"text-align: right;\">\n",
       "      <th></th>\n",
       "      <th>byTwo</th>\n",
       "      <th>byThree</th>\n",
       "      <th>byFour</th>\n",
       "    </tr>\n",
       "  </thead>\n",
       "  <tbody>\n",
       "    <tr>\n",
       "      <th>x3</th>\n",
       "      <td>6</td>\n",
       "      <td>9</td>\n",
       "      <td>12</td>\n",
       "    </tr>\n",
       "    <tr>\n",
       "      <th>x4</th>\n",
       "      <td>8</td>\n",
       "      <td>12</td>\n",
       "      <td>16</td>\n",
       "    </tr>\n",
       "    <tr>\n",
       "      <th>x5</th>\n",
       "      <td>10</td>\n",
       "      <td>15</td>\n",
       "      <td>20</td>\n",
       "    </tr>\n",
       "  </tbody>\n",
       "</table>\n",
       "</div>"
      ],
      "text/plain": [
       "    byTwo  byThree  byFour\n",
       "x3      6        9      12\n",
       "x4      8       12      16\n",
       "x5     10       15      20"
      ]
     },
     "execution_count": 54,
     "metadata": {},
     "output_type": "execute_result"
    }
   ],
   "source": [
    "mt.iloc[2:5, 1:4]"
   ]
  },
  {
   "cell_type": "markdown",
   "metadata": {},
   "source": [
    "And here is every other column and row."
   ]
  },
  {
   "cell_type": "code",
   "execution_count": 55,
   "metadata": {},
   "outputs": [
    {
     "data": {
      "text/html": [
       "<div>\n",
       "<style scoped>\n",
       "    .dataframe tbody tr th:only-of-type {\n",
       "        vertical-align: middle;\n",
       "    }\n",
       "\n",
       "    .dataframe tbody tr th {\n",
       "        vertical-align: top;\n",
       "    }\n",
       "\n",
       "    .dataframe thead th {\n",
       "        text-align: right;\n",
       "    }\n",
       "</style>\n",
       "<table border=\"1\" class=\"dataframe\">\n",
       "  <thead>\n",
       "    <tr style=\"text-align: right;\">\n",
       "      <th></th>\n",
       "      <th>byOne</th>\n",
       "      <th>byThree</th>\n",
       "      <th>byFive</th>\n",
       "    </tr>\n",
       "  </thead>\n",
       "  <tbody>\n",
       "    <tr>\n",
       "      <th>x1</th>\n",
       "      <td>1</td>\n",
       "      <td>3</td>\n",
       "      <td>5</td>\n",
       "    </tr>\n",
       "    <tr>\n",
       "      <th>x3</th>\n",
       "      <td>3</td>\n",
       "      <td>9</td>\n",
       "      <td>15</td>\n",
       "    </tr>\n",
       "    <tr>\n",
       "      <th>x5</th>\n",
       "      <td>5</td>\n",
       "      <td>15</td>\n",
       "      <td>25</td>\n",
       "    </tr>\n",
       "    <tr>\n",
       "      <th>x7</th>\n",
       "      <td>7</td>\n",
       "      <td>21</td>\n",
       "      <td>35</td>\n",
       "    </tr>\n",
       "    <tr>\n",
       "      <th>x9</th>\n",
       "      <td>9</td>\n",
       "      <td>27</td>\n",
       "      <td>45</td>\n",
       "    </tr>\n",
       "  </tbody>\n",
       "</table>\n",
       "</div>"
      ],
      "text/plain": [
       "    byOne  byThree  byFive\n",
       "x1      1        3       5\n",
       "x3      3        9      15\n",
       "x5      5       15      25\n",
       "x7      7       21      35\n",
       "x9      9       27      45"
      ]
     },
     "execution_count": 55,
     "metadata": {},
     "output_type": "execute_result"
    }
   ],
   "source": [
    "mt.iloc[::2, ::2]"
   ]
  },
  {
   "cell_type": "markdown",
   "metadata": {},
   "source": [
    "Finally we can use the methods `head` and `tail` to display the first couple of rows at the top or the bottom of a DataFrame. This is useful for exploring large dataframes."
   ]
  },
  {
   "cell_type": "code",
   "execution_count": 56,
   "metadata": {},
   "outputs": [
    {
     "name": "stdout",
     "output_type": "stream",
     "text": [
      "    byOne  byTwo  byThree  byFour  byFive\n",
      "x1      1      2        3       4       5\n",
      "x2      2      4        6       8      10\n",
      "x3      3      6        9      12      15\n",
      "x4      4      8       12      16      20\n",
      "x5      5     10       15      20      25\n",
      "    byOne  byTwo  byThree  byFour  byFive\n",
      "x1      1      2        3       4       5\n",
      "x2      2      4        6       8      10\n",
      "x3      3      6        9      12      15\n",
      "x4      4      8       12      16      20\n",
      "x5      5     10       15      20      25\n",
      "x6      6     12       18      24      30\n",
      "     byOne  byTwo  byThree  byFour  byFive\n",
      "x6       6     12       18      24      30\n",
      "x7       7     14       21      28      35\n",
      "x8       8     16       24      32      40\n",
      "x9       9     18       27      36      45\n",
      "x10     10     20       30      40      50\n",
      "     byOne  byTwo  byThree  byFour  byFive\n",
      "x4       4      8       12      16      20\n",
      "x5       5     10       15      20      25\n",
      "x6       6     12       18      24      30\n",
      "x7       7     14       21      28      35\n",
      "x8       8     16       24      32      40\n",
      "x9       9     18       27      36      45\n",
      "x10     10     20       30      40      50\n"
     ]
    }
   ],
   "source": [
    "print(mt.head())\n",
    "print(mt.head(6))\n",
    "\n",
    "print(mt.tail())\n",
    "print(mt.tail(7))"
   ]
  },
  {
   "cell_type": "markdown",
   "metadata": {},
   "source": [
    "### Summarizing dataframes\n",
    "Given the following 50 by 10 DataFrame:"
   ]
  },
  {
   "cell_type": "code",
   "execution_count": 57,
   "metadata": {},
   "outputs": [],
   "source": [
    "data = pd.DataFrame(np.random.randn(50,10), columns=list('ABCDEFGHIJ'))"
   ]
  },
  {
   "cell_type": "code",
   "execution_count": 58,
   "metadata": {},
   "outputs": [
    {
     "data": {
      "text/html": [
       "<div>\n",
       "<style scoped>\n",
       "    .dataframe tbody tr th:only-of-type {\n",
       "        vertical-align: middle;\n",
       "    }\n",
       "\n",
       "    .dataframe tbody tr th {\n",
       "        vertical-align: top;\n",
       "    }\n",
       "\n",
       "    .dataframe thead th {\n",
       "        text-align: right;\n",
       "    }\n",
       "</style>\n",
       "<table border=\"1\" class=\"dataframe\">\n",
       "  <thead>\n",
       "    <tr style=\"text-align: right;\">\n",
       "      <th></th>\n",
       "      <th>A</th>\n",
       "      <th>B</th>\n",
       "      <th>C</th>\n",
       "      <th>D</th>\n",
       "      <th>E</th>\n",
       "      <th>F</th>\n",
       "      <th>G</th>\n",
       "      <th>H</th>\n",
       "      <th>I</th>\n",
       "      <th>J</th>\n",
       "    </tr>\n",
       "  </thead>\n",
       "  <tbody>\n",
       "    <tr>\n",
       "      <th>0</th>\n",
       "      <td>-0.811961</td>\n",
       "      <td>-0.798358</td>\n",
       "      <td>-0.376800</td>\n",
       "      <td>-0.678966</td>\n",
       "      <td>0.303423</td>\n",
       "      <td>1.092440</td>\n",
       "      <td>-0.132045</td>\n",
       "      <td>-0.187603</td>\n",
       "      <td>0.583273</td>\n",
       "      <td>1.139807</td>\n",
       "    </tr>\n",
       "    <tr>\n",
       "      <th>1</th>\n",
       "      <td>-0.272414</td>\n",
       "      <td>-0.486590</td>\n",
       "      <td>-0.912081</td>\n",
       "      <td>-1.808852</td>\n",
       "      <td>0.499609</td>\n",
       "      <td>0.225451</td>\n",
       "      <td>0.162242</td>\n",
       "      <td>0.392689</td>\n",
       "      <td>2.145085</td>\n",
       "      <td>0.387821</td>\n",
       "    </tr>\n",
       "    <tr>\n",
       "      <th>2</th>\n",
       "      <td>1.923813</td>\n",
       "      <td>-0.121194</td>\n",
       "      <td>-0.095437</td>\n",
       "      <td>1.260053</td>\n",
       "      <td>-0.041758</td>\n",
       "      <td>-0.010171</td>\n",
       "      <td>0.332426</td>\n",
       "      <td>-0.994572</td>\n",
       "      <td>0.071872</td>\n",
       "      <td>-0.191648</td>\n",
       "    </tr>\n",
       "    <tr>\n",
       "      <th>3</th>\n",
       "      <td>-2.251099</td>\n",
       "      <td>0.848856</td>\n",
       "      <td>0.005771</td>\n",
       "      <td>-0.696637</td>\n",
       "      <td>-1.353948</td>\n",
       "      <td>-0.042879</td>\n",
       "      <td>1.066680</td>\n",
       "      <td>0.309550</td>\n",
       "      <td>-0.266456</td>\n",
       "      <td>-0.050572</td>\n",
       "    </tr>\n",
       "    <tr>\n",
       "      <th>4</th>\n",
       "      <td>-0.039657</td>\n",
       "      <td>2.763803</td>\n",
       "      <td>-1.198420</td>\n",
       "      <td>-0.764451</td>\n",
       "      <td>-1.326138</td>\n",
       "      <td>0.491075</td>\n",
       "      <td>-0.525292</td>\n",
       "      <td>1.849568</td>\n",
       "      <td>-2.181931</td>\n",
       "      <td>1.030512</td>\n",
       "    </tr>\n",
       "  </tbody>\n",
       "</table>\n",
       "</div>"
      ],
      "text/plain": [
       "          A         B         C         D         E         F         G  \\\n",
       "0 -0.811961 -0.798358 -0.376800 -0.678966  0.303423  1.092440 -0.132045   \n",
       "1 -0.272414 -0.486590 -0.912081 -1.808852  0.499609  0.225451  0.162242   \n",
       "2  1.923813 -0.121194 -0.095437  1.260053 -0.041758 -0.010171  0.332426   \n",
       "3 -2.251099  0.848856  0.005771 -0.696637 -1.353948 -0.042879  1.066680   \n",
       "4 -0.039657  2.763803 -1.198420 -0.764451 -1.326138  0.491075 -0.525292   \n",
       "\n",
       "          H         I         J  \n",
       "0 -0.187603  0.583273  1.139807  \n",
       "1  0.392689  2.145085  0.387821  \n",
       "2 -0.994572  0.071872 -0.191648  \n",
       "3  0.309550 -0.266456 -0.050572  \n",
       "4  1.849568 -2.181931  1.030512  "
      ]
     },
     "execution_count": 58,
     "metadata": {},
     "output_type": "execute_result"
    }
   ],
   "source": [
    "data.head()"
   ]
  },
  {
   "cell_type": "markdown",
   "metadata": {},
   "source": [
    "We can statistically summarize it like this:"
   ]
  },
  {
   "cell_type": "code",
   "execution_count": 59,
   "metadata": {
    "tags": []
   },
   "outputs": [
    {
     "data": {
      "text/html": [
       "<div>\n",
       "<style scoped>\n",
       "    .dataframe tbody tr th:only-of-type {\n",
       "        vertical-align: middle;\n",
       "    }\n",
       "\n",
       "    .dataframe tbody tr th {\n",
       "        vertical-align: top;\n",
       "    }\n",
       "\n",
       "    .dataframe thead th {\n",
       "        text-align: right;\n",
       "    }\n",
       "</style>\n",
       "<table border=\"1\" class=\"dataframe\">\n",
       "  <thead>\n",
       "    <tr style=\"text-align: right;\">\n",
       "      <th></th>\n",
       "      <th>A</th>\n",
       "      <th>B</th>\n",
       "      <th>C</th>\n",
       "      <th>D</th>\n",
       "      <th>E</th>\n",
       "      <th>F</th>\n",
       "      <th>G</th>\n",
       "      <th>H</th>\n",
       "      <th>I</th>\n",
       "      <th>J</th>\n",
       "    </tr>\n",
       "  </thead>\n",
       "  <tbody>\n",
       "    <tr>\n",
       "      <th>count</th>\n",
       "      <td>50.000000</td>\n",
       "      <td>50.000000</td>\n",
       "      <td>50.000000</td>\n",
       "      <td>50.000000</td>\n",
       "      <td>50.000000</td>\n",
       "      <td>50.000000</td>\n",
       "      <td>50.000000</td>\n",
       "      <td>50.000000</td>\n",
       "      <td>50.000000</td>\n",
       "      <td>50.000000</td>\n",
       "    </tr>\n",
       "    <tr>\n",
       "      <th>mean</th>\n",
       "      <td>-0.328375</td>\n",
       "      <td>0.039660</td>\n",
       "      <td>-0.237477</td>\n",
       "      <td>-0.020927</td>\n",
       "      <td>-0.116715</td>\n",
       "      <td>-0.104886</td>\n",
       "      <td>0.034005</td>\n",
       "      <td>-0.007239</td>\n",
       "      <td>0.133902</td>\n",
       "      <td>0.067117</td>\n",
       "    </tr>\n",
       "    <tr>\n",
       "      <th>std</th>\n",
       "      <td>1.142806</td>\n",
       "      <td>1.054406</td>\n",
       "      <td>0.850358</td>\n",
       "      <td>1.037924</td>\n",
       "      <td>1.084255</td>\n",
       "      <td>0.875203</td>\n",
       "      <td>0.929302</td>\n",
       "      <td>1.076489</td>\n",
       "      <td>0.973543</td>\n",
       "      <td>1.036515</td>\n",
       "    </tr>\n",
       "    <tr>\n",
       "      <th>min</th>\n",
       "      <td>-2.586182</td>\n",
       "      <td>-1.775856</td>\n",
       "      <td>-2.195942</td>\n",
       "      <td>-2.105934</td>\n",
       "      <td>-3.398797</td>\n",
       "      <td>-1.673050</td>\n",
       "      <td>-1.811466</td>\n",
       "      <td>-2.070983</td>\n",
       "      <td>-2.181931</td>\n",
       "      <td>-2.405613</td>\n",
       "    </tr>\n",
       "    <tr>\n",
       "      <th>25%</th>\n",
       "      <td>-1.029028</td>\n",
       "      <td>-0.694146</td>\n",
       "      <td>-0.653179</td>\n",
       "      <td>-0.692219</td>\n",
       "      <td>-0.757759</td>\n",
       "      <td>-0.707564</td>\n",
       "      <td>-0.500330</td>\n",
       "      <td>-0.754791</td>\n",
       "      <td>-0.522445</td>\n",
       "      <td>-0.473121</td>\n",
       "    </tr>\n",
       "    <tr>\n",
       "      <th>50%</th>\n",
       "      <td>-0.401187</td>\n",
       "      <td>-0.088416</td>\n",
       "      <td>-0.224873</td>\n",
       "      <td>-0.032097</td>\n",
       "      <td>-0.131035</td>\n",
       "      <td>-0.166364</td>\n",
       "      <td>-0.134147</td>\n",
       "      <td>0.101575</td>\n",
       "      <td>0.128668</td>\n",
       "      <td>0.224886</td>\n",
       "    </tr>\n",
       "    <tr>\n",
       "      <th>75%</th>\n",
       "      <td>0.293037</td>\n",
       "      <td>0.679186</td>\n",
       "      <td>0.166425</td>\n",
       "      <td>0.622435</td>\n",
       "      <td>0.491441</td>\n",
       "      <td>0.437182</td>\n",
       "      <td>0.606957</td>\n",
       "      <td>0.546507</td>\n",
       "      <td>0.840316</td>\n",
       "      <td>0.901601</td>\n",
       "    </tr>\n",
       "    <tr>\n",
       "      <th>max</th>\n",
       "      <td>2.746011</td>\n",
       "      <td>2.763803</td>\n",
       "      <td>1.510572</td>\n",
       "      <td>2.868907</td>\n",
       "      <td>2.531847</td>\n",
       "      <td>1.951661</td>\n",
       "      <td>2.209481</td>\n",
       "      <td>2.615774</td>\n",
       "      <td>2.145085</td>\n",
       "      <td>1.521819</td>\n",
       "    </tr>\n",
       "  </tbody>\n",
       "</table>\n",
       "</div>"
      ],
      "text/plain": [
       "               A          B          C          D          E          F  \\\n",
       "count  50.000000  50.000000  50.000000  50.000000  50.000000  50.000000   \n",
       "mean   -0.328375   0.039660  -0.237477  -0.020927  -0.116715  -0.104886   \n",
       "std     1.142806   1.054406   0.850358   1.037924   1.084255   0.875203   \n",
       "min    -2.586182  -1.775856  -2.195942  -2.105934  -3.398797  -1.673050   \n",
       "25%    -1.029028  -0.694146  -0.653179  -0.692219  -0.757759  -0.707564   \n",
       "50%    -0.401187  -0.088416  -0.224873  -0.032097  -0.131035  -0.166364   \n",
       "75%     0.293037   0.679186   0.166425   0.622435   0.491441   0.437182   \n",
       "max     2.746011   2.763803   1.510572   2.868907   2.531847   1.951661   \n",
       "\n",
       "               G          H          I          J  \n",
       "count  50.000000  50.000000  50.000000  50.000000  \n",
       "mean    0.034005  -0.007239   0.133902   0.067117  \n",
       "std     0.929302   1.076489   0.973543   1.036515  \n",
       "min    -1.811466  -2.070983  -2.181931  -2.405613  \n",
       "25%    -0.500330  -0.754791  -0.522445  -0.473121  \n",
       "50%    -0.134147   0.101575   0.128668   0.224886  \n",
       "75%     0.606957   0.546507   0.840316   0.901601  \n",
       "max     2.209481   2.615774   2.145085   1.521819  "
      ]
     },
     "execution_count": 59,
     "metadata": {},
     "output_type": "execute_result"
    }
   ],
   "source": [
    "data.describe()"
   ]
  },
  {
   "cell_type": "markdown",
   "metadata": {},
   "source": [
    "We can also get the means of each column:"
   ]
  },
  {
   "cell_type": "code",
   "execution_count": 60,
   "metadata": {},
   "outputs": [
    {
     "data": {
      "text/plain": [
       "A   -0.328375\n",
       "B    0.039660\n",
       "C   -0.237477\n",
       "D   -0.020927\n",
       "E   -0.116715\n",
       "F   -0.104886\n",
       "G    0.034005\n",
       "H   -0.007239\n",
       "I    0.133902\n",
       "J    0.067117\n",
       "dtype: float64"
      ]
     },
     "execution_count": 60,
     "metadata": {},
     "output_type": "execute_result"
    }
   ],
   "source": [
    "data.mean()"
   ]
  },
  {
   "cell_type": "markdown",
   "metadata": {},
   "source": [
    "and the variances of each column:"
   ]
  },
  {
   "cell_type": "code",
   "execution_count": 61,
   "metadata": {},
   "outputs": [
    {
     "data": {
      "text/plain": [
       "A    1.306005\n",
       "B    1.111772\n",
       "C    0.723108\n",
       "D    1.077285\n",
       "E    1.175609\n",
       "F    0.765980\n",
       "G    0.863601\n",
       "H    1.158829\n",
       "I    0.947785\n",
       "J    1.074364\n",
       "dtype: float64"
      ]
     },
     "execution_count": 61,
     "metadata": {},
     "output_type": "execute_result"
    }
   ],
   "source": [
    "data.var()"
   ]
  },
  {
   "cell_type": "markdown",
   "metadata": {},
   "source": [
    "and the standard deviations of each column:"
   ]
  },
  {
   "cell_type": "code",
   "execution_count": 62,
   "metadata": {
    "tags": []
   },
   "outputs": [
    {
     "data": {
      "text/plain": [
       "A    1.142806\n",
       "B    1.054406\n",
       "C    0.850358\n",
       "D    1.037924\n",
       "E    1.084255\n",
       "F    0.875203\n",
       "G    0.929302\n",
       "H    1.076489\n",
       "I    0.973543\n",
       "J    1.036515\n",
       "dtype: float64"
      ]
     },
     "execution_count": 62,
     "metadata": {},
     "output_type": "execute_result"
    }
   ],
   "source": [
    "data.std()"
   ]
  },
  {
   "cell_type": "markdown",
   "metadata": {},
   "source": [
    "### Transposing DataFrames\n",
    "We can transpose a DataFrame by making columns rows and rows columns. That means also reversing columns and indexes."
   ]
  },
  {
   "cell_type": "code",
   "execution_count": 63,
   "metadata": {},
   "outputs": [
    {
     "data": {
      "text/html": [
       "<div>\n",
       "<style scoped>\n",
       "    .dataframe tbody tr th:only-of-type {\n",
       "        vertical-align: middle;\n",
       "    }\n",
       "\n",
       "    .dataframe tbody tr th {\n",
       "        vertical-align: top;\n",
       "    }\n",
       "\n",
       "    .dataframe thead th {\n",
       "        text-align: right;\n",
       "    }\n",
       "</style>\n",
       "<table border=\"1\" class=\"dataframe\">\n",
       "  <thead>\n",
       "    <tr style=\"text-align: right;\">\n",
       "      <th></th>\n",
       "      <th>0</th>\n",
       "      <th>1</th>\n",
       "      <th>2</th>\n",
       "      <th>3</th>\n",
       "      <th>4</th>\n",
       "      <th>5</th>\n",
       "      <th>6</th>\n",
       "      <th>7</th>\n",
       "      <th>8</th>\n",
       "      <th>9</th>\n",
       "      <th>...</th>\n",
       "      <th>40</th>\n",
       "      <th>41</th>\n",
       "      <th>42</th>\n",
       "      <th>43</th>\n",
       "      <th>44</th>\n",
       "      <th>45</th>\n",
       "      <th>46</th>\n",
       "      <th>47</th>\n",
       "      <th>48</th>\n",
       "      <th>49</th>\n",
       "    </tr>\n",
       "  </thead>\n",
       "  <tbody>\n",
       "    <tr>\n",
       "      <th>A</th>\n",
       "      <td>-0.811961</td>\n",
       "      <td>-0.272414</td>\n",
       "      <td>1.923813</td>\n",
       "      <td>-2.251099</td>\n",
       "      <td>-0.039657</td>\n",
       "      <td>-1.126927</td>\n",
       "      <td>-1.081643</td>\n",
       "      <td>1.327917</td>\n",
       "      <td>0.079474</td>\n",
       "      <td>0.163769</td>\n",
       "      <td>...</td>\n",
       "      <td>-1.046805</td>\n",
       "      <td>1.872617</td>\n",
       "      <td>1.034952</td>\n",
       "      <td>-0.719359</td>\n",
       "      <td>-0.726847</td>\n",
       "      <td>-0.445923</td>\n",
       "      <td>0.181807</td>\n",
       "      <td>0.229613</td>\n",
       "      <td>1.069191</td>\n",
       "      <td>-1.536973</td>\n",
       "    </tr>\n",
       "    <tr>\n",
       "      <th>B</th>\n",
       "      <td>-0.798358</td>\n",
       "      <td>-0.486590</td>\n",
       "      <td>-0.121194</td>\n",
       "      <td>0.848856</td>\n",
       "      <td>2.763803</td>\n",
       "      <td>-1.378958</td>\n",
       "      <td>2.167682</td>\n",
       "      <td>-0.594294</td>\n",
       "      <td>-0.244950</td>\n",
       "      <td>-0.320117</td>\n",
       "      <td>...</td>\n",
       "      <td>0.925603</td>\n",
       "      <td>0.266398</td>\n",
       "      <td>-1.460791</td>\n",
       "      <td>0.057098</td>\n",
       "      <td>0.521950</td>\n",
       "      <td>0.709095</td>\n",
       "      <td>0.511493</td>\n",
       "      <td>-1.775856</td>\n",
       "      <td>-0.691054</td>\n",
       "      <td>0.811600</td>\n",
       "    </tr>\n",
       "    <tr>\n",
       "      <th>C</th>\n",
       "      <td>-0.376800</td>\n",
       "      <td>-0.912081</td>\n",
       "      <td>-0.095437</td>\n",
       "      <td>0.005771</td>\n",
       "      <td>-1.198420</td>\n",
       "      <td>-0.649065</td>\n",
       "      <td>0.114580</td>\n",
       "      <td>-0.137107</td>\n",
       "      <td>-0.389125</td>\n",
       "      <td>0.390273</td>\n",
       "      <td>...</td>\n",
       "      <td>0.901979</td>\n",
       "      <td>1.272761</td>\n",
       "      <td>0.379281</td>\n",
       "      <td>-0.131958</td>\n",
       "      <td>-1.147083</td>\n",
       "      <td>-0.250288</td>\n",
       "      <td>-0.533708</td>\n",
       "      <td>-0.639323</td>\n",
       "      <td>1.173842</td>\n",
       "      <td>-0.383561</td>\n",
       "    </tr>\n",
       "    <tr>\n",
       "      <th>D</th>\n",
       "      <td>-0.678966</td>\n",
       "      <td>-1.808852</td>\n",
       "      <td>1.260053</td>\n",
       "      <td>-0.696637</td>\n",
       "      <td>-0.764451</td>\n",
       "      <td>0.106295</td>\n",
       "      <td>0.658379</td>\n",
       "      <td>0.349054</td>\n",
       "      <td>-0.267226</td>\n",
       "      <td>-0.479878</td>\n",
       "      <td>...</td>\n",
       "      <td>-0.495150</td>\n",
       "      <td>-1.505520</td>\n",
       "      <td>0.421957</td>\n",
       "      <td>-1.493584</td>\n",
       "      <td>0.285250</td>\n",
       "      <td>0.224574</td>\n",
       "      <td>0.276161</td>\n",
       "      <td>0.661882</td>\n",
       "      <td>2.684398</td>\n",
       "      <td>-0.659013</td>\n",
       "    </tr>\n",
       "    <tr>\n",
       "      <th>E</th>\n",
       "      <td>0.303423</td>\n",
       "      <td>0.499609</td>\n",
       "      <td>-0.041758</td>\n",
       "      <td>-1.353948</td>\n",
       "      <td>-1.326138</td>\n",
       "      <td>-0.730539</td>\n",
       "      <td>-0.228279</td>\n",
       "      <td>1.443068</td>\n",
       "      <td>0.266087</td>\n",
       "      <td>-0.515258</td>\n",
       "      <td>...</td>\n",
       "      <td>1.596619</td>\n",
       "      <td>-3.398797</td>\n",
       "      <td>2.531847</td>\n",
       "      <td>-0.173300</td>\n",
       "      <td>1.387350</td>\n",
       "      <td>-1.434987</td>\n",
       "      <td>0.054222</td>\n",
       "      <td>-0.154707</td>\n",
       "      <td>-1.140856</td>\n",
       "      <td>-1.073815</td>\n",
       "    </tr>\n",
       "    <tr>\n",
       "      <th>F</th>\n",
       "      <td>1.092440</td>\n",
       "      <td>0.225451</td>\n",
       "      <td>-0.010171</td>\n",
       "      <td>-0.042879</td>\n",
       "      <td>0.491075</td>\n",
       "      <td>-0.279838</td>\n",
       "      <td>-1.328200</td>\n",
       "      <td>-0.686350</td>\n",
       "      <td>-0.453522</td>\n",
       "      <td>0.152226</td>\n",
       "      <td>...</td>\n",
       "      <td>0.446291</td>\n",
       "      <td>1.417997</td>\n",
       "      <td>0.868661</td>\n",
       "      <td>0.027346</td>\n",
       "      <td>0.344005</td>\n",
       "      <td>-0.813722</td>\n",
       "      <td>-1.673050</td>\n",
       "      <td>1.253101</td>\n",
       "      <td>-1.200666</td>\n",
       "      <td>-0.811100</td>\n",
       "    </tr>\n",
       "    <tr>\n",
       "      <th>G</th>\n",
       "      <td>-0.132045</td>\n",
       "      <td>0.162242</td>\n",
       "      <td>0.332426</td>\n",
       "      <td>1.066680</td>\n",
       "      <td>-0.525292</td>\n",
       "      <td>-0.166119</td>\n",
       "      <td>0.358860</td>\n",
       "      <td>-1.229326</td>\n",
       "      <td>0.164934</td>\n",
       "      <td>-0.970985</td>\n",
       "      <td>...</td>\n",
       "      <td>-0.730074</td>\n",
       "      <td>-1.811466</td>\n",
       "      <td>-1.106529</td>\n",
       "      <td>0.900144</td>\n",
       "      <td>-0.511592</td>\n",
       "      <td>-0.263475</td>\n",
       "      <td>0.868835</td>\n",
       "      <td>0.793004</td>\n",
       "      <td>0.310193</td>\n",
       "      <td>-0.270300</td>\n",
       "    </tr>\n",
       "    <tr>\n",
       "      <th>H</th>\n",
       "      <td>-0.187603</td>\n",
       "      <td>0.392689</td>\n",
       "      <td>-0.994572</td>\n",
       "      <td>0.309550</td>\n",
       "      <td>1.849568</td>\n",
       "      <td>0.143574</td>\n",
       "      <td>-1.159110</td>\n",
       "      <td>0.361432</td>\n",
       "      <td>-0.202442</td>\n",
       "      <td>-0.698109</td>\n",
       "      <td>...</td>\n",
       "      <td>0.411376</td>\n",
       "      <td>0.862907</td>\n",
       "      <td>-0.625997</td>\n",
       "      <td>1.621195</td>\n",
       "      <td>-0.775420</td>\n",
       "      <td>-0.275807</td>\n",
       "      <td>-0.038538</td>\n",
       "      <td>-1.998083</td>\n",
       "      <td>-0.114419</td>\n",
       "      <td>1.565713</td>\n",
       "    </tr>\n",
       "    <tr>\n",
       "      <th>I</th>\n",
       "      <td>0.583273</td>\n",
       "      <td>2.145085</td>\n",
       "      <td>0.071872</td>\n",
       "      <td>-0.266456</td>\n",
       "      <td>-2.181931</td>\n",
       "      <td>-0.907208</td>\n",
       "      <td>1.457539</td>\n",
       "      <td>-2.176553</td>\n",
       "      <td>0.914802</td>\n",
       "      <td>0.626370</td>\n",
       "      <td>...</td>\n",
       "      <td>-1.784127</td>\n",
       "      <td>-0.590000</td>\n",
       "      <td>-0.535378</td>\n",
       "      <td>1.012540</td>\n",
       "      <td>0.681899</td>\n",
       "      <td>1.323491</td>\n",
       "      <td>-0.483645</td>\n",
       "      <td>0.814300</td>\n",
       "      <td>-1.687327</td>\n",
       "      <td>1.920313</td>\n",
       "    </tr>\n",
       "    <tr>\n",
       "      <th>J</th>\n",
       "      <td>1.139807</td>\n",
       "      <td>0.387821</td>\n",
       "      <td>-0.191648</td>\n",
       "      <td>-0.050572</td>\n",
       "      <td>1.030512</td>\n",
       "      <td>0.213387</td>\n",
       "      <td>0.505549</td>\n",
       "      <td>-0.165228</td>\n",
       "      <td>1.209100</td>\n",
       "      <td>-0.092121</td>\n",
       "      <td>...</td>\n",
       "      <td>-1.633117</td>\n",
       "      <td>-0.132474</td>\n",
       "      <td>0.860679</td>\n",
       "      <td>1.021007</td>\n",
       "      <td>-0.167488</td>\n",
       "      <td>0.915242</td>\n",
       "      <td>-0.067413</td>\n",
       "      <td>0.320821</td>\n",
       "      <td>0.761265</td>\n",
       "      <td>0.369162</td>\n",
       "    </tr>\n",
       "  </tbody>\n",
       "</table>\n",
       "<p>10 rows × 50 columns</p>\n",
       "</div>"
      ],
      "text/plain": [
       "         0         1         2         3         4         5         6   \\\n",
       "A -0.811961 -0.272414  1.923813 -2.251099 -0.039657 -1.126927 -1.081643   \n",
       "B -0.798358 -0.486590 -0.121194  0.848856  2.763803 -1.378958  2.167682   \n",
       "C -0.376800 -0.912081 -0.095437  0.005771 -1.198420 -0.649065  0.114580   \n",
       "D -0.678966 -1.808852  1.260053 -0.696637 -0.764451  0.106295  0.658379   \n",
       "E  0.303423  0.499609 -0.041758 -1.353948 -1.326138 -0.730539 -0.228279   \n",
       "F  1.092440  0.225451 -0.010171 -0.042879  0.491075 -0.279838 -1.328200   \n",
       "G -0.132045  0.162242  0.332426  1.066680 -0.525292 -0.166119  0.358860   \n",
       "H -0.187603  0.392689 -0.994572  0.309550  1.849568  0.143574 -1.159110   \n",
       "I  0.583273  2.145085  0.071872 -0.266456 -2.181931 -0.907208  1.457539   \n",
       "J  1.139807  0.387821 -0.191648 -0.050572  1.030512  0.213387  0.505549   \n",
       "\n",
       "         7         8         9   ...        40        41        42        43  \\\n",
       "A  1.327917  0.079474  0.163769  ... -1.046805  1.872617  1.034952 -0.719359   \n",
       "B -0.594294 -0.244950 -0.320117  ...  0.925603  0.266398 -1.460791  0.057098   \n",
       "C -0.137107 -0.389125  0.390273  ...  0.901979  1.272761  0.379281 -0.131958   \n",
       "D  0.349054 -0.267226 -0.479878  ... -0.495150 -1.505520  0.421957 -1.493584   \n",
       "E  1.443068  0.266087 -0.515258  ...  1.596619 -3.398797  2.531847 -0.173300   \n",
       "F -0.686350 -0.453522  0.152226  ...  0.446291  1.417997  0.868661  0.027346   \n",
       "G -1.229326  0.164934 -0.970985  ... -0.730074 -1.811466 -1.106529  0.900144   \n",
       "H  0.361432 -0.202442 -0.698109  ...  0.411376  0.862907 -0.625997  1.621195   \n",
       "I -2.176553  0.914802  0.626370  ... -1.784127 -0.590000 -0.535378  1.012540   \n",
       "J -0.165228  1.209100 -0.092121  ... -1.633117 -0.132474  0.860679  1.021007   \n",
       "\n",
       "         44        45        46        47        48        49  \n",
       "A -0.726847 -0.445923  0.181807  0.229613  1.069191 -1.536973  \n",
       "B  0.521950  0.709095  0.511493 -1.775856 -0.691054  0.811600  \n",
       "C -1.147083 -0.250288 -0.533708 -0.639323  1.173842 -0.383561  \n",
       "D  0.285250  0.224574  0.276161  0.661882  2.684398 -0.659013  \n",
       "E  1.387350 -1.434987  0.054222 -0.154707 -1.140856 -1.073815  \n",
       "F  0.344005 -0.813722 -1.673050  1.253101 -1.200666 -0.811100  \n",
       "G -0.511592 -0.263475  0.868835  0.793004  0.310193 -0.270300  \n",
       "H -0.775420 -0.275807 -0.038538 -1.998083 -0.114419  1.565713  \n",
       "I  0.681899  1.323491 -0.483645  0.814300 -1.687327  1.920313  \n",
       "J -0.167488  0.915242 -0.067413  0.320821  0.761265  0.369162  \n",
       "\n",
       "[10 rows x 50 columns]"
      ]
     },
     "execution_count": 63,
     "metadata": {},
     "output_type": "execute_result"
    }
   ],
   "source": [
    "data.transpose()"
   ]
  },
  {
   "cell_type": "markdown",
   "metadata": {},
   "source": [
    "which is the same as:"
   ]
  },
  {
   "cell_type": "code",
   "execution_count": 64,
   "metadata": {},
   "outputs": [
    {
     "data": {
      "text/html": [
       "<div>\n",
       "<style scoped>\n",
       "    .dataframe tbody tr th:only-of-type {\n",
       "        vertical-align: middle;\n",
       "    }\n",
       "\n",
       "    .dataframe tbody tr th {\n",
       "        vertical-align: top;\n",
       "    }\n",
       "\n",
       "    .dataframe thead th {\n",
       "        text-align: right;\n",
       "    }\n",
       "</style>\n",
       "<table border=\"1\" class=\"dataframe\">\n",
       "  <thead>\n",
       "    <tr style=\"text-align: right;\">\n",
       "      <th></th>\n",
       "      <th>0</th>\n",
       "      <th>1</th>\n",
       "      <th>2</th>\n",
       "      <th>3</th>\n",
       "      <th>4</th>\n",
       "      <th>5</th>\n",
       "      <th>6</th>\n",
       "      <th>7</th>\n",
       "      <th>8</th>\n",
       "      <th>9</th>\n",
       "      <th>...</th>\n",
       "      <th>40</th>\n",
       "      <th>41</th>\n",
       "      <th>42</th>\n",
       "      <th>43</th>\n",
       "      <th>44</th>\n",
       "      <th>45</th>\n",
       "      <th>46</th>\n",
       "      <th>47</th>\n",
       "      <th>48</th>\n",
       "      <th>49</th>\n",
       "    </tr>\n",
       "  </thead>\n",
       "  <tbody>\n",
       "    <tr>\n",
       "      <th>A</th>\n",
       "      <td>-0.811961</td>\n",
       "      <td>-0.272414</td>\n",
       "      <td>1.923813</td>\n",
       "      <td>-2.251099</td>\n",
       "      <td>-0.039657</td>\n",
       "      <td>-1.126927</td>\n",
       "      <td>-1.081643</td>\n",
       "      <td>1.327917</td>\n",
       "      <td>0.079474</td>\n",
       "      <td>0.163769</td>\n",
       "      <td>...</td>\n",
       "      <td>-1.046805</td>\n",
       "      <td>1.872617</td>\n",
       "      <td>1.034952</td>\n",
       "      <td>-0.719359</td>\n",
       "      <td>-0.726847</td>\n",
       "      <td>-0.445923</td>\n",
       "      <td>0.181807</td>\n",
       "      <td>0.229613</td>\n",
       "      <td>1.069191</td>\n",
       "      <td>-1.536973</td>\n",
       "    </tr>\n",
       "    <tr>\n",
       "      <th>B</th>\n",
       "      <td>-0.798358</td>\n",
       "      <td>-0.486590</td>\n",
       "      <td>-0.121194</td>\n",
       "      <td>0.848856</td>\n",
       "      <td>2.763803</td>\n",
       "      <td>-1.378958</td>\n",
       "      <td>2.167682</td>\n",
       "      <td>-0.594294</td>\n",
       "      <td>-0.244950</td>\n",
       "      <td>-0.320117</td>\n",
       "      <td>...</td>\n",
       "      <td>0.925603</td>\n",
       "      <td>0.266398</td>\n",
       "      <td>-1.460791</td>\n",
       "      <td>0.057098</td>\n",
       "      <td>0.521950</td>\n",
       "      <td>0.709095</td>\n",
       "      <td>0.511493</td>\n",
       "      <td>-1.775856</td>\n",
       "      <td>-0.691054</td>\n",
       "      <td>0.811600</td>\n",
       "    </tr>\n",
       "    <tr>\n",
       "      <th>C</th>\n",
       "      <td>-0.376800</td>\n",
       "      <td>-0.912081</td>\n",
       "      <td>-0.095437</td>\n",
       "      <td>0.005771</td>\n",
       "      <td>-1.198420</td>\n",
       "      <td>-0.649065</td>\n",
       "      <td>0.114580</td>\n",
       "      <td>-0.137107</td>\n",
       "      <td>-0.389125</td>\n",
       "      <td>0.390273</td>\n",
       "      <td>...</td>\n",
       "      <td>0.901979</td>\n",
       "      <td>1.272761</td>\n",
       "      <td>0.379281</td>\n",
       "      <td>-0.131958</td>\n",
       "      <td>-1.147083</td>\n",
       "      <td>-0.250288</td>\n",
       "      <td>-0.533708</td>\n",
       "      <td>-0.639323</td>\n",
       "      <td>1.173842</td>\n",
       "      <td>-0.383561</td>\n",
       "    </tr>\n",
       "    <tr>\n",
       "      <th>D</th>\n",
       "      <td>-0.678966</td>\n",
       "      <td>-1.808852</td>\n",
       "      <td>1.260053</td>\n",
       "      <td>-0.696637</td>\n",
       "      <td>-0.764451</td>\n",
       "      <td>0.106295</td>\n",
       "      <td>0.658379</td>\n",
       "      <td>0.349054</td>\n",
       "      <td>-0.267226</td>\n",
       "      <td>-0.479878</td>\n",
       "      <td>...</td>\n",
       "      <td>-0.495150</td>\n",
       "      <td>-1.505520</td>\n",
       "      <td>0.421957</td>\n",
       "      <td>-1.493584</td>\n",
       "      <td>0.285250</td>\n",
       "      <td>0.224574</td>\n",
       "      <td>0.276161</td>\n",
       "      <td>0.661882</td>\n",
       "      <td>2.684398</td>\n",
       "      <td>-0.659013</td>\n",
       "    </tr>\n",
       "    <tr>\n",
       "      <th>E</th>\n",
       "      <td>0.303423</td>\n",
       "      <td>0.499609</td>\n",
       "      <td>-0.041758</td>\n",
       "      <td>-1.353948</td>\n",
       "      <td>-1.326138</td>\n",
       "      <td>-0.730539</td>\n",
       "      <td>-0.228279</td>\n",
       "      <td>1.443068</td>\n",
       "      <td>0.266087</td>\n",
       "      <td>-0.515258</td>\n",
       "      <td>...</td>\n",
       "      <td>1.596619</td>\n",
       "      <td>-3.398797</td>\n",
       "      <td>2.531847</td>\n",
       "      <td>-0.173300</td>\n",
       "      <td>1.387350</td>\n",
       "      <td>-1.434987</td>\n",
       "      <td>0.054222</td>\n",
       "      <td>-0.154707</td>\n",
       "      <td>-1.140856</td>\n",
       "      <td>-1.073815</td>\n",
       "    </tr>\n",
       "    <tr>\n",
       "      <th>F</th>\n",
       "      <td>1.092440</td>\n",
       "      <td>0.225451</td>\n",
       "      <td>-0.010171</td>\n",
       "      <td>-0.042879</td>\n",
       "      <td>0.491075</td>\n",
       "      <td>-0.279838</td>\n",
       "      <td>-1.328200</td>\n",
       "      <td>-0.686350</td>\n",
       "      <td>-0.453522</td>\n",
       "      <td>0.152226</td>\n",
       "      <td>...</td>\n",
       "      <td>0.446291</td>\n",
       "      <td>1.417997</td>\n",
       "      <td>0.868661</td>\n",
       "      <td>0.027346</td>\n",
       "      <td>0.344005</td>\n",
       "      <td>-0.813722</td>\n",
       "      <td>-1.673050</td>\n",
       "      <td>1.253101</td>\n",
       "      <td>-1.200666</td>\n",
       "      <td>-0.811100</td>\n",
       "    </tr>\n",
       "    <tr>\n",
       "      <th>G</th>\n",
       "      <td>-0.132045</td>\n",
       "      <td>0.162242</td>\n",
       "      <td>0.332426</td>\n",
       "      <td>1.066680</td>\n",
       "      <td>-0.525292</td>\n",
       "      <td>-0.166119</td>\n",
       "      <td>0.358860</td>\n",
       "      <td>-1.229326</td>\n",
       "      <td>0.164934</td>\n",
       "      <td>-0.970985</td>\n",
       "      <td>...</td>\n",
       "      <td>-0.730074</td>\n",
       "      <td>-1.811466</td>\n",
       "      <td>-1.106529</td>\n",
       "      <td>0.900144</td>\n",
       "      <td>-0.511592</td>\n",
       "      <td>-0.263475</td>\n",
       "      <td>0.868835</td>\n",
       "      <td>0.793004</td>\n",
       "      <td>0.310193</td>\n",
       "      <td>-0.270300</td>\n",
       "    </tr>\n",
       "    <tr>\n",
       "      <th>H</th>\n",
       "      <td>-0.187603</td>\n",
       "      <td>0.392689</td>\n",
       "      <td>-0.994572</td>\n",
       "      <td>0.309550</td>\n",
       "      <td>1.849568</td>\n",
       "      <td>0.143574</td>\n",
       "      <td>-1.159110</td>\n",
       "      <td>0.361432</td>\n",
       "      <td>-0.202442</td>\n",
       "      <td>-0.698109</td>\n",
       "      <td>...</td>\n",
       "      <td>0.411376</td>\n",
       "      <td>0.862907</td>\n",
       "      <td>-0.625997</td>\n",
       "      <td>1.621195</td>\n",
       "      <td>-0.775420</td>\n",
       "      <td>-0.275807</td>\n",
       "      <td>-0.038538</td>\n",
       "      <td>-1.998083</td>\n",
       "      <td>-0.114419</td>\n",
       "      <td>1.565713</td>\n",
       "    </tr>\n",
       "    <tr>\n",
       "      <th>I</th>\n",
       "      <td>0.583273</td>\n",
       "      <td>2.145085</td>\n",
       "      <td>0.071872</td>\n",
       "      <td>-0.266456</td>\n",
       "      <td>-2.181931</td>\n",
       "      <td>-0.907208</td>\n",
       "      <td>1.457539</td>\n",
       "      <td>-2.176553</td>\n",
       "      <td>0.914802</td>\n",
       "      <td>0.626370</td>\n",
       "      <td>...</td>\n",
       "      <td>-1.784127</td>\n",
       "      <td>-0.590000</td>\n",
       "      <td>-0.535378</td>\n",
       "      <td>1.012540</td>\n",
       "      <td>0.681899</td>\n",
       "      <td>1.323491</td>\n",
       "      <td>-0.483645</td>\n",
       "      <td>0.814300</td>\n",
       "      <td>-1.687327</td>\n",
       "      <td>1.920313</td>\n",
       "    </tr>\n",
       "    <tr>\n",
       "      <th>J</th>\n",
       "      <td>1.139807</td>\n",
       "      <td>0.387821</td>\n",
       "      <td>-0.191648</td>\n",
       "      <td>-0.050572</td>\n",
       "      <td>1.030512</td>\n",
       "      <td>0.213387</td>\n",
       "      <td>0.505549</td>\n",
       "      <td>-0.165228</td>\n",
       "      <td>1.209100</td>\n",
       "      <td>-0.092121</td>\n",
       "      <td>...</td>\n",
       "      <td>-1.633117</td>\n",
       "      <td>-0.132474</td>\n",
       "      <td>0.860679</td>\n",
       "      <td>1.021007</td>\n",
       "      <td>-0.167488</td>\n",
       "      <td>0.915242</td>\n",
       "      <td>-0.067413</td>\n",
       "      <td>0.320821</td>\n",
       "      <td>0.761265</td>\n",
       "      <td>0.369162</td>\n",
       "    </tr>\n",
       "  </tbody>\n",
       "</table>\n",
       "<p>10 rows × 50 columns</p>\n",
       "</div>"
      ],
      "text/plain": [
       "         0         1         2         3         4         5         6   \\\n",
       "A -0.811961 -0.272414  1.923813 -2.251099 -0.039657 -1.126927 -1.081643   \n",
       "B -0.798358 -0.486590 -0.121194  0.848856  2.763803 -1.378958  2.167682   \n",
       "C -0.376800 -0.912081 -0.095437  0.005771 -1.198420 -0.649065  0.114580   \n",
       "D -0.678966 -1.808852  1.260053 -0.696637 -0.764451  0.106295  0.658379   \n",
       "E  0.303423  0.499609 -0.041758 -1.353948 -1.326138 -0.730539 -0.228279   \n",
       "F  1.092440  0.225451 -0.010171 -0.042879  0.491075 -0.279838 -1.328200   \n",
       "G -0.132045  0.162242  0.332426  1.066680 -0.525292 -0.166119  0.358860   \n",
       "H -0.187603  0.392689 -0.994572  0.309550  1.849568  0.143574 -1.159110   \n",
       "I  0.583273  2.145085  0.071872 -0.266456 -2.181931 -0.907208  1.457539   \n",
       "J  1.139807  0.387821 -0.191648 -0.050572  1.030512  0.213387  0.505549   \n",
       "\n",
       "         7         8         9   ...        40        41        42        43  \\\n",
       "A  1.327917  0.079474  0.163769  ... -1.046805  1.872617  1.034952 -0.719359   \n",
       "B -0.594294 -0.244950 -0.320117  ...  0.925603  0.266398 -1.460791  0.057098   \n",
       "C -0.137107 -0.389125  0.390273  ...  0.901979  1.272761  0.379281 -0.131958   \n",
       "D  0.349054 -0.267226 -0.479878  ... -0.495150 -1.505520  0.421957 -1.493584   \n",
       "E  1.443068  0.266087 -0.515258  ...  1.596619 -3.398797  2.531847 -0.173300   \n",
       "F -0.686350 -0.453522  0.152226  ...  0.446291  1.417997  0.868661  0.027346   \n",
       "G -1.229326  0.164934 -0.970985  ... -0.730074 -1.811466 -1.106529  0.900144   \n",
       "H  0.361432 -0.202442 -0.698109  ...  0.411376  0.862907 -0.625997  1.621195   \n",
       "I -2.176553  0.914802  0.626370  ... -1.784127 -0.590000 -0.535378  1.012540   \n",
       "J -0.165228  1.209100 -0.092121  ... -1.633117 -0.132474  0.860679  1.021007   \n",
       "\n",
       "         44        45        46        47        48        49  \n",
       "A -0.726847 -0.445923  0.181807  0.229613  1.069191 -1.536973  \n",
       "B  0.521950  0.709095  0.511493 -1.775856 -0.691054  0.811600  \n",
       "C -1.147083 -0.250288 -0.533708 -0.639323  1.173842 -0.383561  \n",
       "D  0.285250  0.224574  0.276161  0.661882  2.684398 -0.659013  \n",
       "E  1.387350 -1.434987  0.054222 -0.154707 -1.140856 -1.073815  \n",
       "F  0.344005 -0.813722 -1.673050  1.253101 -1.200666 -0.811100  \n",
       "G -0.511592 -0.263475  0.868835  0.793004  0.310193 -0.270300  \n",
       "H -0.775420 -0.275807 -0.038538 -1.998083 -0.114419  1.565713  \n",
       "I  0.681899  1.323491 -0.483645  0.814300 -1.687327  1.920313  \n",
       "J -0.167488  0.915242 -0.067413  0.320821  0.761265  0.369162  \n",
       "\n",
       "[10 rows x 50 columns]"
      ]
     },
     "execution_count": 64,
     "metadata": {},
     "output_type": "execute_result"
    }
   ],
   "source": [
    "data.T"
   ]
  },
  {
   "cell_type": "markdown",
   "metadata": {},
   "source": [
    "### Shuffling a DataFrame\n",
    "You can shuffle a DataFrame using the `sample` method. If you give it a number less than the length of the DataFrame, a random sample (without replacement by default) of that length will be returned. If you give it the length of the DataFrame, a shuffled version of the DataFrame will be returned."
   ]
  },
  {
   "cell_type": "code",
   "execution_count": 65,
   "metadata": {},
   "outputs": [
    {
     "data": {
      "text/html": [
       "<div>\n",
       "<style scoped>\n",
       "    .dataframe tbody tr th:only-of-type {\n",
       "        vertical-align: middle;\n",
       "    }\n",
       "\n",
       "    .dataframe tbody tr th {\n",
       "        vertical-align: top;\n",
       "    }\n",
       "\n",
       "    .dataframe thead th {\n",
       "        text-align: right;\n",
       "    }\n",
       "</style>\n",
       "<table border=\"1\" class=\"dataframe\">\n",
       "  <thead>\n",
       "    <tr style=\"text-align: right;\">\n",
       "      <th></th>\n",
       "      <th>A</th>\n",
       "      <th>B</th>\n",
       "      <th>C</th>\n",
       "      <th>D</th>\n",
       "      <th>E</th>\n",
       "      <th>F</th>\n",
       "      <th>G</th>\n",
       "      <th>H</th>\n",
       "      <th>I</th>\n",
       "      <th>J</th>\n",
       "    </tr>\n",
       "  </thead>\n",
       "  <tbody>\n",
       "    <tr>\n",
       "      <th>49</th>\n",
       "      <td>-1.536973</td>\n",
       "      <td>0.811600</td>\n",
       "      <td>-0.383561</td>\n",
       "      <td>-0.659013</td>\n",
       "      <td>-1.073815</td>\n",
       "      <td>-0.811100</td>\n",
       "      <td>-0.270300</td>\n",
       "      <td>1.565713</td>\n",
       "      <td>1.920313</td>\n",
       "      <td>0.369162</td>\n",
       "    </tr>\n",
       "    <tr>\n",
       "      <th>44</th>\n",
       "      <td>-0.726847</td>\n",
       "      <td>0.521950</td>\n",
       "      <td>-1.147083</td>\n",
       "      <td>0.285250</td>\n",
       "      <td>1.387350</td>\n",
       "      <td>0.344005</td>\n",
       "      <td>-0.511592</td>\n",
       "      <td>-0.775420</td>\n",
       "      <td>0.681899</td>\n",
       "      <td>-0.167488</td>\n",
       "    </tr>\n",
       "    <tr>\n",
       "      <th>27</th>\n",
       "      <td>-2.017834</td>\n",
       "      <td>-0.695177</td>\n",
       "      <td>-1.879759</td>\n",
       "      <td>-2.105934</td>\n",
       "      <td>-0.804998</td>\n",
       "      <td>-1.471619</td>\n",
       "      <td>1.214634</td>\n",
       "      <td>-0.496460</td>\n",
       "      <td>1.544296</td>\n",
       "      <td>-0.066182</td>\n",
       "    </tr>\n",
       "    <tr>\n",
       "      <th>22</th>\n",
       "      <td>0.042389</td>\n",
       "      <td>2.101583</td>\n",
       "      <td>-0.292297</td>\n",
       "      <td>-1.029317</td>\n",
       "      <td>-0.267458</td>\n",
       "      <td>1.951661</td>\n",
       "      <td>0.869427</td>\n",
       "      <td>-1.506315</td>\n",
       "      <td>-0.004482</td>\n",
       "      <td>-2.405613</td>\n",
       "    </tr>\n",
       "    <tr>\n",
       "      <th>16</th>\n",
       "      <td>0.312439</td>\n",
       "      <td>2.151643</td>\n",
       "      <td>0.696791</td>\n",
       "      <td>-0.250779</td>\n",
       "      <td>0.593399</td>\n",
       "      <td>-0.252192</td>\n",
       "      <td>-1.780420</td>\n",
       "      <td>2.615774</td>\n",
       "      <td>0.650922</td>\n",
       "      <td>1.364135</td>\n",
       "    </tr>\n",
       "    <tr>\n",
       "      <th>45</th>\n",
       "      <td>-0.445923</td>\n",
       "      <td>0.709095</td>\n",
       "      <td>-0.250288</td>\n",
       "      <td>0.224574</td>\n",
       "      <td>-1.434987</td>\n",
       "      <td>-0.813722</td>\n",
       "      <td>-0.263475</td>\n",
       "      <td>-0.275807</td>\n",
       "      <td>1.323491</td>\n",
       "      <td>0.915242</td>\n",
       "    </tr>\n",
       "    <tr>\n",
       "      <th>25</th>\n",
       "      <td>-1.118573</td>\n",
       "      <td>0.238895</td>\n",
       "      <td>0.008854</td>\n",
       "      <td>-1.299407</td>\n",
       "      <td>0.542979</td>\n",
       "      <td>0.065720</td>\n",
       "      <td>2.209481</td>\n",
       "      <td>-0.240404</td>\n",
       "      <td>0.487450</td>\n",
       "      <td>-0.476631</td>\n",
       "    </tr>\n",
       "    <tr>\n",
       "      <th>31</th>\n",
       "      <td>-2.302525</td>\n",
       "      <td>-1.487925</td>\n",
       "      <td>1.310287</td>\n",
       "      <td>1.208278</td>\n",
       "      <td>0.411235</td>\n",
       "      <td>-0.904250</td>\n",
       "      <td>-0.411981</td>\n",
       "      <td>-1.057085</td>\n",
       "      <td>0.687491</td>\n",
       "      <td>-0.486117</td>\n",
       "    </tr>\n",
       "    <tr>\n",
       "      <th>6</th>\n",
       "      <td>-1.081643</td>\n",
       "      <td>2.167682</td>\n",
       "      <td>0.114580</td>\n",
       "      <td>0.658379</td>\n",
       "      <td>-0.228279</td>\n",
       "      <td>-1.328200</td>\n",
       "      <td>0.358860</td>\n",
       "      <td>-1.159110</td>\n",
       "      <td>1.457539</td>\n",
       "      <td>0.505549</td>\n",
       "    </tr>\n",
       "    <tr>\n",
       "      <th>1</th>\n",
       "      <td>-0.272414</td>\n",
       "      <td>-0.486590</td>\n",
       "      <td>-0.912081</td>\n",
       "      <td>-1.808852</td>\n",
       "      <td>0.499609</td>\n",
       "      <td>0.225451</td>\n",
       "      <td>0.162242</td>\n",
       "      <td>0.392689</td>\n",
       "      <td>2.145085</td>\n",
       "      <td>0.387821</td>\n",
       "    </tr>\n",
       "  </tbody>\n",
       "</table>\n",
       "</div>"
      ],
      "text/plain": [
       "           A         B         C         D         E         F         G  \\\n",
       "49 -1.536973  0.811600 -0.383561 -0.659013 -1.073815 -0.811100 -0.270300   \n",
       "44 -0.726847  0.521950 -1.147083  0.285250  1.387350  0.344005 -0.511592   \n",
       "27 -2.017834 -0.695177 -1.879759 -2.105934 -0.804998 -1.471619  1.214634   \n",
       "22  0.042389  2.101583 -0.292297 -1.029317 -0.267458  1.951661  0.869427   \n",
       "16  0.312439  2.151643  0.696791 -0.250779  0.593399 -0.252192 -1.780420   \n",
       "45 -0.445923  0.709095 -0.250288  0.224574 -1.434987 -0.813722 -0.263475   \n",
       "25 -1.118573  0.238895  0.008854 -1.299407  0.542979  0.065720  2.209481   \n",
       "31 -2.302525 -1.487925  1.310287  1.208278  0.411235 -0.904250 -0.411981   \n",
       "6  -1.081643  2.167682  0.114580  0.658379 -0.228279 -1.328200  0.358860   \n",
       "1  -0.272414 -0.486590 -0.912081 -1.808852  0.499609  0.225451  0.162242   \n",
       "\n",
       "           H         I         J  \n",
       "49  1.565713  1.920313  0.369162  \n",
       "44 -0.775420  0.681899 -0.167488  \n",
       "27 -0.496460  1.544296 -0.066182  \n",
       "22 -1.506315 -0.004482 -2.405613  \n",
       "16  2.615774  0.650922  1.364135  \n",
       "45 -0.275807  1.323491  0.915242  \n",
       "25 -0.240404  0.487450 -0.476631  \n",
       "31 -1.057085  0.687491 -0.486117  \n",
       "6  -1.159110  1.457539  0.505549  \n",
       "1   0.392689  2.145085  0.387821  "
      ]
     },
     "execution_count": 65,
     "metadata": {},
     "output_type": "execute_result"
    }
   ],
   "source": [
    "shuffled = data.sample(len(data))\n",
    "shuffled.head(10)"
   ]
  },
  {
   "cell_type": "markdown",
   "metadata": {},
   "source": [
    "To avoid reshuffling the indexes, use the `ignore_index=` parameter"
   ]
  },
  {
   "cell_type": "code",
   "execution_count": 66,
   "metadata": {},
   "outputs": [
    {
     "data": {
      "text/html": [
       "<div>\n",
       "<style scoped>\n",
       "    .dataframe tbody tr th:only-of-type {\n",
       "        vertical-align: middle;\n",
       "    }\n",
       "\n",
       "    .dataframe tbody tr th {\n",
       "        vertical-align: top;\n",
       "    }\n",
       "\n",
       "    .dataframe thead th {\n",
       "        text-align: right;\n",
       "    }\n",
       "</style>\n",
       "<table border=\"1\" class=\"dataframe\">\n",
       "  <thead>\n",
       "    <tr style=\"text-align: right;\">\n",
       "      <th></th>\n",
       "      <th>A</th>\n",
       "      <th>B</th>\n",
       "      <th>C</th>\n",
       "      <th>D</th>\n",
       "      <th>E</th>\n",
       "      <th>F</th>\n",
       "      <th>G</th>\n",
       "      <th>H</th>\n",
       "      <th>I</th>\n",
       "      <th>J</th>\n",
       "    </tr>\n",
       "  </thead>\n",
       "  <tbody>\n",
       "    <tr>\n",
       "      <th>0</th>\n",
       "      <td>-2.251099</td>\n",
       "      <td>0.848856</td>\n",
       "      <td>0.005771</td>\n",
       "      <td>-0.696637</td>\n",
       "      <td>-1.353948</td>\n",
       "      <td>-0.042879</td>\n",
       "      <td>1.066680</td>\n",
       "      <td>0.309550</td>\n",
       "      <td>-0.266456</td>\n",
       "      <td>-0.050572</td>\n",
       "    </tr>\n",
       "    <tr>\n",
       "      <th>1</th>\n",
       "      <td>0.229613</td>\n",
       "      <td>-1.775856</td>\n",
       "      <td>-0.639323</td>\n",
       "      <td>0.661882</td>\n",
       "      <td>-0.154707</td>\n",
       "      <td>1.253101</td>\n",
       "      <td>0.793004</td>\n",
       "      <td>-1.998083</td>\n",
       "      <td>0.814300</td>\n",
       "      <td>0.320821</td>\n",
       "    </tr>\n",
       "    <tr>\n",
       "      <th>2</th>\n",
       "      <td>-0.862687</td>\n",
       "      <td>-0.564378</td>\n",
       "      <td>-0.035549</td>\n",
       "      <td>0.909255</td>\n",
       "      <td>0.408846</td>\n",
       "      <td>-0.667533</td>\n",
       "      <td>-0.308174</td>\n",
       "      <td>0.529208</td>\n",
       "      <td>-0.231622</td>\n",
       "      <td>1.167356</td>\n",
       "    </tr>\n",
       "    <tr>\n",
       "      <th>3</th>\n",
       "      <td>-0.104272</td>\n",
       "      <td>0.301223</td>\n",
       "      <td>-2.195942</td>\n",
       "      <td>-0.265511</td>\n",
       "      <td>1.086846</td>\n",
       "      <td>-0.266269</td>\n",
       "      <td>1.936810</td>\n",
       "      <td>1.724507</td>\n",
       "      <td>-0.244149</td>\n",
       "      <td>1.311204</td>\n",
       "    </tr>\n",
       "    <tr>\n",
       "      <th>4</th>\n",
       "      <td>-2.073269</td>\n",
       "      <td>-1.114352</td>\n",
       "      <td>-1.280760</td>\n",
       "      <td>0.265908</td>\n",
       "      <td>-2.627646</td>\n",
       "      <td>-1.266611</td>\n",
       "      <td>1.661619</td>\n",
       "      <td>1.545257</td>\n",
       "      <td>-0.110506</td>\n",
       "      <td>-1.063782</td>\n",
       "    </tr>\n",
       "    <tr>\n",
       "      <th>5</th>\n",
       "      <td>1.034952</td>\n",
       "      <td>-1.460791</td>\n",
       "      <td>0.379281</td>\n",
       "      <td>0.421957</td>\n",
       "      <td>2.531847</td>\n",
       "      <td>0.868661</td>\n",
       "      <td>-1.106529</td>\n",
       "      <td>-0.625997</td>\n",
       "      <td>-0.535378</td>\n",
       "      <td>0.860679</td>\n",
       "    </tr>\n",
       "    <tr>\n",
       "      <th>6</th>\n",
       "      <td>-1.384192</td>\n",
       "      <td>1.593019</td>\n",
       "      <td>0.178494</td>\n",
       "      <td>1.420977</td>\n",
       "      <td>0.734167</td>\n",
       "      <td>1.673923</td>\n",
       "      <td>1.473777</td>\n",
       "      <td>0.140905</td>\n",
       "      <td>0.162168</td>\n",
       "      <td>0.576746</td>\n",
       "    </tr>\n",
       "    <tr>\n",
       "      <th>7</th>\n",
       "      <td>0.303451</td>\n",
       "      <td>-0.562685</td>\n",
       "      <td>1.510572</td>\n",
       "      <td>2.868907</td>\n",
       "      <td>-1.135388</td>\n",
       "      <td>-0.254814</td>\n",
       "      <td>-0.280015</td>\n",
       "      <td>0.295803</td>\n",
       "      <td>-0.932886</td>\n",
       "      <td>1.355186</td>\n",
       "    </tr>\n",
       "    <tr>\n",
       "      <th>8</th>\n",
       "      <td>-0.039657</td>\n",
       "      <td>2.763803</td>\n",
       "      <td>-1.198420</td>\n",
       "      <td>-0.764451</td>\n",
       "      <td>-1.326138</td>\n",
       "      <td>0.491075</td>\n",
       "      <td>-0.525292</td>\n",
       "      <td>1.849568</td>\n",
       "      <td>-2.181931</td>\n",
       "      <td>1.030512</td>\n",
       "    </tr>\n",
       "    <tr>\n",
       "      <th>9</th>\n",
       "      <td>1.069191</td>\n",
       "      <td>-0.691054</td>\n",
       "      <td>1.173842</td>\n",
       "      <td>2.684398</td>\n",
       "      <td>-1.140856</td>\n",
       "      <td>-1.200666</td>\n",
       "      <td>0.310193</td>\n",
       "      <td>-0.114419</td>\n",
       "      <td>-1.687327</td>\n",
       "      <td>0.761265</td>\n",
       "    </tr>\n",
       "  </tbody>\n",
       "</table>\n",
       "</div>"
      ],
      "text/plain": [
       "          A         B         C         D         E         F         G  \\\n",
       "0 -2.251099  0.848856  0.005771 -0.696637 -1.353948 -0.042879  1.066680   \n",
       "1  0.229613 -1.775856 -0.639323  0.661882 -0.154707  1.253101  0.793004   \n",
       "2 -0.862687 -0.564378 -0.035549  0.909255  0.408846 -0.667533 -0.308174   \n",
       "3 -0.104272  0.301223 -2.195942 -0.265511  1.086846 -0.266269  1.936810   \n",
       "4 -2.073269 -1.114352 -1.280760  0.265908 -2.627646 -1.266611  1.661619   \n",
       "5  1.034952 -1.460791  0.379281  0.421957  2.531847  0.868661 -1.106529   \n",
       "6 -1.384192  1.593019  0.178494  1.420977  0.734167  1.673923  1.473777   \n",
       "7  0.303451 -0.562685  1.510572  2.868907 -1.135388 -0.254814 -0.280015   \n",
       "8 -0.039657  2.763803 -1.198420 -0.764451 -1.326138  0.491075 -0.525292   \n",
       "9  1.069191 -0.691054  1.173842  2.684398 -1.140856 -1.200666  0.310193   \n",
       "\n",
       "          H         I         J  \n",
       "0  0.309550 -0.266456 -0.050572  \n",
       "1 -1.998083  0.814300  0.320821  \n",
       "2  0.529208 -0.231622  1.167356  \n",
       "3  1.724507 -0.244149  1.311204  \n",
       "4  1.545257 -0.110506 -1.063782  \n",
       "5 -0.625997 -0.535378  0.860679  \n",
       "6  0.140905  0.162168  0.576746  \n",
       "7  0.295803 -0.932886  1.355186  \n",
       "8  1.849568 -2.181931  1.030512  \n",
       "9 -0.114419 -1.687327  0.761265  "
      ]
     },
     "execution_count": 66,
     "metadata": {},
     "output_type": "execute_result"
    }
   ],
   "source": [
    "shuffled = data.sample(len(data), ignore_index=True)\n",
    "shuffled.head(10)"
   ]
  },
  {
   "cell_type": "markdown",
   "metadata": {},
   "source": [
    "### Sorting a DataFrame\n",
    "\n",
    "We can sort indexes, column names, or the values of a DataFrame. For example, the following sorts the indexes (`axis=0`) of the DataFrame in an ascending order:"
   ]
  },
  {
   "cell_type": "code",
   "execution_count": 67,
   "metadata": {},
   "outputs": [
    {
     "data": {
      "text/html": [
       "<div>\n",
       "<style scoped>\n",
       "    .dataframe tbody tr th:only-of-type {\n",
       "        vertical-align: middle;\n",
       "    }\n",
       "\n",
       "    .dataframe tbody tr th {\n",
       "        vertical-align: top;\n",
       "    }\n",
       "\n",
       "    .dataframe thead th {\n",
       "        text-align: right;\n",
       "    }\n",
       "</style>\n",
       "<table border=\"1\" class=\"dataframe\">\n",
       "  <thead>\n",
       "    <tr style=\"text-align: right;\">\n",
       "      <th></th>\n",
       "      <th>byOne</th>\n",
       "      <th>byTwo</th>\n",
       "      <th>byThree</th>\n",
       "      <th>byFour</th>\n",
       "      <th>byFive</th>\n",
       "    </tr>\n",
       "  </thead>\n",
       "  <tbody>\n",
       "    <tr>\n",
       "      <th>x1</th>\n",
       "      <td>1</td>\n",
       "      <td>2</td>\n",
       "      <td>3</td>\n",
       "      <td>4</td>\n",
       "      <td>5</td>\n",
       "    </tr>\n",
       "    <tr>\n",
       "      <th>x10</th>\n",
       "      <td>10</td>\n",
       "      <td>20</td>\n",
       "      <td>30</td>\n",
       "      <td>40</td>\n",
       "      <td>50</td>\n",
       "    </tr>\n",
       "    <tr>\n",
       "      <th>x2</th>\n",
       "      <td>2</td>\n",
       "      <td>4</td>\n",
       "      <td>6</td>\n",
       "      <td>8</td>\n",
       "      <td>10</td>\n",
       "    </tr>\n",
       "    <tr>\n",
       "      <th>x3</th>\n",
       "      <td>3</td>\n",
       "      <td>6</td>\n",
       "      <td>9</td>\n",
       "      <td>12</td>\n",
       "      <td>15</td>\n",
       "    </tr>\n",
       "    <tr>\n",
       "      <th>x4</th>\n",
       "      <td>4</td>\n",
       "      <td>8</td>\n",
       "      <td>12</td>\n",
       "      <td>16</td>\n",
       "      <td>20</td>\n",
       "    </tr>\n",
       "    <tr>\n",
       "      <th>x5</th>\n",
       "      <td>5</td>\n",
       "      <td>10</td>\n",
       "      <td>15</td>\n",
       "      <td>20</td>\n",
       "      <td>25</td>\n",
       "    </tr>\n",
       "    <tr>\n",
       "      <th>x6</th>\n",
       "      <td>6</td>\n",
       "      <td>12</td>\n",
       "      <td>18</td>\n",
       "      <td>24</td>\n",
       "      <td>30</td>\n",
       "    </tr>\n",
       "    <tr>\n",
       "      <th>x7</th>\n",
       "      <td>7</td>\n",
       "      <td>14</td>\n",
       "      <td>21</td>\n",
       "      <td>28</td>\n",
       "      <td>35</td>\n",
       "    </tr>\n",
       "    <tr>\n",
       "      <th>x8</th>\n",
       "      <td>8</td>\n",
       "      <td>16</td>\n",
       "      <td>24</td>\n",
       "      <td>32</td>\n",
       "      <td>40</td>\n",
       "    </tr>\n",
       "    <tr>\n",
       "      <th>x9</th>\n",
       "      <td>9</td>\n",
       "      <td>18</td>\n",
       "      <td>27</td>\n",
       "      <td>36</td>\n",
       "      <td>45</td>\n",
       "    </tr>\n",
       "  </tbody>\n",
       "</table>\n",
       "</div>"
      ],
      "text/plain": [
       "     byOne  byTwo  byThree  byFour  byFive\n",
       "x1       1      2        3       4       5\n",
       "x10     10     20       30      40      50\n",
       "x2       2      4        6       8      10\n",
       "x3       3      6        9      12      15\n",
       "x4       4      8       12      16      20\n",
       "x5       5     10       15      20      25\n",
       "x6       6     12       18      24      30\n",
       "x7       7     14       21      28      35\n",
       "x8       8     16       24      32      40\n",
       "x9       9     18       27      36      45"
      ]
     },
     "execution_count": 67,
     "metadata": {},
     "output_type": "execute_result"
    }
   ],
   "source": [
    "mt.sort_index(axis=0)"
   ]
  },
  {
   "cell_type": "markdown",
   "metadata": {},
   "source": [
    "The following sorts the columns (`axis=1`) of the DataFrame in a descending order:"
   ]
  },
  {
   "cell_type": "code",
   "execution_count": 68,
   "metadata": {},
   "outputs": [
    {
     "data": {
      "text/html": [
       "<div>\n",
       "<style scoped>\n",
       "    .dataframe tbody tr th:only-of-type {\n",
       "        vertical-align: middle;\n",
       "    }\n",
       "\n",
       "    .dataframe tbody tr th {\n",
       "        vertical-align: top;\n",
       "    }\n",
       "\n",
       "    .dataframe thead th {\n",
       "        text-align: right;\n",
       "    }\n",
       "</style>\n",
       "<table border=\"1\" class=\"dataframe\">\n",
       "  <thead>\n",
       "    <tr style=\"text-align: right;\">\n",
       "      <th></th>\n",
       "      <th>byTwo</th>\n",
       "      <th>byThree</th>\n",
       "      <th>byOne</th>\n",
       "      <th>byFour</th>\n",
       "      <th>byFive</th>\n",
       "    </tr>\n",
       "  </thead>\n",
       "  <tbody>\n",
       "    <tr>\n",
       "      <th>x1</th>\n",
       "      <td>2</td>\n",
       "      <td>3</td>\n",
       "      <td>1</td>\n",
       "      <td>4</td>\n",
       "      <td>5</td>\n",
       "    </tr>\n",
       "    <tr>\n",
       "      <th>x2</th>\n",
       "      <td>4</td>\n",
       "      <td>6</td>\n",
       "      <td>2</td>\n",
       "      <td>8</td>\n",
       "      <td>10</td>\n",
       "    </tr>\n",
       "    <tr>\n",
       "      <th>x3</th>\n",
       "      <td>6</td>\n",
       "      <td>9</td>\n",
       "      <td>3</td>\n",
       "      <td>12</td>\n",
       "      <td>15</td>\n",
       "    </tr>\n",
       "    <tr>\n",
       "      <th>x4</th>\n",
       "      <td>8</td>\n",
       "      <td>12</td>\n",
       "      <td>4</td>\n",
       "      <td>16</td>\n",
       "      <td>20</td>\n",
       "    </tr>\n",
       "    <tr>\n",
       "      <th>x5</th>\n",
       "      <td>10</td>\n",
       "      <td>15</td>\n",
       "      <td>5</td>\n",
       "      <td>20</td>\n",
       "      <td>25</td>\n",
       "    </tr>\n",
       "    <tr>\n",
       "      <th>x6</th>\n",
       "      <td>12</td>\n",
       "      <td>18</td>\n",
       "      <td>6</td>\n",
       "      <td>24</td>\n",
       "      <td>30</td>\n",
       "    </tr>\n",
       "    <tr>\n",
       "      <th>x7</th>\n",
       "      <td>14</td>\n",
       "      <td>21</td>\n",
       "      <td>7</td>\n",
       "      <td>28</td>\n",
       "      <td>35</td>\n",
       "    </tr>\n",
       "    <tr>\n",
       "      <th>x8</th>\n",
       "      <td>16</td>\n",
       "      <td>24</td>\n",
       "      <td>8</td>\n",
       "      <td>32</td>\n",
       "      <td>40</td>\n",
       "    </tr>\n",
       "    <tr>\n",
       "      <th>x9</th>\n",
       "      <td>18</td>\n",
       "      <td>27</td>\n",
       "      <td>9</td>\n",
       "      <td>36</td>\n",
       "      <td>45</td>\n",
       "    </tr>\n",
       "    <tr>\n",
       "      <th>x10</th>\n",
       "      <td>20</td>\n",
       "      <td>30</td>\n",
       "      <td>10</td>\n",
       "      <td>40</td>\n",
       "      <td>50</td>\n",
       "    </tr>\n",
       "  </tbody>\n",
       "</table>\n",
       "</div>"
      ],
      "text/plain": [
       "     byTwo  byThree  byOne  byFour  byFive\n",
       "x1       2        3      1       4       5\n",
       "x2       4        6      2       8      10\n",
       "x3       6        9      3      12      15\n",
       "x4       8       12      4      16      20\n",
       "x5      10       15      5      20      25\n",
       "x6      12       18      6      24      30\n",
       "x7      14       21      7      28      35\n",
       "x8      16       24      8      32      40\n",
       "x9      18       27      9      36      45\n",
       "x10     20       30     10      40      50"
      ]
     },
     "execution_count": 68,
     "metadata": {},
     "output_type": "execute_result"
    }
   ],
   "source": [
    "mt.sort_index(axis=1, ascending=False)"
   ]
  },
  {
   "cell_type": "markdown",
   "metadata": {},
   "source": [
    "Here is how to sort the values a given a column"
   ]
  },
  {
   "cell_type": "code",
   "execution_count": 69,
   "metadata": {
    "tags": []
   },
   "outputs": [
    {
     "data": {
      "text/html": [
       "<div>\n",
       "<style scoped>\n",
       "    .dataframe tbody tr th:only-of-type {\n",
       "        vertical-align: middle;\n",
       "    }\n",
       "\n",
       "    .dataframe tbody tr th {\n",
       "        vertical-align: top;\n",
       "    }\n",
       "\n",
       "    .dataframe thead th {\n",
       "        text-align: right;\n",
       "    }\n",
       "</style>\n",
       "<table border=\"1\" class=\"dataframe\">\n",
       "  <thead>\n",
       "    <tr style=\"text-align: right;\">\n",
       "      <th></th>\n",
       "      <th>byOne</th>\n",
       "      <th>byTwo</th>\n",
       "      <th>byThree</th>\n",
       "      <th>byFour</th>\n",
       "      <th>byFive</th>\n",
       "    </tr>\n",
       "  </thead>\n",
       "  <tbody>\n",
       "    <tr>\n",
       "      <th>x10</th>\n",
       "      <td>10</td>\n",
       "      <td>20</td>\n",
       "      <td>30</td>\n",
       "      <td>40</td>\n",
       "      <td>50</td>\n",
       "    </tr>\n",
       "    <tr>\n",
       "      <th>x9</th>\n",
       "      <td>9</td>\n",
       "      <td>18</td>\n",
       "      <td>27</td>\n",
       "      <td>36</td>\n",
       "      <td>45</td>\n",
       "    </tr>\n",
       "    <tr>\n",
       "      <th>x8</th>\n",
       "      <td>8</td>\n",
       "      <td>16</td>\n",
       "      <td>24</td>\n",
       "      <td>32</td>\n",
       "      <td>40</td>\n",
       "    </tr>\n",
       "    <tr>\n",
       "      <th>x7</th>\n",
       "      <td>7</td>\n",
       "      <td>14</td>\n",
       "      <td>21</td>\n",
       "      <td>28</td>\n",
       "      <td>35</td>\n",
       "    </tr>\n",
       "    <tr>\n",
       "      <th>x6</th>\n",
       "      <td>6</td>\n",
       "      <td>12</td>\n",
       "      <td>18</td>\n",
       "      <td>24</td>\n",
       "      <td>30</td>\n",
       "    </tr>\n",
       "    <tr>\n",
       "      <th>x5</th>\n",
       "      <td>5</td>\n",
       "      <td>10</td>\n",
       "      <td>15</td>\n",
       "      <td>20</td>\n",
       "      <td>25</td>\n",
       "    </tr>\n",
       "    <tr>\n",
       "      <th>x4</th>\n",
       "      <td>4</td>\n",
       "      <td>8</td>\n",
       "      <td>12</td>\n",
       "      <td>16</td>\n",
       "      <td>20</td>\n",
       "    </tr>\n",
       "    <tr>\n",
       "      <th>x3</th>\n",
       "      <td>3</td>\n",
       "      <td>6</td>\n",
       "      <td>9</td>\n",
       "      <td>12</td>\n",
       "      <td>15</td>\n",
       "    </tr>\n",
       "    <tr>\n",
       "      <th>x2</th>\n",
       "      <td>2</td>\n",
       "      <td>4</td>\n",
       "      <td>6</td>\n",
       "      <td>8</td>\n",
       "      <td>10</td>\n",
       "    </tr>\n",
       "    <tr>\n",
       "      <th>x1</th>\n",
       "      <td>1</td>\n",
       "      <td>2</td>\n",
       "      <td>3</td>\n",
       "      <td>4</td>\n",
       "      <td>5</td>\n",
       "    </tr>\n",
       "  </tbody>\n",
       "</table>\n",
       "</div>"
      ],
      "text/plain": [
       "     byOne  byTwo  byThree  byFour  byFive\n",
       "x10     10     20       30      40      50\n",
       "x9       9     18       27      36      45\n",
       "x8       8     16       24      32      40\n",
       "x7       7     14       21      28      35\n",
       "x6       6     12       18      24      30\n",
       "x5       5     10       15      20      25\n",
       "x4       4      8       12      16      20\n",
       "x3       3      6        9      12      15\n",
       "x2       2      4        6       8      10\n",
       "x1       1      2        3       4       5"
      ]
     },
     "execution_count": 69,
     "metadata": {},
     "output_type": "execute_result"
    }
   ],
   "source": [
    "mt.sort_values('byThree', ascending=False)"
   ]
  },
  {
   "cell_type": "markdown",
   "metadata": {},
   "source": [
    "and here is how to sort the values of a given row"
   ]
  },
  {
   "cell_type": "code",
   "execution_count": 70,
   "metadata": {
    "tags": []
   },
   "outputs": [
    {
     "data": {
      "text/html": [
       "<div>\n",
       "<style scoped>\n",
       "    .dataframe tbody tr th:only-of-type {\n",
       "        vertical-align: middle;\n",
       "    }\n",
       "\n",
       "    .dataframe tbody tr th {\n",
       "        vertical-align: top;\n",
       "    }\n",
       "\n",
       "    .dataframe thead th {\n",
       "        text-align: right;\n",
       "    }\n",
       "</style>\n",
       "<table border=\"1\" class=\"dataframe\">\n",
       "  <thead>\n",
       "    <tr style=\"text-align: right;\">\n",
       "      <th></th>\n",
       "      <th>byOne</th>\n",
       "      <th>byTwo</th>\n",
       "      <th>byThree</th>\n",
       "      <th>byFour</th>\n",
       "      <th>byFive</th>\n",
       "    </tr>\n",
       "  </thead>\n",
       "  <tbody>\n",
       "    <tr>\n",
       "      <th>x1</th>\n",
       "      <td>1</td>\n",
       "      <td>2</td>\n",
       "      <td>3</td>\n",
       "      <td>4</td>\n",
       "      <td>5</td>\n",
       "    </tr>\n",
       "    <tr>\n",
       "      <th>x2</th>\n",
       "      <td>2</td>\n",
       "      <td>4</td>\n",
       "      <td>6</td>\n",
       "      <td>8</td>\n",
       "      <td>10</td>\n",
       "    </tr>\n",
       "    <tr>\n",
       "      <th>x3</th>\n",
       "      <td>3</td>\n",
       "      <td>6</td>\n",
       "      <td>9</td>\n",
       "      <td>12</td>\n",
       "      <td>15</td>\n",
       "    </tr>\n",
       "    <tr>\n",
       "      <th>x4</th>\n",
       "      <td>4</td>\n",
       "      <td>8</td>\n",
       "      <td>12</td>\n",
       "      <td>16</td>\n",
       "      <td>20</td>\n",
       "    </tr>\n",
       "    <tr>\n",
       "      <th>x5</th>\n",
       "      <td>5</td>\n",
       "      <td>10</td>\n",
       "      <td>15</td>\n",
       "      <td>20</td>\n",
       "      <td>25</td>\n",
       "    </tr>\n",
       "    <tr>\n",
       "      <th>x6</th>\n",
       "      <td>6</td>\n",
       "      <td>12</td>\n",
       "      <td>18</td>\n",
       "      <td>24</td>\n",
       "      <td>30</td>\n",
       "    </tr>\n",
       "    <tr>\n",
       "      <th>x7</th>\n",
       "      <td>7</td>\n",
       "      <td>14</td>\n",
       "      <td>21</td>\n",
       "      <td>28</td>\n",
       "      <td>35</td>\n",
       "    </tr>\n",
       "    <tr>\n",
       "      <th>x8</th>\n",
       "      <td>8</td>\n",
       "      <td>16</td>\n",
       "      <td>24</td>\n",
       "      <td>32</td>\n",
       "      <td>40</td>\n",
       "    </tr>\n",
       "    <tr>\n",
       "      <th>x9</th>\n",
       "      <td>9</td>\n",
       "      <td>18</td>\n",
       "      <td>27</td>\n",
       "      <td>36</td>\n",
       "      <td>45</td>\n",
       "    </tr>\n",
       "    <tr>\n",
       "      <th>x10</th>\n",
       "      <td>10</td>\n",
       "      <td>20</td>\n",
       "      <td>30</td>\n",
       "      <td>40</td>\n",
       "      <td>50</td>\n",
       "    </tr>\n",
       "  </tbody>\n",
       "</table>\n",
       "</div>"
      ],
      "text/plain": [
       "     byOne  byTwo  byThree  byFour  byFive\n",
       "x1       1      2        3       4       5\n",
       "x2       2      4        6       8      10\n",
       "x3       3      6        9      12      15\n",
       "x4       4      8       12      16      20\n",
       "x5       5     10       15      20      25\n",
       "x6       6     12       18      24      30\n",
       "x7       7     14       21      28      35\n",
       "x8       8     16       24      32      40\n",
       "x9       9     18       27      36      45\n",
       "x10     10     20       30      40      50"
      ]
     },
     "execution_count": 70,
     "metadata": {},
     "output_type": "execute_result"
    }
   ],
   "source": [
    "mt.sort_values('x5', ascending=True, axis=1)"
   ]
  },
  {
   "cell_type": "markdown",
   "metadata": {},
   "source": [
    "### Saving a DataFrame to a csv file"
   ]
  },
  {
   "cell_type": "code",
   "execution_count": 71,
   "metadata": {
    "tags": []
   },
   "outputs": [],
   "source": [
    "mt.to_csv(\"mt.csv\", index=False)"
   ]
  },
  {
   "cell_type": "markdown",
   "metadata": {},
   "source": [
    "### Reading from a csv file"
   ]
  },
  {
   "cell_type": "code",
   "execution_count": 72,
   "metadata": {},
   "outputs": [
    {
     "data": {
      "text/html": [
       "<div>\n",
       "<style scoped>\n",
       "    .dataframe tbody tr th:only-of-type {\n",
       "        vertical-align: middle;\n",
       "    }\n",
       "\n",
       "    .dataframe tbody tr th {\n",
       "        vertical-align: top;\n",
       "    }\n",
       "\n",
       "    .dataframe thead th {\n",
       "        text-align: right;\n",
       "    }\n",
       "</style>\n",
       "<table border=\"1\" class=\"dataframe\">\n",
       "  <thead>\n",
       "    <tr style=\"text-align: right;\">\n",
       "      <th></th>\n",
       "      <th>byOne</th>\n",
       "      <th>byTwo</th>\n",
       "      <th>byThree</th>\n",
       "      <th>byFour</th>\n",
       "      <th>byFive</th>\n",
       "    </tr>\n",
       "  </thead>\n",
       "  <tbody>\n",
       "    <tr>\n",
       "      <th>0</th>\n",
       "      <td>1</td>\n",
       "      <td>2</td>\n",
       "      <td>3</td>\n",
       "      <td>4</td>\n",
       "      <td>5</td>\n",
       "    </tr>\n",
       "    <tr>\n",
       "      <th>1</th>\n",
       "      <td>2</td>\n",
       "      <td>4</td>\n",
       "      <td>6</td>\n",
       "      <td>8</td>\n",
       "      <td>10</td>\n",
       "    </tr>\n",
       "    <tr>\n",
       "      <th>2</th>\n",
       "      <td>3</td>\n",
       "      <td>6</td>\n",
       "      <td>9</td>\n",
       "      <td>12</td>\n",
       "      <td>15</td>\n",
       "    </tr>\n",
       "    <tr>\n",
       "      <th>3</th>\n",
       "      <td>4</td>\n",
       "      <td>8</td>\n",
       "      <td>12</td>\n",
       "      <td>16</td>\n",
       "      <td>20</td>\n",
       "    </tr>\n",
       "    <tr>\n",
       "      <th>4</th>\n",
       "      <td>5</td>\n",
       "      <td>10</td>\n",
       "      <td>15</td>\n",
       "      <td>20</td>\n",
       "      <td>25</td>\n",
       "    </tr>\n",
       "    <tr>\n",
       "      <th>5</th>\n",
       "      <td>6</td>\n",
       "      <td>12</td>\n",
       "      <td>18</td>\n",
       "      <td>24</td>\n",
       "      <td>30</td>\n",
       "    </tr>\n",
       "    <tr>\n",
       "      <th>6</th>\n",
       "      <td>7</td>\n",
       "      <td>14</td>\n",
       "      <td>21</td>\n",
       "      <td>28</td>\n",
       "      <td>35</td>\n",
       "    </tr>\n",
       "    <tr>\n",
       "      <th>7</th>\n",
       "      <td>8</td>\n",
       "      <td>16</td>\n",
       "      <td>24</td>\n",
       "      <td>32</td>\n",
       "      <td>40</td>\n",
       "    </tr>\n",
       "    <tr>\n",
       "      <th>8</th>\n",
       "      <td>9</td>\n",
       "      <td>18</td>\n",
       "      <td>27</td>\n",
       "      <td>36</td>\n",
       "      <td>45</td>\n",
       "    </tr>\n",
       "    <tr>\n",
       "      <th>9</th>\n",
       "      <td>10</td>\n",
       "      <td>20</td>\n",
       "      <td>30</td>\n",
       "      <td>40</td>\n",
       "      <td>50</td>\n",
       "    </tr>\n",
       "  </tbody>\n",
       "</table>\n",
       "</div>"
      ],
      "text/plain": [
       "   byOne  byTwo  byThree  byFour  byFive\n",
       "0      1      2        3       4       5\n",
       "1      2      4        6       8      10\n",
       "2      3      6        9      12      15\n",
       "3      4      8       12      16      20\n",
       "4      5     10       15      20      25\n",
       "5      6     12       18      24      30\n",
       "6      7     14       21      28      35\n",
       "7      8     16       24      32      40\n",
       "8      9     18       27      36      45\n",
       "9     10     20       30      40      50"
      ]
     },
     "execution_count": 72,
     "metadata": {},
     "output_type": "execute_result"
    }
   ],
   "source": [
    "new_mt = pd.read_csv(\"mt.csv\")\n",
    "new_mt"
   ]
  }
 ],
 "metadata": {
  "kernelspec": {
   "display_name": "Python 3 (ipykernel)",
   "language": "python",
   "name": "python3"
  },
  "language_info": {
   "codemirror_mode": {
    "name": "ipython",
    "version": 3
   },
   "file_extension": ".py",
   "mimetype": "text/x-python",
   "name": "python",
   "nbconvert_exporter": "python",
   "pygments_lexer": "ipython3",
   "version": "3.11.5"
  },
  "vscode": {
   "interpreter": {
    "hash": "0c4ab92bbc10d18b480eb40b47e751a2f458ae1b2b88576453c716fde62785ad"
   }
  }
 },
 "nbformat": 4,
 "nbformat_minor": 4
}
